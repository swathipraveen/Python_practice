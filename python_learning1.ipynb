{
  "nbformat": 4,
  "nbformat_minor": 0,
  "metadata": {
    "kernelspec": {
      "display_name": "Python 3",
      "language": "python",
      "name": "python3"
    },
    "language_info": {
      "codemirror_mode": {
        "name": "ipython",
        "version": 3
      },
      "file_extension": ".py",
      "mimetype": "text/x-python",
      "name": "python",
      "nbconvert_exporter": "python",
      "pygments_lexer": "ipython3",
      "version": "3.7.4"
    },
    "colab": {
      "name": "python_learning.ipynb",
      "provenance": [],
      "include_colab_link": true
    }
  },
  "cells": [
    {
      "cell_type": "markdown",
      "metadata": {
        "id": "view-in-github",
        "colab_type": "text"
      },
      "source": [
        "<a href=\"https://colab.research.google.com/github/swathipraveen/Python_practice/blob/Python/python_learning1.ipynb\" target=\"_parent\"><img src=\"https://colab.research.google.com/assets/colab-badge.svg\" alt=\"Open In Colab\"/></a>"
      ]
    },
    {
      "cell_type": "code",
      "metadata": {
        "ExecuteTime": {
          "end_time": "2021-11-05T01:47:48.651609Z",
          "start_time": "2021-11-05T01:47:48.640355Z"
        },
        "id": "Jr_oa4hEgyYC",
        "outputId": "09ea1269-aec2-4d10-cf40-5c38675411e9"
      },
      "source": [
        "34+10"
      ],
      "execution_count": null,
      "outputs": [
        {
          "data": {
            "text/plain": [
              "44"
            ]
          },
          "execution_count": 4,
          "metadata": {},
          "output_type": "execute_result"
        }
      ]
    },
    {
      "cell_type": "code",
      "metadata": {
        "ExecuteTime": {
          "end_time": "2021-11-05T01:48:18.511158Z",
          "start_time": "2021-11-05T01:48:18.504143Z"
        },
        "id": "08wdhcV6gyYG",
        "outputId": "70bc31dd-4424-41af-fe3d-b6e05913aec7"
      },
      "source": [
        "24-9"
      ],
      "execution_count": null,
      "outputs": [
        {
          "data": {
            "text/plain": [
              "15"
            ]
          },
          "execution_count": 5,
          "metadata": {},
          "output_type": "execute_result"
        }
      ]
    },
    {
      "cell_type": "code",
      "metadata": {
        "ExecuteTime": {
          "end_time": "2021-11-05T01:48:28.004962Z",
          "start_time": "2021-11-05T01:48:27.994077Z"
        },
        "id": "Y1Tk0oJ-gyYH",
        "outputId": "0d60fe5a-c741-4693-9e54-5c50ee05f828"
      },
      "source": [
        "5*6"
      ],
      "execution_count": null,
      "outputs": [
        {
          "data": {
            "text/plain": [
              "30"
            ]
          },
          "execution_count": 6,
          "metadata": {},
          "output_type": "execute_result"
        }
      ]
    },
    {
      "cell_type": "code",
      "metadata": {
        "ExecuteTime": {
          "end_time": "2021-11-05T01:48:34.791316Z",
          "start_time": "2021-11-05T01:48:34.785658Z"
        },
        "id": "R-vrdrpLgyYI",
        "outputId": "08734743-af29-4e6e-800b-9185d4bcbf17"
      },
      "source": [
        "25/5"
      ],
      "execution_count": null,
      "outputs": [
        {
          "data": {
            "text/plain": [
              "5.0"
            ]
          },
          "execution_count": 7,
          "metadata": {},
          "output_type": "execute_result"
        }
      ]
    },
    {
      "cell_type": "code",
      "metadata": {
        "ExecuteTime": {
          "end_time": "2021-11-05T01:49:25.297941Z",
          "start_time": "2021-11-05T01:49:25.290800Z"
        },
        "id": "JCKqLgXOgyYI",
        "outputId": "b681074b-f9f0-46ab-c70a-d7a0b173b4d3"
      },
      "source": [
        "25%8"
      ],
      "execution_count": null,
      "outputs": [
        {
          "data": {
            "text/plain": [
              "1"
            ]
          },
          "execution_count": 9,
          "metadata": {},
          "output_type": "execute_result"
        }
      ]
    },
    {
      "cell_type": "code",
      "metadata": {
        "ExecuteTime": {
          "end_time": "2021-11-05T01:49:38.159639Z",
          "start_time": "2021-11-05T01:49:38.149752Z"
        },
        "id": "8aPfpB_jgyYJ",
        "outputId": "6178d0bc-9b49-412d-8bc1-30e87b190388"
      },
      "source": [
        "25//8"
      ],
      "execution_count": null,
      "outputs": [
        {
          "data": {
            "text/plain": [
              "3"
            ]
          },
          "execution_count": 10,
          "metadata": {},
          "output_type": "execute_result"
        }
      ]
    },
    {
      "cell_type": "code",
      "metadata": {
        "ExecuteTime": {
          "end_time": "2021-11-05T01:50:57.256937Z",
          "start_time": "2021-11-05T01:50:57.244712Z"
        },
        "id": "8n0g57QPgyYJ",
        "outputId": "db620314-4832-44ff-a8d3-48ea255ef697"
      },
      "source": [
        "5**2"
      ],
      "execution_count": null,
      "outputs": [
        {
          "data": {
            "text/plain": [
              "25"
            ]
          },
          "execution_count": 11,
          "metadata": {},
          "output_type": "execute_result"
        }
      ]
    },
    {
      "cell_type": "code",
      "metadata": {
        "ExecuteTime": {
          "end_time": "2021-11-05T01:51:20.629278Z",
          "start_time": "2021-11-05T01:51:20.616806Z"
        },
        "id": "SIvEMt6NgyYK",
        "outputId": "28f253e2-aceb-46bf-c16a-ebfadc28b259"
      },
      "source": [
        "pow(5,2)"
      ],
      "execution_count": null,
      "outputs": [
        {
          "data": {
            "text/plain": [
              "25"
            ]
          },
          "execution_count": 12,
          "metadata": {},
          "output_type": "execute_result"
        }
      ]
    },
    {
      "cell_type": "markdown",
      "metadata": {
        "heading_collapsed": true,
        "id": "AjAJxDQ4gyYL"
      },
      "source": [
        "# variables "
      ]
    },
    {
      "cell_type": "code",
      "metadata": {
        "ExecuteTime": {
          "end_time": "2021-11-05T01:55:37.795844Z",
          "start_time": "2021-11-05T01:55:37.790387Z"
        },
        "hidden": true,
        "id": "teBBP1dngyYM"
      },
      "source": [
        "a=10"
      ],
      "execution_count": null,
      "outputs": []
    },
    {
      "cell_type": "code",
      "metadata": {
        "ExecuteTime": {
          "end_time": "2021-11-05T01:55:41.444857Z",
          "start_time": "2021-11-05T01:55:41.436561Z"
        },
        "hidden": true,
        "id": "V96yEU9ygyYN",
        "outputId": "eba14f41-f3cb-41e1-c2d5-2a2daebbe6b9"
      },
      "source": [
        "id(a)"
      ],
      "execution_count": null,
      "outputs": [
        {
          "data": {
            "text/plain": [
              "4319962544"
            ]
          },
          "execution_count": 14,
          "metadata": {},
          "output_type": "execute_result"
        }
      ]
    },
    {
      "cell_type": "code",
      "metadata": {
        "ExecuteTime": {
          "end_time": "2021-11-05T01:55:55.250273Z",
          "start_time": "2021-11-05T01:55:55.245067Z"
        },
        "hidden": true,
        "id": "zmewr_iLgyYO",
        "outputId": "70fbc237-86d2-481a-e9a9-966df56d3fbe"
      },
      "source": [
        "a"
      ],
      "execution_count": null,
      "outputs": [
        {
          "data": {
            "text/plain": [
              "10"
            ]
          },
          "execution_count": 15,
          "metadata": {},
          "output_type": "execute_result"
        }
      ]
    },
    {
      "cell_type": "code",
      "metadata": {
        "ExecuteTime": {
          "end_time": "2021-11-05T01:58:34.028354Z",
          "start_time": "2021-11-05T01:58:34.019318Z"
        },
        "hidden": true,
        "id": "xuS3f5d6gyYO",
        "outputId": "071e72db-2d94-4a1b-90fb-f07d79d4d8e0"
      },
      "source": [
        "type(a)"
      ],
      "execution_count": null,
      "outputs": [
        {
          "data": {
            "text/plain": [
              "int"
            ]
          },
          "execution_count": 20,
          "metadata": {},
          "output_type": "execute_result"
        }
      ]
    },
    {
      "cell_type": "code",
      "metadata": {
        "ExecuteTime": {
          "end_time": "2021-11-05T02:02:43.768771Z",
          "start_time": "2021-11-05T02:02:43.752618Z"
        },
        "hidden": true,
        "id": "Q4f_V0ZfgyYP"
      },
      "source": [
        "my_var=1\n",
        "my_var1=10\n",
        "_=10\n",
        "m___10_jhbhj=20"
      ],
      "execution_count": null,
      "outputs": []
    },
    {
      "cell_type": "code",
      "metadata": {
        "ExecuteTime": {
          "end_time": "2021-11-05T02:03:40.917357Z",
          "start_time": "2021-11-05T02:03:40.911517Z"
        },
        "hidden": true,
        "id": "p-Zk9PnPgyYP"
      },
      "source": [
        "a,b=10,20"
      ],
      "execution_count": null,
      "outputs": []
    },
    {
      "cell_type": "code",
      "metadata": {
        "ExecuteTime": {
          "end_time": "2021-11-05T02:03:43.828881Z",
          "start_time": "2021-11-05T02:03:43.818231Z"
        },
        "hidden": true,
        "id": "RRnLFMRXgyYQ",
        "outputId": "79ac5067-647f-480e-a1c8-817fe3a4e1b1"
      },
      "source": [
        "a"
      ],
      "execution_count": null,
      "outputs": [
        {
          "data": {
            "text/plain": [
              "10"
            ]
          },
          "execution_count": 28,
          "metadata": {},
          "output_type": "execute_result"
        }
      ]
    },
    {
      "cell_type": "code",
      "metadata": {
        "ExecuteTime": {
          "end_time": "2021-11-05T02:03:48.111326Z",
          "start_time": "2021-11-05T02:03:48.106587Z"
        },
        "hidden": true,
        "id": "AlBk4z-ggyYQ",
        "outputId": "ebf193fa-c604-492e-84b7-547a2b1b03aa"
      },
      "source": [
        "b"
      ],
      "execution_count": null,
      "outputs": [
        {
          "data": {
            "text/plain": [
              "20"
            ]
          },
          "execution_count": 29,
          "metadata": {},
          "output_type": "execute_result"
        }
      ]
    },
    {
      "cell_type": "code",
      "metadata": {
        "ExecuteTime": {
          "end_time": "2021-11-05T02:04:30.139955Z",
          "start_time": "2021-11-05T02:04:29.926127Z"
        },
        "hidden": true,
        "id": "e5sPWWUmgyYQ",
        "outputId": "4014782f-3244-47be-d230-1403ba491dc7"
      },
      "source": [
        "a,b,c=10,20"
      ],
      "execution_count": null,
      "outputs": [
        {
          "ename": "ValueError",
          "evalue": "not enough values to unpack (expected 3, got 2)",
          "output_type": "error",
          "traceback": [
            "\u001b[0;31m---------------------------------------------------------------------------\u001b[0m",
            "\u001b[0;31mValueError\u001b[0m                                Traceback (most recent call last)",
            "\u001b[0;32m<ipython-input-30-68f1f1a60ee8>\u001b[0m in \u001b[0;36m<module>\u001b[0;34m\u001b[0m\n\u001b[0;32m----> 1\u001b[0;31m \u001b[0ma\u001b[0m\u001b[0;34m,\u001b[0m\u001b[0mb\u001b[0m\u001b[0;34m,\u001b[0m\u001b[0mc\u001b[0m\u001b[0;34m=\u001b[0m\u001b[0;36m10\u001b[0m\u001b[0;34m,\u001b[0m\u001b[0;36m20\u001b[0m\u001b[0;34m\u001b[0m\u001b[0;34m\u001b[0m\u001b[0m\n\u001b[0m",
            "\u001b[0;31mValueError\u001b[0m: not enough values to unpack (expected 3, got 2)"
          ]
        }
      ]
    },
    {
      "cell_type": "code",
      "metadata": {
        "ExecuteTime": {
          "end_time": "2021-11-05T02:04:39.512780Z",
          "start_time": "2021-11-05T02:04:39.500689Z"
        },
        "hidden": true,
        "id": "KVttTAyEgyYR",
        "outputId": "459025ad-d39e-417d-b8f4-1d47b55bfc6c"
      },
      "source": [
        "a,b,c=10,20,20,40"
      ],
      "execution_count": null,
      "outputs": [
        {
          "ename": "ValueError",
          "evalue": "too many values to unpack (expected 3)",
          "output_type": "error",
          "traceback": [
            "\u001b[0;31m---------------------------------------------------------------------------\u001b[0m",
            "\u001b[0;31mValueError\u001b[0m                                Traceback (most recent call last)",
            "\u001b[0;32m<ipython-input-31-3b9d97aa4281>\u001b[0m in \u001b[0;36m<module>\u001b[0;34m\u001b[0m\n\u001b[0;32m----> 1\u001b[0;31m \u001b[0ma\u001b[0m\u001b[0;34m,\u001b[0m\u001b[0mb\u001b[0m\u001b[0;34m,\u001b[0m\u001b[0mc\u001b[0m\u001b[0;34m=\u001b[0m\u001b[0;36m10\u001b[0m\u001b[0;34m,\u001b[0m\u001b[0;36m20\u001b[0m\u001b[0;34m,\u001b[0m\u001b[0;36m20\u001b[0m\u001b[0;34m,\u001b[0m\u001b[0;36m40\u001b[0m\u001b[0;34m\u001b[0m\u001b[0;34m\u001b[0m\u001b[0m\n\u001b[0m",
            "\u001b[0;31mValueError\u001b[0m: too many values to unpack (expected 3)"
          ]
        }
      ]
    },
    {
      "cell_type": "code",
      "metadata": {
        "ExecuteTime": {
          "end_time": "2021-11-05T02:05:01.582721Z",
          "start_time": "2021-11-05T02:05:01.567326Z"
        },
        "hidden": true,
        "id": "eQW4Hd8ygyYR",
        "outputId": "596a5964-d716-4f1e-c873-577b99ddfedc"
      },
      "source": [
        "a"
      ],
      "execution_count": null,
      "outputs": [
        {
          "data": {
            "text/plain": [
              "10"
            ]
          },
          "execution_count": 32,
          "metadata": {},
          "output_type": "execute_result"
        }
      ]
    },
    {
      "cell_type": "code",
      "metadata": {
        "ExecuteTime": {
          "end_time": "2021-11-05T02:05:03.024903Z",
          "start_time": "2021-11-05T02:05:03.009521Z"
        },
        "hidden": true,
        "id": "o64i8ZqAgyYR",
        "outputId": "b5722a54-08b7-44fc-fd72-e6c251f5f0db"
      },
      "source": [
        "b"
      ],
      "execution_count": null,
      "outputs": [
        {
          "data": {
            "text/plain": [
              "20"
            ]
          },
          "execution_count": 33,
          "metadata": {},
          "output_type": "execute_result"
        }
      ]
    },
    {
      "cell_type": "code",
      "metadata": {
        "ExecuteTime": {
          "end_time": "2021-11-05T02:07:31.445914Z",
          "start_time": "2021-11-05T02:07:31.442270Z"
        },
        "hidden": true,
        "id": "Pnfud0mvgyYR"
      },
      "source": [
        "tem=a\n",
        "a=b\n",
        "b=tem"
      ],
      "execution_count": null,
      "outputs": []
    },
    {
      "cell_type": "code",
      "metadata": {
        "ExecuteTime": {
          "end_time": "2021-11-05T02:07:34.129481Z",
          "start_time": "2021-11-05T02:07:34.120357Z"
        },
        "hidden": true,
        "id": "IgKmW8_4gyYR",
        "outputId": "bd69e341-2c05-4c5f-fe99-922a64ae554c"
      },
      "source": [
        "a"
      ],
      "execution_count": null,
      "outputs": [
        {
          "data": {
            "text/plain": [
              "20"
            ]
          },
          "execution_count": 35,
          "metadata": {},
          "output_type": "execute_result"
        }
      ]
    },
    {
      "cell_type": "code",
      "metadata": {
        "ExecuteTime": {
          "end_time": "2021-11-05T02:07:36.217215Z",
          "start_time": "2021-11-05T02:07:36.204660Z"
        },
        "hidden": true,
        "id": "AAWjtkA4gyYS",
        "outputId": "e066b92d-d2ed-46c3-83cb-6aa9eddc467a"
      },
      "source": [
        "b"
      ],
      "execution_count": null,
      "outputs": [
        {
          "data": {
            "text/plain": [
              "10"
            ]
          },
          "execution_count": 36,
          "metadata": {},
          "output_type": "execute_result"
        }
      ]
    },
    {
      "cell_type": "code",
      "metadata": {
        "ExecuteTime": {
          "end_time": "2021-11-05T02:21:58.998241Z",
          "start_time": "2021-11-05T02:21:58.993589Z"
        },
        "hidden": true,
        "id": "xGU3Ax3FgyYS"
      },
      "source": [
        "a,b=b,a"
      ],
      "execution_count": null,
      "outputs": []
    },
    {
      "cell_type": "code",
      "metadata": {
        "ExecuteTime": {
          "end_time": "2021-11-05T02:22:00.924107Z",
          "start_time": "2021-11-05T02:22:00.919352Z"
        },
        "hidden": true,
        "id": "i5ic9zoZgyYS"
      },
      "source": [
        "a=10\n",
        "b=20\n",
        "a,b,a=a+b,a-b,a*b"
      ],
      "execution_count": null,
      "outputs": []
    },
    {
      "cell_type": "code",
      "metadata": {
        "ExecuteTime": {
          "end_time": "2021-11-05T02:22:04.336576Z",
          "start_time": "2021-11-05T02:22:04.330241Z"
        },
        "hidden": true,
        "id": "T1v-tTslgyYS",
        "outputId": "1559fbcd-014b-4bcc-d5f9-370f73de1d32"
      },
      "source": [
        "a"
      ],
      "execution_count": null,
      "outputs": [
        {
          "data": {
            "text/plain": [
              "200"
            ]
          },
          "execution_count": 61,
          "metadata": {},
          "output_type": "execute_result"
        }
      ]
    },
    {
      "cell_type": "code",
      "metadata": {
        "ExecuteTime": {
          "end_time": "2021-11-05T02:22:08.508211Z",
          "start_time": "2021-11-05T02:22:08.502047Z"
        },
        "hidden": true,
        "id": "gi7pUqkNgyYS",
        "outputId": "0f26c6c7-ee32-477d-cc24-6b0c0deeb2d7"
      },
      "source": [
        "b"
      ],
      "execution_count": null,
      "outputs": [
        {
          "data": {
            "text/plain": [
              "-10"
            ]
          },
          "execution_count": 62,
          "metadata": {},
          "output_type": "execute_result"
        }
      ]
    },
    {
      "cell_type": "markdown",
      "metadata": {
        "heading_collapsed": true,
        "id": "N0wGfDiOgyYS"
      },
      "source": [
        "# datatypes"
      ]
    },
    {
      "cell_type": "code",
      "metadata": {
        "ExecuteTime": {
          "end_time": "2021-11-05T02:14:16.643075Z",
          "start_time": "2021-11-05T02:14:16.637965Z"
        },
        "hidden": true,
        "id": "Refu6qoKgyYT"
      },
      "source": [
        "a=10"
      ],
      "execution_count": null,
      "outputs": []
    },
    {
      "cell_type": "code",
      "metadata": {
        "ExecuteTime": {
          "end_time": "2021-11-05T02:10:23.284821Z",
          "start_time": "2021-11-05T02:10:23.277991Z"
        },
        "hidden": true,
        "id": "-OhZGSErgyYT",
        "outputId": "3551d4ec-3b74-43a0-b4ef-8004455cbe63"
      },
      "source": [
        "type(a)"
      ],
      "execution_count": null,
      "outputs": [
        {
          "data": {
            "text/plain": [
              "int"
            ]
          },
          "execution_count": 38,
          "metadata": {},
          "output_type": "execute_result"
        }
      ]
    },
    {
      "cell_type": "code",
      "metadata": {
        "ExecuteTime": {
          "end_time": "2021-11-05T02:11:20.836129Z",
          "start_time": "2021-11-05T02:11:20.831769Z"
        },
        "hidden": true,
        "id": "UtNiog6cgyYT"
      },
      "source": [
        "b=10.7"
      ],
      "execution_count": null,
      "outputs": []
    },
    {
      "cell_type": "code",
      "metadata": {
        "ExecuteTime": {
          "end_time": "2021-11-05T02:11:22.159184Z",
          "start_time": "2021-11-05T02:11:22.153792Z"
        },
        "hidden": true,
        "id": "PaWKZaOvgyYT",
        "outputId": "64dd5ede-5ad1-4cb1-997e-4e974a325c38"
      },
      "source": [
        "type(b)"
      ],
      "execution_count": null,
      "outputs": [
        {
          "data": {
            "text/plain": [
              "float"
            ]
          },
          "execution_count": 44,
          "metadata": {},
          "output_type": "execute_result"
        }
      ]
    },
    {
      "cell_type": "code",
      "metadata": {
        "ExecuteTime": {
          "end_time": "2021-11-05T02:14:18.393264Z",
          "start_time": "2021-11-05T02:14:18.384529Z"
        },
        "hidden": true,
        "id": "PyIl8k4-gyYT",
        "outputId": "2463c9e1-f344-4a93-ed55-4d08fcc86b6b"
      },
      "source": [
        "a"
      ],
      "execution_count": null,
      "outputs": [
        {
          "data": {
            "text/plain": [
              "10"
            ]
          },
          "execution_count": 52,
          "metadata": {},
          "output_type": "execute_result"
        }
      ]
    },
    {
      "cell_type": "code",
      "metadata": {
        "ExecuteTime": {
          "end_time": "2021-11-05T02:14:20.104380Z",
          "start_time": "2021-11-05T02:14:20.099528Z"
        },
        "hidden": true,
        "id": "o3i8y6O2gyYT"
      },
      "source": [
        "a=float(a)"
      ],
      "execution_count": null,
      "outputs": []
    },
    {
      "cell_type": "code",
      "metadata": {
        "ExecuteTime": {
          "end_time": "2021-11-05T02:14:20.439633Z",
          "start_time": "2021-11-05T02:14:20.435038Z"
        },
        "hidden": true,
        "id": "vV6iXK7VgyYT",
        "outputId": "71f85ff9-a92c-4ff2-a8f2-b7d9bd6234ed"
      },
      "source": [
        "a"
      ],
      "execution_count": null,
      "outputs": [
        {
          "data": {
            "text/plain": [
              "10.0"
            ]
          },
          "execution_count": 54,
          "metadata": {},
          "output_type": "execute_result"
        }
      ]
    },
    {
      "cell_type": "code",
      "metadata": {
        "ExecuteTime": {
          "end_time": "2021-11-05T02:14:39.703143Z",
          "start_time": "2021-11-05T02:14:39.693134Z"
        },
        "hidden": true,
        "id": "QUXZB5figyYT"
      },
      "source": [
        "a=int(a)"
      ],
      "execution_count": null,
      "outputs": []
    },
    {
      "cell_type": "code",
      "metadata": {
        "ExecuteTime": {
          "end_time": "2021-11-05T02:14:41.915149Z",
          "start_time": "2021-11-05T02:14:41.909465Z"
        },
        "hidden": true,
        "id": "Gwj_e3NEgyYT",
        "outputId": "1b0e6b3d-f9ef-4c9d-e41a-f950ca2dc39b"
      },
      "source": [
        "a"
      ],
      "execution_count": null,
      "outputs": [
        {
          "data": {
            "text/plain": [
              "10"
            ]
          },
          "execution_count": 57,
          "metadata": {},
          "output_type": "execute_result"
        }
      ]
    },
    {
      "cell_type": "code",
      "metadata": {
        "ExecuteTime": {
          "end_time": "2021-11-05T02:25:20.717316Z",
          "start_time": "2021-11-05T02:25:20.712782Z"
        },
        "hidden": true,
        "id": "y156KrPFgyYT"
      },
      "source": [
        "a=\"sam\""
      ],
      "execution_count": null,
      "outputs": []
    },
    {
      "cell_type": "code",
      "metadata": {
        "ExecuteTime": {
          "end_time": "2021-11-05T02:25:37.622433Z",
          "start_time": "2021-11-05T02:25:37.617841Z"
        },
        "hidden": true,
        "id": "2bfbtKUTgyYU"
      },
      "source": [
        "a=\"12\""
      ],
      "execution_count": null,
      "outputs": []
    },
    {
      "cell_type": "code",
      "metadata": {
        "ExecuteTime": {
          "end_time": "2021-11-05T02:27:06.488770Z",
          "start_time": "2021-11-05T02:27:06.470065Z"
        },
        "hidden": true,
        "id": "i5paUZM-gyYU",
        "outputId": "4613ae9f-2c92-49ee-b29e-953c48e41854"
      },
      "source": [
        "a+3"
      ],
      "execution_count": null,
      "outputs": [
        {
          "ename": "TypeError",
          "evalue": "can only concatenate str (not \"int\") to str",
          "output_type": "error",
          "traceback": [
            "\u001b[0;31m---------------------------------------------------------------------------\u001b[0m",
            "\u001b[0;31mTypeError\u001b[0m                                 Traceback (most recent call last)",
            "\u001b[0;32m<ipython-input-70-bf58c781999a>\u001b[0m in \u001b[0;36m<module>\u001b[0;34m\u001b[0m\n\u001b[0;32m----> 1\u001b[0;31m \u001b[0ma\u001b[0m\u001b[0;34m+\u001b[0m\u001b[0;36m3\u001b[0m\u001b[0;34m\u001b[0m\u001b[0;34m\u001b[0m\u001b[0m\n\u001b[0m",
            "\u001b[0;31mTypeError\u001b[0m: can only concatenate str (not \"int\") to str"
          ]
        }
      ]
    },
    {
      "cell_type": "code",
      "metadata": {
        "ExecuteTime": {
          "end_time": "2021-11-05T02:29:49.982369Z",
          "start_time": "2021-11-05T02:29:49.960143Z"
        },
        "hidden": true,
        "id": "fXF9NPbbgyYU"
      },
      "source": [
        "a=\"sam\"\n",
        "b='sam'\n",
        "c='''sam'''"
      ],
      "execution_count": null,
      "outputs": []
    },
    {
      "cell_type": "code",
      "metadata": {
        "ExecuteTime": {
          "end_time": "2021-11-05T02:30:32.436321Z",
          "start_time": "2021-11-05T02:30:32.428244Z"
        },
        "hidden": true,
        "id": "sY2PeiUjgyYU",
        "outputId": "60031bbb-15ca-41ed-ff9e-57d93a42c67a"
      },
      "source": [
        "a==c"
      ],
      "execution_count": null,
      "outputs": [
        {
          "data": {
            "text/plain": [
              "True"
            ]
          },
          "execution_count": 74,
          "metadata": {},
          "output_type": "execute_result"
        }
      ]
    },
    {
      "cell_type": "code",
      "metadata": {
        "ExecuteTime": {
          "end_time": "2021-11-05T02:34:58.710159Z",
          "start_time": "2021-11-05T02:34:58.694646Z"
        },
        "hidden": true,
        "id": "sfI6n0dGgyYU"
      },
      "source": [
        "a=\"we like 'python' lang\""
      ],
      "execution_count": null,
      "outputs": []
    },
    {
      "cell_type": "code",
      "metadata": {
        "ExecuteTime": {
          "end_time": "2021-11-05T02:34:59.061565Z",
          "start_time": "2021-11-05T02:34:59.057933Z"
        },
        "hidden": true,
        "id": "vMEp4hYRgyYU"
      },
      "source": [
        "b='we like \"python\" lang'"
      ],
      "execution_count": null,
      "outputs": []
    },
    {
      "cell_type": "code",
      "metadata": {
        "ExecuteTime": {
          "end_time": "2021-11-05T02:34:59.411222Z",
          "start_time": "2021-11-05T02:34:59.402011Z"
        },
        "hidden": true,
        "id": "QYg_Z_t5gyYU",
        "outputId": "4f0e387d-b001-485b-dcb5-355cb4d9ffba"
      },
      "source": [
        "a==b"
      ],
      "execution_count": null,
      "outputs": [
        {
          "data": {
            "text/plain": [
              "False"
            ]
          },
          "execution_count": 81,
          "metadata": {},
          "output_type": "execute_result"
        }
      ]
    },
    {
      "cell_type": "code",
      "metadata": {
        "ExecuteTime": {
          "end_time": "2021-11-05T02:41:59.441472Z",
          "start_time": "2021-11-05T02:41:59.425896Z"
        },
        "hidden": true,
        "id": "MRGkYtQsgyYU"
      },
      "source": [
        "a=\"Python class today\""
      ],
      "execution_count": null,
      "outputs": []
    },
    {
      "cell_type": "code",
      "metadata": {
        "ExecuteTime": {
          "end_time": "2021-11-05T02:43:19.603642Z",
          "start_time": "2021-11-05T02:43:19.597275Z"
        },
        "hidden": true,
        "id": "WK33XUPMgyYU",
        "outputId": "92a4cc3b-ace6-4093-d475-0169619624f7"
      },
      "source": [
        "a.upper()"
      ],
      "execution_count": null,
      "outputs": [
        {
          "data": {
            "text/plain": [
              "'PYTHON CLASS TODAY'"
            ]
          },
          "execution_count": 85,
          "metadata": {},
          "output_type": "execute_result"
        }
      ]
    },
    {
      "cell_type": "code",
      "metadata": {
        "ExecuteTime": {
          "end_time": "2021-11-05T02:43:29.902416Z",
          "start_time": "2021-11-05T02:43:29.896495Z"
        },
        "hidden": true,
        "id": "Xf9ZSk7bgyYU",
        "outputId": "4ad4a73c-5ff4-40e8-dc37-5fd8a450db8d"
      },
      "source": [
        "a.lower()"
      ],
      "execution_count": null,
      "outputs": [
        {
          "data": {
            "text/plain": [
              "'python class today'"
            ]
          },
          "execution_count": 86,
          "metadata": {},
          "output_type": "execute_result"
        }
      ]
    },
    {
      "cell_type": "code",
      "metadata": {
        "ExecuteTime": {
          "end_time": "2021-11-05T02:43:56.814660Z",
          "start_time": "2021-11-05T02:43:56.802078Z"
        },
        "hidden": true,
        "id": "gCODwYfEgyYU",
        "outputId": "b52ca3ea-8d51-41ab-ff21-050bd6dbd255"
      },
      "source": [
        "a.capitalize()"
      ],
      "execution_count": null,
      "outputs": [
        {
          "data": {
            "text/plain": [
              "'Python class today'"
            ]
          },
          "execution_count": 87,
          "metadata": {},
          "output_type": "execute_result"
        }
      ]
    },
    {
      "cell_type": "code",
      "metadata": {
        "ExecuteTime": {
          "end_time": "2021-11-08T01:53:08.941719Z",
          "start_time": "2021-11-08T01:53:08.939077Z"
        },
        "hidden": true,
        "id": "bUptAysBgyYV"
      },
      "source": [
        "a=\"pythonp\""
      ],
      "execution_count": null,
      "outputs": []
    },
    {
      "cell_type": "code",
      "metadata": {
        "ExecuteTime": {
          "end_time": "2021-11-08T01:53:09.353866Z",
          "start_time": "2021-11-08T01:53:09.338504Z"
        },
        "hidden": true,
        "id": "Y28qUt0EgyYV",
        "outputId": "8e6214b0-8dda-4b04-adeb-3b7d574d1ac7"
      },
      "source": [
        "a[3]  "
      ],
      "execution_count": null,
      "outputs": [
        {
          "data": {
            "text/plain": [
              "'h'"
            ]
          },
          "execution_count": 2,
          "metadata": {},
          "output_type": "execute_result"
        }
      ]
    },
    {
      "cell_type": "code",
      "metadata": {
        "ExecuteTime": {
          "end_time": "2021-11-08T01:53:33.926622Z",
          "start_time": "2021-11-08T01:53:33.906592Z"
        },
        "hidden": true,
        "id": "OL5Vna7ggyYV",
        "outputId": "997755c5-18d3-413e-f0a7-13bd562fa1e4"
      },
      "source": [
        "a.index(\"p\")"
      ],
      "execution_count": null,
      "outputs": [
        {
          "data": {
            "text/plain": [
              "0"
            ]
          },
          "execution_count": 5,
          "metadata": {},
          "output_type": "execute_result"
        }
      ]
    },
    {
      "cell_type": "code",
      "metadata": {
        "ExecuteTime": {
          "end_time": "2021-11-08T01:53:39.613019Z",
          "start_time": "2021-11-08T01:53:39.603861Z"
        },
        "hidden": true,
        "id": "TlFmwblsgyYV",
        "outputId": "d38527d8-af1c-4bce-a770-22638befc7b6"
      },
      "source": [
        "a.find(\"p\")"
      ],
      "execution_count": null,
      "outputs": [
        {
          "data": {
            "text/plain": [
              "0"
            ]
          },
          "execution_count": 6,
          "metadata": {},
          "output_type": "execute_result"
        }
      ]
    },
    {
      "cell_type": "code",
      "metadata": {
        "ExecuteTime": {
          "end_time": "2021-11-08T01:54:00.072775Z",
          "start_time": "2021-11-08T01:54:00.067151Z"
        },
        "hidden": true,
        "id": "m_iSYcjdgyYV",
        "outputId": "552870f2-6bb1-4fb0-984b-a2673b31d4cf"
      },
      "source": [
        "a.count(\"p\")"
      ],
      "execution_count": null,
      "outputs": [
        {
          "data": {
            "text/plain": [
              "2"
            ]
          },
          "execution_count": 7,
          "metadata": {},
          "output_type": "execute_result"
        }
      ]
    },
    {
      "cell_type": "code",
      "metadata": {
        "ExecuteTime": {
          "end_time": "2021-11-08T01:54:42.450643Z",
          "start_time": "2021-11-08T01:54:42.440057Z"
        },
        "hidden": true,
        "id": "Yn7_Mv4wgyYV"
      },
      "source": [
        "a=\"jhfbwdjhb\""
      ],
      "execution_count": null,
      "outputs": []
    },
    {
      "cell_type": "code",
      "metadata": {
        "ExecuteTime": {
          "end_time": "2021-11-08T01:54:42.975286Z",
          "start_time": "2021-11-08T01:54:42.969298Z"
        },
        "hidden": true,
        "id": "lgQgPLg8gyYV",
        "outputId": "44fb66f1-4cb0-4fe1-be4d-65e9eb686ca4"
      },
      "source": [
        "a[1]"
      ],
      "execution_count": null,
      "outputs": [
        {
          "data": {
            "text/plain": [
              "'h'"
            ]
          },
          "execution_count": 9,
          "metadata": {},
          "output_type": "execute_result"
        }
      ]
    },
    {
      "cell_type": "code",
      "metadata": {
        "ExecuteTime": {
          "end_time": "2021-11-05T02:59:58.732785Z",
          "start_time": "2021-11-05T02:59:58.721582Z"
        },
        "hidden": true,
        "id": "oq_k7QzugyYV",
        "outputId": "f7661e73-d5ef-4df6-ffd2-13841e23ebc3"
      },
      "source": [
        "a[0]=\"s\""
      ],
      "execution_count": null,
      "outputs": [
        {
          "ename": "TypeError",
          "evalue": "'str' object does not support item assignment",
          "output_type": "error",
          "traceback": [
            "\u001b[0;31m---------------------------------------------------------------------------\u001b[0m",
            "\u001b[0;31mTypeError\u001b[0m                                 Traceback (most recent call last)",
            "\u001b[0;32m<ipython-input-115-3f6062ea90f9>\u001b[0m in \u001b[0;36m<module>\u001b[0;34m\u001b[0m\n\u001b[0;32m----> 1\u001b[0;31m \u001b[0ma\u001b[0m\u001b[0;34m[\u001b[0m\u001b[0;36m0\u001b[0m\u001b[0;34m]\u001b[0m\u001b[0;34m=\u001b[0m\u001b[0;34m\"s\"\u001b[0m\u001b[0;34m\u001b[0m\u001b[0;34m\u001b[0m\u001b[0m\n\u001b[0m",
            "\u001b[0;31mTypeError\u001b[0m: 'str' object does not support item assignment"
          ]
        }
      ]
    },
    {
      "cell_type": "code",
      "metadata": {
        "ExecuteTime": {
          "end_time": "2021-11-05T03:02:25.527859Z",
          "start_time": "2021-11-05T03:02:25.524838Z"
        },
        "hidden": true,
        "id": "Ot1BINPZgyYV"
      },
      "source": [
        "a=\"python\"\n",
        "b=\"class\""
      ],
      "execution_count": null,
      "outputs": []
    },
    {
      "cell_type": "code",
      "metadata": {
        "ExecuteTime": {
          "end_time": "2021-11-05T03:02:32.236349Z",
          "start_time": "2021-11-05T03:02:32.230106Z"
        },
        "hidden": true,
        "id": "sb9h6RmogyYV",
        "outputId": "8a25825b-a757-4256-b5cd-c7a42fa546ec"
      },
      "source": [
        "a+b"
      ],
      "execution_count": null,
      "outputs": [
        {
          "data": {
            "text/plain": [
              "'pythonclass'"
            ]
          },
          "execution_count": 119,
          "metadata": {},
          "output_type": "execute_result"
        }
      ]
    },
    {
      "cell_type": "code",
      "metadata": {
        "ExecuteTime": {
          "end_time": "2021-11-05T03:03:00.424047Z",
          "start_time": "2021-11-05T03:03:00.402560Z"
        },
        "hidden": true,
        "id": "7iW_KtQrgyYV",
        "outputId": "36f4216e-a036-4b46-8277-47cadd3abf42"
      },
      "source": [
        "a-b"
      ],
      "execution_count": null,
      "outputs": [
        {
          "ename": "TypeError",
          "evalue": "unsupported operand type(s) for -: 'str' and 'str'",
          "output_type": "error",
          "traceback": [
            "\u001b[0;31m---------------------------------------------------------------------------\u001b[0m",
            "\u001b[0;31mTypeError\u001b[0m                                 Traceback (most recent call last)",
            "\u001b[0;32m<ipython-input-120-5ae0619f8fe1>\u001b[0m in \u001b[0;36m<module>\u001b[0;34m\u001b[0m\n\u001b[0;32m----> 1\u001b[0;31m \u001b[0ma\u001b[0m\u001b[0;34m-\u001b[0m\u001b[0mb\u001b[0m\u001b[0;34m\u001b[0m\u001b[0;34m\u001b[0m\u001b[0m\n\u001b[0m",
            "\u001b[0;31mTypeError\u001b[0m: unsupported operand type(s) for -: 'str' and 'str'"
          ]
        }
      ]
    },
    {
      "cell_type": "code",
      "metadata": {
        "ExecuteTime": {
          "end_time": "2021-11-05T03:04:30.726889Z",
          "start_time": "2021-11-05T03:04:30.721069Z"
        },
        "hidden": true,
        "id": "pHF3zbWhgyYW",
        "outputId": "0e0f1ef7-af6c-425e-ceef-8d13a2a4d536"
      },
      "source": [
        "a*2"
      ],
      "execution_count": null,
      "outputs": [
        {
          "data": {
            "text/plain": [
              "'pythonpython'"
            ]
          },
          "execution_count": 125,
          "metadata": {},
          "output_type": "execute_result"
        }
      ]
    },
    {
      "cell_type": "code",
      "metadata": {
        "ExecuteTime": {
          "end_time": "2021-11-05T03:05:23.432943Z",
          "start_time": "2021-11-05T03:05:23.420463Z"
        },
        "hidden": true,
        "id": "Cdy5tMiLgyYW",
        "outputId": "8fd8ad52-a54e-4e7d-ac95-1ce5d99e4ecf"
      },
      "source": [
        "a"
      ],
      "execution_count": null,
      "outputs": [
        {
          "data": {
            "text/plain": [
              "'python'"
            ]
          },
          "execution_count": 127,
          "metadata": {},
          "output_type": "execute_result"
        }
      ]
    },
    {
      "cell_type": "code",
      "metadata": {
        "ExecuteTime": {
          "end_time": "2021-11-05T03:05:16.203086Z",
          "start_time": "2021-11-05T03:05:16.193266Z"
        },
        "hidden": true,
        "id": "x2T-aTVjgyYW",
        "outputId": "e224e00d-eec7-4936-8a4d-88d46cc955fe"
      },
      "source": [
        "a.isupper()"
      ],
      "execution_count": null,
      "outputs": [
        {
          "data": {
            "text/plain": [
              "False"
            ]
          },
          "execution_count": 126,
          "metadata": {},
          "output_type": "execute_result"
        }
      ]
    },
    {
      "cell_type": "code",
      "metadata": {
        "ExecuteTime": {
          "end_time": "2021-11-05T03:05:37.893865Z",
          "start_time": "2021-11-05T03:05:37.887650Z"
        },
        "hidden": true,
        "id": "qJpcca7ygyYW",
        "outputId": "101e7abc-92b2-403e-8bad-8f9a527f5675"
      },
      "source": [
        "a.islower()"
      ],
      "execution_count": null,
      "outputs": [
        {
          "data": {
            "text/plain": [
              "True"
            ]
          },
          "execution_count": 128,
          "metadata": {},
          "output_type": "execute_result"
        }
      ]
    },
    {
      "cell_type": "code",
      "metadata": {
        "ExecuteTime": {
          "end_time": "2021-11-05T03:05:49.445303Z",
          "start_time": "2021-11-05T03:05:49.439015Z"
        },
        "hidden": true,
        "id": "vr5vd_AUgyYW",
        "outputId": "47b5dee0-8044-4dce-ec0a-cdbd9e99f6e5"
      },
      "source": [
        "a.isalpha()"
      ],
      "execution_count": null,
      "outputs": [
        {
          "data": {
            "text/plain": [
              "True"
            ]
          },
          "execution_count": 129,
          "metadata": {},
          "output_type": "execute_result"
        }
      ]
    },
    {
      "cell_type": "code",
      "metadata": {
        "ExecuteTime": {
          "end_time": "2021-11-05T03:06:18.133468Z",
          "start_time": "2021-11-05T03:06:18.127674Z"
        },
        "hidden": true,
        "id": "2lNLIxVxgyYW",
        "outputId": "c03c7347-3f0f-4bb5-cacd-5b5a70411d2b"
      },
      "source": [
        "a.isalnum()"
      ],
      "execution_count": null,
      "outputs": [
        {
          "data": {
            "text/plain": [
              "True"
            ]
          },
          "execution_count": 130,
          "metadata": {},
          "output_type": "execute_result"
        }
      ]
    },
    {
      "cell_type": "code",
      "metadata": {
        "ExecuteTime": {
          "end_time": "2021-11-05T03:06:38.436032Z",
          "start_time": "2021-11-05T03:06:38.432427Z"
        },
        "hidden": true,
        "id": "TFS3mnnXgyYW"
      },
      "source": [
        "a=\"python \""
      ],
      "execution_count": null,
      "outputs": []
    },
    {
      "cell_type": "code",
      "metadata": {
        "ExecuteTime": {
          "end_time": "2021-11-05T03:06:53.733816Z",
          "start_time": "2021-11-05T03:06:53.725903Z"
        },
        "hidden": true,
        "id": "dNlo38dAgyYW",
        "outputId": "8ca5aeaa-0de3-4d97-c9c2-44038f4eab41"
      },
      "source": [
        "a.isupper()"
      ],
      "execution_count": null,
      "outputs": [
        {
          "data": {
            "text/plain": [
              "False"
            ]
          },
          "execution_count": 133,
          "metadata": {},
          "output_type": "execute_result"
        }
      ]
    },
    {
      "cell_type": "code",
      "metadata": {
        "ExecuteTime": {
          "end_time": "2021-11-05T03:07:04.194502Z",
          "start_time": "2021-11-05T03:07:04.189512Z"
        },
        "hidden": true,
        "id": "ycAmvUDkgyYW",
        "outputId": "3d5bff60-a87d-4dbc-cac4-b3340e66a487"
      },
      "source": [
        "a.islower()"
      ],
      "execution_count": null,
      "outputs": [
        {
          "data": {
            "text/plain": [
              "True"
            ]
          },
          "execution_count": 134,
          "metadata": {},
          "output_type": "execute_result"
        }
      ]
    },
    {
      "cell_type": "code",
      "metadata": {
        "ExecuteTime": {
          "end_time": "2021-11-05T03:07:24.219819Z",
          "start_time": "2021-11-05T03:07:24.213221Z"
        },
        "hidden": true,
        "id": "MsdVQmCkgyYW",
        "outputId": "9969ddb1-0078-440e-d8fa-b6bfb2dacffe"
      },
      "source": [
        "a.isalpha()"
      ],
      "execution_count": null,
      "outputs": [
        {
          "data": {
            "text/plain": [
              "False"
            ]
          },
          "execution_count": 135,
          "metadata": {},
          "output_type": "execute_result"
        }
      ]
    },
    {
      "cell_type": "code",
      "metadata": {
        "ExecuteTime": {
          "end_time": "2021-11-05T03:07:30.643959Z",
          "start_time": "2021-11-05T03:07:30.635657Z"
        },
        "hidden": true,
        "id": "HULgsfVNgyYW",
        "outputId": "fadf038e-9b23-4851-eb8c-1654105b9f4e"
      },
      "source": [
        "a.isalnum()"
      ],
      "execution_count": null,
      "outputs": [
        {
          "data": {
            "text/plain": [
              "False"
            ]
          },
          "execution_count": 136,
          "metadata": {},
          "output_type": "execute_result"
        }
      ]
    },
    {
      "cell_type": "code",
      "metadata": {
        "ExecuteTime": {
          "end_time": "2021-11-05T03:08:32.329110Z",
          "start_time": "2021-11-05T03:08:32.315945Z"
        },
        "hidden": true,
        "id": "VTPyTI7_gyYW",
        "outputId": "f5aecb1b-390d-4add-c2d9-d1d6b73ff3f9"
      },
      "source": [
        "a[0]"
      ],
      "execution_count": null,
      "outputs": [
        {
          "data": {
            "text/plain": [
              "'p'"
            ]
          },
          "execution_count": 137,
          "metadata": {},
          "output_type": "execute_result"
        }
      ]
    },
    {
      "cell_type": "code",
      "metadata": {
        "ExecuteTime": {
          "end_time": "2021-11-05T03:09:14.634858Z",
          "start_time": "2021-11-05T03:09:14.618244Z"
        },
        "hidden": true,
        "id": "gnEB6Bz9gyYW"
      },
      "source": [
        "a=\"we are learning python\""
      ],
      "execution_count": null,
      "outputs": []
    },
    {
      "cell_type": "code",
      "metadata": {
        "ExecuteTime": {
          "end_time": "2021-11-05T03:12:11.721248Z",
          "start_time": "2021-11-05T03:12:11.711789Z"
        },
        "hidden": true,
        "id": "LSi3ArZ_gyYX",
        "outputId": "a70a2ba2-66aa-41d9-81f3-1232e7efef7f"
      },
      "source": [
        "\n",
        "#a[ start:end:step]\n",
        "a[0:]"
      ],
      "execution_count": null,
      "outputs": [
        {
          "data": {
            "text/plain": [
              "'we are learning python'"
            ]
          },
          "execution_count": 142,
          "metadata": {},
          "output_type": "execute_result"
        }
      ]
    },
    {
      "cell_type": "code",
      "metadata": {
        "ExecuteTime": {
          "end_time": "2021-11-05T03:12:55.258734Z",
          "start_time": "2021-11-05T03:12:55.252487Z"
        },
        "hidden": true,
        "id": "gjM0DF9kgyYX",
        "outputId": "08675b41-c884-4064-abee-4627d2844e90"
      },
      "source": [
        "a[ : 6]"
      ],
      "execution_count": null,
      "outputs": [
        {
          "data": {
            "text/plain": [
              "'we are'"
            ]
          },
          "execution_count": 143,
          "metadata": {},
          "output_type": "execute_result"
        }
      ]
    },
    {
      "cell_type": "code",
      "metadata": {
        "ExecuteTime": {
          "end_time": "2021-11-05T03:14:53.828001Z",
          "start_time": "2021-11-05T03:14:53.819466Z"
        },
        "hidden": true,
        "id": "cwl33nD8gyYX",
        "outputId": "f9eb88d9-dd68-40ef-cb2d-e7c0beb44d51"
      },
      "source": [
        "a[ 0: :3]"
      ],
      "execution_count": null,
      "outputs": [
        {
          "data": {
            "text/plain": [
              "'wa ai tn'"
            ]
          },
          "execution_count": 146,
          "metadata": {},
          "output_type": "execute_result"
        }
      ]
    },
    {
      "cell_type": "code",
      "metadata": {
        "ExecuteTime": {
          "end_time": "2021-11-05T03:19:41.175163Z",
          "start_time": "2021-11-05T03:19:41.167412Z"
        },
        "hidden": true,
        "id": "qKMOJSa7gyYX",
        "outputId": "998a1223-ddec-4c41-863e-68afc85aa685"
      },
      "source": [
        "a[ 6:2:1]"
      ],
      "execution_count": null,
      "outputs": [
        {
          "data": {
            "text/plain": [
              "''"
            ]
          },
          "execution_count": 152,
          "metadata": {},
          "output_type": "execute_result"
        }
      ]
    },
    {
      "cell_type": "code",
      "metadata": {
        "ExecuteTime": {
          "end_time": "2021-11-05T03:17:26.476873Z",
          "start_time": "2021-11-05T03:17:26.468824Z"
        },
        "hidden": true,
        "id": "hFzyfnF-gyYX",
        "outputId": "cb8e1419-7ab0-4cef-954e-becac2f22afd"
      },
      "source": [
        "a"
      ],
      "execution_count": null,
      "outputs": [
        {
          "data": {
            "text/plain": [
              "'we are learning python'"
            ]
          },
          "execution_count": 149,
          "metadata": {},
          "output_type": "execute_result"
        }
      ]
    },
    {
      "cell_type": "code",
      "metadata": {
        "ExecuteTime": {
          "end_time": "2021-11-05T03:21:28.279577Z",
          "start_time": "2021-11-05T03:21:28.270183Z"
        },
        "hidden": true,
        "id": "xXm4_iuwgyYX",
        "outputId": "3332d3a7-b432-4700-c2cc-f49afcd897dc"
      },
      "source": [
        "a[: : 1]"
      ],
      "execution_count": null,
      "outputs": [
        {
          "data": {
            "text/plain": [
              "'we are learning python'"
            ]
          },
          "execution_count": 154,
          "metadata": {},
          "output_type": "execute_result"
        }
      ]
    },
    {
      "cell_type": "markdown",
      "metadata": {
        "heading_collapsed": true,
        "id": "BZ4InJEHgyYX"
      },
      "source": [
        "# list"
      ]
    },
    {
      "cell_type": "code",
      "metadata": {
        "ExecuteTime": {
          "end_time": "2021-11-08T02:01:51.005967Z",
          "start_time": "2021-11-08T02:01:51.002576Z"
        },
        "hidden": true,
        "id": "u4ma14MdgyYX"
      },
      "source": [
        "a=[1,2]\n",
        "b=[3,4]"
      ],
      "execution_count": null,
      "outputs": []
    },
    {
      "cell_type": "code",
      "metadata": {
        "ExecuteTime": {
          "end_time": "2021-11-08T02:01:17.476005Z",
          "start_time": "2021-11-08T02:01:17.468425Z"
        },
        "hidden": true,
        "id": "NT5LZxxZgyYX",
        "outputId": "d6dcdd7c-2b3f-4d40-b68f-4425e74aa956"
      },
      "source": [
        "a*2"
      ],
      "execution_count": null,
      "outputs": [
        {
          "data": {
            "text/plain": [
              "[1, 2, 1, 2]"
            ]
          },
          "execution_count": 14,
          "metadata": {},
          "output_type": "execute_result"
        }
      ]
    },
    {
      "cell_type": "code",
      "metadata": {
        "ExecuteTime": {
          "end_time": "2021-11-08T02:01:52.457620Z",
          "start_time": "2021-11-08T02:01:52.452094Z"
        },
        "hidden": true,
        "id": "OFCwoZ9UgyYX",
        "outputId": "58a6ebbd-a32f-41ac-b017-a07729f79604"
      },
      "source": [
        "a+b"
      ],
      "execution_count": null,
      "outputs": [
        {
          "data": {
            "text/plain": [
              "[1, 2, 3, 4]"
            ]
          },
          "execution_count": 17,
          "metadata": {},
          "output_type": "execute_result"
        }
      ]
    },
    {
      "cell_type": "code",
      "metadata": {
        "ExecuteTime": {
          "end_time": "2021-11-08T02:03:08.805851Z",
          "start_time": "2021-11-08T02:03:08.800056Z"
        },
        "hidden": true,
        "id": "RfDSoiBmgyYX",
        "outputId": "2db64c67-d254-4f51-b0c3-aa06a5332449"
      },
      "source": [
        "a[1]"
      ],
      "execution_count": null,
      "outputs": [
        {
          "data": {
            "text/plain": [
              "2"
            ]
          },
          "execution_count": 21,
          "metadata": {},
          "output_type": "execute_result"
        }
      ]
    },
    {
      "cell_type": "code",
      "metadata": {
        "ExecuteTime": {
          "end_time": "2021-11-08T02:03:23.771343Z",
          "start_time": "2021-11-08T02:03:23.767370Z"
        },
        "hidden": true,
        "id": "wWcA6sHxgyYX"
      },
      "source": [
        "a[1]=100"
      ],
      "execution_count": null,
      "outputs": []
    },
    {
      "cell_type": "code",
      "metadata": {
        "ExecuteTime": {
          "end_time": "2021-11-08T02:03:26.930312Z",
          "start_time": "2021-11-08T02:03:26.916536Z"
        },
        "hidden": true,
        "id": "E7KtniMjgyYX",
        "outputId": "637e55db-5e29-4a6c-cf72-27f74bc952c0"
      },
      "source": [
        "a"
      ],
      "execution_count": null,
      "outputs": [
        {
          "data": {
            "text/plain": [
              "[10, 100]"
            ]
          },
          "execution_count": 23,
          "metadata": {},
          "output_type": "execute_result"
        }
      ]
    },
    {
      "cell_type": "code",
      "metadata": {
        "ExecuteTime": {
          "end_time": "2021-11-08T02:04:38.961817Z",
          "start_time": "2021-11-08T02:04:38.956930Z"
        },
        "hidden": true,
        "id": "_fiSaMxegyYY"
      },
      "source": [
        "a.insert(0,23)"
      ],
      "execution_count": null,
      "outputs": []
    },
    {
      "cell_type": "code",
      "metadata": {
        "ExecuteTime": {
          "end_time": "2021-11-08T02:04:40.520096Z",
          "start_time": "2021-11-08T02:04:40.499372Z"
        },
        "hidden": true,
        "id": "GkMS4GgQgyYY",
        "outputId": "3fb50e63-2037-48bc-9dd3-619a4cd527f0"
      },
      "source": [
        "a"
      ],
      "execution_count": null,
      "outputs": [
        {
          "data": {
            "text/plain": [
              "[23, 10, 100]"
            ]
          },
          "execution_count": 25,
          "metadata": {},
          "output_type": "execute_result"
        }
      ]
    },
    {
      "cell_type": "code",
      "metadata": {
        "ExecuteTime": {
          "end_time": "2021-11-08T02:05:07.025158Z",
          "start_time": "2021-11-08T02:05:07.020692Z"
        },
        "hidden": true,
        "id": "j7PBbVKUgyYY"
      },
      "source": [
        "a.insert(1,15)"
      ],
      "execution_count": null,
      "outputs": []
    },
    {
      "cell_type": "code",
      "metadata": {
        "ExecuteTime": {
          "end_time": "2021-11-08T02:05:14.644577Z",
          "start_time": "2021-11-08T02:05:14.637640Z"
        },
        "hidden": true,
        "id": "jZ2-rIbpgyYY",
        "outputId": "f9ab6f1e-0e60-4252-e05d-287769b37cc5"
      },
      "source": [
        "a"
      ],
      "execution_count": null,
      "outputs": [
        {
          "data": {
            "text/plain": [
              "[23, 15, 10, 100]"
            ]
          },
          "execution_count": 27,
          "metadata": {},
          "output_type": "execute_result"
        }
      ]
    },
    {
      "cell_type": "code",
      "metadata": {
        "ExecuteTime": {
          "end_time": "2021-11-08T02:05:40.509975Z",
          "start_time": "2021-11-08T02:05:40.492796Z"
        },
        "hidden": true,
        "id": "nnugEE7TgyYY"
      },
      "source": [
        "a.insert(1,\"jbf\")"
      ],
      "execution_count": null,
      "outputs": []
    },
    {
      "cell_type": "code",
      "metadata": {
        "ExecuteTime": {
          "end_time": "2021-11-08T02:05:41.658439Z",
          "start_time": "2021-11-08T02:05:41.643345Z"
        },
        "hidden": true,
        "id": "LwqN0wOugyYY",
        "outputId": "df351a12-805b-4372-f62f-92f8f2c1428f"
      },
      "source": [
        "a"
      ],
      "execution_count": null,
      "outputs": [
        {
          "data": {
            "text/plain": [
              "[23, 'jbf', 15, 10, 100]"
            ]
          },
          "execution_count": 29,
          "metadata": {},
          "output_type": "execute_result"
        }
      ]
    },
    {
      "cell_type": "code",
      "metadata": {
        "ExecuteTime": {
          "end_time": "2021-11-08T02:05:55.628696Z",
          "start_time": "2021-11-08T02:05:55.625364Z"
        },
        "hidden": true,
        "id": "g8hxvo-tgyYY"
      },
      "source": [
        "a.insert(1,[1,2,4])\n"
      ],
      "execution_count": null,
      "outputs": []
    },
    {
      "cell_type": "code",
      "metadata": {
        "ExecuteTime": {
          "end_time": "2021-11-08T02:05:56.898338Z",
          "start_time": "2021-11-08T02:05:56.891450Z"
        },
        "hidden": true,
        "id": "ml9AS4ySgyYY",
        "outputId": "70dc0b97-245f-4414-9e84-e352034c791c"
      },
      "source": [
        "a"
      ],
      "execution_count": null,
      "outputs": [
        {
          "data": {
            "text/plain": [
              "[23, [1, 2, 4], 'jbf', 15, 10, 100]"
            ]
          },
          "execution_count": 31,
          "metadata": {},
          "output_type": "execute_result"
        }
      ]
    },
    {
      "cell_type": "code",
      "metadata": {
        "ExecuteTime": {
          "end_time": "2021-11-08T02:07:59.541191Z",
          "start_time": "2021-11-08T02:07:59.538558Z"
        },
        "hidden": true,
        "id": "IqQNrisDgyYY"
      },
      "source": [
        "a.insert(100,[1,2,4])\n",
        "\n"
      ],
      "execution_count": null,
      "outputs": []
    },
    {
      "cell_type": "code",
      "metadata": {
        "ExecuteTime": {
          "end_time": "2021-11-08T02:08:01.190497Z",
          "start_time": "2021-11-08T02:08:01.186152Z"
        },
        "hidden": true,
        "id": "xQozPjjqgyYY",
        "outputId": "89d6db9a-424a-42b5-c9e2-c926756ae091"
      },
      "source": [
        "a"
      ],
      "execution_count": null,
      "outputs": [
        {
          "data": {
            "text/plain": [
              "[23, [1, 2, 4], 'jbf', 15, 10, 100, [1, 2, 4]]"
            ]
          },
          "execution_count": 34,
          "metadata": {},
          "output_type": "execute_result"
        }
      ]
    },
    {
      "cell_type": "code",
      "metadata": {
        "ExecuteTime": {
          "end_time": "2021-11-08T02:09:32.541870Z",
          "start_time": "2021-11-08T02:09:32.538394Z"
        },
        "hidden": true,
        "id": "bUzd6hoagyYY"
      },
      "source": [
        "a.append(\"python\")"
      ],
      "execution_count": null,
      "outputs": []
    },
    {
      "cell_type": "code",
      "metadata": {
        "ExecuteTime": {
          "end_time": "2021-11-08T02:09:34.632775Z",
          "start_time": "2021-11-08T02:09:34.626733Z"
        },
        "hidden": true,
        "id": "f4L8BGr6gyYY",
        "outputId": "ca86acb7-7044-4f0a-eef2-63f6852e352e"
      },
      "source": [
        "a"
      ],
      "execution_count": null,
      "outputs": [
        {
          "data": {
            "text/plain": [
              "[23, [1, 2, 4], 'jbf', 15, 10, 100, [1, 2, 4], 'python']"
            ]
          },
          "execution_count": 37,
          "metadata": {},
          "output_type": "execute_result"
        }
      ]
    },
    {
      "cell_type": "code",
      "metadata": {
        "ExecuteTime": {
          "end_time": "2021-11-08T02:10:48.064487Z",
          "start_time": "2021-11-08T02:10:48.058671Z"
        },
        "hidden": true,
        "id": "RDLWlA4NgyYY"
      },
      "source": [
        "a.append(10)"
      ],
      "execution_count": null,
      "outputs": []
    },
    {
      "cell_type": "code",
      "metadata": {
        "ExecuteTime": {
          "end_time": "2021-11-08T02:10:49.187924Z",
          "start_time": "2021-11-08T02:10:49.178042Z"
        },
        "hidden": true,
        "id": "JvjmMH-3gyYZ",
        "outputId": "1a9dd9dd-ec4e-461e-baa3-eb21fbf0f61d"
      },
      "source": [
        "a"
      ],
      "execution_count": null,
      "outputs": [
        {
          "data": {
            "text/plain": [
              "[23, [1, 2, 4], 'jbf', 15, 10, 100, [1, 2, 4], 'python', 10]"
            ]
          },
          "execution_count": 39,
          "metadata": {},
          "output_type": "execute_result"
        }
      ]
    },
    {
      "cell_type": "code",
      "metadata": {
        "ExecuteTime": {
          "end_time": "2021-11-08T02:11:00.447144Z",
          "start_time": "2021-11-08T02:11:00.442709Z"
        },
        "hidden": true,
        "id": "zr3bHwOVgyYZ"
      },
      "source": [
        "a.append([1,2,3])"
      ],
      "execution_count": null,
      "outputs": []
    },
    {
      "cell_type": "code",
      "metadata": {
        "ExecuteTime": {
          "end_time": "2021-11-08T02:11:02.335923Z",
          "start_time": "2021-11-08T02:11:02.311693Z"
        },
        "hidden": true,
        "id": "PLA3sxLAgyYZ",
        "outputId": "6ae385f1-9b72-4493-c8e5-f210be14956e"
      },
      "source": [
        "a"
      ],
      "execution_count": null,
      "outputs": [
        {
          "data": {
            "text/plain": [
              "[23, [1, 2, 4], 'jbf', 15, 10, 100, [1, 2, 4], 'python', 10, [1, 2, 3]]"
            ]
          },
          "execution_count": 41,
          "metadata": {},
          "output_type": "execute_result"
        }
      ]
    },
    {
      "cell_type": "code",
      "metadata": {
        "ExecuteTime": {
          "end_time": "2021-11-08T02:12:54.885370Z",
          "start_time": "2021-11-08T02:12:54.868529Z"
        },
        "hidden": true,
        "id": "-Pk5bGw3gyYZ",
        "outputId": "7c287047-c99b-47f5-c49c-19b23049e27b"
      },
      "source": [
        "a"
      ],
      "execution_count": null,
      "outputs": [
        {
          "data": {
            "text/plain": [
              "[23, [1, 2, 4], 'jbf', 15, 10, 100, [1, 2, 4], 'python', 10, [1, 2, 3]]"
            ]
          },
          "execution_count": 43,
          "metadata": {},
          "output_type": "execute_result"
        }
      ]
    },
    {
      "cell_type": "code",
      "metadata": {
        "ExecuteTime": {
          "end_time": "2021-11-08T02:13:20.719749Z",
          "start_time": "2021-11-08T02:13:20.701478Z"
        },
        "hidden": true,
        "id": "ByJTCZ_RgyYZ",
        "outputId": "8a670fa1-7e09-4ce8-e1ac-4dedf4a0d8fb"
      },
      "source": [
        "a.pop(2)"
      ],
      "execution_count": null,
      "outputs": [
        {
          "data": {
            "text/plain": [
              "'jbf'"
            ]
          },
          "execution_count": 44,
          "metadata": {},
          "output_type": "execute_result"
        }
      ]
    },
    {
      "cell_type": "code",
      "metadata": {
        "ExecuteTime": {
          "end_time": "2021-11-08T02:13:26.363878Z",
          "start_time": "2021-11-08T02:13:26.357777Z"
        },
        "hidden": true,
        "id": "ZMhZTEkSgyYZ",
        "outputId": "cfba1894-8078-454d-8622-11e98c35de97"
      },
      "source": [
        "a"
      ],
      "execution_count": null,
      "outputs": [
        {
          "data": {
            "text/plain": [
              "[23, [1, 2, 4], 15, 10, 100, [1, 2, 4], 'python', 10, [1, 2, 3]]"
            ]
          },
          "execution_count": 45,
          "metadata": {},
          "output_type": "execute_result"
        }
      ]
    },
    {
      "cell_type": "code",
      "metadata": {
        "ExecuteTime": {
          "end_time": "2021-11-08T02:14:06.597937Z",
          "start_time": "2021-11-08T02:14:06.591170Z"
        },
        "hidden": true,
        "id": "JpZp_LCdgyYZ"
      },
      "source": [
        "a.remove([1,2,4])"
      ],
      "execution_count": null,
      "outputs": []
    },
    {
      "cell_type": "code",
      "metadata": {
        "ExecuteTime": {
          "end_time": "2021-11-08T02:14:08.009937Z",
          "start_time": "2021-11-08T02:14:08.004190Z"
        },
        "hidden": true,
        "id": "RfWnqARJgyYZ",
        "outputId": "82dabdb1-dbb9-4b1a-9c5c-912d27dc82b1"
      },
      "source": [
        "a"
      ],
      "execution_count": null,
      "outputs": [
        {
          "data": {
            "text/plain": [
              "[23, 15, 10, 100, [1, 2, 4], 'python', 10, [1, 2, 3]]"
            ]
          },
          "execution_count": 47,
          "metadata": {},
          "output_type": "execute_result"
        }
      ]
    },
    {
      "cell_type": "code",
      "metadata": {
        "ExecuteTime": {
          "end_time": "2021-11-08T02:16:45.997493Z",
          "start_time": "2021-11-08T02:16:45.989634Z"
        },
        "hidden": true,
        "id": "gysAmx4WgyYZ"
      },
      "source": [
        "a.remove([1,2,4])"
      ],
      "execution_count": null,
      "outputs": []
    },
    {
      "cell_type": "code",
      "metadata": {
        "ExecuteTime": {
          "end_time": "2021-11-08T02:16:47.421016Z",
          "start_time": "2021-11-08T02:16:47.410673Z"
        },
        "hidden": true,
        "id": "G81rORQygyYZ",
        "outputId": "bfc5595c-3d80-4133-9e04-ecc91cee8d5a"
      },
      "source": [
        "a"
      ],
      "execution_count": null,
      "outputs": [
        {
          "data": {
            "text/plain": [
              "[23, 15, 10, 100, 'python', 10, [1, 2, 3]]"
            ]
          },
          "execution_count": 51,
          "metadata": {},
          "output_type": "execute_result"
        }
      ]
    },
    {
      "cell_type": "code",
      "metadata": {
        "ExecuteTime": {
          "end_time": "2021-11-08T02:17:37.886192Z",
          "start_time": "2021-11-08T02:17:37.871454Z"
        },
        "hidden": true,
        "id": "HbJrIWITgyYZ",
        "outputId": "5be5ea65-024f-4276-cda4-4668277f3782"
      },
      "source": [
        "a.count(10)"
      ],
      "execution_count": null,
      "outputs": [
        {
          "data": {
            "text/plain": [
              "2"
            ]
          },
          "execution_count": 52,
          "metadata": {},
          "output_type": "execute_result"
        }
      ]
    },
    {
      "cell_type": "code",
      "metadata": {
        "ExecuteTime": {
          "end_time": "2021-11-08T02:18:01.405821Z",
          "start_time": "2021-11-08T02:18:01.400011Z"
        },
        "hidden": true,
        "id": "J1khqauAgyYZ",
        "outputId": "32efc73c-2be3-4f21-a171-4d2a6c631c4c"
      },
      "source": [
        "a.index(10)"
      ],
      "execution_count": null,
      "outputs": [
        {
          "data": {
            "text/plain": [
              "2"
            ]
          },
          "execution_count": 53,
          "metadata": {},
          "output_type": "execute_result"
        }
      ]
    },
    {
      "cell_type": "code",
      "metadata": {
        "ExecuteTime": {
          "end_time": "2021-11-08T02:18:46.570765Z",
          "start_time": "2021-11-08T02:18:46.566996Z"
        },
        "hidden": true,
        "id": "Od3H02mygyYa"
      },
      "source": [
        "a.extend([1,4,7])"
      ],
      "execution_count": null,
      "outputs": []
    },
    {
      "cell_type": "code",
      "metadata": {
        "ExecuteTime": {
          "end_time": "2021-11-08T02:18:47.765754Z",
          "start_time": "2021-11-08T02:18:47.734489Z"
        },
        "hidden": true,
        "id": "L_yGNP_tgyYa",
        "outputId": "866c6a78-5589-44f6-c50c-88ee4cfef999"
      },
      "source": [
        "a"
      ],
      "execution_count": null,
      "outputs": [
        {
          "data": {
            "text/plain": [
              "[23, 15, 10, 100, 'python', 10, [1, 2, 3], 1, 4, 7]"
            ]
          },
          "execution_count": 55,
          "metadata": {},
          "output_type": "execute_result"
        }
      ]
    },
    {
      "cell_type": "code",
      "metadata": {
        "ExecuteTime": {
          "end_time": "2021-11-08T02:19:13.444130Z",
          "start_time": "2021-11-08T02:19:13.425845Z"
        },
        "hidden": true,
        "id": "_E19lBp2gyYa",
        "outputId": "6e1d2187-75a1-451f-d03b-087851ec5c03"
      },
      "source": [
        "l1=[1,2,3]\n",
        "l1.append([4,5])\n",
        "l1"
      ],
      "execution_count": null,
      "outputs": [
        {
          "data": {
            "text/plain": [
              "[1, 2, 3, [4, 5]]"
            ]
          },
          "execution_count": 56,
          "metadata": {},
          "output_type": "execute_result"
        }
      ]
    },
    {
      "cell_type": "code",
      "metadata": {
        "ExecuteTime": {
          "end_time": "2021-11-08T02:19:28.927033Z",
          "start_time": "2021-11-08T02:19:28.911231Z"
        },
        "hidden": true,
        "id": "2ozDVTwsgyYa",
        "outputId": "06c16ed1-53a2-4089-af74-239e383f2b5a"
      },
      "source": [
        "l1=[1,2,3]\n",
        "l1.extend([4,5])\n",
        "l1"
      ],
      "execution_count": null,
      "outputs": [
        {
          "data": {
            "text/plain": [
              "[1, 2, 3, 4, 5]"
            ]
          },
          "execution_count": 57,
          "metadata": {},
          "output_type": "execute_result"
        }
      ]
    },
    {
      "cell_type": "code",
      "metadata": {
        "ExecuteTime": {
          "end_time": "2021-11-08T02:26:30.151173Z",
          "start_time": "2021-11-08T02:26:30.147872Z"
        },
        "hidden": true,
        "id": "gAjv4nYCgyYa"
      },
      "source": [
        "a=[1,2,3]\n"
      ],
      "execution_count": null,
      "outputs": []
    },
    {
      "cell_type": "code",
      "metadata": {
        "ExecuteTime": {
          "end_time": "2021-11-08T02:22:50.487652Z",
          "start_time": "2021-11-08T02:22:50.481524Z"
        },
        "hidden": true,
        "id": "hwSKcD6BgyYa",
        "outputId": "8281756a-a3a4-4d27-82e7-9aaef8d9b7a5"
      },
      "source": [
        "a.append([1,2,3])\n",
        "a"
      ],
      "execution_count": null,
      "outputs": [
        {
          "data": {
            "text/plain": [
              "[1, 2, 3, [1, 2, 3]]"
            ]
          },
          "execution_count": 59,
          "metadata": {},
          "output_type": "execute_result"
        }
      ]
    },
    {
      "cell_type": "code",
      "metadata": {
        "ExecuteTime": {
          "end_time": "2021-11-08T02:26:31.720377Z",
          "start_time": "2021-11-08T02:26:31.704016Z"
        },
        "hidden": true,
        "id": "haSEXZR5gyYa",
        "outputId": "3ed1a7f2-d407-42e2-e9bc-883f2eceee56"
      },
      "source": [
        "\n",
        "a.append(a)\n",
        "a"
      ],
      "execution_count": null,
      "outputs": [
        {
          "data": {
            "text/plain": [
              "[1, 2, 3, [...]]"
            ]
          },
          "execution_count": 61,
          "metadata": {},
          "output_type": "execute_result"
        }
      ]
    },
    {
      "cell_type": "code",
      "metadata": {
        "ExecuteTime": {
          "end_time": "2021-11-08T02:26:45.597051Z",
          "start_time": "2021-11-08T02:26:45.591036Z"
        },
        "hidden": true,
        "id": "DnQJLrGAgyYa",
        "outputId": "7a0a702f-81a2-423a-e618-d0da76aab7e5"
      },
      "source": [
        "a[3]"
      ],
      "execution_count": null,
      "outputs": [
        {
          "data": {
            "text/plain": [
              "[1, 2, 3, [...]]"
            ]
          },
          "execution_count": 62,
          "metadata": {},
          "output_type": "execute_result"
        }
      ]
    },
    {
      "cell_type": "code",
      "metadata": {
        "ExecuteTime": {
          "end_time": "2021-11-08T02:26:55.834719Z",
          "start_time": "2021-11-08T02:26:55.818749Z"
        },
        "hidden": true,
        "id": "XthNToK-gyYa",
        "outputId": "b3baff13-eed9-4526-f35b-022c6a1ea92c"
      },
      "source": [
        "a[3][3]"
      ],
      "execution_count": null,
      "outputs": [
        {
          "data": {
            "text/plain": [
              "[1, 2, 3, [...]]"
            ]
          },
          "execution_count": 63,
          "metadata": {},
          "output_type": "execute_result"
        }
      ]
    },
    {
      "cell_type": "markdown",
      "metadata": {
        "heading_collapsed": true,
        "id": "B_HK7-YvgyYa"
      },
      "source": [
        "# tuple"
      ]
    },
    {
      "cell_type": "code",
      "metadata": {
        "ExecuteTime": {
          "end_time": "2021-11-08T02:30:40.714944Z",
          "start_time": "2021-11-08T02:30:40.695588Z"
        },
        "hidden": true,
        "id": "Cdk5OuCkgyYa"
      },
      "source": [
        "a=[1,2,3]\n",
        "b=(1,2,3,1)"
      ],
      "execution_count": null,
      "outputs": []
    },
    {
      "cell_type": "code",
      "metadata": {
        "ExecuteTime": {
          "end_time": "2021-11-08T02:30:41.054361Z",
          "start_time": "2021-11-08T02:30:41.045161Z"
        },
        "hidden": true,
        "id": "HGojgdE9gyYa",
        "outputId": "7780a957-c19a-4a73-dd18-280229f6cfc8"
      },
      "source": [
        "b*2"
      ],
      "execution_count": null,
      "outputs": [
        {
          "data": {
            "text/plain": [
              "(1, 2, 3, 1, 1, 2, 3, 1)"
            ]
          },
          "execution_count": 69,
          "metadata": {},
          "output_type": "execute_result"
        }
      ]
    },
    {
      "cell_type": "code",
      "metadata": {
        "ExecuteTime": {
          "end_time": "2021-11-08T02:30:41.355316Z",
          "start_time": "2021-11-08T02:30:41.351001Z"
        },
        "hidden": true,
        "id": "8OqT9L5SgyYb",
        "outputId": "12ed05bd-46d5-40aa-9aa5-3db2fd0c3ea4"
      },
      "source": [
        "b+b"
      ],
      "execution_count": null,
      "outputs": [
        {
          "data": {
            "text/plain": [
              "(1, 2, 3, 1, 1, 2, 3, 1)"
            ]
          },
          "execution_count": 70,
          "metadata": {},
          "output_type": "execute_result"
        }
      ]
    },
    {
      "cell_type": "code",
      "metadata": {
        "ExecuteTime": {
          "end_time": "2021-11-08T02:30:41.949725Z",
          "start_time": "2021-11-08T02:30:41.944388Z"
        },
        "hidden": true,
        "id": "hj_axb-wgyYb",
        "outputId": "0dc76cff-a9ac-4d79-bbba-e629e20ab623"
      },
      "source": [
        "b.count(1)"
      ],
      "execution_count": null,
      "outputs": [
        {
          "data": {
            "text/plain": [
              "2"
            ]
          },
          "execution_count": 71,
          "metadata": {},
          "output_type": "execute_result"
        }
      ]
    },
    {
      "cell_type": "code",
      "metadata": {
        "ExecuteTime": {
          "end_time": "2021-11-08T02:30:52.143913Z",
          "start_time": "2021-11-08T02:30:52.135520Z"
        },
        "hidden": true,
        "id": "HvkbFB9ygyYb",
        "outputId": "5c05f088-b6e8-4234-d44f-d5bf92fb1119"
      },
      "source": [
        "b.index(2)"
      ],
      "execution_count": null,
      "outputs": [
        {
          "data": {
            "text/plain": [
              "1"
            ]
          },
          "execution_count": 72,
          "metadata": {},
          "output_type": "execute_result"
        }
      ]
    },
    {
      "cell_type": "code",
      "metadata": {
        "ExecuteTime": {
          "end_time": "2021-11-08T02:32:43.463488Z",
          "start_time": "2021-11-08T02:32:43.446602Z"
        },
        "hidden": true,
        "id": "04rbfZkHgyYb",
        "outputId": "eb74af56-63c3-4f4e-862f-6990b94c98e1"
      },
      "source": [
        "b[0]"
      ],
      "execution_count": null,
      "outputs": [
        {
          "data": {
            "text/plain": [
              "1"
            ]
          },
          "execution_count": 73,
          "metadata": {},
          "output_type": "execute_result"
        }
      ]
    },
    {
      "cell_type": "code",
      "metadata": {
        "ExecuteTime": {
          "end_time": "2021-11-08T02:32:51.125763Z",
          "start_time": "2021-11-08T02:32:51.112246Z"
        },
        "hidden": true,
        "id": "L5Be0aCXgyYb",
        "outputId": "e598dba3-5a6b-4a4f-b243-747de0d53065"
      },
      "source": [
        "b[0]=10"
      ],
      "execution_count": null,
      "outputs": [
        {
          "ename": "TypeError",
          "evalue": "'tuple' object does not support item assignment",
          "output_type": "error",
          "traceback": [
            "\u001b[0;31m---------------------------------------------------------------------------\u001b[0m",
            "\u001b[0;31mTypeError\u001b[0m                                 Traceback (most recent call last)",
            "\u001b[0;32m<ipython-input-74-330b9bd43558>\u001b[0m in \u001b[0;36m<module>\u001b[0;34m\u001b[0m\n\u001b[0;32m----> 1\u001b[0;31m \u001b[0mb\u001b[0m\u001b[0;34m[\u001b[0m\u001b[0;36m0\u001b[0m\u001b[0;34m]\u001b[0m\u001b[0;34m=\u001b[0m\u001b[0;36m10\u001b[0m\u001b[0;34m\u001b[0m\u001b[0;34m\u001b[0m\u001b[0m\n\u001b[0m",
            "\u001b[0;31mTypeError\u001b[0m: 'tuple' object does not support item assignment"
          ]
        }
      ]
    },
    {
      "cell_type": "code",
      "metadata": {
        "ExecuteTime": {
          "end_time": "2021-11-08T02:34:53.189859Z",
          "start_time": "2021-11-08T02:34:53.185929Z"
        },
        "hidden": true,
        "id": "-KcW5fj5gyYb"
      },
      "source": [
        "b=(1,2,3,4,[1,2,3])"
      ],
      "execution_count": null,
      "outputs": []
    },
    {
      "cell_type": "code",
      "metadata": {
        "ExecuteTime": {
          "end_time": "2021-11-08T02:35:15.790276Z",
          "start_time": "2021-11-08T02:35:15.779289Z"
        },
        "hidden": true,
        "id": "8IknNdqXgyYb"
      },
      "source": [
        "b[4].append(9)"
      ],
      "execution_count": null,
      "outputs": []
    },
    {
      "cell_type": "code",
      "metadata": {
        "ExecuteTime": {
          "end_time": "2021-11-08T02:35:18.370257Z",
          "start_time": "2021-11-08T02:35:18.364773Z"
        },
        "hidden": true,
        "id": "TDHsNsEpgyYb",
        "outputId": "3c6e4522-887d-40b8-aa89-7c99ddfcc837"
      },
      "source": [
        "b"
      ],
      "execution_count": null,
      "outputs": [
        {
          "data": {
            "text/plain": [
              "(1, 2, 3, 4, [1, 2, 3, 9])"
            ]
          },
          "execution_count": 77,
          "metadata": {},
          "output_type": "execute_result"
        }
      ]
    },
    {
      "cell_type": "markdown",
      "metadata": {
        "heading_collapsed": true,
        "id": "K4XILBaygyYb"
      },
      "source": [
        "# set"
      ]
    },
    {
      "cell_type": "code",
      "metadata": {
        "ExecuteTime": {
          "end_time": "2021-11-08T02:39:25.128629Z",
          "start_time": "2021-11-08T02:39:25.122850Z"
        },
        "hidden": true,
        "id": "dSZLVsuxgyYb"
      },
      "source": [
        "a={1,2,3,1}\n",
        "b={3,4,6,2}\n"
      ],
      "execution_count": null,
      "outputs": []
    },
    {
      "cell_type": "code",
      "metadata": {
        "ExecuteTime": {
          "end_time": "2021-11-08T02:39:46.597526Z",
          "start_time": "2021-11-08T02:39:46.571160Z"
        },
        "hidden": true,
        "id": "22TD9XNbgyYb",
        "outputId": "ea94371a-6bd1-4d5c-f097-771a647a08b6"
      },
      "source": [
        "a"
      ],
      "execution_count": null,
      "outputs": [
        {
          "data": {
            "text/plain": [
              "{1, 2, 3}"
            ]
          },
          "execution_count": 93,
          "metadata": {},
          "output_type": "execute_result"
        }
      ]
    },
    {
      "cell_type": "code",
      "metadata": {
        "ExecuteTime": {
          "end_time": "2021-11-08T02:39:50.803261Z",
          "start_time": "2021-11-08T02:39:50.792189Z"
        },
        "hidden": true,
        "id": "VT1hMAjjgyYb",
        "outputId": "92608026-8267-4673-f213-50f7eea32fb5"
      },
      "source": [
        "b"
      ],
      "execution_count": null,
      "outputs": [
        {
          "data": {
            "text/plain": [
              "{2, 3, 4, 6}"
            ]
          },
          "execution_count": 94,
          "metadata": {},
          "output_type": "execute_result"
        }
      ]
    },
    {
      "cell_type": "code",
      "metadata": {
        "ExecuteTime": {
          "end_time": "2021-11-08T02:40:09.404847Z",
          "start_time": "2021-11-08T02:40:09.386100Z"
        },
        "hidden": true,
        "id": "Kbp09V9vgyYc",
        "outputId": "c433c839-e75e-48a2-aa0e-3c49b4baf76d"
      },
      "source": [
        "a.union(b)"
      ],
      "execution_count": null,
      "outputs": [
        {
          "data": {
            "text/plain": [
              "{1, 2, 3, 4, 6}"
            ]
          },
          "execution_count": 95,
          "metadata": {},
          "output_type": "execute_result"
        }
      ]
    },
    {
      "cell_type": "code",
      "metadata": {
        "ExecuteTime": {
          "end_time": "2021-11-08T02:40:26.906840Z",
          "start_time": "2021-11-08T02:40:26.893973Z"
        },
        "hidden": true,
        "id": "ExI8D4V5gyYc",
        "outputId": "14cd1814-1f2d-4780-f896-ee42a189f089"
      },
      "source": [
        "a&b"
      ],
      "execution_count": null,
      "outputs": [
        {
          "data": {
            "text/plain": [
              "{2, 3}"
            ]
          },
          "execution_count": 96,
          "metadata": {},
          "output_type": "execute_result"
        }
      ]
    },
    {
      "cell_type": "code",
      "metadata": {
        "ExecuteTime": {
          "end_time": "2021-11-08T02:43:09.863451Z",
          "start_time": "2021-11-08T02:43:09.855716Z"
        },
        "hidden": true,
        "id": "IeK26BkzgyYc",
        "outputId": "180145b6-7cc5-4e6f-ddb5-80a770cfa3ff"
      },
      "source": [
        "a-b"
      ],
      "execution_count": null,
      "outputs": [
        {
          "data": {
            "text/plain": [
              "{1}"
            ]
          },
          "execution_count": 98,
          "metadata": {},
          "output_type": "execute_result"
        }
      ]
    },
    {
      "cell_type": "code",
      "metadata": {
        "ExecuteTime": {
          "end_time": "2021-11-08T02:43:14.883256Z",
          "start_time": "2021-11-08T02:43:14.874738Z"
        },
        "hidden": true,
        "id": "oYnClZEGgyYc",
        "outputId": "c7f1ce38-2ce5-4c6c-e713-619b86ef4633"
      },
      "source": [
        "b-a"
      ],
      "execution_count": null,
      "outputs": [
        {
          "data": {
            "text/plain": [
              "{4, 6}"
            ]
          },
          "execution_count": 99,
          "metadata": {},
          "output_type": "execute_result"
        }
      ]
    },
    {
      "cell_type": "markdown",
      "metadata": {
        "heading_collapsed": true,
        "id": "wA7xqkFCgyYc"
      },
      "source": [
        "# dict"
      ]
    },
    {
      "cell_type": "code",
      "metadata": {
        "ExecuteTime": {
          "end_time": "2021-11-08T03:01:28.687775Z",
          "start_time": "2021-11-08T03:01:28.683903Z"
        },
        "hidden": true,
        "id": "4nfMY_8ngyYc"
      },
      "source": [
        "employee_age={\n",
        "    \"navin\":[1,2,3],\n",
        "    \"ram\":\"jhbhfdg\",\n",
        "    \"ram\":23,\n",
        "    \"ram\":27\n",
        "\n",
        "    \n",
        "    \n",
        "    \n",
        "}"
      ],
      "execution_count": null,
      "outputs": []
    },
    {
      "cell_type": "code",
      "metadata": {
        "ExecuteTime": {
          "end_time": "2021-11-08T03:01:31.920467Z",
          "start_time": "2021-11-08T03:01:31.915242Z"
        },
        "hidden": true,
        "id": "LQzaQputgyYc",
        "outputId": "be3b6895-8ddb-4e97-9a76-73f796168d04"
      },
      "source": [
        "employee_age[\"ram\"]"
      ],
      "execution_count": null,
      "outputs": [
        {
          "data": {
            "text/plain": [
              "27"
            ]
          },
          "execution_count": 122,
          "metadata": {},
          "output_type": "execute_result"
        }
      ]
    },
    {
      "cell_type": "code",
      "metadata": {
        "ExecuteTime": {
          "end_time": "2021-11-08T03:01:32.414084Z",
          "start_time": "2021-11-08T03:01:32.404543Z"
        },
        "hidden": true,
        "id": "zX0MgvxLgyYc",
        "outputId": "48690748-042a-4454-955c-553d90c414f0"
      },
      "source": [
        "employee_age"
      ],
      "execution_count": null,
      "outputs": [
        {
          "data": {
            "text/plain": [
              "{'navin': [1, 2, 3], 'ram': 27}"
            ]
          },
          "execution_count": 123,
          "metadata": {},
          "output_type": "execute_result"
        }
      ]
    },
    {
      "cell_type": "code",
      "metadata": {
        "ExecuteTime": {
          "end_time": "2021-11-08T02:58:33.727844Z",
          "start_time": "2021-11-08T02:58:33.722267Z"
        },
        "hidden": true,
        "id": "-gv2hghCgyYc",
        "outputId": "c09b3957-f322-4e0c-c2dc-38eef4d43377"
      },
      "source": [
        "employee_age[\"alok\"]"
      ],
      "execution_count": null,
      "outputs": [
        {
          "data": {
            "text/plain": [
              "True"
            ]
          },
          "execution_count": 115,
          "metadata": {},
          "output_type": "execute_result"
        }
      ]
    },
    {
      "cell_type": "code",
      "metadata": {
        "ExecuteTime": {
          "end_time": "2021-11-08T02:58:35.395174Z",
          "start_time": "2021-11-08T02:58:35.380922Z"
        },
        "hidden": true,
        "id": "iNAL0osdgyYc",
        "outputId": "4a48fe80-d2d0-4839-fbfd-f46da8e5bc02"
      },
      "source": [
        "employee_age[1]"
      ],
      "execution_count": null,
      "outputs": [
        {
          "data": {
            "text/plain": [
              "{'a': 10, 'b': 20}"
            ]
          },
          "execution_count": 116,
          "metadata": {},
          "output_type": "execute_result"
        }
      ]
    },
    {
      "cell_type": "code",
      "metadata": {
        "ExecuteTime": {
          "end_time": "2021-11-08T02:59:33.690065Z",
          "start_time": "2021-11-08T02:59:33.683625Z"
        },
        "hidden": true,
        "id": "-pyu_N-ogyYe",
        "outputId": "baedb309-75e6-462b-b90d-4d4702886c5c"
      },
      "source": [
        "employee_age.keys()"
      ],
      "execution_count": null,
      "outputs": [
        {
          "data": {
            "text/plain": [
              "dict_keys(['navin', 'ram'])"
            ]
          },
          "execution_count": 119,
          "metadata": {},
          "output_type": "execute_result"
        }
      ]
    },
    {
      "cell_type": "code",
      "metadata": {
        "ExecuteTime": {
          "end_time": "2021-11-08T02:55:42.230142Z",
          "start_time": "2021-11-08T02:55:42.222448Z"
        },
        "hidden": true,
        "id": "pIAFDHWDgyYf",
        "outputId": "872c38d9-4afb-405c-da78-5b759ea0e4d6"
      },
      "source": [
        "employee_age.values()"
      ],
      "execution_count": null,
      "outputs": [
        {
          "data": {
            "text/plain": [
              "dict_values([27, 24, 29])"
            ]
          },
          "execution_count": 104,
          "metadata": {},
          "output_type": "execute_result"
        }
      ]
    },
    {
      "cell_type": "code",
      "metadata": {
        "ExecuteTime": {
          "end_time": "2021-11-08T03:02:18.514962Z",
          "start_time": "2021-11-08T03:02:18.508925Z"
        },
        "hidden": true,
        "id": "mvdFhV0JgyYf"
      },
      "source": [
        "employee_age[0]=employee_age"
      ],
      "execution_count": null,
      "outputs": []
    },
    {
      "cell_type": "code",
      "metadata": {
        "ExecuteTime": {
          "end_time": "2021-11-08T03:02:22.306543Z",
          "start_time": "2021-11-08T03:02:22.300873Z"
        },
        "hidden": true,
        "id": "TMqu3MskgyYg",
        "outputId": "9e0aa4b0-27b7-453f-e5b3-4f54593121dd"
      },
      "source": [
        "employee_age"
      ],
      "execution_count": null,
      "outputs": [
        {
          "data": {
            "text/plain": [
              "{'navin': [1, 2, 3], 'ram': 27, 0: {...}}"
            ]
          },
          "execution_count": 125,
          "metadata": {},
          "output_type": "execute_result"
        }
      ]
    },
    {
      "cell_type": "code",
      "metadata": {
        "ExecuteTime": {
          "end_time": "2021-11-08T03:12:07.208477Z",
          "start_time": "2021-11-08T03:12:07.204280Z"
        },
        "hidden": true,
        "id": "frRXrhCtgyYg"
      },
      "source": [
        "a={\n",
        "    \"names\":[\"a\",\"b\",\"c\",\"d\"],\n",
        "    \"age\":[1,2,4]\n",
        "}\n",
        "\n",
        "b={\n",
        "    \"names\":[\"a\",\"b\",\"c\"],\n",
        "    \"salary\":[1,2,3]\n",
        "}"
      ],
      "execution_count": null,
      "outputs": []
    },
    {
      "cell_type": "code",
      "metadata": {
        "ExecuteTime": {
          "end_time": "2021-11-08T03:12:24.889662Z",
          "start_time": "2021-11-08T03:12:24.315945Z"
        },
        "hidden": true,
        "id": "1bfLpJcBgyYg",
        "outputId": "b463fe7d-3448-436a-8ab6-d97ad7b0b4ff"
      },
      "source": [
        "import pandas as pd\n",
        "pd.DataFrame(b)"
      ],
      "execution_count": null,
      "outputs": [
        {
          "data": {
            "text/html": [
              "<div>\n",
              "<style scoped>\n",
              "    .dataframe tbody tr th:only-of-type {\n",
              "        vertical-align: middle;\n",
              "    }\n",
              "\n",
              "    .dataframe tbody tr th {\n",
              "        vertical-align: top;\n",
              "    }\n",
              "\n",
              "    .dataframe thead th {\n",
              "        text-align: right;\n",
              "    }\n",
              "</style>\n",
              "<table border=\"1\" class=\"dataframe\">\n",
              "  <thead>\n",
              "    <tr style=\"text-align: right;\">\n",
              "      <th></th>\n",
              "      <th>names</th>\n",
              "      <th>salary</th>\n",
              "    </tr>\n",
              "  </thead>\n",
              "  <tbody>\n",
              "    <tr>\n",
              "      <th>0</th>\n",
              "      <td>a</td>\n",
              "      <td>1</td>\n",
              "    </tr>\n",
              "    <tr>\n",
              "      <th>1</th>\n",
              "      <td>b</td>\n",
              "      <td>2</td>\n",
              "    </tr>\n",
              "    <tr>\n",
              "      <th>2</th>\n",
              "      <td>c</td>\n",
              "      <td>3</td>\n",
              "    </tr>\n",
              "  </tbody>\n",
              "</table>\n",
              "</div>"
            ],
            "text/plain": [
              "  names  salary\n",
              "0     a       1\n",
              "1     b       2\n",
              "2     c       3"
            ]
          },
          "execution_count": 134,
          "metadata": {},
          "output_type": "execute_result"
        }
      ]
    },
    {
      "cell_type": "code",
      "metadata": {
        "ExecuteTime": {
          "end_time": "2021-11-08T03:05:31.124165Z",
          "start_time": "2021-11-08T03:05:31.120904Z"
        },
        "hidden": true,
        "id": "F5gw6lcSgyYg"
      },
      "source": [
        "a.update(b)"
      ],
      "execution_count": null,
      "outputs": []
    },
    {
      "cell_type": "code",
      "metadata": {
        "ExecuteTime": {
          "end_time": "2021-11-08T03:05:31.460570Z",
          "start_time": "2021-11-08T03:05:31.452693Z"
        },
        "hidden": true,
        "id": "V7-7YpX4gyYg",
        "outputId": "78bc408f-3198-4117-bd55-472841f5fdfa"
      },
      "source": [
        "a"
      ],
      "execution_count": null,
      "outputs": [
        {
          "data": {
            "text/plain": [
              "{'names': ['a', 'b', 'c', 'd'], 'age': [1, 2, 4], 'salary': [1, 2, 3]}"
            ]
          },
          "execution_count": 132,
          "metadata": {},
          "output_type": "execute_result"
        }
      ]
    },
    {
      "cell_type": "code",
      "metadata": {
        "ExecuteTime": {
          "end_time": "2021-11-08T03:04:39.853948Z",
          "start_time": "2021-11-08T03:04:39.842402Z"
        },
        "hidden": true,
        "id": "4zhiG1bRgyYg",
        "outputId": "51809085-21c8-4de8-e91e-fa557289eb48"
      },
      "source": [
        "b"
      ],
      "execution_count": null,
      "outputs": [
        {
          "data": {
            "text/plain": [
              "{'names': ['a', 'b', 'c'], 'salary': [1, 2, 3]}"
            ]
          },
          "execution_count": 129,
          "metadata": {},
          "output_type": "execute_result"
        }
      ]
    },
    {
      "cell_type": "code",
      "metadata": {
        "ExecuteTime": {
          "end_time": "2021-11-08T03:13:34.608764Z",
          "start_time": "2021-11-08T03:13:34.591323Z"
        },
        "hidden": true,
        "id": "ef0t54K8gyYg"
      },
      "source": [
        "words={\n",
        "    \"a\":[\"aaple\",\"ahbds\"],\n",
        "    \"b\":[\"bat\",\"bcbdg\"],\n",
        "    \"c\":[\"cat\",\"cuyhfy\"],\n",
        "    \"d\":[\"dog\",\"duhf\"],\n",
        "}"
      ],
      "execution_count": null,
      "outputs": []
    },
    {
      "cell_type": "code",
      "metadata": {
        "ExecuteTime": {
          "end_time": "2021-11-08T03:13:47.050274Z",
          "start_time": "2021-11-08T03:13:47.040796Z"
        },
        "hidden": true,
        "id": "Avat8L7LgyYg"
      },
      "source": [
        "del words[\"d\"]"
      ],
      "execution_count": null,
      "outputs": []
    },
    {
      "cell_type": "code",
      "metadata": {
        "ExecuteTime": {
          "end_time": "2021-11-08T03:13:52.321376Z",
          "start_time": "2021-11-08T03:13:52.309527Z"
        },
        "hidden": true,
        "id": "nvOO2t5ogyYg",
        "outputId": "6c266179-ad92-4096-9135-c72daee657f9"
      },
      "source": [
        "words"
      ],
      "execution_count": null,
      "outputs": [
        {
          "data": {
            "text/plain": [
              "{'a': ['aaple', 'ahbds'], 'b': ['bat', 'bcbdg'], 'c': ['cat', 'cuyhfy']}"
            ]
          },
          "execution_count": 137,
          "metadata": {},
          "output_type": "execute_result"
        }
      ]
    },
    {
      "cell_type": "markdown",
      "metadata": {
        "heading_collapsed": true,
        "id": "mCcwJs_DgyYg"
      },
      "source": [
        "# convert datatype"
      ]
    },
    {
      "cell_type": "code",
      "metadata": {
        "ExecuteTime": {
          "end_time": "2021-11-08T03:15:14.759068Z",
          "start_time": "2021-11-08T03:15:14.755743Z"
        },
        "hidden": true,
        "id": "PAQfxGH-gyYg"
      },
      "source": [
        "a=12\n",
        "a=str(a)"
      ],
      "execution_count": null,
      "outputs": []
    },
    {
      "cell_type": "code",
      "metadata": {
        "ExecuteTime": {
          "end_time": "2021-11-08T03:15:15.813612Z",
          "start_time": "2021-11-08T03:15:15.807302Z"
        },
        "hidden": true,
        "id": "Zq_JPBtGgyYg",
        "outputId": "5bf2c186-5e80-458e-f17f-acf07a1cc20b"
      },
      "source": [
        "a"
      ],
      "execution_count": null,
      "outputs": [
        {
          "data": {
            "text/plain": [
              "'12'"
            ]
          },
          "execution_count": 139,
          "metadata": {},
          "output_type": "execute_result"
        }
      ]
    },
    {
      "cell_type": "code",
      "metadata": {
        "ExecuteTime": {
          "end_time": "2021-11-08T03:15:30.086012Z",
          "start_time": "2021-11-08T03:15:30.081646Z"
        },
        "hidden": true,
        "id": "v8MSWWnFgyYh"
      },
      "source": [
        "a=int(a)"
      ],
      "execution_count": null,
      "outputs": []
    },
    {
      "cell_type": "code",
      "metadata": {
        "ExecuteTime": {
          "end_time": "2021-11-08T03:15:30.828228Z",
          "start_time": "2021-11-08T03:15:30.822477Z"
        },
        "hidden": true,
        "id": "AjAnIlVAgyYh",
        "outputId": "69541bd2-3e6e-4f4d-cb86-c1e3098617ea"
      },
      "source": [
        "a"
      ],
      "execution_count": null,
      "outputs": [
        {
          "data": {
            "text/plain": [
              "12"
            ]
          },
          "execution_count": 141,
          "metadata": {},
          "output_type": "execute_result"
        }
      ]
    },
    {
      "cell_type": "code",
      "metadata": {
        "ExecuteTime": {
          "end_time": "2021-11-08T03:16:12.063346Z",
          "start_time": "2021-11-08T03:16:12.053734Z"
        },
        "hidden": true,
        "id": "-xXKH-ulgyYh",
        "outputId": "7dcc69aa-2046-40eb-856f-730c040b656a"
      },
      "source": [
        "float(\"jhbvfhj\")"
      ],
      "execution_count": null,
      "outputs": [
        {
          "ename": "ValueError",
          "evalue": "could not convert string to float: 'jhbvfhj'",
          "output_type": "error",
          "traceback": [
            "\u001b[0;31m---------------------------------------------------------------------------\u001b[0m",
            "\u001b[0;31mValueError\u001b[0m                                Traceback (most recent call last)",
            "\u001b[0;32m<ipython-input-144-5cd2f53c3320>\u001b[0m in \u001b[0;36m<module>\u001b[0;34m\u001b[0m\n\u001b[0;32m----> 1\u001b[0;31m \u001b[0mfloat\u001b[0m\u001b[0;34m(\u001b[0m\u001b[0;34m\"jhbvfhj\"\u001b[0m\u001b[0;34m)\u001b[0m\u001b[0;34m\u001b[0m\u001b[0;34m\u001b[0m\u001b[0m\n\u001b[0m",
            "\u001b[0;31mValueError\u001b[0m: could not convert string to float: 'jhbvfhj'"
          ]
        }
      ]
    },
    {
      "cell_type": "code",
      "metadata": {
        "ExecuteTime": {
          "end_time": "2021-11-08T03:17:02.486382Z",
          "start_time": "2021-11-08T03:17:02.482972Z"
        },
        "hidden": true,
        "id": "nYd0YgAOgyYh"
      },
      "source": [
        "a=\"jhvbj\"\n",
        "a=list(a)"
      ],
      "execution_count": null,
      "outputs": []
    },
    {
      "cell_type": "code",
      "metadata": {
        "ExecuteTime": {
          "end_time": "2021-11-08T03:17:03.314121Z",
          "start_time": "2021-11-08T03:17:03.305853Z"
        },
        "hidden": true,
        "id": "o_i8zZAwgyYh",
        "outputId": "525876ba-dbe8-45f7-f2ad-8f80cea33d00"
      },
      "source": [
        "a"
      ],
      "execution_count": null,
      "outputs": [
        {
          "data": {
            "text/plain": [
              "['j', 'h', 'v', 'b', 'j']"
            ]
          },
          "execution_count": 146,
          "metadata": {},
          "output_type": "execute_result"
        }
      ]
    },
    {
      "cell_type": "code",
      "metadata": {
        "ExecuteTime": {
          "end_time": "2021-11-08T03:17:48.898098Z",
          "start_time": "2021-11-08T03:17:48.893863Z"
        },
        "hidden": true,
        "id": "cnpmDPB-gyYh",
        "outputId": "d6419ecd-c4c7-4ed4-dbc0-34f5147a21c5"
      },
      "source": [
        "\"\".join(a)"
      ],
      "execution_count": null,
      "outputs": [
        {
          "data": {
            "text/plain": [
              "'jhvbj'"
            ]
          },
          "execution_count": 150,
          "metadata": {},
          "output_type": "execute_result"
        }
      ]
    },
    {
      "cell_type": "code",
      "metadata": {
        "ExecuteTime": {
          "end_time": "2021-11-08T03:18:16.651638Z",
          "start_time": "2021-11-08T03:18:16.648140Z"
        },
        "hidden": true,
        "id": "WHC1pmfngyYh"
      },
      "source": [
        "a=[1,2,3]\n",
        "a=tuple(a)"
      ],
      "execution_count": null,
      "outputs": []
    },
    {
      "cell_type": "code",
      "metadata": {
        "ExecuteTime": {
          "end_time": "2021-11-08T03:18:17.877278Z",
          "start_time": "2021-11-08T03:18:17.871745Z"
        },
        "hidden": true,
        "id": "dJuNShutgyYh",
        "outputId": "8f459fab-8502-40ef-e7d6-7a6e05ad0c7f"
      },
      "source": [
        "a"
      ],
      "execution_count": null,
      "outputs": [
        {
          "data": {
            "text/plain": [
              "(1, 2, 3)"
            ]
          },
          "execution_count": 152,
          "metadata": {},
          "output_type": "execute_result"
        }
      ]
    },
    {
      "cell_type": "code",
      "metadata": {
        "ExecuteTime": {
          "end_time": "2021-11-08T03:18:26.015171Z",
          "start_time": "2021-11-08T03:18:26.011050Z"
        },
        "hidden": true,
        "id": "rygz9QwPgyYh"
      },
      "source": [
        "a=list(a)"
      ],
      "execution_count": null,
      "outputs": []
    },
    {
      "cell_type": "code",
      "metadata": {
        "ExecuteTime": {
          "end_time": "2021-11-08T03:18:26.829488Z",
          "start_time": "2021-11-08T03:18:26.823778Z"
        },
        "hidden": true,
        "id": "KJeIkISTgyYh",
        "outputId": "89858af5-7619-4627-ad2f-83f3d80282de"
      },
      "source": [
        "a"
      ],
      "execution_count": null,
      "outputs": [
        {
          "data": {
            "text/plain": [
              "[1, 2, 3]"
            ]
          },
          "execution_count": 154,
          "metadata": {},
          "output_type": "execute_result"
        }
      ]
    },
    {
      "cell_type": "code",
      "metadata": {
        "ExecuteTime": {
          "end_time": "2021-11-08T03:18:45.894573Z",
          "start_time": "2021-11-08T03:18:45.889451Z"
        },
        "hidden": true,
        "id": "fuD4Qa2SgyYh"
      },
      "source": [
        "a=[1,2,3,4]"
      ],
      "execution_count": null,
      "outputs": []
    },
    {
      "cell_type": "code",
      "metadata": {
        "ExecuteTime": {
          "end_time": "2021-11-08T03:18:53.990681Z",
          "start_time": "2021-11-08T03:18:53.987442Z"
        },
        "hidden": true,
        "id": "U0Dx9r5HgyYh"
      },
      "source": [
        "a=set(a)"
      ],
      "execution_count": null,
      "outputs": []
    },
    {
      "cell_type": "code",
      "metadata": {
        "ExecuteTime": {
          "end_time": "2021-11-08T03:18:55.115347Z",
          "start_time": "2021-11-08T03:18:55.109780Z"
        },
        "hidden": true,
        "id": "uuCoqCR-gyYh",
        "outputId": "6c7a8f97-3b27-4d57-c3b1-54aa152c7441"
      },
      "source": [
        "a"
      ],
      "execution_count": null,
      "outputs": [
        {
          "data": {
            "text/plain": [
              "{1, 2, 3, 4}"
            ]
          },
          "execution_count": 157,
          "metadata": {},
          "output_type": "execute_result"
        }
      ]
    },
    {
      "cell_type": "code",
      "metadata": {
        "ExecuteTime": {
          "end_time": "2021-11-08T03:19:00.687967Z",
          "start_time": "2021-11-08T03:19:00.683891Z"
        },
        "hidden": true,
        "id": "MxAVA1adgyYi"
      },
      "source": [
        "a=list(a)"
      ],
      "execution_count": null,
      "outputs": []
    },
    {
      "cell_type": "code",
      "metadata": {
        "ExecuteTime": {
          "end_time": "2021-11-08T03:19:01.435887Z",
          "start_time": "2021-11-08T03:19:01.431843Z"
        },
        "hidden": true,
        "id": "Mh0ZEakugyYi",
        "outputId": "5d4717ac-ee2f-4762-a9b3-8b1e165505fd"
      },
      "source": [
        "a"
      ],
      "execution_count": null,
      "outputs": [
        {
          "data": {
            "text/plain": [
              "[1, 2, 3, 4]"
            ]
          },
          "execution_count": 159,
          "metadata": {},
          "output_type": "execute_result"
        }
      ]
    },
    {
      "cell_type": "markdown",
      "metadata": {
        "id": "g18PI6CegyYi"
      },
      "source": [
        "# for loops  and IF-Else statement"
      ]
    },
    {
      "cell_type": "code",
      "metadata": {
        "ExecuteTime": {
          "end_time": "2021-11-09T01:43:15.512574Z",
          "start_time": "2021-11-09T01:43:15.488838Z"
        },
        "id": "RYDTzGw5gyYi",
        "outputId": "1b3026a2-688a-4595-f595-e5f786e6a69b"
      },
      "source": [
        "a=[1,5,7,9]\n",
        "b=[]\n",
        "b.append(a[0]+5)\n",
        "b.append(a[1]+5)\n",
        "b.append(a[2]+5)\n",
        "b.append(a[3]+5)\n",
        "b"
      ],
      "execution_count": null,
      "outputs": [
        {
          "data": {
            "text/plain": [
              "[6, 10, 12, 14]"
            ]
          },
          "execution_count": 1,
          "metadata": {},
          "output_type": "execute_result"
        }
      ]
    },
    {
      "cell_type": "code",
      "metadata": {
        "ExecuteTime": {
          "end_time": "2021-11-09T01:48:39.209964Z",
          "start_time": "2021-11-09T01:48:39.204064Z"
        },
        "id": "5VmEzOSMgyYi",
        "outputId": "240bd61e-5d74-45b9-f6b8-b440889a166d"
      },
      "source": [
        "a=[1,5,7,9]\n",
        "b=[]\n",
        "for number in a : \n",
        "    b.append(number**2 )\n",
        "b    "
      ],
      "execution_count": null,
      "outputs": [
        {
          "data": {
            "text/plain": [
              "[1, 25, 49, 81]"
            ]
          },
          "execution_count": 3,
          "metadata": {},
          "output_type": "execute_result"
        }
      ]
    },
    {
      "cell_type": "code",
      "metadata": {
        "ExecuteTime": {
          "end_time": "2021-11-09T01:58:22.061805Z",
          "start_time": "2021-11-09T01:58:22.056560Z"
        },
        "id": "N_2vgSdKgyYi",
        "outputId": "e8312513-dace-446e-a3c2-7e56a108074c"
      },
      "source": [
        "#finding sum\n",
        "a=[1,5,7,9]\n",
        "\n",
        "SUM=0\n",
        "for number in a:\n",
        "    SUM=SUM+number \n",
        "print(SUM)    "
      ],
      "execution_count": null,
      "outputs": [
        {
          "name": "stdout",
          "output_type": "stream",
          "text": [
            "22\n"
          ]
        }
      ]
    },
    {
      "cell_type": "code",
      "metadata": {
        "ExecuteTime": {
          "end_time": "2021-11-09T01:58:28.084407Z",
          "start_time": "2021-11-09T01:58:28.080610Z"
        },
        "id": "cHweUfJjgyYj",
        "outputId": "890ffae6-1283-4327-9217-2422ff1feb3f"
      },
      "source": [
        "# finding multi\n",
        "a=[1,5,7,9]\n",
        "\n",
        "mul=1\n",
        "for number in a:\n",
        "    mul=mul*number \n",
        "print(mul)\n"
      ],
      "execution_count": null,
      "outputs": [
        {
          "name": "stdout",
          "output_type": "stream",
          "text": [
            "315\n"
          ]
        }
      ]
    },
    {
      "cell_type": "code",
      "metadata": {
        "ExecuteTime": {
          "end_time": "2021-11-09T02:06:20.583014Z",
          "start_time": "2021-11-09T02:06:20.570239Z"
        },
        "id": "CHAzos5-gyYj",
        "outputId": "6749cff7-8887-46e9-a92d-8c46583dff69"
      },
      "source": [
        "x=3\n",
        "\n",
        "if x>8:\n",
        "    print(\"the value of x is more than 8\")\n",
        "elif x>5:\n",
        "    \n",
        "    print(\"the value of x is more than 5 but less than 9\")\n",
        "elif x>3:\n",
        "    \n",
        "    print(\"the value of x is more than 3 but less than 6\")    \n",
        "else:\n",
        "    print(\"x is less than 4\")"
      ],
      "execution_count": null,
      "outputs": [
        {
          "name": "stdout",
          "output_type": "stream",
          "text": [
            "x is less than 4\n"
          ]
        }
      ]
    },
    {
      "cell_type": "code",
      "metadata": {
        "ExecuteTime": {
          "end_time": "2021-11-09T02:09:40.006205Z",
          "start_time": "2021-11-09T02:09:40.001076Z"
        },
        "id": "aSU4BzC_gyYj",
        "outputId": "886279e3-7cdf-4a57-c5cf-53d79ae8aa73"
      },
      "source": [
        "x=11\n",
        "\n",
        "if x==11:\n",
        "    x=13\n",
        "elif x==13:\n",
        "    x=15\n",
        "elif x==15:\n",
        "    x=17\n",
        "    \n",
        "    \n",
        "print(x)    \n",
        "    "
      ],
      "execution_count": null,
      "outputs": [
        {
          "name": "stdout",
          "output_type": "stream",
          "text": [
            "13\n"
          ]
        }
      ]
    },
    {
      "cell_type": "code",
      "metadata": {
        "ExecuteTime": {
          "end_time": "2021-11-09T02:23:52.036752Z",
          "start_time": "2021-11-09T02:23:52.032184Z"
        },
        "id": "iXhbBDLDgyYj"
      },
      "source": [
        "a=[1,4,10,15,18,23,18,]\n",
        "\n",
        "even=[]\n",
        "odd=[]\n",
        "for number in a:\n",
        "    if number%2==0 :\n",
        "        even.append(number )\n",
        "    else:\n",
        "        odd.append(number)"
      ],
      "execution_count": null,
      "outputs": []
    },
    {
      "cell_type": "code",
      "metadata": {
        "ExecuteTime": {
          "end_time": "2021-11-09T02:23:52.387273Z",
          "start_time": "2021-11-09T02:23:52.379932Z"
        },
        "id": "wa5qcilogyYj",
        "outputId": "02592271-7460-48ec-f22e-16ebcb5e9efd"
      },
      "source": [
        "even"
      ],
      "execution_count": null,
      "outputs": [
        {
          "data": {
            "text/plain": [
              "[4, 10, 18, 18]"
            ]
          },
          "execution_count": 32,
          "metadata": {},
          "output_type": "execute_result"
        }
      ]
    },
    {
      "cell_type": "code",
      "metadata": {
        "ExecuteTime": {
          "end_time": "2021-11-09T02:23:52.795193Z",
          "start_time": "2021-11-09T02:23:52.726470Z"
        },
        "id": "3Et86Gx6gyYj",
        "outputId": "43f806b6-034a-4691-916a-ab25274b88e0"
      },
      "source": [
        "odd"
      ],
      "execution_count": null,
      "outputs": [
        {
          "data": {
            "text/plain": [
              "[1, 15, 23]"
            ]
          },
          "execution_count": 33,
          "metadata": {},
          "output_type": "execute_result"
        }
      ]
    },
    {
      "cell_type": "code",
      "metadata": {
        "ExecuteTime": {
          "end_time": "2021-11-09T02:26:26.752099Z",
          "start_time": "2021-11-09T02:26:26.746731Z"
        },
        "id": "bFPxVoBqgyYj"
      },
      "source": [
        "a=[1,4,10,15,18,23,18,23.9,27.6]\n",
        "\n",
        "even=[]\n",
        "odd=[]\n",
        "fractions=[]\n",
        "for number in a:\n",
        "    if number%2==0 :\n",
        "        even.append(number )\n",
        "    elif number%2==1:\n",
        "        odd.append(number)\n",
        "    else:\n",
        "        fractions.append(number)"
      ],
      "execution_count": null,
      "outputs": []
    },
    {
      "cell_type": "code",
      "metadata": {
        "ExecuteTime": {
          "end_time": "2021-11-09T02:26:31.000312Z",
          "start_time": "2021-11-09T02:26:30.986381Z"
        },
        "id": "SO3ZSdiggyYj",
        "outputId": "5c0f895e-79f3-4fed-ff88-b60c81af780e"
      },
      "source": [
        "even"
      ],
      "execution_count": null,
      "outputs": [
        {
          "data": {
            "text/plain": [
              "[4, 10, 18, 18]"
            ]
          },
          "execution_count": 35,
          "metadata": {},
          "output_type": "execute_result"
        }
      ]
    },
    {
      "cell_type": "code",
      "metadata": {
        "ExecuteTime": {
          "end_time": "2021-11-09T02:26:33.563007Z",
          "start_time": "2021-11-09T02:26:33.554216Z"
        },
        "id": "hh1nxeSagyYk",
        "outputId": "eb20d960-5041-4782-e4c8-dabb010f7631"
      },
      "source": [
        "odd"
      ],
      "execution_count": null,
      "outputs": [
        {
          "data": {
            "text/plain": [
              "[1, 15, 23]"
            ]
          },
          "execution_count": 36,
          "metadata": {},
          "output_type": "execute_result"
        }
      ]
    },
    {
      "cell_type": "code",
      "metadata": {
        "ExecuteTime": {
          "end_time": "2021-11-09T02:26:37.029260Z",
          "start_time": "2021-11-09T02:26:37.024588Z"
        },
        "id": "ktxsEQYfgyYk",
        "outputId": "243b4e43-2963-4458-e823-c8917fead57d"
      },
      "source": [
        "fractions"
      ],
      "execution_count": null,
      "outputs": [
        {
          "data": {
            "text/plain": [
              "[23.9, 27.6]"
            ]
          },
          "execution_count": 37,
          "metadata": {},
          "output_type": "execute_result"
        }
      ]
    },
    {
      "cell_type": "markdown",
      "metadata": {
        "id": "f8Z9TcQVgyYk"
      },
      "source": [
        "# functions"
      ]
    },
    {
      "cell_type": "code",
      "metadata": {
        "ExecuteTime": {
          "end_time": "2021-11-09T02:29:43.835508Z",
          "start_time": "2021-11-09T02:29:43.829799Z"
        },
        "id": "0D_pGUz_gyYk",
        "outputId": "e921eb47-3f97-47cf-f95b-5ac6c07c718e",
        "colab": {
          "base_uri": "https://localhost:8080/"
        }
      },
      "source": [
        "pow(10,5)"
      ],
      "execution_count": 1,
      "outputs": [
        {
          "output_type": "execute_result",
          "data": {
            "text/plain": [
              "100000"
            ]
          },
          "metadata": {},
          "execution_count": 1
        }
      ]
    },
    {
      "cell_type": "code",
      "metadata": {
        "ExecuteTime": {
          "end_time": "2021-11-09T02:31:12.859629Z",
          "start_time": "2021-11-09T02:31:12.835827Z"
        },
        "id": "5pymkCVRgyYk"
      },
      "source": [
        "def power(base,index):\n",
        "    return base**index"
      ],
      "execution_count": 2,
      "outputs": []
    },
    {
      "cell_type": "code",
      "metadata": {
        "ExecuteTime": {
          "end_time": "2021-11-09T02:31:24.571132Z",
          "start_time": "2021-11-09T02:31:24.565872Z"
        },
        "id": "F_gFIWDggyYk",
        "outputId": "d7eafa4a-945b-4bcc-a3be-7302764f942a",
        "colab": {
          "base_uri": "https://localhost:8080/"
        }
      },
      "source": [
        "power(10,5)"
      ],
      "execution_count": 3,
      "outputs": [
        {
          "output_type": "execute_result",
          "data": {
            "text/plain": [
              "100000"
            ]
          },
          "metadata": {},
          "execution_count": 3
        }
      ]
    },
    {
      "cell_type": "code",
      "metadata": {
        "ExecuteTime": {
          "end_time": "2021-11-09T02:34:23.229608Z",
          "start_time": "2021-11-09T02:34:23.219584Z"
        },
        "id": "bUSL9Um1gyYk"
      },
      "source": [
        "def SUM1(a,b):\n",
        "    print(a+b)\n",
        "def SUM2(a,b):\n",
        "    return a+b  "
      ],
      "execution_count": 4,
      "outputs": []
    },
    {
      "cell_type": "code",
      "metadata": {
        "ExecuteTime": {
          "end_time": "2021-11-09T02:36:22.389176Z",
          "start_time": "2021-11-09T02:36:22.384283Z"
        },
        "id": "tO-FtyRzgyYk",
        "outputId": "741cb51f-54fc-4000-c00c-20a6a18b4c8b",
        "colab": {
          "base_uri": "https://localhost:8080/"
        }
      },
      "source": [
        "v1=SUM1(10,5)"
      ],
      "execution_count": 5,
      "outputs": [
        {
          "output_type": "stream",
          "name": "stdout",
          "text": [
            "15\n"
          ]
        }
      ]
    },
    {
      "cell_type": "code",
      "metadata": {
        "ExecuteTime": {
          "end_time": "2021-11-09T02:36:22.959283Z",
          "start_time": "2021-11-09T02:36:22.952036Z"
        },
        "id": "0A3YDtvfgyYk"
      },
      "source": [
        "v2=SUM2(10,5)"
      ],
      "execution_count": 6,
      "outputs": []
    },
    {
      "cell_type": "code",
      "metadata": {
        "ExecuteTime": {
          "end_time": "2021-11-09T02:36:30.012455Z",
          "start_time": "2021-11-09T02:36:30.007764Z"
        },
        "id": "wBT-1jqHgyYk",
        "outputId": "e2b6e44e-90ca-4902-eb1b-a7e07e8b2305",
        "colab": {
          "base_uri": "https://localhost:8080/"
        }
      },
      "source": [
        "print(v1)"
      ],
      "execution_count": 7,
      "outputs": [
        {
          "output_type": "stream",
          "name": "stdout",
          "text": [
            "None\n"
          ]
        }
      ]
    },
    {
      "cell_type": "code",
      "metadata": {
        "ExecuteTime": {
          "end_time": "2021-11-09T02:37:00.459534Z",
          "start_time": "2021-11-09T02:37:00.454520Z"
        },
        "id": "lf_XZ-lFgyYk",
        "outputId": "13ce4fab-35cf-4ad6-c45e-605da7b637a8",
        "colab": {
          "base_uri": "https://localhost:8080/"
        }
      },
      "source": [
        "print(v2)"
      ],
      "execution_count": 8,
      "outputs": [
        {
          "output_type": "stream",
          "name": "stdout",
          "text": [
            "15\n"
          ]
        }
      ]
    },
    {
      "cell_type": "code",
      "metadata": {
        "ExecuteTime": {
          "end_time": "2021-11-09T02:45:34.236964Z",
          "start_time": "2021-11-09T02:45:34.230614Z"
        },
        "id": "AEbJwq2igyYk"
      },
      "source": [
        "def even_odd(number ):\n",
        "     if number%2==0:\n",
        "            return \"even\"\n",
        "     elif number%2==1:\n",
        "            return \"odd\""
      ],
      "execution_count": 9,
      "outputs": []
    },
    {
      "cell_type": "code",
      "metadata": {
        "ExecuteTime": {
          "end_time": "2021-11-09T02:45:35.601589Z",
          "start_time": "2021-11-09T02:45:35.591195Z"
        },
        "id": "c6gQJslfgyYk",
        "outputId": "c0e50ab8-d483-42f2-9e63-ce5d0e617567",
        "colab": {
          "base_uri": "https://localhost:8080/",
          "height": 0
        }
      },
      "source": [
        "even_odd(10)"
      ],
      "execution_count": 10,
      "outputs": [
        {
          "output_type": "execute_result",
          "data": {
            "application/vnd.google.colaboratory.intrinsic+json": {
              "type": "string"
            },
            "text/plain": [
              "'even'"
            ]
          },
          "metadata": {},
          "execution_count": 10
        }
      ]
    },
    {
      "cell_type": "code",
      "metadata": {
        "ExecuteTime": {
          "end_time": "2021-11-09T02:45:40.477241Z",
          "start_time": "2021-11-09T02:45:40.469209Z"
        },
        "id": "DQSZrLxjgyYk",
        "outputId": "ca98f0b7-9602-40e5-9b8c-6a6285c86b32",
        "colab": {
          "base_uri": "https://localhost:8080/",
          "height": 0
        }
      },
      "source": [
        "even_odd(11)"
      ],
      "execution_count": 11,
      "outputs": [
        {
          "output_type": "execute_result",
          "data": {
            "application/vnd.google.colaboratory.intrinsic+json": {
              "type": "string"
            },
            "text/plain": [
              "'odd'"
            ]
          },
          "metadata": {},
          "execution_count": 11
        }
      ]
    },
    {
      "cell_type": "code",
      "metadata": {
        "ExecuteTime": {
          "end_time": "2021-11-09T02:50:44.797228Z",
          "start_time": "2021-11-09T02:50:44.793345Z"
        },
        "id": "84GzO7h9gyYl"
      },
      "source": [
        "# finding sum of a list \n",
        "def sum_list(a):\n",
        "    if type(a)!=list:\n",
        "        return \"please provide correct data\"\n",
        "    SUM=0\n",
        "    for number in a :\n",
        "        SUM=SUM+number \n",
        "    return SUM    "
      ],
      "execution_count": 12,
      "outputs": []
    },
    {
      "cell_type": "code",
      "metadata": {
        "ExecuteTime": {
          "end_time": "2021-11-09T02:50:45.568399Z",
          "start_time": "2021-11-09T02:50:45.554675Z"
        },
        "id": "3C6Lfo3rgyYl",
        "outputId": "967fad72-5c40-4449-fcf6-995c83bd0ea5",
        "colab": {
          "base_uri": "https://localhost:8080/"
        }
      },
      "source": [
        "sum_list([10,8,9])"
      ],
      "execution_count": 13,
      "outputs": [
        {
          "output_type": "execute_result",
          "data": {
            "text/plain": [
              "27"
            ]
          },
          "metadata": {},
          "execution_count": 13
        }
      ]
    },
    {
      "cell_type": "code",
      "metadata": {
        "ExecuteTime": {
          "end_time": "2021-11-09T02:50:50.754861Z",
          "start_time": "2021-11-09T02:50:50.750189Z"
        },
        "id": "lIm_y7vegyYl",
        "outputId": "975e4677-77cd-4b90-f026-fad780825a4c",
        "colab": {
          "base_uri": "https://localhost:8080/",
          "height": 0
        }
      },
      "source": [
        "sum_list(\"ngunhui\")"
      ],
      "execution_count": 14,
      "outputs": [
        {
          "output_type": "execute_result",
          "data": {
            "application/vnd.google.colaboratory.intrinsic+json": {
              "type": "string"
            },
            "text/plain": [
              "'please provide correct data'"
            ]
          },
          "metadata": {},
          "execution_count": 14
        }
      ]
    },
    {
      "cell_type": "code",
      "metadata": {
        "ExecuteTime": {
          "end_time": "2021-11-09T03:30:35.774868Z",
          "start_time": "2021-11-09T03:30:35.768732Z"
        },
        "id": "3f8vkqi9gyYl"
      },
      "source": [
        "def prime(number):\n",
        "    if number <=1:\n",
        "        return \"not a prime\"\n",
        "    if number %2==0 and number !=2:\n",
        "        return \"not a prime\"\n",
        "    for i in range(2,(number//2) +1):\n",
        "        if i %2!=0:\n",
        "            #print(\"trying to divide with \",i)\n",
        "            if number%i==0 :\n",
        "                return \"not a prime\"\n",
        "        \n",
        "        \n",
        "    return \"prime\"    "
      ],
      "execution_count": 15,
      "outputs": []
    },
    {
      "cell_type": "code",
      "metadata": {
        "ExecuteTime": {
          "end_time": "2021-11-09T03:30:36.170268Z",
          "start_time": "2021-11-09T03:30:36.161850Z"
        },
        "id": "FKlWyGvegyYl",
        "outputId": "7d141ce6-ad7e-4585-914a-69ad7c4f32f8",
        "colab": {
          "base_uri": "https://localhost:8080/",
          "height": 0
        }
      },
      "source": [
        "prime(59)"
      ],
      "execution_count": 16,
      "outputs": [
        {
          "output_type": "execute_result",
          "data": {
            "application/vnd.google.colaboratory.intrinsic+json": {
              "type": "string"
            },
            "text/plain": [
              "'prime'"
            ]
          },
          "metadata": {},
          "execution_count": 16
        }
      ]
    },
    {
      "cell_type": "code",
      "metadata": {
        "ExecuteTime": {
          "end_time": "2021-11-09T03:30:36.679229Z",
          "start_time": "2021-11-09T03:30:36.670256Z"
        },
        "scrolled": false,
        "id": "dVhfj1lEgyYl",
        "outputId": "b3e9b26e-a662-4fbe-9c45-c84afa8e3318",
        "colab": {
          "base_uri": "https://localhost:8080/"
        }
      },
      "source": [
        "for i in range(1,51):\n",
        "    print(i,\"===>\",prime(i))"
      ],
      "execution_count": 17,
      "outputs": [
        {
          "output_type": "stream",
          "name": "stdout",
          "text": [
            "1 ===> not a prime\n",
            "2 ===> prime\n",
            "3 ===> prime\n",
            "4 ===> not a prime\n",
            "5 ===> prime\n",
            "6 ===> not a prime\n",
            "7 ===> prime\n",
            "8 ===> not a prime\n",
            "9 ===> not a prime\n",
            "10 ===> not a prime\n",
            "11 ===> prime\n",
            "12 ===> not a prime\n",
            "13 ===> prime\n",
            "14 ===> not a prime\n",
            "15 ===> not a prime\n",
            "16 ===> not a prime\n",
            "17 ===> prime\n",
            "18 ===> not a prime\n",
            "19 ===> prime\n",
            "20 ===> not a prime\n",
            "21 ===> not a prime\n",
            "22 ===> not a prime\n",
            "23 ===> prime\n",
            "24 ===> not a prime\n",
            "25 ===> not a prime\n",
            "26 ===> not a prime\n",
            "27 ===> not a prime\n",
            "28 ===> not a prime\n",
            "29 ===> prime\n",
            "30 ===> not a prime\n",
            "31 ===> prime\n",
            "32 ===> not a prime\n",
            "33 ===> not a prime\n",
            "34 ===> not a prime\n",
            "35 ===> not a prime\n",
            "36 ===> not a prime\n",
            "37 ===> prime\n",
            "38 ===> not a prime\n",
            "39 ===> not a prime\n",
            "40 ===> not a prime\n",
            "41 ===> prime\n",
            "42 ===> not a prime\n",
            "43 ===> prime\n",
            "44 ===> not a prime\n",
            "45 ===> not a prime\n",
            "46 ===> not a prime\n",
            "47 ===> prime\n",
            "48 ===> not a prime\n",
            "49 ===> not a prime\n",
            "50 ===> not a prime\n"
          ]
        }
      ]
    },
    {
      "cell_type": "code",
      "metadata": {
        "id": "4bTkOY0egyYl"
      },
      "source": [
        ""
      ],
      "execution_count": 17,
      "outputs": []
    }
  ]
}