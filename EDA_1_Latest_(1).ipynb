{
  "nbformat": 4,
  "nbformat_minor": 0,
  "metadata": {
    "kernelspec": {
      "display_name": "Python 3",
      "language": "python",
      "name": "python3"
    },
    "language_info": {
      "codemirror_mode": {
        "name": "ipython",
        "version": 3
      },
      "file_extension": ".py",
      "mimetype": "text/x-python",
      "name": "python",
      "nbconvert_exporter": "python",
      "pygments_lexer": "ipython3",
      "version": "3.7.4"
    },
    "colab": {
      "name": "EDA_1_Latest (1).ipynb",
      "provenance": [],
      "include_colab_link": true
    }
  },
  "cells": [
    {
      "cell_type": "markdown",
      "metadata": {
        "id": "view-in-github",
        "colab_type": "text"
      },
      "source": [
        "<a href=\"https://colab.research.google.com/github/swathipraveen/Python_practice/blob/Python/EDA_1_Latest_(1).ipynb\" target=\"_parent\"><img src=\"https://colab.research.google.com/assets/colab-badge.svg\" alt=\"Open In Colab\"/></a>"
      ]
    },
    {
      "cell_type": "markdown",
      "metadata": {
        "id": "5PJN2uaWmWGb"
      },
      "source": [
        "# Exploratory Data Analysis"
      ]
    },
    {
      "cell_type": "code",
      "metadata": {
        "ExecuteTime": {
          "end_time": "2021-08-29T05:57:13.672605Z",
          "start_time": "2021-08-29T05:56:53.678350Z"
        },
        "id": "8c7ZnMcGmWGc"
      },
      "source": [
        "#!pip install pandas_profiling\n",
        "#!pip install sweetviz"
      ],
      "execution_count": 106,
      "outputs": []
    },
    {
      "cell_type": "code",
      "metadata": {
        "ExecuteTime": {
          "end_time": "2021-08-29T05:59:27.541613Z",
          "start_time": "2021-08-29T05:59:27.533791Z"
        },
        "id": "QxRtJe0bmWGe"
      },
      "source": [
        "import warnings\n",
        "warnings.filterwarnings(\"ignore\")"
      ],
      "execution_count": 107,
      "outputs": []
    },
    {
      "cell_type": "code",
      "metadata": {
        "ExecuteTime": {
          "end_time": "2021-08-29T06:00:20.374187Z",
          "start_time": "2021-08-29T06:00:20.370560Z"
        },
        "id": "Z5MVdNeOmWGe"
      },
      "source": [
        "#load the libraries\n",
        "import pandas as pd\n",
        "import numpy as np\n",
        "#import pandas_profiling as pp\n",
        "#import sweetviz as sv"
      ],
      "execution_count": 108,
      "outputs": []
    },
    {
      "cell_type": "code",
      "metadata": {
        "ExecuteTime": {
          "end_time": "2021-08-29T06:00:21.834948Z",
          "start_time": "2021-08-29T06:00:21.796669Z"
        },
        "id": "CLFHTCMGmWGe"
      },
      "source": [
        "data1 = pd.read_csv(\"/content/data_clean.csv\")"
      ],
      "execution_count": 109,
      "outputs": []
    },
    {
      "cell_type": "code",
      "metadata": {
        "ExecuteTime": {
          "end_time": "2021-04-24T09:22:01.704377Z",
          "start_time": "2021-04-24T09:22:01.673819Z"
        },
        "colab": {
          "base_uri": "https://localhost:8080/",
          "height": 359
        },
        "id": "zkq4YghBmWGe",
        "outputId": "d407035b-7958-45ab-a943-85eab7621ee8"
      },
      "source": [
        "data1.tail(10)"
      ],
      "execution_count": 110,
      "outputs": [
        {
          "output_type": "execute_result",
          "data": {
            "text/html": [
              "<div>\n",
              "<style scoped>\n",
              "    .dataframe tbody tr th:only-of-type {\n",
              "        vertical-align: middle;\n",
              "    }\n",
              "\n",
              "    .dataframe tbody tr th {\n",
              "        vertical-align: top;\n",
              "    }\n",
              "\n",
              "    .dataframe thead th {\n",
              "        text-align: right;\n",
              "    }\n",
              "</style>\n",
              "<table border=\"1\" class=\"dataframe\">\n",
              "  <thead>\n",
              "    <tr style=\"text-align: right;\">\n",
              "      <th></th>\n",
              "      <th>Unnamed: 0</th>\n",
              "      <th>Ozone</th>\n",
              "      <th>Solar.R</th>\n",
              "      <th>Wind</th>\n",
              "      <th>Temp C</th>\n",
              "      <th>Month</th>\n",
              "      <th>Day</th>\n",
              "      <th>Year</th>\n",
              "      <th>Temp</th>\n",
              "      <th>Weather</th>\n",
              "    </tr>\n",
              "  </thead>\n",
              "  <tbody>\n",
              "    <tr>\n",
              "      <th>148</th>\n",
              "      <td>149</td>\n",
              "      <td>30.0</td>\n",
              "      <td>193.0</td>\n",
              "      <td>6.9</td>\n",
              "      <td>70</td>\n",
              "      <td>9</td>\n",
              "      <td>26</td>\n",
              "      <td>2010</td>\n",
              "      <td>70</td>\n",
              "      <td>C</td>\n",
              "    </tr>\n",
              "    <tr>\n",
              "      <th>149</th>\n",
              "      <td>150</td>\n",
              "      <td>NaN</td>\n",
              "      <td>145.0</td>\n",
              "      <td>13.2</td>\n",
              "      <td>77</td>\n",
              "      <td>9</td>\n",
              "      <td>27</td>\n",
              "      <td>2010</td>\n",
              "      <td>77</td>\n",
              "      <td>PS</td>\n",
              "    </tr>\n",
              "    <tr>\n",
              "      <th>150</th>\n",
              "      <td>151</td>\n",
              "      <td>14.0</td>\n",
              "      <td>191.0</td>\n",
              "      <td>14.3</td>\n",
              "      <td>75</td>\n",
              "      <td>9</td>\n",
              "      <td>28</td>\n",
              "      <td>2010</td>\n",
              "      <td>75</td>\n",
              "      <td>S</td>\n",
              "    </tr>\n",
              "    <tr>\n",
              "      <th>151</th>\n",
              "      <td>152</td>\n",
              "      <td>18.0</td>\n",
              "      <td>131.0</td>\n",
              "      <td>8.0</td>\n",
              "      <td>76</td>\n",
              "      <td>9</td>\n",
              "      <td>29</td>\n",
              "      <td>2010</td>\n",
              "      <td>76</td>\n",
              "      <td>PS</td>\n",
              "    </tr>\n",
              "    <tr>\n",
              "      <th>152</th>\n",
              "      <td>153</td>\n",
              "      <td>20.0</td>\n",
              "      <td>223.0</td>\n",
              "      <td>11.5</td>\n",
              "      <td>68</td>\n",
              "      <td>9</td>\n",
              "      <td>30</td>\n",
              "      <td>2010</td>\n",
              "      <td>68</td>\n",
              "      <td>S</td>\n",
              "    </tr>\n",
              "    <tr>\n",
              "      <th>153</th>\n",
              "      <td>154</td>\n",
              "      <td>41.0</td>\n",
              "      <td>190.0</td>\n",
              "      <td>7.4</td>\n",
              "      <td>67</td>\n",
              "      <td>5</td>\n",
              "      <td>1</td>\n",
              "      <td>2010</td>\n",
              "      <td>67</td>\n",
              "      <td>C</td>\n",
              "    </tr>\n",
              "    <tr>\n",
              "      <th>154</th>\n",
              "      <td>155</td>\n",
              "      <td>30.0</td>\n",
              "      <td>193.0</td>\n",
              "      <td>6.9</td>\n",
              "      <td>70</td>\n",
              "      <td>9</td>\n",
              "      <td>26</td>\n",
              "      <td>2010</td>\n",
              "      <td>70</td>\n",
              "      <td>PS</td>\n",
              "    </tr>\n",
              "    <tr>\n",
              "      <th>155</th>\n",
              "      <td>156</td>\n",
              "      <td>NaN</td>\n",
              "      <td>145.0</td>\n",
              "      <td>13.2</td>\n",
              "      <td>77</td>\n",
              "      <td>9</td>\n",
              "      <td>27</td>\n",
              "      <td>2010</td>\n",
              "      <td>77</td>\n",
              "      <td>S</td>\n",
              "    </tr>\n",
              "    <tr>\n",
              "      <th>156</th>\n",
              "      <td>157</td>\n",
              "      <td>14.0</td>\n",
              "      <td>191.0</td>\n",
              "      <td>14.3</td>\n",
              "      <td>75</td>\n",
              "      <td>9</td>\n",
              "      <td>28</td>\n",
              "      <td>2010</td>\n",
              "      <td>75</td>\n",
              "      <td>S</td>\n",
              "    </tr>\n",
              "    <tr>\n",
              "      <th>157</th>\n",
              "      <td>158</td>\n",
              "      <td>18.0</td>\n",
              "      <td>131.0</td>\n",
              "      <td>8.0</td>\n",
              "      <td>76</td>\n",
              "      <td>9</td>\n",
              "      <td>29</td>\n",
              "      <td>2010</td>\n",
              "      <td>76</td>\n",
              "      <td>C</td>\n",
              "    </tr>\n",
              "  </tbody>\n",
              "</table>\n",
              "</div>"
            ],
            "text/plain": [
              "     Unnamed: 0  Ozone  Solar.R  Wind Temp C Month  Day  Year  Temp Weather\n",
              "148         149   30.0    193.0   6.9     70     9   26  2010    70       C\n",
              "149         150    NaN    145.0  13.2     77     9   27  2010    77      PS\n",
              "150         151   14.0    191.0  14.3     75     9   28  2010    75       S\n",
              "151         152   18.0    131.0   8.0     76     9   29  2010    76      PS\n",
              "152         153   20.0    223.0  11.5     68     9   30  2010    68       S\n",
              "153         154   41.0    190.0   7.4     67     5    1  2010    67       C\n",
              "154         155   30.0    193.0   6.9     70     9   26  2010    70      PS\n",
              "155         156    NaN    145.0  13.2     77     9   27  2010    77       S\n",
              "156         157   14.0    191.0  14.3     75     9   28  2010    75       S\n",
              "157         158   18.0    131.0   8.0     76     9   29  2010    76       C"
            ]
          },
          "metadata": {},
          "execution_count": 110
        }
      ]
    },
    {
      "cell_type": "code",
      "metadata": {
        "ExecuteTime": {
          "end_time": "2021-08-29T06:02:36.765058Z",
          "start_time": "2021-08-29T06:02:36.758651Z"
        },
        "colab": {
          "base_uri": "https://localhost:8080/"
        },
        "id": "Jkodoq2omWGe",
        "outputId": "06ad8c54-c920-4bf1-fcee-9d6100dba5e3"
      },
      "source": [
        "#Data Structure \n",
        "type(data1)\n",
        "\n"
      ],
      "execution_count": 111,
      "outputs": [
        {
          "output_type": "execute_result",
          "data": {
            "text/plain": [
              "pandas.core.frame.DataFrame"
            ]
          },
          "metadata": {},
          "execution_count": 111
        }
      ]
    },
    {
      "cell_type": "code",
      "metadata": {
        "ExecuteTime": {
          "end_time": "2021-08-29T06:02:44.891290Z",
          "start_time": "2021-08-29T06:02:44.882092Z"
        },
        "colab": {
          "base_uri": "https://localhost:8080/"
        },
        "id": "ForJ2SEhmWGe",
        "outputId": "3bbae6c2-4fef-480b-d351-f42a7426b3e8"
      },
      "source": [
        "data1.shape"
      ],
      "execution_count": 112,
      "outputs": [
        {
          "output_type": "execute_result",
          "data": {
            "text/plain": [
              "(158, 10)"
            ]
          },
          "metadata": {},
          "execution_count": 112
        }
      ]
    },
    {
      "cell_type": "code",
      "metadata": {
        "ExecuteTime": {
          "end_time": "2021-02-14T12:03:13.379202Z",
          "start_time": "2021-02-14T12:03:13.372469Z"
        },
        "colab": {
          "base_uri": "https://localhost:8080/"
        },
        "id": "iA6qYAHqmWGf",
        "outputId": "b7651dc5-ee15-4461-d925-ffd4a6ae4a30"
      },
      "source": [
        "#data types\n",
        "data1.dtypes"
      ],
      "execution_count": 113,
      "outputs": [
        {
          "output_type": "execute_result",
          "data": {
            "text/plain": [
              "Unnamed: 0      int64\n",
              "Ozone         float64\n",
              "Solar.R       float64\n",
              "Wind          float64\n",
              "Temp C         object\n",
              "Month          object\n",
              "Day             int64\n",
              "Year            int64\n",
              "Temp            int64\n",
              "Weather        object\n",
              "dtype: object"
            ]
          },
          "metadata": {},
          "execution_count": 113
        }
      ]
    },
    {
      "cell_type": "markdown",
      "metadata": {
        "heading_collapsed": true,
        "id": "8mlOs04bmWGf"
      },
      "source": [
        "# Data type conversion"
      ]
    },
    {
      "cell_type": "code",
      "metadata": {
        "ExecuteTime": {
          "end_time": "2021-08-29T06:05:20.436658Z",
          "start_time": "2021-08-29T06:05:20.395637Z"
        },
        "hidden": true,
        "colab": {
          "base_uri": "https://localhost:8080/"
        },
        "id": "Hi7JlSc-mWGf",
        "outputId": "d80de37a-9285-4465-85e9-a8c49ee8ad3e"
      },
      "source": [
        "data1.info()\n"
      ],
      "execution_count": 114,
      "outputs": [
        {
          "output_type": "stream",
          "name": "stdout",
          "text": [
            "<class 'pandas.core.frame.DataFrame'>\n",
            "RangeIndex: 158 entries, 0 to 157\n",
            "Data columns (total 10 columns):\n",
            " #   Column      Non-Null Count  Dtype  \n",
            "---  ------      --------------  -----  \n",
            " 0   Unnamed: 0  158 non-null    int64  \n",
            " 1   Ozone       120 non-null    float64\n",
            " 2   Solar.R     151 non-null    float64\n",
            " 3   Wind        158 non-null    float64\n",
            " 4   Temp C      158 non-null    object \n",
            " 5   Month       158 non-null    object \n",
            " 6   Day         158 non-null    int64  \n",
            " 7   Year        158 non-null    int64  \n",
            " 8   Temp        158 non-null    int64  \n",
            " 9   Weather     155 non-null    object \n",
            "dtypes: float64(3), int64(4), object(3)\n",
            "memory usage: 12.5+ KB\n"
          ]
        }
      ]
    },
    {
      "cell_type": "code",
      "metadata": {
        "ExecuteTime": {
          "end_time": "2021-08-07T11:31:50.540779Z",
          "start_time": "2021-08-07T11:31:50.530462Z"
        },
        "hidden": true,
        "colab": {
          "base_uri": "https://localhost:8080/"
        },
        "id": "KaWpqtNYmWGf",
        "outputId": "5ee5dab0-a612-40ba-a068-cd76f348c4b3"
      },
      "source": [
        "data1.isna().sum()"
      ],
      "execution_count": 115,
      "outputs": [
        {
          "output_type": "execute_result",
          "data": {
            "text/plain": [
              "Unnamed: 0     0\n",
              "Ozone         38\n",
              "Solar.R        7\n",
              "Wind           0\n",
              "Temp C         0\n",
              "Month          0\n",
              "Day            0\n",
              "Year           0\n",
              "Temp           0\n",
              "Weather        3\n",
              "dtype: int64"
            ]
          },
          "metadata": {},
          "execution_count": 115
        }
      ]
    },
    {
      "cell_type": "code",
      "metadata": {
        "ExecuteTime": {
          "end_time": "2021-08-29T06:07:54.128195Z",
          "start_time": "2021-08-29T06:07:54.112606Z"
        },
        "hidden": true,
        "id": "qrsxgQ7ZmWGf"
      },
      "source": [
        "data2=data1.iloc[:,1:]"
      ],
      "execution_count": 116,
      "outputs": []
    },
    {
      "cell_type": "code",
      "metadata": {
        "ExecuteTime": {
          "end_time": "2021-08-29T06:07:54.766029Z",
          "start_time": "2021-08-29T06:07:54.693082Z"
        },
        "hidden": true,
        "scrolled": true,
        "colab": {
          "base_uri": "https://localhost:8080/",
          "height": 0
        },
        "id": "mwglgJK-mWGf",
        "outputId": "3805d8b2-c0df-4295-a458-8f280c624c85"
      },
      "source": [
        "data2.head(2)"
      ],
      "execution_count": 117,
      "outputs": [
        {
          "output_type": "execute_result",
          "data": {
            "text/html": [
              "<div>\n",
              "<style scoped>\n",
              "    .dataframe tbody tr th:only-of-type {\n",
              "        vertical-align: middle;\n",
              "    }\n",
              "\n",
              "    .dataframe tbody tr th {\n",
              "        vertical-align: top;\n",
              "    }\n",
              "\n",
              "    .dataframe thead th {\n",
              "        text-align: right;\n",
              "    }\n",
              "</style>\n",
              "<table border=\"1\" class=\"dataframe\">\n",
              "  <thead>\n",
              "    <tr style=\"text-align: right;\">\n",
              "      <th></th>\n",
              "      <th>Ozone</th>\n",
              "      <th>Solar.R</th>\n",
              "      <th>Wind</th>\n",
              "      <th>Temp C</th>\n",
              "      <th>Month</th>\n",
              "      <th>Day</th>\n",
              "      <th>Year</th>\n",
              "      <th>Temp</th>\n",
              "      <th>Weather</th>\n",
              "    </tr>\n",
              "  </thead>\n",
              "  <tbody>\n",
              "    <tr>\n",
              "      <th>0</th>\n",
              "      <td>41.0</td>\n",
              "      <td>190.0</td>\n",
              "      <td>7.4</td>\n",
              "      <td>67</td>\n",
              "      <td>5</td>\n",
              "      <td>1</td>\n",
              "      <td>2010</td>\n",
              "      <td>67</td>\n",
              "      <td>S</td>\n",
              "    </tr>\n",
              "    <tr>\n",
              "      <th>1</th>\n",
              "      <td>36.0</td>\n",
              "      <td>118.0</td>\n",
              "      <td>8.0</td>\n",
              "      <td>72</td>\n",
              "      <td>5</td>\n",
              "      <td>2</td>\n",
              "      <td>2010</td>\n",
              "      <td>72</td>\n",
              "      <td>C</td>\n",
              "    </tr>\n",
              "  </tbody>\n",
              "</table>\n",
              "</div>"
            ],
            "text/plain": [
              "   Ozone  Solar.R  Wind Temp C Month  Day  Year  Temp Weather\n",
              "0   41.0    190.0   7.4     67     5    1  2010    67       S\n",
              "1   36.0    118.0   8.0     72     5    2  2010    72       C"
            ]
          },
          "metadata": {},
          "execution_count": 117
        }
      ]
    },
    {
      "cell_type": "code",
      "metadata": {
        "ExecuteTime": {
          "end_time": "2021-08-29T06:10:05.921593Z",
          "start_time": "2021-08-29T06:10:05.918121Z"
        },
        "hidden": true,
        "id": "LgHTxr4FmWGg"
      },
      "source": [
        "#The method .copy() is used here so that any changes made in new DataFrame don't get reflected in the original one\n",
        "data=data2.copy()"
      ],
      "execution_count": 118,
      "outputs": []
    },
    {
      "cell_type": "code",
      "metadata": {
        "ExecuteTime": {
          "end_time": "2021-08-29T06:10:06.378706Z",
          "start_time": "2021-08-29T06:10:06.364288Z"
        },
        "hidden": true,
        "colab": {
          "base_uri": "https://localhost:8080/"
        },
        "id": "123fkp-3mWGg",
        "outputId": "e7cbc8b5-6b2f-4be5-fbb7-d86a6d901c1c"
      },
      "source": [
        "data.info()"
      ],
      "execution_count": 119,
      "outputs": [
        {
          "output_type": "stream",
          "name": "stdout",
          "text": [
            "<class 'pandas.core.frame.DataFrame'>\n",
            "RangeIndex: 158 entries, 0 to 157\n",
            "Data columns (total 9 columns):\n",
            " #   Column   Non-Null Count  Dtype  \n",
            "---  ------   --------------  -----  \n",
            " 0   Ozone    120 non-null    float64\n",
            " 1   Solar.R  151 non-null    float64\n",
            " 2   Wind     158 non-null    float64\n",
            " 3   Temp C   158 non-null    object \n",
            " 4   Month    158 non-null    object \n",
            " 5   Day      158 non-null    int64  \n",
            " 6   Year     158 non-null    int64  \n",
            " 7   Temp     158 non-null    int64  \n",
            " 8   Weather  155 non-null    object \n",
            "dtypes: float64(3), int64(3), object(3)\n",
            "memory usage: 11.2+ KB\n"
          ]
        }
      ]
    },
    {
      "cell_type": "code",
      "metadata": {
        "ExecuteTime": {
          "end_time": "2021-08-29T06:10:06.919039Z",
          "start_time": "2021-08-29T06:10:06.896331Z"
        },
        "hidden": true,
        "id": "pNsQD0l8mWGg"
      },
      "source": [
        "data['Month']=pd.to_numeric(data['Month'],errors='coerce')\n",
        "data['Temp C']=pd.to_numeric(data['Temp C'],errors='coerce')# coerce will introduce NA values for non numeric data in the columns\n",
        "data['Weather']=data['Weather'].astype('category')    \n",
        "\n",
        "#data['Wind']=data['Wind'].astype('int64')"
      ],
      "execution_count": 120,
      "outputs": []
    },
    {
      "cell_type": "code",
      "metadata": {
        "ExecuteTime": {
          "end_time": "2021-08-29T06:10:10.268051Z",
          "start_time": "2021-08-29T06:10:10.227210Z"
        },
        "hidden": true,
        "colab": {
          "base_uri": "https://localhost:8080/"
        },
        "id": "KBdvb9D-mWGg",
        "outputId": "713cd188-7b07-4c52-ea72-fdec9184f2f1"
      },
      "source": [
        "data.info()"
      ],
      "execution_count": 121,
      "outputs": [
        {
          "output_type": "stream",
          "name": "stdout",
          "text": [
            "<class 'pandas.core.frame.DataFrame'>\n",
            "RangeIndex: 158 entries, 0 to 157\n",
            "Data columns (total 9 columns):\n",
            " #   Column   Non-Null Count  Dtype   \n",
            "---  ------   --------------  -----   \n",
            " 0   Ozone    120 non-null    float64 \n",
            " 1   Solar.R  151 non-null    float64 \n",
            " 2   Wind     158 non-null    float64 \n",
            " 3   Temp C   157 non-null    float64 \n",
            " 4   Month    157 non-null    float64 \n",
            " 5   Day      158 non-null    int64   \n",
            " 6   Year     158 non-null    int64   \n",
            " 7   Temp     158 non-null    int64   \n",
            " 8   Weather  155 non-null    category\n",
            "dtypes: category(1), float64(5), int64(3)\n",
            "memory usage: 10.3 KB\n"
          ]
        }
      ]
    },
    {
      "cell_type": "markdown",
      "metadata": {
        "heading_collapsed": true,
        "id": "fZRuNMQ3mWGg"
      },
      "source": [
        "# Duplicates"
      ]
    },
    {
      "cell_type": "code",
      "metadata": {
        "ExecuteTime": {
          "end_time": "2021-08-29T06:11:17.604330Z",
          "start_time": "2021-08-29T06:11:17.564849Z"
        },
        "hidden": true,
        "colab": {
          "base_uri": "https://localhost:8080/",
          "height": 0
        },
        "id": "UhvfHGiKmWGh",
        "outputId": "58ef231c-8187-48dd-db6d-aa6dccf37538"
      },
      "source": [
        "data"
      ],
      "execution_count": 122,
      "outputs": [
        {
          "output_type": "execute_result",
          "data": {
            "text/html": [
              "<div>\n",
              "<style scoped>\n",
              "    .dataframe tbody tr th:only-of-type {\n",
              "        vertical-align: middle;\n",
              "    }\n",
              "\n",
              "    .dataframe tbody tr th {\n",
              "        vertical-align: top;\n",
              "    }\n",
              "\n",
              "    .dataframe thead th {\n",
              "        text-align: right;\n",
              "    }\n",
              "</style>\n",
              "<table border=\"1\" class=\"dataframe\">\n",
              "  <thead>\n",
              "    <tr style=\"text-align: right;\">\n",
              "      <th></th>\n",
              "      <th>Ozone</th>\n",
              "      <th>Solar.R</th>\n",
              "      <th>Wind</th>\n",
              "      <th>Temp C</th>\n",
              "      <th>Month</th>\n",
              "      <th>Day</th>\n",
              "      <th>Year</th>\n",
              "      <th>Temp</th>\n",
              "      <th>Weather</th>\n",
              "    </tr>\n",
              "  </thead>\n",
              "  <tbody>\n",
              "    <tr>\n",
              "      <th>0</th>\n",
              "      <td>41.0</td>\n",
              "      <td>190.0</td>\n",
              "      <td>7.4</td>\n",
              "      <td>67.0</td>\n",
              "      <td>5.0</td>\n",
              "      <td>1</td>\n",
              "      <td>2010</td>\n",
              "      <td>67</td>\n",
              "      <td>S</td>\n",
              "    </tr>\n",
              "    <tr>\n",
              "      <th>1</th>\n",
              "      <td>36.0</td>\n",
              "      <td>118.0</td>\n",
              "      <td>8.0</td>\n",
              "      <td>72.0</td>\n",
              "      <td>5.0</td>\n",
              "      <td>2</td>\n",
              "      <td>2010</td>\n",
              "      <td>72</td>\n",
              "      <td>C</td>\n",
              "    </tr>\n",
              "    <tr>\n",
              "      <th>2</th>\n",
              "      <td>12.0</td>\n",
              "      <td>149.0</td>\n",
              "      <td>12.6</td>\n",
              "      <td>74.0</td>\n",
              "      <td>5.0</td>\n",
              "      <td>3</td>\n",
              "      <td>2010</td>\n",
              "      <td>74</td>\n",
              "      <td>PS</td>\n",
              "    </tr>\n",
              "    <tr>\n",
              "      <th>3</th>\n",
              "      <td>18.0</td>\n",
              "      <td>313.0</td>\n",
              "      <td>11.5</td>\n",
              "      <td>62.0</td>\n",
              "      <td>5.0</td>\n",
              "      <td>4</td>\n",
              "      <td>2010</td>\n",
              "      <td>62</td>\n",
              "      <td>S</td>\n",
              "    </tr>\n",
              "    <tr>\n",
              "      <th>4</th>\n",
              "      <td>NaN</td>\n",
              "      <td>NaN</td>\n",
              "      <td>14.3</td>\n",
              "      <td>56.0</td>\n",
              "      <td>5.0</td>\n",
              "      <td>5</td>\n",
              "      <td>2010</td>\n",
              "      <td>56</td>\n",
              "      <td>S</td>\n",
              "    </tr>\n",
              "    <tr>\n",
              "      <th>...</th>\n",
              "      <td>...</td>\n",
              "      <td>...</td>\n",
              "      <td>...</td>\n",
              "      <td>...</td>\n",
              "      <td>...</td>\n",
              "      <td>...</td>\n",
              "      <td>...</td>\n",
              "      <td>...</td>\n",
              "      <td>...</td>\n",
              "    </tr>\n",
              "    <tr>\n",
              "      <th>153</th>\n",
              "      <td>41.0</td>\n",
              "      <td>190.0</td>\n",
              "      <td>7.4</td>\n",
              "      <td>67.0</td>\n",
              "      <td>5.0</td>\n",
              "      <td>1</td>\n",
              "      <td>2010</td>\n",
              "      <td>67</td>\n",
              "      <td>C</td>\n",
              "    </tr>\n",
              "    <tr>\n",
              "      <th>154</th>\n",
              "      <td>30.0</td>\n",
              "      <td>193.0</td>\n",
              "      <td>6.9</td>\n",
              "      <td>70.0</td>\n",
              "      <td>9.0</td>\n",
              "      <td>26</td>\n",
              "      <td>2010</td>\n",
              "      <td>70</td>\n",
              "      <td>PS</td>\n",
              "    </tr>\n",
              "    <tr>\n",
              "      <th>155</th>\n",
              "      <td>NaN</td>\n",
              "      <td>145.0</td>\n",
              "      <td>13.2</td>\n",
              "      <td>77.0</td>\n",
              "      <td>9.0</td>\n",
              "      <td>27</td>\n",
              "      <td>2010</td>\n",
              "      <td>77</td>\n",
              "      <td>S</td>\n",
              "    </tr>\n",
              "    <tr>\n",
              "      <th>156</th>\n",
              "      <td>14.0</td>\n",
              "      <td>191.0</td>\n",
              "      <td>14.3</td>\n",
              "      <td>75.0</td>\n",
              "      <td>9.0</td>\n",
              "      <td>28</td>\n",
              "      <td>2010</td>\n",
              "      <td>75</td>\n",
              "      <td>S</td>\n",
              "    </tr>\n",
              "    <tr>\n",
              "      <th>157</th>\n",
              "      <td>18.0</td>\n",
              "      <td>131.0</td>\n",
              "      <td>8.0</td>\n",
              "      <td>76.0</td>\n",
              "      <td>9.0</td>\n",
              "      <td>29</td>\n",
              "      <td>2010</td>\n",
              "      <td>76</td>\n",
              "      <td>C</td>\n",
              "    </tr>\n",
              "  </tbody>\n",
              "</table>\n",
              "<p>158 rows × 9 columns</p>\n",
              "</div>"
            ],
            "text/plain": [
              "     Ozone  Solar.R  Wind  Temp C  Month  Day  Year  Temp Weather\n",
              "0     41.0    190.0   7.4    67.0    5.0    1  2010    67       S\n",
              "1     36.0    118.0   8.0    72.0    5.0    2  2010    72       C\n",
              "2     12.0    149.0  12.6    74.0    5.0    3  2010    74      PS\n",
              "3     18.0    313.0  11.5    62.0    5.0    4  2010    62       S\n",
              "4      NaN      NaN  14.3    56.0    5.0    5  2010    56       S\n",
              "..     ...      ...   ...     ...    ...  ...   ...   ...     ...\n",
              "153   41.0    190.0   7.4    67.0    5.0    1  2010    67       C\n",
              "154   30.0    193.0   6.9    70.0    9.0   26  2010    70      PS\n",
              "155    NaN    145.0  13.2    77.0    9.0   27  2010    77       S\n",
              "156   14.0    191.0  14.3    75.0    9.0   28  2010    75       S\n",
              "157   18.0    131.0   8.0    76.0    9.0   29  2010    76       C\n",
              "\n",
              "[158 rows x 9 columns]"
            ]
          },
          "metadata": {},
          "execution_count": 122
        }
      ]
    },
    {
      "cell_type": "code",
      "metadata": {
        "hidden": true,
        "id": "liSQj2zWmWGh"
      },
      "source": [
        ""
      ],
      "execution_count": 122,
      "outputs": []
    },
    {
      "cell_type": "code",
      "metadata": {
        "ExecuteTime": {
          "end_time": "2021-08-29T06:11:23.227321Z",
          "start_time": "2021-08-29T06:11:23.194952Z"
        },
        "hidden": true,
        "colab": {
          "base_uri": "https://localhost:8080/"
        },
        "id": "TbCuOg4smWGh",
        "outputId": "496cfdba-552d-49b7-9e2a-2ac9115e08dc"
      },
      "source": [
        "data.duplicated()"
      ],
      "execution_count": 123,
      "outputs": [
        {
          "output_type": "execute_result",
          "data": {
            "text/plain": [
              "0      False\n",
              "1      False\n",
              "2      False\n",
              "3      False\n",
              "4      False\n",
              "       ...  \n",
              "153    False\n",
              "154    False\n",
              "155    False\n",
              "156     True\n",
              "157    False\n",
              "Length: 158, dtype: bool"
            ]
          },
          "metadata": {},
          "execution_count": 123
        }
      ]
    },
    {
      "cell_type": "code",
      "metadata": {
        "ExecuteTime": {
          "end_time": "2021-08-29T06:17:22.846778Z",
          "start_time": "2021-08-29T06:17:22.831584Z"
        },
        "hidden": true,
        "colab": {
          "base_uri": "https://localhost:8080/",
          "height": 0
        },
        "id": "okKAY0nFmWGh",
        "outputId": "b123d537-82fb-4839-80b2-098aa2772d11"
      },
      "source": [
        "#Count of duplicated rows\n",
        "data[data.duplicated()]"
      ],
      "execution_count": 124,
      "outputs": [
        {
          "output_type": "execute_result",
          "data": {
            "text/html": [
              "<div>\n",
              "<style scoped>\n",
              "    .dataframe tbody tr th:only-of-type {\n",
              "        vertical-align: middle;\n",
              "    }\n",
              "\n",
              "    .dataframe tbody tr th {\n",
              "        vertical-align: top;\n",
              "    }\n",
              "\n",
              "    .dataframe thead th {\n",
              "        text-align: right;\n",
              "    }\n",
              "</style>\n",
              "<table border=\"1\" class=\"dataframe\">\n",
              "  <thead>\n",
              "    <tr style=\"text-align: right;\">\n",
              "      <th></th>\n",
              "      <th>Ozone</th>\n",
              "      <th>Solar.R</th>\n",
              "      <th>Wind</th>\n",
              "      <th>Temp C</th>\n",
              "      <th>Month</th>\n",
              "      <th>Day</th>\n",
              "      <th>Year</th>\n",
              "      <th>Temp</th>\n",
              "      <th>Weather</th>\n",
              "    </tr>\n",
              "  </thead>\n",
              "  <tbody>\n",
              "    <tr>\n",
              "      <th>156</th>\n",
              "      <td>14.0</td>\n",
              "      <td>191.0</td>\n",
              "      <td>14.3</td>\n",
              "      <td>75.0</td>\n",
              "      <td>9.0</td>\n",
              "      <td>28</td>\n",
              "      <td>2010</td>\n",
              "      <td>75</td>\n",
              "      <td>S</td>\n",
              "    </tr>\n",
              "  </tbody>\n",
              "</table>\n",
              "</div>"
            ],
            "text/plain": [
              "     Ozone  Solar.R  Wind  Temp C  Month  Day  Year  Temp Weather\n",
              "156   14.0    191.0  14.3    75.0    9.0   28  2010    75       S"
            ]
          },
          "metadata": {},
          "execution_count": 124
        }
      ]
    },
    {
      "cell_type": "code",
      "metadata": {
        "ExecuteTime": {
          "end_time": "2021-08-29T06:18:31.651216Z",
          "start_time": "2021-08-29T06:18:31.622481Z"
        },
        "hidden": true,
        "colab": {
          "base_uri": "https://localhost:8080/",
          "height": 0
        },
        "id": "sb0BYV2rmWGh",
        "outputId": "04e7a4df-d885-4133-d8af-f94bc19e224b"
      },
      "source": [
        "data[~data.duplicated()]"
      ],
      "execution_count": 125,
      "outputs": [
        {
          "output_type": "execute_result",
          "data": {
            "text/html": [
              "<div>\n",
              "<style scoped>\n",
              "    .dataframe tbody tr th:only-of-type {\n",
              "        vertical-align: middle;\n",
              "    }\n",
              "\n",
              "    .dataframe tbody tr th {\n",
              "        vertical-align: top;\n",
              "    }\n",
              "\n",
              "    .dataframe thead th {\n",
              "        text-align: right;\n",
              "    }\n",
              "</style>\n",
              "<table border=\"1\" class=\"dataframe\">\n",
              "  <thead>\n",
              "    <tr style=\"text-align: right;\">\n",
              "      <th></th>\n",
              "      <th>Ozone</th>\n",
              "      <th>Solar.R</th>\n",
              "      <th>Wind</th>\n",
              "      <th>Temp C</th>\n",
              "      <th>Month</th>\n",
              "      <th>Day</th>\n",
              "      <th>Year</th>\n",
              "      <th>Temp</th>\n",
              "      <th>Weather</th>\n",
              "    </tr>\n",
              "  </thead>\n",
              "  <tbody>\n",
              "    <tr>\n",
              "      <th>0</th>\n",
              "      <td>41.0</td>\n",
              "      <td>190.0</td>\n",
              "      <td>7.4</td>\n",
              "      <td>67.0</td>\n",
              "      <td>5.0</td>\n",
              "      <td>1</td>\n",
              "      <td>2010</td>\n",
              "      <td>67</td>\n",
              "      <td>S</td>\n",
              "    </tr>\n",
              "    <tr>\n",
              "      <th>1</th>\n",
              "      <td>36.0</td>\n",
              "      <td>118.0</td>\n",
              "      <td>8.0</td>\n",
              "      <td>72.0</td>\n",
              "      <td>5.0</td>\n",
              "      <td>2</td>\n",
              "      <td>2010</td>\n",
              "      <td>72</td>\n",
              "      <td>C</td>\n",
              "    </tr>\n",
              "    <tr>\n",
              "      <th>2</th>\n",
              "      <td>12.0</td>\n",
              "      <td>149.0</td>\n",
              "      <td>12.6</td>\n",
              "      <td>74.0</td>\n",
              "      <td>5.0</td>\n",
              "      <td>3</td>\n",
              "      <td>2010</td>\n",
              "      <td>74</td>\n",
              "      <td>PS</td>\n",
              "    </tr>\n",
              "    <tr>\n",
              "      <th>3</th>\n",
              "      <td>18.0</td>\n",
              "      <td>313.0</td>\n",
              "      <td>11.5</td>\n",
              "      <td>62.0</td>\n",
              "      <td>5.0</td>\n",
              "      <td>4</td>\n",
              "      <td>2010</td>\n",
              "      <td>62</td>\n",
              "      <td>S</td>\n",
              "    </tr>\n",
              "    <tr>\n",
              "      <th>4</th>\n",
              "      <td>NaN</td>\n",
              "      <td>NaN</td>\n",
              "      <td>14.3</td>\n",
              "      <td>56.0</td>\n",
              "      <td>5.0</td>\n",
              "      <td>5</td>\n",
              "      <td>2010</td>\n",
              "      <td>56</td>\n",
              "      <td>S</td>\n",
              "    </tr>\n",
              "    <tr>\n",
              "      <th>...</th>\n",
              "      <td>...</td>\n",
              "      <td>...</td>\n",
              "      <td>...</td>\n",
              "      <td>...</td>\n",
              "      <td>...</td>\n",
              "      <td>...</td>\n",
              "      <td>...</td>\n",
              "      <td>...</td>\n",
              "      <td>...</td>\n",
              "    </tr>\n",
              "    <tr>\n",
              "      <th>152</th>\n",
              "      <td>20.0</td>\n",
              "      <td>223.0</td>\n",
              "      <td>11.5</td>\n",
              "      <td>68.0</td>\n",
              "      <td>9.0</td>\n",
              "      <td>30</td>\n",
              "      <td>2010</td>\n",
              "      <td>68</td>\n",
              "      <td>S</td>\n",
              "    </tr>\n",
              "    <tr>\n",
              "      <th>153</th>\n",
              "      <td>41.0</td>\n",
              "      <td>190.0</td>\n",
              "      <td>7.4</td>\n",
              "      <td>67.0</td>\n",
              "      <td>5.0</td>\n",
              "      <td>1</td>\n",
              "      <td>2010</td>\n",
              "      <td>67</td>\n",
              "      <td>C</td>\n",
              "    </tr>\n",
              "    <tr>\n",
              "      <th>154</th>\n",
              "      <td>30.0</td>\n",
              "      <td>193.0</td>\n",
              "      <td>6.9</td>\n",
              "      <td>70.0</td>\n",
              "      <td>9.0</td>\n",
              "      <td>26</td>\n",
              "      <td>2010</td>\n",
              "      <td>70</td>\n",
              "      <td>PS</td>\n",
              "    </tr>\n",
              "    <tr>\n",
              "      <th>155</th>\n",
              "      <td>NaN</td>\n",
              "      <td>145.0</td>\n",
              "      <td>13.2</td>\n",
              "      <td>77.0</td>\n",
              "      <td>9.0</td>\n",
              "      <td>27</td>\n",
              "      <td>2010</td>\n",
              "      <td>77</td>\n",
              "      <td>S</td>\n",
              "    </tr>\n",
              "    <tr>\n",
              "      <th>157</th>\n",
              "      <td>18.0</td>\n",
              "      <td>131.0</td>\n",
              "      <td>8.0</td>\n",
              "      <td>76.0</td>\n",
              "      <td>9.0</td>\n",
              "      <td>29</td>\n",
              "      <td>2010</td>\n",
              "      <td>76</td>\n",
              "      <td>C</td>\n",
              "    </tr>\n",
              "  </tbody>\n",
              "</table>\n",
              "<p>157 rows × 9 columns</p>\n",
              "</div>"
            ],
            "text/plain": [
              "     Ozone  Solar.R  Wind  Temp C  Month  Day  Year  Temp Weather\n",
              "0     41.0    190.0   7.4    67.0    5.0    1  2010    67       S\n",
              "1     36.0    118.0   8.0    72.0    5.0    2  2010    72       C\n",
              "2     12.0    149.0  12.6    74.0    5.0    3  2010    74      PS\n",
              "3     18.0    313.0  11.5    62.0    5.0    4  2010    62       S\n",
              "4      NaN      NaN  14.3    56.0    5.0    5  2010    56       S\n",
              "..     ...      ...   ...     ...    ...  ...   ...   ...     ...\n",
              "152   20.0    223.0  11.5    68.0    9.0   30  2010    68       S\n",
              "153   41.0    190.0   7.4    67.0    5.0    1  2010    67       C\n",
              "154   30.0    193.0   6.9    70.0    9.0   26  2010    70      PS\n",
              "155    NaN    145.0  13.2    77.0    9.0   27  2010    77       S\n",
              "157   18.0    131.0   8.0    76.0    9.0   29  2010    76       C\n",
              "\n",
              "[157 rows x 9 columns]"
            ]
          },
          "metadata": {},
          "execution_count": 125
        }
      ]
    },
    {
      "cell_type": "code",
      "metadata": {
        "ExecuteTime": {
          "end_time": "2021-08-29T06:18:32.549900Z",
          "start_time": "2021-08-29T06:18:32.527816Z"
        },
        "hidden": true,
        "id": "CWvYXQ9CmWGh"
      },
      "source": [
        "data_cleaned1=data.drop_duplicates()"
      ],
      "execution_count": 126,
      "outputs": []
    },
    {
      "cell_type": "code",
      "metadata": {
        "ExecuteTime": {
          "end_time": "2021-08-29T06:18:32.964208Z",
          "start_time": "2021-08-29T06:18:32.959229Z"
        },
        "hidden": true,
        "colab": {
          "base_uri": "https://localhost:8080/"
        },
        "id": "Tg19zIYSmWGh",
        "outputId": "fdaca97a-7935-4b68-85ae-57ff62c31927"
      },
      "source": [
        "data_cleaned1.shape"
      ],
      "execution_count": 127,
      "outputs": [
        {
          "output_type": "execute_result",
          "data": {
            "text/plain": [
              "(157, 9)"
            ]
          },
          "metadata": {},
          "execution_count": 127
        }
      ]
    },
    {
      "cell_type": "markdown",
      "metadata": {
        "heading_collapsed": true,
        "id": "By7pFzK9mWGh"
      },
      "source": [
        "# Drop columns"
      ]
    },
    {
      "cell_type": "code",
      "metadata": {
        "ExecuteTime": {
          "end_time": "2021-08-29T06:18:34.038910Z",
          "start_time": "2021-08-29T06:18:33.979534Z"
        },
        "hidden": true,
        "colab": {
          "base_uri": "https://localhost:8080/",
          "height": 419
        },
        "id": "XH4okn8NmWGh",
        "outputId": "dcef770a-e390-48d1-c7c0-1dd938b605f4"
      },
      "source": [
        "data_cleaned1"
      ],
      "execution_count": 34,
      "outputs": [
        {
          "output_type": "execute_result",
          "data": {
            "text/html": [
              "<div>\n",
              "<style scoped>\n",
              "    .dataframe tbody tr th:only-of-type {\n",
              "        vertical-align: middle;\n",
              "    }\n",
              "\n",
              "    .dataframe tbody tr th {\n",
              "        vertical-align: top;\n",
              "    }\n",
              "\n",
              "    .dataframe thead th {\n",
              "        text-align: right;\n",
              "    }\n",
              "</style>\n",
              "<table border=\"1\" class=\"dataframe\">\n",
              "  <thead>\n",
              "    <tr style=\"text-align: right;\">\n",
              "      <th></th>\n",
              "      <th>Ozone</th>\n",
              "      <th>Solar.R</th>\n",
              "      <th>Wind</th>\n",
              "      <th>Temp C</th>\n",
              "      <th>Month</th>\n",
              "      <th>Day</th>\n",
              "      <th>Year</th>\n",
              "      <th>Temp</th>\n",
              "      <th>Weather</th>\n",
              "    </tr>\n",
              "  </thead>\n",
              "  <tbody>\n",
              "    <tr>\n",
              "      <th>0</th>\n",
              "      <td>41.0</td>\n",
              "      <td>190.0</td>\n",
              "      <td>7.4</td>\n",
              "      <td>67.0</td>\n",
              "      <td>5.0</td>\n",
              "      <td>1</td>\n",
              "      <td>2010</td>\n",
              "      <td>67</td>\n",
              "      <td>S</td>\n",
              "    </tr>\n",
              "    <tr>\n",
              "      <th>1</th>\n",
              "      <td>36.0</td>\n",
              "      <td>118.0</td>\n",
              "      <td>8.0</td>\n",
              "      <td>72.0</td>\n",
              "      <td>5.0</td>\n",
              "      <td>2</td>\n",
              "      <td>2010</td>\n",
              "      <td>72</td>\n",
              "      <td>C</td>\n",
              "    </tr>\n",
              "    <tr>\n",
              "      <th>2</th>\n",
              "      <td>12.0</td>\n",
              "      <td>149.0</td>\n",
              "      <td>12.6</td>\n",
              "      <td>74.0</td>\n",
              "      <td>5.0</td>\n",
              "      <td>3</td>\n",
              "      <td>2010</td>\n",
              "      <td>74</td>\n",
              "      <td>PS</td>\n",
              "    </tr>\n",
              "    <tr>\n",
              "      <th>3</th>\n",
              "      <td>18.0</td>\n",
              "      <td>313.0</td>\n",
              "      <td>11.5</td>\n",
              "      <td>62.0</td>\n",
              "      <td>5.0</td>\n",
              "      <td>4</td>\n",
              "      <td>2010</td>\n",
              "      <td>62</td>\n",
              "      <td>S</td>\n",
              "    </tr>\n",
              "    <tr>\n",
              "      <th>4</th>\n",
              "      <td>NaN</td>\n",
              "      <td>NaN</td>\n",
              "      <td>14.3</td>\n",
              "      <td>56.0</td>\n",
              "      <td>5.0</td>\n",
              "      <td>5</td>\n",
              "      <td>2010</td>\n",
              "      <td>56</td>\n",
              "      <td>S</td>\n",
              "    </tr>\n",
              "    <tr>\n",
              "      <th>...</th>\n",
              "      <td>...</td>\n",
              "      <td>...</td>\n",
              "      <td>...</td>\n",
              "      <td>...</td>\n",
              "      <td>...</td>\n",
              "      <td>...</td>\n",
              "      <td>...</td>\n",
              "      <td>...</td>\n",
              "      <td>...</td>\n",
              "    </tr>\n",
              "    <tr>\n",
              "      <th>152</th>\n",
              "      <td>20.0</td>\n",
              "      <td>223.0</td>\n",
              "      <td>11.5</td>\n",
              "      <td>68.0</td>\n",
              "      <td>9.0</td>\n",
              "      <td>30</td>\n",
              "      <td>2010</td>\n",
              "      <td>68</td>\n",
              "      <td>S</td>\n",
              "    </tr>\n",
              "    <tr>\n",
              "      <th>153</th>\n",
              "      <td>41.0</td>\n",
              "      <td>190.0</td>\n",
              "      <td>7.4</td>\n",
              "      <td>67.0</td>\n",
              "      <td>5.0</td>\n",
              "      <td>1</td>\n",
              "      <td>2010</td>\n",
              "      <td>67</td>\n",
              "      <td>C</td>\n",
              "    </tr>\n",
              "    <tr>\n",
              "      <th>154</th>\n",
              "      <td>30.0</td>\n",
              "      <td>193.0</td>\n",
              "      <td>6.9</td>\n",
              "      <td>70.0</td>\n",
              "      <td>9.0</td>\n",
              "      <td>26</td>\n",
              "      <td>2010</td>\n",
              "      <td>70</td>\n",
              "      <td>PS</td>\n",
              "    </tr>\n",
              "    <tr>\n",
              "      <th>155</th>\n",
              "      <td>NaN</td>\n",
              "      <td>145.0</td>\n",
              "      <td>13.2</td>\n",
              "      <td>77.0</td>\n",
              "      <td>9.0</td>\n",
              "      <td>27</td>\n",
              "      <td>2010</td>\n",
              "      <td>77</td>\n",
              "      <td>S</td>\n",
              "    </tr>\n",
              "    <tr>\n",
              "      <th>157</th>\n",
              "      <td>18.0</td>\n",
              "      <td>131.0</td>\n",
              "      <td>8.0</td>\n",
              "      <td>76.0</td>\n",
              "      <td>9.0</td>\n",
              "      <td>29</td>\n",
              "      <td>2010</td>\n",
              "      <td>76</td>\n",
              "      <td>C</td>\n",
              "    </tr>\n",
              "  </tbody>\n",
              "</table>\n",
              "<p>157 rows × 9 columns</p>\n",
              "</div>"
            ],
            "text/plain": [
              "     Ozone  Solar.R  Wind  Temp C  Month  Day  Year  Temp Weather\n",
              "0     41.0    190.0   7.4    67.0    5.0    1  2010    67       S\n",
              "1     36.0    118.0   8.0    72.0    5.0    2  2010    72       C\n",
              "2     12.0    149.0  12.6    74.0    5.0    3  2010    74      PS\n",
              "3     18.0    313.0  11.5    62.0    5.0    4  2010    62       S\n",
              "4      NaN      NaN  14.3    56.0    5.0    5  2010    56       S\n",
              "..     ...      ...   ...     ...    ...  ...   ...   ...     ...\n",
              "152   20.0    223.0  11.5    68.0    9.0   30  2010    68       S\n",
              "153   41.0    190.0   7.4    67.0    5.0    1  2010    67       C\n",
              "154   30.0    193.0   6.9    70.0    9.0   26  2010    70      PS\n",
              "155    NaN    145.0  13.2    77.0    9.0   27  2010    77       S\n",
              "157   18.0    131.0   8.0    76.0    9.0   29  2010    76       C\n",
              "\n",
              "[157 rows x 9 columns]"
            ]
          },
          "metadata": {},
          "execution_count": 34
        }
      ]
    },
    {
      "cell_type": "code",
      "metadata": {
        "ExecuteTime": {
          "end_time": "2021-08-29T06:18:35.847930Z",
          "start_time": "2021-08-29T06:18:35.836850Z"
        },
        "hidden": true,
        "id": "ugnfoqAOmWGh"
      },
      "source": [
        "data_cleaned2=data_cleaned1.drop(10,axis=0)\n",
        "data_cleaned2=data_cleaned1.drop(\"Temp C\",axis=1)"
      ],
      "execution_count": 39,
      "outputs": []
    },
    {
      "cell_type": "code",
      "metadata": {
        "ExecuteTime": {
          "end_time": "2021-08-29T06:19:33.670926Z",
          "start_time": "2021-08-29T06:19:33.619111Z"
        },
        "hidden": true,
        "colab": {
          "base_uri": "https://localhost:8080/",
          "height": 421
        },
        "id": "DZ-cmiMHmWGh",
        "outputId": "d2a1753e-ea93-4db0-f23c-ec30107fa5e5"
      },
      "source": [
        "data_cleaned2.head(12)"
      ],
      "execution_count": 40,
      "outputs": [
        {
          "output_type": "execute_result",
          "data": {
            "text/html": [
              "<div>\n",
              "<style scoped>\n",
              "    .dataframe tbody tr th:only-of-type {\n",
              "        vertical-align: middle;\n",
              "    }\n",
              "\n",
              "    .dataframe tbody tr th {\n",
              "        vertical-align: top;\n",
              "    }\n",
              "\n",
              "    .dataframe thead th {\n",
              "        text-align: right;\n",
              "    }\n",
              "</style>\n",
              "<table border=\"1\" class=\"dataframe\">\n",
              "  <thead>\n",
              "    <tr style=\"text-align: right;\">\n",
              "      <th></th>\n",
              "      <th>Ozone</th>\n",
              "      <th>Solar.R</th>\n",
              "      <th>Wind</th>\n",
              "      <th>Month</th>\n",
              "      <th>Day</th>\n",
              "      <th>Year</th>\n",
              "      <th>Temp</th>\n",
              "      <th>Weather</th>\n",
              "    </tr>\n",
              "  </thead>\n",
              "  <tbody>\n",
              "    <tr>\n",
              "      <th>0</th>\n",
              "      <td>41.0</td>\n",
              "      <td>190.0</td>\n",
              "      <td>7.4</td>\n",
              "      <td>5.0</td>\n",
              "      <td>1</td>\n",
              "      <td>2010</td>\n",
              "      <td>67</td>\n",
              "      <td>S</td>\n",
              "    </tr>\n",
              "    <tr>\n",
              "      <th>1</th>\n",
              "      <td>36.0</td>\n",
              "      <td>118.0</td>\n",
              "      <td>8.0</td>\n",
              "      <td>5.0</td>\n",
              "      <td>2</td>\n",
              "      <td>2010</td>\n",
              "      <td>72</td>\n",
              "      <td>C</td>\n",
              "    </tr>\n",
              "    <tr>\n",
              "      <th>2</th>\n",
              "      <td>12.0</td>\n",
              "      <td>149.0</td>\n",
              "      <td>12.6</td>\n",
              "      <td>5.0</td>\n",
              "      <td>3</td>\n",
              "      <td>2010</td>\n",
              "      <td>74</td>\n",
              "      <td>PS</td>\n",
              "    </tr>\n",
              "    <tr>\n",
              "      <th>3</th>\n",
              "      <td>18.0</td>\n",
              "      <td>313.0</td>\n",
              "      <td>11.5</td>\n",
              "      <td>5.0</td>\n",
              "      <td>4</td>\n",
              "      <td>2010</td>\n",
              "      <td>62</td>\n",
              "      <td>S</td>\n",
              "    </tr>\n",
              "    <tr>\n",
              "      <th>4</th>\n",
              "      <td>NaN</td>\n",
              "      <td>NaN</td>\n",
              "      <td>14.3</td>\n",
              "      <td>5.0</td>\n",
              "      <td>5</td>\n",
              "      <td>2010</td>\n",
              "      <td>56</td>\n",
              "      <td>S</td>\n",
              "    </tr>\n",
              "    <tr>\n",
              "      <th>5</th>\n",
              "      <td>28.0</td>\n",
              "      <td>NaN</td>\n",
              "      <td>14.9</td>\n",
              "      <td>5.0</td>\n",
              "      <td>6</td>\n",
              "      <td>2010</td>\n",
              "      <td>66</td>\n",
              "      <td>C</td>\n",
              "    </tr>\n",
              "    <tr>\n",
              "      <th>6</th>\n",
              "      <td>23.0</td>\n",
              "      <td>299.0</td>\n",
              "      <td>8.6</td>\n",
              "      <td>5.0</td>\n",
              "      <td>7</td>\n",
              "      <td>2010</td>\n",
              "      <td>65</td>\n",
              "      <td>PS</td>\n",
              "    </tr>\n",
              "    <tr>\n",
              "      <th>7</th>\n",
              "      <td>19.0</td>\n",
              "      <td>99.0</td>\n",
              "      <td>13.8</td>\n",
              "      <td>5.0</td>\n",
              "      <td>8</td>\n",
              "      <td>2010</td>\n",
              "      <td>59</td>\n",
              "      <td>C</td>\n",
              "    </tr>\n",
              "    <tr>\n",
              "      <th>8</th>\n",
              "      <td>8.0</td>\n",
              "      <td>19.0</td>\n",
              "      <td>20.1</td>\n",
              "      <td>5.0</td>\n",
              "      <td>9</td>\n",
              "      <td>2010</td>\n",
              "      <td>61</td>\n",
              "      <td>PS</td>\n",
              "    </tr>\n",
              "    <tr>\n",
              "      <th>9</th>\n",
              "      <td>NaN</td>\n",
              "      <td>194.0</td>\n",
              "      <td>8.6</td>\n",
              "      <td>5.0</td>\n",
              "      <td>10</td>\n",
              "      <td>2010</td>\n",
              "      <td>69</td>\n",
              "      <td>S</td>\n",
              "    </tr>\n",
              "    <tr>\n",
              "      <th>10</th>\n",
              "      <td>7.0</td>\n",
              "      <td>NaN</td>\n",
              "      <td>6.9</td>\n",
              "      <td>5.0</td>\n",
              "      <td>11</td>\n",
              "      <td>2010</td>\n",
              "      <td>74</td>\n",
              "      <td>C</td>\n",
              "    </tr>\n",
              "    <tr>\n",
              "      <th>11</th>\n",
              "      <td>16.0</td>\n",
              "      <td>256.0</td>\n",
              "      <td>9.7</td>\n",
              "      <td>5.0</td>\n",
              "      <td>12</td>\n",
              "      <td>2010</td>\n",
              "      <td>69</td>\n",
              "      <td>PS</td>\n",
              "    </tr>\n",
              "  </tbody>\n",
              "</table>\n",
              "</div>"
            ],
            "text/plain": [
              "    Ozone  Solar.R  Wind  Month  Day  Year  Temp Weather\n",
              "0    41.0    190.0   7.4    5.0    1  2010    67       S\n",
              "1    36.0    118.0   8.0    5.0    2  2010    72       C\n",
              "2    12.0    149.0  12.6    5.0    3  2010    74      PS\n",
              "3    18.0    313.0  11.5    5.0    4  2010    62       S\n",
              "4     NaN      NaN  14.3    5.0    5  2010    56       S\n",
              "5    28.0      NaN  14.9    5.0    6  2010    66       C\n",
              "6    23.0    299.0   8.6    5.0    7  2010    65      PS\n",
              "7    19.0     99.0  13.8    5.0    8  2010    59       C\n",
              "8     8.0     19.0  20.1    5.0    9  2010    61      PS\n",
              "9     NaN    194.0   8.6    5.0   10  2010    69       S\n",
              "10    7.0      NaN   6.9    5.0   11  2010    74       C\n",
              "11   16.0    256.0   9.7    5.0   12  2010    69      PS"
            ]
          },
          "metadata": {},
          "execution_count": 40
        }
      ]
    },
    {
      "cell_type": "markdown",
      "metadata": {
        "heading_collapsed": true,
        "id": "rzgYnhkZmWGi"
      },
      "source": [
        "# Rename the columns"
      ]
    },
    {
      "cell_type": "code",
      "metadata": {
        "ExecuteTime": {
          "end_time": "2021-08-29T06:19:36.598017Z",
          "start_time": "2021-08-29T06:19:36.569040Z"
        },
        "hidden": true,
        "colab": {
          "base_uri": "https://localhost:8080/",
          "height": 419
        },
        "id": "HzOG7t10mWGi",
        "outputId": "aad7ca1b-4e11-49ad-d7c5-03396192883c"
      },
      "source": [
        "data_cleaned2"
      ],
      "execution_count": 41,
      "outputs": [
        {
          "output_type": "execute_result",
          "data": {
            "text/html": [
              "<div>\n",
              "<style scoped>\n",
              "    .dataframe tbody tr th:only-of-type {\n",
              "        vertical-align: middle;\n",
              "    }\n",
              "\n",
              "    .dataframe tbody tr th {\n",
              "        vertical-align: top;\n",
              "    }\n",
              "\n",
              "    .dataframe thead th {\n",
              "        text-align: right;\n",
              "    }\n",
              "</style>\n",
              "<table border=\"1\" class=\"dataframe\">\n",
              "  <thead>\n",
              "    <tr style=\"text-align: right;\">\n",
              "      <th></th>\n",
              "      <th>Ozone</th>\n",
              "      <th>Solar.R</th>\n",
              "      <th>Wind</th>\n",
              "      <th>Month</th>\n",
              "      <th>Day</th>\n",
              "      <th>Year</th>\n",
              "      <th>Temp</th>\n",
              "      <th>Weather</th>\n",
              "    </tr>\n",
              "  </thead>\n",
              "  <tbody>\n",
              "    <tr>\n",
              "      <th>0</th>\n",
              "      <td>41.0</td>\n",
              "      <td>190.0</td>\n",
              "      <td>7.4</td>\n",
              "      <td>5.0</td>\n",
              "      <td>1</td>\n",
              "      <td>2010</td>\n",
              "      <td>67</td>\n",
              "      <td>S</td>\n",
              "    </tr>\n",
              "    <tr>\n",
              "      <th>1</th>\n",
              "      <td>36.0</td>\n",
              "      <td>118.0</td>\n",
              "      <td>8.0</td>\n",
              "      <td>5.0</td>\n",
              "      <td>2</td>\n",
              "      <td>2010</td>\n",
              "      <td>72</td>\n",
              "      <td>C</td>\n",
              "    </tr>\n",
              "    <tr>\n",
              "      <th>2</th>\n",
              "      <td>12.0</td>\n",
              "      <td>149.0</td>\n",
              "      <td>12.6</td>\n",
              "      <td>5.0</td>\n",
              "      <td>3</td>\n",
              "      <td>2010</td>\n",
              "      <td>74</td>\n",
              "      <td>PS</td>\n",
              "    </tr>\n",
              "    <tr>\n",
              "      <th>3</th>\n",
              "      <td>18.0</td>\n",
              "      <td>313.0</td>\n",
              "      <td>11.5</td>\n",
              "      <td>5.0</td>\n",
              "      <td>4</td>\n",
              "      <td>2010</td>\n",
              "      <td>62</td>\n",
              "      <td>S</td>\n",
              "    </tr>\n",
              "    <tr>\n",
              "      <th>4</th>\n",
              "      <td>NaN</td>\n",
              "      <td>NaN</td>\n",
              "      <td>14.3</td>\n",
              "      <td>5.0</td>\n",
              "      <td>5</td>\n",
              "      <td>2010</td>\n",
              "      <td>56</td>\n",
              "      <td>S</td>\n",
              "    </tr>\n",
              "    <tr>\n",
              "      <th>...</th>\n",
              "      <td>...</td>\n",
              "      <td>...</td>\n",
              "      <td>...</td>\n",
              "      <td>...</td>\n",
              "      <td>...</td>\n",
              "      <td>...</td>\n",
              "      <td>...</td>\n",
              "      <td>...</td>\n",
              "    </tr>\n",
              "    <tr>\n",
              "      <th>152</th>\n",
              "      <td>20.0</td>\n",
              "      <td>223.0</td>\n",
              "      <td>11.5</td>\n",
              "      <td>9.0</td>\n",
              "      <td>30</td>\n",
              "      <td>2010</td>\n",
              "      <td>68</td>\n",
              "      <td>S</td>\n",
              "    </tr>\n",
              "    <tr>\n",
              "      <th>153</th>\n",
              "      <td>41.0</td>\n",
              "      <td>190.0</td>\n",
              "      <td>7.4</td>\n",
              "      <td>5.0</td>\n",
              "      <td>1</td>\n",
              "      <td>2010</td>\n",
              "      <td>67</td>\n",
              "      <td>C</td>\n",
              "    </tr>\n",
              "    <tr>\n",
              "      <th>154</th>\n",
              "      <td>30.0</td>\n",
              "      <td>193.0</td>\n",
              "      <td>6.9</td>\n",
              "      <td>9.0</td>\n",
              "      <td>26</td>\n",
              "      <td>2010</td>\n",
              "      <td>70</td>\n",
              "      <td>PS</td>\n",
              "    </tr>\n",
              "    <tr>\n",
              "      <th>155</th>\n",
              "      <td>NaN</td>\n",
              "      <td>145.0</td>\n",
              "      <td>13.2</td>\n",
              "      <td>9.0</td>\n",
              "      <td>27</td>\n",
              "      <td>2010</td>\n",
              "      <td>77</td>\n",
              "      <td>S</td>\n",
              "    </tr>\n",
              "    <tr>\n",
              "      <th>157</th>\n",
              "      <td>18.0</td>\n",
              "      <td>131.0</td>\n",
              "      <td>8.0</td>\n",
              "      <td>9.0</td>\n",
              "      <td>29</td>\n",
              "      <td>2010</td>\n",
              "      <td>76</td>\n",
              "      <td>C</td>\n",
              "    </tr>\n",
              "  </tbody>\n",
              "</table>\n",
              "<p>157 rows × 8 columns</p>\n",
              "</div>"
            ],
            "text/plain": [
              "     Ozone  Solar.R  Wind  Month  Day  Year  Temp Weather\n",
              "0     41.0    190.0   7.4    5.0    1  2010    67       S\n",
              "1     36.0    118.0   8.0    5.0    2  2010    72       C\n",
              "2     12.0    149.0  12.6    5.0    3  2010    74      PS\n",
              "3     18.0    313.0  11.5    5.0    4  2010    62       S\n",
              "4      NaN      NaN  14.3    5.0    5  2010    56       S\n",
              "..     ...      ...   ...    ...  ...   ...   ...     ...\n",
              "152   20.0    223.0  11.5    9.0   30  2010    68       S\n",
              "153   41.0    190.0   7.4    5.0    1  2010    67       C\n",
              "154   30.0    193.0   6.9    9.0   26  2010    70      PS\n",
              "155    NaN    145.0  13.2    9.0   27  2010    77       S\n",
              "157   18.0    131.0   8.0    9.0   29  2010    76       C\n",
              "\n",
              "[157 rows x 8 columns]"
            ]
          },
          "metadata": {},
          "execution_count": 41
        }
      ]
    },
    {
      "cell_type": "code",
      "metadata": {
        "ExecuteTime": {
          "end_time": "2021-08-29T06:20:55.247109Z",
          "start_time": "2021-08-29T06:20:55.229243Z"
        },
        "hidden": true,
        "id": "zo2nz_MVmWGi"
      },
      "source": [
        "#rename the Solar column\n",
        "data_cleaned3 = data_cleaned2.rename({'Solar.R': 'Solar'}, axis=1)"
      ],
      "execution_count": 42,
      "outputs": []
    },
    {
      "cell_type": "code",
      "metadata": {
        "ExecuteTime": {
          "end_time": "2021-08-29T06:20:55.571920Z",
          "start_time": "2021-08-29T06:20:55.540954Z"
        },
        "hidden": true,
        "colab": {
          "base_uri": "https://localhost:8080/",
          "height": 421
        },
        "id": "tPTVoRrSmWGi",
        "outputId": "e8758128-8185-449d-e268-626de5396c87"
      },
      "source": [
        "data_cleaned3.head(12)"
      ],
      "execution_count": 43,
      "outputs": [
        {
          "output_type": "execute_result",
          "data": {
            "text/html": [
              "<div>\n",
              "<style scoped>\n",
              "    .dataframe tbody tr th:only-of-type {\n",
              "        vertical-align: middle;\n",
              "    }\n",
              "\n",
              "    .dataframe tbody tr th {\n",
              "        vertical-align: top;\n",
              "    }\n",
              "\n",
              "    .dataframe thead th {\n",
              "        text-align: right;\n",
              "    }\n",
              "</style>\n",
              "<table border=\"1\" class=\"dataframe\">\n",
              "  <thead>\n",
              "    <tr style=\"text-align: right;\">\n",
              "      <th></th>\n",
              "      <th>Ozone</th>\n",
              "      <th>Solar</th>\n",
              "      <th>Wind</th>\n",
              "      <th>Month</th>\n",
              "      <th>Day</th>\n",
              "      <th>Year</th>\n",
              "      <th>Temp</th>\n",
              "      <th>Weather</th>\n",
              "    </tr>\n",
              "  </thead>\n",
              "  <tbody>\n",
              "    <tr>\n",
              "      <th>0</th>\n",
              "      <td>41.0</td>\n",
              "      <td>190.0</td>\n",
              "      <td>7.4</td>\n",
              "      <td>5.0</td>\n",
              "      <td>1</td>\n",
              "      <td>2010</td>\n",
              "      <td>67</td>\n",
              "      <td>S</td>\n",
              "    </tr>\n",
              "    <tr>\n",
              "      <th>1</th>\n",
              "      <td>36.0</td>\n",
              "      <td>118.0</td>\n",
              "      <td>8.0</td>\n",
              "      <td>5.0</td>\n",
              "      <td>2</td>\n",
              "      <td>2010</td>\n",
              "      <td>72</td>\n",
              "      <td>C</td>\n",
              "    </tr>\n",
              "    <tr>\n",
              "      <th>2</th>\n",
              "      <td>12.0</td>\n",
              "      <td>149.0</td>\n",
              "      <td>12.6</td>\n",
              "      <td>5.0</td>\n",
              "      <td>3</td>\n",
              "      <td>2010</td>\n",
              "      <td>74</td>\n",
              "      <td>PS</td>\n",
              "    </tr>\n",
              "    <tr>\n",
              "      <th>3</th>\n",
              "      <td>18.0</td>\n",
              "      <td>313.0</td>\n",
              "      <td>11.5</td>\n",
              "      <td>5.0</td>\n",
              "      <td>4</td>\n",
              "      <td>2010</td>\n",
              "      <td>62</td>\n",
              "      <td>S</td>\n",
              "    </tr>\n",
              "    <tr>\n",
              "      <th>4</th>\n",
              "      <td>NaN</td>\n",
              "      <td>NaN</td>\n",
              "      <td>14.3</td>\n",
              "      <td>5.0</td>\n",
              "      <td>5</td>\n",
              "      <td>2010</td>\n",
              "      <td>56</td>\n",
              "      <td>S</td>\n",
              "    </tr>\n",
              "    <tr>\n",
              "      <th>5</th>\n",
              "      <td>28.0</td>\n",
              "      <td>NaN</td>\n",
              "      <td>14.9</td>\n",
              "      <td>5.0</td>\n",
              "      <td>6</td>\n",
              "      <td>2010</td>\n",
              "      <td>66</td>\n",
              "      <td>C</td>\n",
              "    </tr>\n",
              "    <tr>\n",
              "      <th>6</th>\n",
              "      <td>23.0</td>\n",
              "      <td>299.0</td>\n",
              "      <td>8.6</td>\n",
              "      <td>5.0</td>\n",
              "      <td>7</td>\n",
              "      <td>2010</td>\n",
              "      <td>65</td>\n",
              "      <td>PS</td>\n",
              "    </tr>\n",
              "    <tr>\n",
              "      <th>7</th>\n",
              "      <td>19.0</td>\n",
              "      <td>99.0</td>\n",
              "      <td>13.8</td>\n",
              "      <td>5.0</td>\n",
              "      <td>8</td>\n",
              "      <td>2010</td>\n",
              "      <td>59</td>\n",
              "      <td>C</td>\n",
              "    </tr>\n",
              "    <tr>\n",
              "      <th>8</th>\n",
              "      <td>8.0</td>\n",
              "      <td>19.0</td>\n",
              "      <td>20.1</td>\n",
              "      <td>5.0</td>\n",
              "      <td>9</td>\n",
              "      <td>2010</td>\n",
              "      <td>61</td>\n",
              "      <td>PS</td>\n",
              "    </tr>\n",
              "    <tr>\n",
              "      <th>9</th>\n",
              "      <td>NaN</td>\n",
              "      <td>194.0</td>\n",
              "      <td>8.6</td>\n",
              "      <td>5.0</td>\n",
              "      <td>10</td>\n",
              "      <td>2010</td>\n",
              "      <td>69</td>\n",
              "      <td>S</td>\n",
              "    </tr>\n",
              "    <tr>\n",
              "      <th>10</th>\n",
              "      <td>7.0</td>\n",
              "      <td>NaN</td>\n",
              "      <td>6.9</td>\n",
              "      <td>5.0</td>\n",
              "      <td>11</td>\n",
              "      <td>2010</td>\n",
              "      <td>74</td>\n",
              "      <td>C</td>\n",
              "    </tr>\n",
              "    <tr>\n",
              "      <th>11</th>\n",
              "      <td>16.0</td>\n",
              "      <td>256.0</td>\n",
              "      <td>9.7</td>\n",
              "      <td>5.0</td>\n",
              "      <td>12</td>\n",
              "      <td>2010</td>\n",
              "      <td>69</td>\n",
              "      <td>PS</td>\n",
              "    </tr>\n",
              "  </tbody>\n",
              "</table>\n",
              "</div>"
            ],
            "text/plain": [
              "    Ozone  Solar  Wind  Month  Day  Year  Temp Weather\n",
              "0    41.0  190.0   7.4    5.0    1  2010    67       S\n",
              "1    36.0  118.0   8.0    5.0    2  2010    72       C\n",
              "2    12.0  149.0  12.6    5.0    3  2010    74      PS\n",
              "3    18.0  313.0  11.5    5.0    4  2010    62       S\n",
              "4     NaN    NaN  14.3    5.0    5  2010    56       S\n",
              "5    28.0    NaN  14.9    5.0    6  2010    66       C\n",
              "6    23.0  299.0   8.6    5.0    7  2010    65      PS\n",
              "7    19.0   99.0  13.8    5.0    8  2010    59       C\n",
              "8     8.0   19.0  20.1    5.0    9  2010    61      PS\n",
              "9     NaN  194.0   8.6    5.0   10  2010    69       S\n",
              "10    7.0    NaN   6.9    5.0   11  2010    74       C\n",
              "11   16.0  256.0   9.7    5.0   12  2010    69      PS"
            ]
          },
          "metadata": {},
          "execution_count": 43
        }
      ]
    },
    {
      "cell_type": "markdown",
      "metadata": {
        "heading_collapsed": true,
        "id": "Wtrdp7plmWGi"
      },
      "source": [
        "# Outlier Detection"
      ]
    },
    {
      "cell_type": "code",
      "metadata": {
        "id": "lIsTbw5gtYKS"
      },
      "source": [
        "import matplotlib.pyplot as plt"
      ],
      "execution_count": 56,
      "outputs": []
    },
    {
      "cell_type": "code",
      "metadata": {
        "ExecuteTime": {
          "end_time": "2021-08-29T06:21:59.566888Z",
          "start_time": "2021-08-29T06:21:59.278845Z"
        },
        "hidden": true,
        "colab": {
          "base_uri": "https://localhost:8080/"
        },
        "id": "F6_T2rgVmWGi",
        "outputId": "4fe8d178-c758-4653-8877-f509d9e57c5c"
      },
      "source": [
        "# histogram of Ozone\n",
        "data_cleaned3['Ozone'].hist()"
      ],
      "execution_count": 129,
      "outputs": [
        {
          "output_type": "execute_result",
          "data": {
            "text/plain": [
              "<matplotlib.axes._subplots.AxesSubplot at 0x7fb231bab950>"
            ]
          },
          "metadata": {},
          "execution_count": 129
        }
      ]
    },
    {
      "cell_type": "code",
      "metadata": {
        "ExecuteTime": {
          "end_time": "2021-08-29T06:22:06.795797Z",
          "start_time": "2021-08-29T06:22:06.571615Z"
        },
        "hidden": true,
        "colab": {
          "base_uri": "https://localhost:8080/"
        },
        "id": "DrUjh8s1mWGi",
        "outputId": "9250190c-381a-49bc-af5f-998e7cc66569"
      },
      "source": [
        "#Box plot\n",
        "data_cleaned3.boxplot(column=['Ozone'])"
      ],
      "execution_count": 105,
      "outputs": [
        {
          "output_type": "execute_result",
          "data": {
            "text/plain": [
              "<matplotlib.axes._subplots.AxesSubplot at 0x7fb231bab950>"
            ]
          },
          "metadata": {},
          "execution_count": 105
        }
      ]
    },
    {
      "cell_type": "code",
      "metadata": {
        "ExecuteTime": {
          "end_time": "2021-08-07T11:51:08.244382Z",
          "start_time": "2021-08-07T11:51:08.169398Z"
        },
        "hidden": true,
        "colab": {
          "base_uri": "https://localhost:8080/"
        },
        "id": "AVPhx6qimWGi",
        "outputId": "85e904fa-2de8-4f95-d545-e6bf6a16a359"
      },
      "source": [
        "#Descriptive stat\n",
        "data_cleaned3['Ozone'].describe()"
      ],
      "execution_count": 59,
      "outputs": [
        {
          "output_type": "execute_result",
          "data": {
            "text/plain": [
              "count    119.000000\n",
              "mean      41.815126\n",
              "std       32.659249\n",
              "min        1.000000\n",
              "25%       18.000000\n",
              "50%       31.000000\n",
              "75%       62.000000\n",
              "max      168.000000\n",
              "Name: Ozone, dtype: float64"
            ]
          },
          "metadata": {},
          "execution_count": 59
        }
      ]
    },
    {
      "cell_type": "code",
      "metadata": {
        "ExecuteTime": {
          "end_time": "2021-08-29T06:24:15.392337Z",
          "start_time": "2021-08-29T06:24:15.329590Z"
        },
        "hidden": true,
        "colab": {
          "base_uri": "https://localhost:8080/",
          "height": 419
        },
        "id": "pVvg4AWAmWGi",
        "outputId": "bfaa316c-2c7c-4753-96ba-e7602240d7d2"
      },
      "source": [
        "data_cleaned3"
      ],
      "execution_count": 58,
      "outputs": [
        {
          "output_type": "execute_result",
          "data": {
            "text/html": [
              "<div>\n",
              "<style scoped>\n",
              "    .dataframe tbody tr th:only-of-type {\n",
              "        vertical-align: middle;\n",
              "    }\n",
              "\n",
              "    .dataframe tbody tr th {\n",
              "        vertical-align: top;\n",
              "    }\n",
              "\n",
              "    .dataframe thead th {\n",
              "        text-align: right;\n",
              "    }\n",
              "</style>\n",
              "<table border=\"1\" class=\"dataframe\">\n",
              "  <thead>\n",
              "    <tr style=\"text-align: right;\">\n",
              "      <th></th>\n",
              "      <th>Ozone</th>\n",
              "      <th>Solar</th>\n",
              "      <th>Wind</th>\n",
              "      <th>Month</th>\n",
              "      <th>Day</th>\n",
              "      <th>Year</th>\n",
              "      <th>Temp</th>\n",
              "      <th>Weather</th>\n",
              "    </tr>\n",
              "  </thead>\n",
              "  <tbody>\n",
              "    <tr>\n",
              "      <th>0</th>\n",
              "      <td>41.0</td>\n",
              "      <td>190.0</td>\n",
              "      <td>7.4</td>\n",
              "      <td>5.0</td>\n",
              "      <td>1</td>\n",
              "      <td>2010</td>\n",
              "      <td>67</td>\n",
              "      <td>S</td>\n",
              "    </tr>\n",
              "    <tr>\n",
              "      <th>1</th>\n",
              "      <td>36.0</td>\n",
              "      <td>118.0</td>\n",
              "      <td>8.0</td>\n",
              "      <td>5.0</td>\n",
              "      <td>2</td>\n",
              "      <td>2010</td>\n",
              "      <td>72</td>\n",
              "      <td>C</td>\n",
              "    </tr>\n",
              "    <tr>\n",
              "      <th>2</th>\n",
              "      <td>12.0</td>\n",
              "      <td>149.0</td>\n",
              "      <td>12.6</td>\n",
              "      <td>5.0</td>\n",
              "      <td>3</td>\n",
              "      <td>2010</td>\n",
              "      <td>74</td>\n",
              "      <td>PS</td>\n",
              "    </tr>\n",
              "    <tr>\n",
              "      <th>3</th>\n",
              "      <td>18.0</td>\n",
              "      <td>313.0</td>\n",
              "      <td>11.5</td>\n",
              "      <td>5.0</td>\n",
              "      <td>4</td>\n",
              "      <td>2010</td>\n",
              "      <td>62</td>\n",
              "      <td>S</td>\n",
              "    </tr>\n",
              "    <tr>\n",
              "      <th>4</th>\n",
              "      <td>NaN</td>\n",
              "      <td>NaN</td>\n",
              "      <td>14.3</td>\n",
              "      <td>5.0</td>\n",
              "      <td>5</td>\n",
              "      <td>2010</td>\n",
              "      <td>56</td>\n",
              "      <td>S</td>\n",
              "    </tr>\n",
              "    <tr>\n",
              "      <th>...</th>\n",
              "      <td>...</td>\n",
              "      <td>...</td>\n",
              "      <td>...</td>\n",
              "      <td>...</td>\n",
              "      <td>...</td>\n",
              "      <td>...</td>\n",
              "      <td>...</td>\n",
              "      <td>...</td>\n",
              "    </tr>\n",
              "    <tr>\n",
              "      <th>152</th>\n",
              "      <td>20.0</td>\n",
              "      <td>223.0</td>\n",
              "      <td>11.5</td>\n",
              "      <td>9.0</td>\n",
              "      <td>30</td>\n",
              "      <td>2010</td>\n",
              "      <td>68</td>\n",
              "      <td>S</td>\n",
              "    </tr>\n",
              "    <tr>\n",
              "      <th>153</th>\n",
              "      <td>41.0</td>\n",
              "      <td>190.0</td>\n",
              "      <td>7.4</td>\n",
              "      <td>5.0</td>\n",
              "      <td>1</td>\n",
              "      <td>2010</td>\n",
              "      <td>67</td>\n",
              "      <td>C</td>\n",
              "    </tr>\n",
              "    <tr>\n",
              "      <th>154</th>\n",
              "      <td>30.0</td>\n",
              "      <td>193.0</td>\n",
              "      <td>6.9</td>\n",
              "      <td>9.0</td>\n",
              "      <td>26</td>\n",
              "      <td>2010</td>\n",
              "      <td>70</td>\n",
              "      <td>PS</td>\n",
              "    </tr>\n",
              "    <tr>\n",
              "      <th>155</th>\n",
              "      <td>NaN</td>\n",
              "      <td>145.0</td>\n",
              "      <td>13.2</td>\n",
              "      <td>9.0</td>\n",
              "      <td>27</td>\n",
              "      <td>2010</td>\n",
              "      <td>77</td>\n",
              "      <td>S</td>\n",
              "    </tr>\n",
              "    <tr>\n",
              "      <th>157</th>\n",
              "      <td>18.0</td>\n",
              "      <td>131.0</td>\n",
              "      <td>8.0</td>\n",
              "      <td>9.0</td>\n",
              "      <td>29</td>\n",
              "      <td>2010</td>\n",
              "      <td>76</td>\n",
              "      <td>C</td>\n",
              "    </tr>\n",
              "  </tbody>\n",
              "</table>\n",
              "<p>157 rows × 8 columns</p>\n",
              "</div>"
            ],
            "text/plain": [
              "     Ozone  Solar  Wind  Month  Day  Year  Temp Weather\n",
              "0     41.0  190.0   7.4    5.0    1  2010    67       S\n",
              "1     36.0  118.0   8.0    5.0    2  2010    72       C\n",
              "2     12.0  149.0  12.6    5.0    3  2010    74      PS\n",
              "3     18.0  313.0  11.5    5.0    4  2010    62       S\n",
              "4      NaN    NaN  14.3    5.0    5  2010    56       S\n",
              "..     ...    ...   ...    ...  ...   ...   ...     ...\n",
              "152   20.0  223.0  11.5    9.0   30  2010    68       S\n",
              "153   41.0  190.0   7.4    5.0    1  2010    67       C\n",
              "154   30.0  193.0   6.9    9.0   26  2010    70      PS\n",
              "155    NaN  145.0  13.2    9.0   27  2010    77       S\n",
              "157   18.0  131.0   8.0    9.0   29  2010    76       C\n",
              "\n",
              "[157 rows x 8 columns]"
            ]
          },
          "metadata": {},
          "execution_count": 58
        }
      ]
    },
    {
      "cell_type": "code",
      "metadata": {
        "ExecuteTime": {
          "end_time": "2021-08-29T06:24:16.197248Z",
          "start_time": "2021-08-29T06:24:15.999793Z"
        },
        "hidden": true,
        "colab": {
          "base_uri": "https://localhost:8080/"
        },
        "id": "mvwrfS3UmWGi",
        "outputId": "730d28e4-152f-4fec-a97a-db8b8796f743"
      },
      "source": [
        "#Bar plot\n",
        "data['Weather'].value_counts().plot.bar()"
      ],
      "execution_count": 60,
      "outputs": [
        {
          "output_type": "execute_result",
          "data": {
            "text/plain": [
              "<matplotlib.axes._subplots.AxesSubplot at 0x7fb23b56cf90>"
            ]
          },
          "metadata": {},
          "execution_count": 60
        }
      ]
    },
    {
      "cell_type": "markdown",
      "metadata": {
        "id": "x-Bb8u_SmWGi"
      },
      "source": [
        "# Missing Values and Imputation"
      ]
    },
    {
      "cell_type": "code",
      "metadata": {
        "ExecuteTime": {
          "end_time": "2021-08-07T11:56:06.971761Z",
          "start_time": "2021-08-07T11:56:05.798414Z"
        },
        "colab": {
          "base_uri": "https://localhost:8080/"
        },
        "id": "daIyFuslmWGi",
        "outputId": "2cd82b04-1f0f-489b-fe42-8666ab333b0a"
      },
      "source": [
        "import seaborn as sns\n",
        "cols = data_cleaned3.columns \n",
        "colours = ['#000099', '#ffff00'] # specify the colours - yellow is missing. blue is not missing.\n",
        "sns.heatmap(data_cleaned3[cols].isnull(),\n",
        "            cmap=sns.color_palette(colours))"
      ],
      "execution_count": 66,
      "outputs": [
        {
          "output_type": "execute_result",
          "data": {
            "text/plain": [
              "<matplotlib.axes._subplots.AxesSubplot at 0x7fb23b56cf90>"
            ]
          },
          "metadata": {},
          "execution_count": 66
        }
      ]
    },
    {
      "cell_type": "code",
      "metadata": {
        "ExecuteTime": {
          "end_time": "2021-08-07T11:56:07.635726Z",
          "start_time": "2021-08-07T11:56:07.559362Z"
        },
        "colab": {
          "base_uri": "https://localhost:8080/"
        },
        "id": "U0Fp2Q2TmWGj",
        "outputId": "eb84d08e-a99d-43d6-fe5a-1ba6080e58c0"
      },
      "source": [
        "data_cleaned3.isnull().any(axis=1)"
      ],
      "execution_count": 67,
      "outputs": [
        {
          "output_type": "execute_result",
          "data": {
            "text/plain": [
              "0      False\n",
              "1      False\n",
              "2      False\n",
              "3      False\n",
              "4       True\n",
              "       ...  \n",
              "152    False\n",
              "153    False\n",
              "154    False\n",
              "155     True\n",
              "157    False\n",
              "Length: 157, dtype: bool"
            ]
          },
          "metadata": {},
          "execution_count": 67
        }
      ]
    },
    {
      "cell_type": "code",
      "metadata": {
        "ExecuteTime": {
          "end_time": "2021-08-07T11:56:08.629800Z",
          "start_time": "2021-08-07T11:56:08.451674Z"
        },
        "scrolled": true,
        "colab": {
          "base_uri": "https://localhost:8080/",
          "height": 1000
        },
        "id": "S2gmbdVLmWGj",
        "outputId": "d274cfec-2229-4867-a6b0-f49434235e1c"
      },
      "source": [
        "data_cleaned3[data_cleaned3.isnull().any(axis=1)]"
      ],
      "execution_count": 68,
      "outputs": [
        {
          "output_type": "execute_result",
          "data": {
            "text/html": [
              "<div>\n",
              "<style scoped>\n",
              "    .dataframe tbody tr th:only-of-type {\n",
              "        vertical-align: middle;\n",
              "    }\n",
              "\n",
              "    .dataframe tbody tr th {\n",
              "        vertical-align: top;\n",
              "    }\n",
              "\n",
              "    .dataframe thead th {\n",
              "        text-align: right;\n",
              "    }\n",
              "</style>\n",
              "<table border=\"1\" class=\"dataframe\">\n",
              "  <thead>\n",
              "    <tr style=\"text-align: right;\">\n",
              "      <th></th>\n",
              "      <th>Ozone</th>\n",
              "      <th>Solar</th>\n",
              "      <th>Wind</th>\n",
              "      <th>Month</th>\n",
              "      <th>Day</th>\n",
              "      <th>Year</th>\n",
              "      <th>Temp</th>\n",
              "      <th>Weather</th>\n",
              "    </tr>\n",
              "  </thead>\n",
              "  <tbody>\n",
              "    <tr>\n",
              "      <th>4</th>\n",
              "      <td>NaN</td>\n",
              "      <td>NaN</td>\n",
              "      <td>14.3</td>\n",
              "      <td>5.0</td>\n",
              "      <td>5</td>\n",
              "      <td>2010</td>\n",
              "      <td>56</td>\n",
              "      <td>S</td>\n",
              "    </tr>\n",
              "    <tr>\n",
              "      <th>5</th>\n",
              "      <td>28.0</td>\n",
              "      <td>NaN</td>\n",
              "      <td>14.9</td>\n",
              "      <td>5.0</td>\n",
              "      <td>6</td>\n",
              "      <td>2010</td>\n",
              "      <td>66</td>\n",
              "      <td>C</td>\n",
              "    </tr>\n",
              "    <tr>\n",
              "      <th>9</th>\n",
              "      <td>NaN</td>\n",
              "      <td>194.0</td>\n",
              "      <td>8.6</td>\n",
              "      <td>5.0</td>\n",
              "      <td>10</td>\n",
              "      <td>2010</td>\n",
              "      <td>69</td>\n",
              "      <td>S</td>\n",
              "    </tr>\n",
              "    <tr>\n",
              "      <th>10</th>\n",
              "      <td>7.0</td>\n",
              "      <td>NaN</td>\n",
              "      <td>6.9</td>\n",
              "      <td>5.0</td>\n",
              "      <td>11</td>\n",
              "      <td>2010</td>\n",
              "      <td>74</td>\n",
              "      <td>C</td>\n",
              "    </tr>\n",
              "    <tr>\n",
              "      <th>23</th>\n",
              "      <td>32.0</td>\n",
              "      <td>92.0</td>\n",
              "      <td>12.0</td>\n",
              "      <td>NaN</td>\n",
              "      <td>24</td>\n",
              "      <td>2010</td>\n",
              "      <td>61</td>\n",
              "      <td>C</td>\n",
              "    </tr>\n",
              "    <tr>\n",
              "      <th>24</th>\n",
              "      <td>NaN</td>\n",
              "      <td>66.0</td>\n",
              "      <td>16.6</td>\n",
              "      <td>5.0</td>\n",
              "      <td>25</td>\n",
              "      <td>2010</td>\n",
              "      <td>57</td>\n",
              "      <td>PS</td>\n",
              "    </tr>\n",
              "    <tr>\n",
              "      <th>25</th>\n",
              "      <td>NaN</td>\n",
              "      <td>266.0</td>\n",
              "      <td>14.9</td>\n",
              "      <td>5.0</td>\n",
              "      <td>26</td>\n",
              "      <td>2010</td>\n",
              "      <td>58</td>\n",
              "      <td>C</td>\n",
              "    </tr>\n",
              "    <tr>\n",
              "      <th>26</th>\n",
              "      <td>NaN</td>\n",
              "      <td>NaN</td>\n",
              "      <td>8.0</td>\n",
              "      <td>5.0</td>\n",
              "      <td>27</td>\n",
              "      <td>2010</td>\n",
              "      <td>57</td>\n",
              "      <td>PS</td>\n",
              "    </tr>\n",
              "    <tr>\n",
              "      <th>31</th>\n",
              "      <td>NaN</td>\n",
              "      <td>286.0</td>\n",
              "      <td>8.6</td>\n",
              "      <td>6.0</td>\n",
              "      <td>1</td>\n",
              "      <td>2010</td>\n",
              "      <td>78</td>\n",
              "      <td>S</td>\n",
              "    </tr>\n",
              "    <tr>\n",
              "      <th>32</th>\n",
              "      <td>NaN</td>\n",
              "      <td>287.0</td>\n",
              "      <td>9.7</td>\n",
              "      <td>6.0</td>\n",
              "      <td>2</td>\n",
              "      <td>2010</td>\n",
              "      <td>74</td>\n",
              "      <td>C</td>\n",
              "    </tr>\n",
              "    <tr>\n",
              "      <th>33</th>\n",
              "      <td>NaN</td>\n",
              "      <td>242.0</td>\n",
              "      <td>16.1</td>\n",
              "      <td>6.0</td>\n",
              "      <td>3</td>\n",
              "      <td>2010</td>\n",
              "      <td>67</td>\n",
              "      <td>PS</td>\n",
              "    </tr>\n",
              "    <tr>\n",
              "      <th>34</th>\n",
              "      <td>NaN</td>\n",
              "      <td>186.0</td>\n",
              "      <td>9.2</td>\n",
              "      <td>6.0</td>\n",
              "      <td>4</td>\n",
              "      <td>2010</td>\n",
              "      <td>84</td>\n",
              "      <td>C</td>\n",
              "    </tr>\n",
              "    <tr>\n",
              "      <th>35</th>\n",
              "      <td>NaN</td>\n",
              "      <td>220.0</td>\n",
              "      <td>8.6</td>\n",
              "      <td>6.0</td>\n",
              "      <td>5</td>\n",
              "      <td>2010</td>\n",
              "      <td>85</td>\n",
              "      <td>PS</td>\n",
              "    </tr>\n",
              "    <tr>\n",
              "      <th>36</th>\n",
              "      <td>NaN</td>\n",
              "      <td>264.0</td>\n",
              "      <td>14.3</td>\n",
              "      <td>6.0</td>\n",
              "      <td>6</td>\n",
              "      <td>2010</td>\n",
              "      <td>79</td>\n",
              "      <td>C</td>\n",
              "    </tr>\n",
              "    <tr>\n",
              "      <th>38</th>\n",
              "      <td>NaN</td>\n",
              "      <td>273.0</td>\n",
              "      <td>6.9</td>\n",
              "      <td>6.0</td>\n",
              "      <td>8</td>\n",
              "      <td>2010</td>\n",
              "      <td>87</td>\n",
              "      <td>S</td>\n",
              "    </tr>\n",
              "    <tr>\n",
              "      <th>41</th>\n",
              "      <td>NaN</td>\n",
              "      <td>259.0</td>\n",
              "      <td>10.9</td>\n",
              "      <td>6.0</td>\n",
              "      <td>11</td>\n",
              "      <td>2010</td>\n",
              "      <td>93</td>\n",
              "      <td>C</td>\n",
              "    </tr>\n",
              "    <tr>\n",
              "      <th>42</th>\n",
              "      <td>NaN</td>\n",
              "      <td>250.0</td>\n",
              "      <td>9.2</td>\n",
              "      <td>6.0</td>\n",
              "      <td>12</td>\n",
              "      <td>2010</td>\n",
              "      <td>92</td>\n",
              "      <td>PS</td>\n",
              "    </tr>\n",
              "    <tr>\n",
              "      <th>44</th>\n",
              "      <td>NaN</td>\n",
              "      <td>332.0</td>\n",
              "      <td>13.8</td>\n",
              "      <td>6.0</td>\n",
              "      <td>14</td>\n",
              "      <td>2010</td>\n",
              "      <td>80</td>\n",
              "      <td>S</td>\n",
              "    </tr>\n",
              "    <tr>\n",
              "      <th>45</th>\n",
              "      <td>NaN</td>\n",
              "      <td>322.0</td>\n",
              "      <td>11.5</td>\n",
              "      <td>6.0</td>\n",
              "      <td>15</td>\n",
              "      <td>2010</td>\n",
              "      <td>79</td>\n",
              "      <td>C</td>\n",
              "    </tr>\n",
              "    <tr>\n",
              "      <th>51</th>\n",
              "      <td>NaN</td>\n",
              "      <td>150.0</td>\n",
              "      <td>6.3</td>\n",
              "      <td>6.0</td>\n",
              "      <td>21</td>\n",
              "      <td>2010</td>\n",
              "      <td>77</td>\n",
              "      <td>S</td>\n",
              "    </tr>\n",
              "    <tr>\n",
              "      <th>52</th>\n",
              "      <td>NaN</td>\n",
              "      <td>59.0</td>\n",
              "      <td>1.7</td>\n",
              "      <td>6.0</td>\n",
              "      <td>22</td>\n",
              "      <td>2010</td>\n",
              "      <td>76</td>\n",
              "      <td>C</td>\n",
              "    </tr>\n",
              "    <tr>\n",
              "      <th>53</th>\n",
              "      <td>NaN</td>\n",
              "      <td>91.0</td>\n",
              "      <td>4.6</td>\n",
              "      <td>6.0</td>\n",
              "      <td>23</td>\n",
              "      <td>2010</td>\n",
              "      <td>76</td>\n",
              "      <td>PS</td>\n",
              "    </tr>\n",
              "    <tr>\n",
              "      <th>54</th>\n",
              "      <td>NaN</td>\n",
              "      <td>250.0</td>\n",
              "      <td>6.3</td>\n",
              "      <td>6.0</td>\n",
              "      <td>24</td>\n",
              "      <td>2010</td>\n",
              "      <td>76</td>\n",
              "      <td>S</td>\n",
              "    </tr>\n",
              "    <tr>\n",
              "      <th>55</th>\n",
              "      <td>NaN</td>\n",
              "      <td>135.0</td>\n",
              "      <td>8.0</td>\n",
              "      <td>6.0</td>\n",
              "      <td>25</td>\n",
              "      <td>2010</td>\n",
              "      <td>75</td>\n",
              "      <td>C</td>\n",
              "    </tr>\n",
              "    <tr>\n",
              "      <th>56</th>\n",
              "      <td>NaN</td>\n",
              "      <td>127.0</td>\n",
              "      <td>8.0</td>\n",
              "      <td>6.0</td>\n",
              "      <td>26</td>\n",
              "      <td>2010</td>\n",
              "      <td>78</td>\n",
              "      <td>PS</td>\n",
              "    </tr>\n",
              "    <tr>\n",
              "      <th>57</th>\n",
              "      <td>NaN</td>\n",
              "      <td>47.0</td>\n",
              "      <td>10.3</td>\n",
              "      <td>6.0</td>\n",
              "      <td>27</td>\n",
              "      <td>2010</td>\n",
              "      <td>73</td>\n",
              "      <td>C</td>\n",
              "    </tr>\n",
              "    <tr>\n",
              "      <th>58</th>\n",
              "      <td>NaN</td>\n",
              "      <td>98.0</td>\n",
              "      <td>11.5</td>\n",
              "      <td>6.0</td>\n",
              "      <td>28</td>\n",
              "      <td>2010</td>\n",
              "      <td>80</td>\n",
              "      <td>PS</td>\n",
              "    </tr>\n",
              "    <tr>\n",
              "      <th>59</th>\n",
              "      <td>NaN</td>\n",
              "      <td>31.0</td>\n",
              "      <td>14.9</td>\n",
              "      <td>6.0</td>\n",
              "      <td>29</td>\n",
              "      <td>2010</td>\n",
              "      <td>77</td>\n",
              "      <td>S</td>\n",
              "    </tr>\n",
              "    <tr>\n",
              "      <th>60</th>\n",
              "      <td>NaN</td>\n",
              "      <td>138.0</td>\n",
              "      <td>8.0</td>\n",
              "      <td>6.0</td>\n",
              "      <td>30</td>\n",
              "      <td>2010</td>\n",
              "      <td>83</td>\n",
              "      <td>S</td>\n",
              "    </tr>\n",
              "    <tr>\n",
              "      <th>64</th>\n",
              "      <td>NaN</td>\n",
              "      <td>101.0</td>\n",
              "      <td>10.9</td>\n",
              "      <td>7.0</td>\n",
              "      <td>4</td>\n",
              "      <td>2010</td>\n",
              "      <td>84</td>\n",
              "      <td>S</td>\n",
              "    </tr>\n",
              "    <tr>\n",
              "      <th>71</th>\n",
              "      <td>NaN</td>\n",
              "      <td>139.0</td>\n",
              "      <td>8.6</td>\n",
              "      <td>7.0</td>\n",
              "      <td>11</td>\n",
              "      <td>2010</td>\n",
              "      <td>82</td>\n",
              "      <td>S</td>\n",
              "    </tr>\n",
              "    <tr>\n",
              "      <th>74</th>\n",
              "      <td>NaN</td>\n",
              "      <td>291.0</td>\n",
              "      <td>14.9</td>\n",
              "      <td>7.0</td>\n",
              "      <td>14</td>\n",
              "      <td>2010</td>\n",
              "      <td>91</td>\n",
              "      <td>C</td>\n",
              "    </tr>\n",
              "    <tr>\n",
              "      <th>82</th>\n",
              "      <td>NaN</td>\n",
              "      <td>258.0</td>\n",
              "      <td>9.7</td>\n",
              "      <td>7.0</td>\n",
              "      <td>22</td>\n",
              "      <td>2010</td>\n",
              "      <td>81</td>\n",
              "      <td>S</td>\n",
              "    </tr>\n",
              "    <tr>\n",
              "      <th>83</th>\n",
              "      <td>NaN</td>\n",
              "      <td>295.0</td>\n",
              "      <td>11.5</td>\n",
              "      <td>7.0</td>\n",
              "      <td>23</td>\n",
              "      <td>2010</td>\n",
              "      <td>82</td>\n",
              "      <td>C</td>\n",
              "    </tr>\n",
              "    <tr>\n",
              "      <th>87</th>\n",
              "      <td>52.0</td>\n",
              "      <td>82.0</td>\n",
              "      <td>12.0</td>\n",
              "      <td>7.0</td>\n",
              "      <td>27</td>\n",
              "      <td>2010</td>\n",
              "      <td>86</td>\n",
              "      <td>NaN</td>\n",
              "    </tr>\n",
              "    <tr>\n",
              "      <th>93</th>\n",
              "      <td>9.0</td>\n",
              "      <td>24.0</td>\n",
              "      <td>13.8</td>\n",
              "      <td>8.0</td>\n",
              "      <td>2</td>\n",
              "      <td>2010</td>\n",
              "      <td>81</td>\n",
              "      <td>NaN</td>\n",
              "    </tr>\n",
              "    <tr>\n",
              "      <th>95</th>\n",
              "      <td>78.0</td>\n",
              "      <td>NaN</td>\n",
              "      <td>6.9</td>\n",
              "      <td>8.0</td>\n",
              "      <td>4</td>\n",
              "      <td>2010</td>\n",
              "      <td>86</td>\n",
              "      <td>NaN</td>\n",
              "    </tr>\n",
              "    <tr>\n",
              "      <th>96</th>\n",
              "      <td>35.0</td>\n",
              "      <td>NaN</td>\n",
              "      <td>7.4</td>\n",
              "      <td>8.0</td>\n",
              "      <td>5</td>\n",
              "      <td>2010</td>\n",
              "      <td>85</td>\n",
              "      <td>S</td>\n",
              "    </tr>\n",
              "    <tr>\n",
              "      <th>97</th>\n",
              "      <td>66.0</td>\n",
              "      <td>NaN</td>\n",
              "      <td>4.6</td>\n",
              "      <td>8.0</td>\n",
              "      <td>6</td>\n",
              "      <td>2010</td>\n",
              "      <td>87</td>\n",
              "      <td>C</td>\n",
              "    </tr>\n",
              "    <tr>\n",
              "      <th>101</th>\n",
              "      <td>NaN</td>\n",
              "      <td>222.0</td>\n",
              "      <td>8.6</td>\n",
              "      <td>8.0</td>\n",
              "      <td>10</td>\n",
              "      <td>2010</td>\n",
              "      <td>92</td>\n",
              "      <td>PS</td>\n",
              "    </tr>\n",
              "    <tr>\n",
              "      <th>102</th>\n",
              "      <td>NaN</td>\n",
              "      <td>137.0</td>\n",
              "      <td>11.5</td>\n",
              "      <td>8.0</td>\n",
              "      <td>11</td>\n",
              "      <td>2010</td>\n",
              "      <td>86</td>\n",
              "      <td>S</td>\n",
              "    </tr>\n",
              "    <tr>\n",
              "      <th>106</th>\n",
              "      <td>NaN</td>\n",
              "      <td>64.0</td>\n",
              "      <td>11.5</td>\n",
              "      <td>8.0</td>\n",
              "      <td>15</td>\n",
              "      <td>2010</td>\n",
              "      <td>79</td>\n",
              "      <td>C</td>\n",
              "    </tr>\n",
              "    <tr>\n",
              "      <th>114</th>\n",
              "      <td>NaN</td>\n",
              "      <td>255.0</td>\n",
              "      <td>12.6</td>\n",
              "      <td>8.0</td>\n",
              "      <td>23</td>\n",
              "      <td>2010</td>\n",
              "      <td>75</td>\n",
              "      <td>PS</td>\n",
              "    </tr>\n",
              "    <tr>\n",
              "      <th>118</th>\n",
              "      <td>NaN</td>\n",
              "      <td>153.0</td>\n",
              "      <td>5.7</td>\n",
              "      <td>8.0</td>\n",
              "      <td>27</td>\n",
              "      <td>2010</td>\n",
              "      <td>88</td>\n",
              "      <td>S</td>\n",
              "    </tr>\n",
              "    <tr>\n",
              "      <th>149</th>\n",
              "      <td>NaN</td>\n",
              "      <td>145.0</td>\n",
              "      <td>13.2</td>\n",
              "      <td>9.0</td>\n",
              "      <td>27</td>\n",
              "      <td>2010</td>\n",
              "      <td>77</td>\n",
              "      <td>PS</td>\n",
              "    </tr>\n",
              "    <tr>\n",
              "      <th>155</th>\n",
              "      <td>NaN</td>\n",
              "      <td>145.0</td>\n",
              "      <td>13.2</td>\n",
              "      <td>9.0</td>\n",
              "      <td>27</td>\n",
              "      <td>2010</td>\n",
              "      <td>77</td>\n",
              "      <td>S</td>\n",
              "    </tr>\n",
              "  </tbody>\n",
              "</table>\n",
              "</div>"
            ],
            "text/plain": [
              "     Ozone  Solar  Wind  Month  Day  Year  Temp Weather\n",
              "4      NaN    NaN  14.3    5.0    5  2010    56       S\n",
              "5     28.0    NaN  14.9    5.0    6  2010    66       C\n",
              "9      NaN  194.0   8.6    5.0   10  2010    69       S\n",
              "10     7.0    NaN   6.9    5.0   11  2010    74       C\n",
              "23    32.0   92.0  12.0    NaN   24  2010    61       C\n",
              "24     NaN   66.0  16.6    5.0   25  2010    57      PS\n",
              "25     NaN  266.0  14.9    5.0   26  2010    58       C\n",
              "26     NaN    NaN   8.0    5.0   27  2010    57      PS\n",
              "31     NaN  286.0   8.6    6.0    1  2010    78       S\n",
              "32     NaN  287.0   9.7    6.0    2  2010    74       C\n",
              "33     NaN  242.0  16.1    6.0    3  2010    67      PS\n",
              "34     NaN  186.0   9.2    6.0    4  2010    84       C\n",
              "35     NaN  220.0   8.6    6.0    5  2010    85      PS\n",
              "36     NaN  264.0  14.3    6.0    6  2010    79       C\n",
              "38     NaN  273.0   6.9    6.0    8  2010    87       S\n",
              "41     NaN  259.0  10.9    6.0   11  2010    93       C\n",
              "42     NaN  250.0   9.2    6.0   12  2010    92      PS\n",
              "44     NaN  332.0  13.8    6.0   14  2010    80       S\n",
              "45     NaN  322.0  11.5    6.0   15  2010    79       C\n",
              "51     NaN  150.0   6.3    6.0   21  2010    77       S\n",
              "52     NaN   59.0   1.7    6.0   22  2010    76       C\n",
              "53     NaN   91.0   4.6    6.0   23  2010    76      PS\n",
              "54     NaN  250.0   6.3    6.0   24  2010    76       S\n",
              "55     NaN  135.0   8.0    6.0   25  2010    75       C\n",
              "56     NaN  127.0   8.0    6.0   26  2010    78      PS\n",
              "57     NaN   47.0  10.3    6.0   27  2010    73       C\n",
              "58     NaN   98.0  11.5    6.0   28  2010    80      PS\n",
              "59     NaN   31.0  14.9    6.0   29  2010    77       S\n",
              "60     NaN  138.0   8.0    6.0   30  2010    83       S\n",
              "64     NaN  101.0  10.9    7.0    4  2010    84       S\n",
              "71     NaN  139.0   8.6    7.0   11  2010    82       S\n",
              "74     NaN  291.0  14.9    7.0   14  2010    91       C\n",
              "82     NaN  258.0   9.7    7.0   22  2010    81       S\n",
              "83     NaN  295.0  11.5    7.0   23  2010    82       C\n",
              "87    52.0   82.0  12.0    7.0   27  2010    86     NaN\n",
              "93     9.0   24.0  13.8    8.0    2  2010    81     NaN\n",
              "95    78.0    NaN   6.9    8.0    4  2010    86     NaN\n",
              "96    35.0    NaN   7.4    8.0    5  2010    85       S\n",
              "97    66.0    NaN   4.6    8.0    6  2010    87       C\n",
              "101    NaN  222.0   8.6    8.0   10  2010    92      PS\n",
              "102    NaN  137.0  11.5    8.0   11  2010    86       S\n",
              "106    NaN   64.0  11.5    8.0   15  2010    79       C\n",
              "114    NaN  255.0  12.6    8.0   23  2010    75      PS\n",
              "118    NaN  153.0   5.7    8.0   27  2010    88       S\n",
              "149    NaN  145.0  13.2    9.0   27  2010    77      PS\n",
              "155    NaN  145.0  13.2    9.0   27  2010    77       S"
            ]
          },
          "metadata": {},
          "execution_count": 68
        }
      ]
    },
    {
      "cell_type": "code",
      "metadata": {
        "ExecuteTime": {
          "end_time": "2021-08-07T11:56:09.378702Z",
          "start_time": "2021-08-07T11:56:09.326049Z"
        },
        "colab": {
          "base_uri": "https://localhost:8080/"
        },
        "id": "UFNYG7-dmWGj",
        "outputId": "cfc7eb9f-50db-40b2-c7d5-0fe824a69b2c"
      },
      "source": [
        "data_cleaned3.isnull().sum()"
      ],
      "execution_count": 69,
      "outputs": [
        {
          "output_type": "execute_result",
          "data": {
            "text/plain": [
              "Ozone      38\n",
              "Solar       7\n",
              "Wind        0\n",
              "Month       1\n",
              "Day         0\n",
              "Year        0\n",
              "Temp        0\n",
              "Weather     3\n",
              "dtype: int64"
            ]
          },
          "metadata": {},
          "execution_count": 69
        }
      ]
    },
    {
      "cell_type": "code",
      "metadata": {
        "ExecuteTime": {
          "end_time": "2021-08-07T11:56:10.125825Z",
          "start_time": "2021-08-07T11:56:10.098593Z"
        },
        "colab": {
          "base_uri": "https://localhost:8080/"
        },
        "id": "-__m3TvOmWGj",
        "outputId": "78ac422f-8b78-4b1d-a4c9-5cb91ab91f98"
      },
      "source": [
        "#Mean Imputation\n",
        "mean = data_cleaned3['Ozone'].mean()\n",
        "mean"
      ],
      "execution_count": 70,
      "outputs": [
        {
          "output_type": "execute_result",
          "data": {
            "text/plain": [
              "41.81512605042017"
            ]
          },
          "metadata": {},
          "execution_count": 70
        }
      ]
    },
    {
      "cell_type": "code",
      "metadata": {
        "ExecuteTime": {
          "end_time": "2021-08-07T11:56:10.873211Z",
          "start_time": "2021-08-07T11:56:10.856773Z"
        },
        "id": "H8SKThnkmWGj"
      },
      "source": [
        "for i in data_cleaned3.columns:\n",
        "    try:\n",
        "        mean=data_cleaned3[i].mean()\n",
        "        data_cleaned3[i]=data_cleaned3[i].fillna(mean)\n",
        "    except:\n",
        "        pass"
      ],
      "execution_count": 71,
      "outputs": []
    },
    {
      "cell_type": "code",
      "metadata": {
        "ExecuteTime": {
          "end_time": "2021-08-07T11:56:11.547889Z",
          "start_time": "2021-08-07T11:56:11.528437Z"
        },
        "id": "02jGDmeNmWGj"
      },
      "source": [
        "data_cleaned3['Ozone'] = data_cleaned3['Ozone'].fillna(mean)"
      ],
      "execution_count": 72,
      "outputs": []
    },
    {
      "cell_type": "code",
      "metadata": {
        "ExecuteTime": {
          "end_time": "2021-08-07T11:56:12.254288Z",
          "start_time": "2021-08-07T11:56:12.161251Z"
        },
        "colab": {
          "base_uri": "https://localhost:8080/",
          "height": 419
        },
        "id": "DFSBHi8gmWGj",
        "outputId": "689e015b-2c3b-45eb-f705-cb63002ff9f7"
      },
      "source": [
        "data_cleaned3"
      ],
      "execution_count": 73,
      "outputs": [
        {
          "output_type": "execute_result",
          "data": {
            "text/html": [
              "<div>\n",
              "<style scoped>\n",
              "    .dataframe tbody tr th:only-of-type {\n",
              "        vertical-align: middle;\n",
              "    }\n",
              "\n",
              "    .dataframe tbody tr th {\n",
              "        vertical-align: top;\n",
              "    }\n",
              "\n",
              "    .dataframe thead th {\n",
              "        text-align: right;\n",
              "    }\n",
              "</style>\n",
              "<table border=\"1\" class=\"dataframe\">\n",
              "  <thead>\n",
              "    <tr style=\"text-align: right;\">\n",
              "      <th></th>\n",
              "      <th>Ozone</th>\n",
              "      <th>Solar</th>\n",
              "      <th>Wind</th>\n",
              "      <th>Month</th>\n",
              "      <th>Day</th>\n",
              "      <th>Year</th>\n",
              "      <th>Temp</th>\n",
              "      <th>Weather</th>\n",
              "    </tr>\n",
              "  </thead>\n",
              "  <tbody>\n",
              "    <tr>\n",
              "      <th>0</th>\n",
              "      <td>41.000000</td>\n",
              "      <td>190.000000</td>\n",
              "      <td>7.4</td>\n",
              "      <td>5.0</td>\n",
              "      <td>1</td>\n",
              "      <td>2010</td>\n",
              "      <td>67</td>\n",
              "      <td>S</td>\n",
              "    </tr>\n",
              "    <tr>\n",
              "      <th>1</th>\n",
              "      <td>36.000000</td>\n",
              "      <td>118.000000</td>\n",
              "      <td>8.0</td>\n",
              "      <td>5.0</td>\n",
              "      <td>2</td>\n",
              "      <td>2010</td>\n",
              "      <td>72</td>\n",
              "      <td>C</td>\n",
              "    </tr>\n",
              "    <tr>\n",
              "      <th>2</th>\n",
              "      <td>12.000000</td>\n",
              "      <td>149.000000</td>\n",
              "      <td>12.6</td>\n",
              "      <td>5.0</td>\n",
              "      <td>3</td>\n",
              "      <td>2010</td>\n",
              "      <td>74</td>\n",
              "      <td>PS</td>\n",
              "    </tr>\n",
              "    <tr>\n",
              "      <th>3</th>\n",
              "      <td>18.000000</td>\n",
              "      <td>313.000000</td>\n",
              "      <td>11.5</td>\n",
              "      <td>5.0</td>\n",
              "      <td>4</td>\n",
              "      <td>2010</td>\n",
              "      <td>62</td>\n",
              "      <td>S</td>\n",
              "    </tr>\n",
              "    <tr>\n",
              "      <th>4</th>\n",
              "      <td>41.815126</td>\n",
              "      <td>185.366667</td>\n",
              "      <td>14.3</td>\n",
              "      <td>5.0</td>\n",
              "      <td>5</td>\n",
              "      <td>2010</td>\n",
              "      <td>56</td>\n",
              "      <td>S</td>\n",
              "    </tr>\n",
              "    <tr>\n",
              "      <th>...</th>\n",
              "      <td>...</td>\n",
              "      <td>...</td>\n",
              "      <td>...</td>\n",
              "      <td>...</td>\n",
              "      <td>...</td>\n",
              "      <td>...</td>\n",
              "      <td>...</td>\n",
              "      <td>...</td>\n",
              "    </tr>\n",
              "    <tr>\n",
              "      <th>152</th>\n",
              "      <td>20.000000</td>\n",
              "      <td>223.000000</td>\n",
              "      <td>11.5</td>\n",
              "      <td>9.0</td>\n",
              "      <td>30</td>\n",
              "      <td>2010</td>\n",
              "      <td>68</td>\n",
              "      <td>S</td>\n",
              "    </tr>\n",
              "    <tr>\n",
              "      <th>153</th>\n",
              "      <td>41.000000</td>\n",
              "      <td>190.000000</td>\n",
              "      <td>7.4</td>\n",
              "      <td>5.0</td>\n",
              "      <td>1</td>\n",
              "      <td>2010</td>\n",
              "      <td>67</td>\n",
              "      <td>C</td>\n",
              "    </tr>\n",
              "    <tr>\n",
              "      <th>154</th>\n",
              "      <td>30.000000</td>\n",
              "      <td>193.000000</td>\n",
              "      <td>6.9</td>\n",
              "      <td>9.0</td>\n",
              "      <td>26</td>\n",
              "      <td>2010</td>\n",
              "      <td>70</td>\n",
              "      <td>PS</td>\n",
              "    </tr>\n",
              "    <tr>\n",
              "      <th>155</th>\n",
              "      <td>41.815126</td>\n",
              "      <td>145.000000</td>\n",
              "      <td>13.2</td>\n",
              "      <td>9.0</td>\n",
              "      <td>27</td>\n",
              "      <td>2010</td>\n",
              "      <td>77</td>\n",
              "      <td>S</td>\n",
              "    </tr>\n",
              "    <tr>\n",
              "      <th>157</th>\n",
              "      <td>18.000000</td>\n",
              "      <td>131.000000</td>\n",
              "      <td>8.0</td>\n",
              "      <td>9.0</td>\n",
              "      <td>29</td>\n",
              "      <td>2010</td>\n",
              "      <td>76</td>\n",
              "      <td>C</td>\n",
              "    </tr>\n",
              "  </tbody>\n",
              "</table>\n",
              "<p>157 rows × 8 columns</p>\n",
              "</div>"
            ],
            "text/plain": [
              "         Ozone       Solar  Wind  Month  Day  Year  Temp Weather\n",
              "0    41.000000  190.000000   7.4    5.0    1  2010    67       S\n",
              "1    36.000000  118.000000   8.0    5.0    2  2010    72       C\n",
              "2    12.000000  149.000000  12.6    5.0    3  2010    74      PS\n",
              "3    18.000000  313.000000  11.5    5.0    4  2010    62       S\n",
              "4    41.815126  185.366667  14.3    5.0    5  2010    56       S\n",
              "..         ...         ...   ...    ...  ...   ...   ...     ...\n",
              "152  20.000000  223.000000  11.5    9.0   30  2010    68       S\n",
              "153  41.000000  190.000000   7.4    5.0    1  2010    67       C\n",
              "154  30.000000  193.000000   6.9    9.0   26  2010    70      PS\n",
              "155  41.815126  145.000000  13.2    9.0   27  2010    77       S\n",
              "157  18.000000  131.000000   8.0    9.0   29  2010    76       C\n",
              "\n",
              "[157 rows x 8 columns]"
            ]
          },
          "metadata": {},
          "execution_count": 73
        }
      ]
    },
    {
      "cell_type": "code",
      "metadata": {
        "ExecuteTime": {
          "end_time": "2021-08-07T11:56:12.946554Z",
          "start_time": "2021-08-07T11:56:12.935475Z"
        },
        "id": "lYO5P37smWGj"
      },
      "source": [
        "#Missing value imputation for categorical vlaue\n",
        "#Get the object columns\n",
        "obj_columns=data_cleaned3[['Weather']]"
      ],
      "execution_count": 74,
      "outputs": []
    },
    {
      "cell_type": "code",
      "metadata": {
        "ExecuteTime": {
          "end_time": "2021-08-07T11:56:13.788097Z",
          "start_time": "2021-08-07T11:56:13.764492Z"
        },
        "colab": {
          "base_uri": "https://localhost:8080/"
        },
        "id": "d443d2CpmWGj",
        "outputId": "d3a5aa54-6b69-485c-9468-dbd0a5a7c6c6"
      },
      "source": [
        "obj_columns.isnull().sum()"
      ],
      "execution_count": 75,
      "outputs": [
        {
          "output_type": "execute_result",
          "data": {
            "text/plain": [
              "Weather    3\n",
              "dtype: int64"
            ]
          },
          "metadata": {},
          "execution_count": 75
        }
      ]
    },
    {
      "cell_type": "code",
      "metadata": {
        "ExecuteTime": {
          "end_time": "2021-08-07T11:57:08.758392Z",
          "start_time": "2021-08-07T11:57:08.708923Z"
        },
        "colab": {
          "base_uri": "https://localhost:8080/"
        },
        "id": "inz3dJVjmWGk",
        "outputId": "fbd6d436-77ff-4d11-cc03-0a04a58ff89f"
      },
      "source": [
        "data[\"Weather\"].mode()"
      ],
      "execution_count": 76,
      "outputs": [
        {
          "output_type": "execute_result",
          "data": {
            "text/plain": [
              "0    S\n",
              "Name: Weather, dtype: category\n",
              "Categories (3, object): ['C', 'PS', 'S']"
            ]
          },
          "metadata": {},
          "execution_count": 76
        }
      ]
    },
    {
      "cell_type": "code",
      "metadata": {
        "ExecuteTime": {
          "end_time": "2021-08-07T11:57:29.636239Z",
          "start_time": "2021-08-07T11:57:29.620983Z"
        },
        "id": "IVp2AxZEmWGk"
      },
      "source": [
        "#Missing value imputation for categorical vlaue\n",
        "obj_columns=obj_columns.fillna(\"S\")"
      ],
      "execution_count": 77,
      "outputs": []
    },
    {
      "cell_type": "code",
      "metadata": {
        "ExecuteTime": {
          "end_time": "2021-08-07T11:57:41.040710Z",
          "start_time": "2021-08-07T11:57:41.028532Z"
        },
        "colab": {
          "base_uri": "https://localhost:8080/"
        },
        "id": "h3uHpRbUmWGk",
        "outputId": "ccf7941c-7c13-4d39-8523-a943ab04b9f7"
      },
      "source": [
        "obj_columns.isnull().sum()"
      ],
      "execution_count": 78,
      "outputs": [
        {
          "output_type": "execute_result",
          "data": {
            "text/plain": [
              "Weather    0\n",
              "dtype: int64"
            ]
          },
          "metadata": {},
          "execution_count": 78
        }
      ]
    },
    {
      "cell_type": "code",
      "metadata": {
        "ExecuteTime": {
          "end_time": "2021-08-07T11:57:42.231469Z",
          "start_time": "2021-08-07T11:57:42.191425Z"
        },
        "colab": {
          "base_uri": "https://localhost:8080/"
        },
        "id": "VgSnxjKpmWGk",
        "outputId": "88084146-089c-46c1-fb2d-919f2aad0665"
      },
      "source": [
        "data_cleaned3.shape"
      ],
      "execution_count": 79,
      "outputs": [
        {
          "output_type": "execute_result",
          "data": {
            "text/plain": [
              "(157, 8)"
            ]
          },
          "metadata": {},
          "execution_count": 79
        }
      ]
    },
    {
      "cell_type": "code",
      "metadata": {
        "ExecuteTime": {
          "end_time": "2021-08-07T11:57:43.070518Z",
          "start_time": "2021-08-07T11:57:43.060072Z"
        },
        "colab": {
          "base_uri": "https://localhost:8080/"
        },
        "id": "j_i5rcN3mWGk",
        "outputId": "aa76c93f-8c3c-4874-aa08-5977a17aec91"
      },
      "source": [
        "obj_columns.shape"
      ],
      "execution_count": 80,
      "outputs": [
        {
          "output_type": "execute_result",
          "data": {
            "text/plain": [
              "(157, 1)"
            ]
          },
          "metadata": {},
          "execution_count": 80
        }
      ]
    },
    {
      "cell_type": "code",
      "metadata": {
        "ExecuteTime": {
          "end_time": "2021-08-07T11:57:43.808225Z",
          "start_time": "2021-08-07T11:57:43.761575Z"
        },
        "id": "e-4NaihZmWGk"
      },
      "source": [
        "#Join the data set with imputed object dataset\n",
        "data_cleaned4=pd.concat([data_cleaned3,obj_columns],axis=1)"
      ],
      "execution_count": 81,
      "outputs": []
    },
    {
      "cell_type": "code",
      "metadata": {
        "ExecuteTime": {
          "end_time": "2021-08-07T11:57:44.710793Z",
          "start_time": "2021-08-07T11:57:44.676144Z"
        },
        "colab": {
          "base_uri": "https://localhost:8080/"
        },
        "id": "y0dQXhSXmWGk",
        "outputId": "7271201f-e6b8-42d1-8218-328eb3915798"
      },
      "source": [
        "data_cleaned4.isnull().sum()"
      ],
      "execution_count": 83,
      "outputs": [
        {
          "output_type": "execute_result",
          "data": {
            "text/plain": [
              "Ozone      0\n",
              "Solar      0\n",
              "Wind       0\n",
              "Month      0\n",
              "Day        0\n",
              "Year       0\n",
              "Temp       0\n",
              "Weather    3\n",
              "Weather    0\n",
              "dtype: int64"
            ]
          },
          "metadata": {},
          "execution_count": 83
        }
      ]
    },
    {
      "cell_type": "markdown",
      "metadata": {
        "heading_collapsed": true,
        "id": "7lhmQRPQmWGk"
      },
      "source": [
        "# Scatter plot and Correlation analysis"
      ]
    },
    {
      "cell_type": "code",
      "metadata": {
        "ExecuteTime": {
          "end_time": "2021-08-07T12:00:37.589737Z",
          "start_time": "2021-08-07T12:00:37.579487Z"
        },
        "hidden": true,
        "colab": {
          "base_uri": "https://localhost:8080/"
        },
        "id": "r8P3poc8mWGk",
        "outputId": "dfa6931b-1163-49d2-c5a0-e76a85c3f03c"
      },
      "source": [
        "data_cleaned3.columns\n",
        "\n"
      ],
      "execution_count": 84,
      "outputs": [
        {
          "output_type": "execute_result",
          "data": {
            "text/plain": [
              "Index(['Ozone', 'Solar', 'Wind', 'Month', 'Day', 'Year', 'Temp', 'Weather'], dtype='object')"
            ]
          },
          "metadata": {},
          "execution_count": 84
        }
      ]
    },
    {
      "cell_type": "code",
      "metadata": {
        "ExecuteTime": {
          "end_time": "2021-08-07T12:01:35.238402Z",
          "start_time": "2021-08-07T12:01:04.235878Z"
        },
        "hidden": true,
        "colab": {
          "base_uri": "https://localhost:8080/"
        },
        "id": "UY3-y-ALmWGk",
        "outputId": "47c9ec92-b7b4-4144-a1be-6fb7c1a8848a"
      },
      "source": [
        "# Seaborn visualization library\n",
        "import seaborn as sns\n",
        "# Create the default pairplot\n",
        "sns.pairplot(data_cleaned3,hue=\"Weather\")\n"
      ],
      "execution_count": 85,
      "outputs": [
        {
          "output_type": "execute_result",
          "data": {
            "text/plain": [
              "<seaborn.axisgrid.PairGrid at 0x7fb23ab8d750>"
            ]
          },
          "metadata": {},
          "execution_count": 85
        }
      ]
    },
    {
      "cell_type": "code",
      "metadata": {
        "ExecuteTime": {
          "end_time": "2021-02-06T14:12:18.716796Z",
          "start_time": "2021-02-06T14:12:18.699423Z"
        },
        "hidden": true,
        "colab": {
          "base_uri": "https://localhost:8080/",
          "height": 266
        },
        "id": "JGy6COO5mWGk",
        "outputId": "189f6cc6-21d0-4f4e-b3d4-a8634cf21b30"
      },
      "source": [
        "#Correlation\n",
        "data_cleaned3.corr()"
      ],
      "execution_count": 86,
      "outputs": [
        {
          "output_type": "execute_result",
          "data": {
            "text/html": [
              "<div>\n",
              "<style scoped>\n",
              "    .dataframe tbody tr th:only-of-type {\n",
              "        vertical-align: middle;\n",
              "    }\n",
              "\n",
              "    .dataframe tbody tr th {\n",
              "        vertical-align: top;\n",
              "    }\n",
              "\n",
              "    .dataframe thead th {\n",
              "        text-align: right;\n",
              "    }\n",
              "</style>\n",
              "<table border=\"1\" class=\"dataframe\">\n",
              "  <thead>\n",
              "    <tr style=\"text-align: right;\">\n",
              "      <th></th>\n",
              "      <th>Ozone</th>\n",
              "      <th>Solar</th>\n",
              "      <th>Wind</th>\n",
              "      <th>Month</th>\n",
              "      <th>Day</th>\n",
              "      <th>Year</th>\n",
              "      <th>Temp</th>\n",
              "    </tr>\n",
              "  </thead>\n",
              "  <tbody>\n",
              "    <tr>\n",
              "      <th>Ozone</th>\n",
              "      <td>1.000000</td>\n",
              "      <td>0.304559</td>\n",
              "      <td>-0.520004</td>\n",
              "      <td>0.132809</td>\n",
              "      <td>-0.021916</td>\n",
              "      <td>NaN</td>\n",
              "      <td>0.606500</td>\n",
              "    </tr>\n",
              "    <tr>\n",
              "      <th>Solar</th>\n",
              "      <td>0.304559</td>\n",
              "      <td>1.000000</td>\n",
              "      <td>-0.055874</td>\n",
              "      <td>-0.090564</td>\n",
              "      <td>-0.151007</td>\n",
              "      <td>NaN</td>\n",
              "      <td>0.260677</td>\n",
              "    </tr>\n",
              "    <tr>\n",
              "      <th>Wind</th>\n",
              "      <td>-0.520004</td>\n",
              "      <td>-0.055874</td>\n",
              "      <td>1.000000</td>\n",
              "      <td>-0.166029</td>\n",
              "      <td>0.029900</td>\n",
              "      <td>NaN</td>\n",
              "      <td>-0.441228</td>\n",
              "    </tr>\n",
              "    <tr>\n",
              "      <th>Month</th>\n",
              "      <td>0.132809</td>\n",
              "      <td>-0.090564</td>\n",
              "      <td>-0.166029</td>\n",
              "      <td>1.000000</td>\n",
              "      <td>0.049924</td>\n",
              "      <td>NaN</td>\n",
              "      <td>0.394420</td>\n",
              "    </tr>\n",
              "    <tr>\n",
              "      <th>Day</th>\n",
              "      <td>-0.021916</td>\n",
              "      <td>-0.151007</td>\n",
              "      <td>0.029900</td>\n",
              "      <td>0.049924</td>\n",
              "      <td>1.000000</td>\n",
              "      <td>NaN</td>\n",
              "      <td>-0.122787</td>\n",
              "    </tr>\n",
              "    <tr>\n",
              "      <th>Year</th>\n",
              "      <td>NaN</td>\n",
              "      <td>NaN</td>\n",
              "      <td>NaN</td>\n",
              "      <td>NaN</td>\n",
              "      <td>NaN</td>\n",
              "      <td>NaN</td>\n",
              "      <td>NaN</td>\n",
              "    </tr>\n",
              "    <tr>\n",
              "      <th>Temp</th>\n",
              "      <td>0.606500</td>\n",
              "      <td>0.260677</td>\n",
              "      <td>-0.441228</td>\n",
              "      <td>0.394420</td>\n",
              "      <td>-0.122787</td>\n",
              "      <td>NaN</td>\n",
              "      <td>1.000000</td>\n",
              "    </tr>\n",
              "  </tbody>\n",
              "</table>\n",
              "</div>"
            ],
            "text/plain": [
              "          Ozone     Solar      Wind     Month       Day  Year      Temp\n",
              "Ozone  1.000000  0.304559 -0.520004  0.132809 -0.021916   NaN  0.606500\n",
              "Solar  0.304559  1.000000 -0.055874 -0.090564 -0.151007   NaN  0.260677\n",
              "Wind  -0.520004 -0.055874  1.000000 -0.166029  0.029900   NaN -0.441228\n",
              "Month  0.132809 -0.090564 -0.166029  1.000000  0.049924   NaN  0.394420\n",
              "Day   -0.021916 -0.151007  0.029900  0.049924  1.000000   NaN -0.122787\n",
              "Year        NaN       NaN       NaN       NaN       NaN   NaN       NaN\n",
              "Temp   0.606500  0.260677 -0.441228  0.394420 -0.122787   NaN  1.000000"
            ]
          },
          "metadata": {},
          "execution_count": 86
        }
      ]
    },
    {
      "cell_type": "markdown",
      "metadata": {
        "id": "bBqBjoMPmWGl"
      },
      "source": [
        "# Transformations"
      ]
    },
    {
      "cell_type": "markdown",
      "metadata": {
        "id": "oUYdOF_UmWGl"
      },
      "source": [
        "#### Dummy Variable"
      ]
    },
    {
      "cell_type": "code",
      "metadata": {
        "ExecuteTime": {
          "end_time": "2021-08-29T06:41:49.249959Z",
          "start_time": "2021-08-29T06:41:49.226736Z"
        },
        "id": "j_j_MRaJmWGl"
      },
      "source": [
        "#Creating dummy variable for Weather column\n",
        "data_cleaned4=pd.get_dummies(data,columns=['Weather'])"
      ],
      "execution_count": 90,
      "outputs": []
    },
    {
      "cell_type": "code",
      "metadata": {
        "ExecuteTime": {
          "end_time": "2021-08-29T06:41:49.652202Z",
          "start_time": "2021-08-29T06:41:49.571915Z"
        },
        "colab": {
          "base_uri": "https://localhost:8080/",
          "height": 0
        },
        "id": "hwVqW4k2mWGl",
        "outputId": "9ef14de3-859b-45f8-f197-264790d62ef9"
      },
      "source": [
        "data_cleaned4"
      ],
      "execution_count": 91,
      "outputs": [
        {
          "output_type": "execute_result",
          "data": {
            "text/html": [
              "<div>\n",
              "<style scoped>\n",
              "    .dataframe tbody tr th:only-of-type {\n",
              "        vertical-align: middle;\n",
              "    }\n",
              "\n",
              "    .dataframe tbody tr th {\n",
              "        vertical-align: top;\n",
              "    }\n",
              "\n",
              "    .dataframe thead th {\n",
              "        text-align: right;\n",
              "    }\n",
              "</style>\n",
              "<table border=\"1\" class=\"dataframe\">\n",
              "  <thead>\n",
              "    <tr style=\"text-align: right;\">\n",
              "      <th></th>\n",
              "      <th>Ozone</th>\n",
              "      <th>Solar.R</th>\n",
              "      <th>Wind</th>\n",
              "      <th>Temp C</th>\n",
              "      <th>Month</th>\n",
              "      <th>Day</th>\n",
              "      <th>Year</th>\n",
              "      <th>Temp</th>\n",
              "      <th>Weather_C</th>\n",
              "      <th>Weather_PS</th>\n",
              "      <th>Weather_S</th>\n",
              "    </tr>\n",
              "  </thead>\n",
              "  <tbody>\n",
              "    <tr>\n",
              "      <th>0</th>\n",
              "      <td>41.0</td>\n",
              "      <td>190.0</td>\n",
              "      <td>7.4</td>\n",
              "      <td>67.0</td>\n",
              "      <td>5.0</td>\n",
              "      <td>1</td>\n",
              "      <td>2010</td>\n",
              "      <td>67</td>\n",
              "      <td>0</td>\n",
              "      <td>0</td>\n",
              "      <td>1</td>\n",
              "    </tr>\n",
              "    <tr>\n",
              "      <th>1</th>\n",
              "      <td>36.0</td>\n",
              "      <td>118.0</td>\n",
              "      <td>8.0</td>\n",
              "      <td>72.0</td>\n",
              "      <td>5.0</td>\n",
              "      <td>2</td>\n",
              "      <td>2010</td>\n",
              "      <td>72</td>\n",
              "      <td>1</td>\n",
              "      <td>0</td>\n",
              "      <td>0</td>\n",
              "    </tr>\n",
              "    <tr>\n",
              "      <th>2</th>\n",
              "      <td>12.0</td>\n",
              "      <td>149.0</td>\n",
              "      <td>12.6</td>\n",
              "      <td>74.0</td>\n",
              "      <td>5.0</td>\n",
              "      <td>3</td>\n",
              "      <td>2010</td>\n",
              "      <td>74</td>\n",
              "      <td>0</td>\n",
              "      <td>1</td>\n",
              "      <td>0</td>\n",
              "    </tr>\n",
              "    <tr>\n",
              "      <th>3</th>\n",
              "      <td>18.0</td>\n",
              "      <td>313.0</td>\n",
              "      <td>11.5</td>\n",
              "      <td>62.0</td>\n",
              "      <td>5.0</td>\n",
              "      <td>4</td>\n",
              "      <td>2010</td>\n",
              "      <td>62</td>\n",
              "      <td>0</td>\n",
              "      <td>0</td>\n",
              "      <td>1</td>\n",
              "    </tr>\n",
              "    <tr>\n",
              "      <th>4</th>\n",
              "      <td>NaN</td>\n",
              "      <td>NaN</td>\n",
              "      <td>14.3</td>\n",
              "      <td>56.0</td>\n",
              "      <td>5.0</td>\n",
              "      <td>5</td>\n",
              "      <td>2010</td>\n",
              "      <td>56</td>\n",
              "      <td>0</td>\n",
              "      <td>0</td>\n",
              "      <td>1</td>\n",
              "    </tr>\n",
              "    <tr>\n",
              "      <th>...</th>\n",
              "      <td>...</td>\n",
              "      <td>...</td>\n",
              "      <td>...</td>\n",
              "      <td>...</td>\n",
              "      <td>...</td>\n",
              "      <td>...</td>\n",
              "      <td>...</td>\n",
              "      <td>...</td>\n",
              "      <td>...</td>\n",
              "      <td>...</td>\n",
              "      <td>...</td>\n",
              "    </tr>\n",
              "    <tr>\n",
              "      <th>153</th>\n",
              "      <td>41.0</td>\n",
              "      <td>190.0</td>\n",
              "      <td>7.4</td>\n",
              "      <td>67.0</td>\n",
              "      <td>5.0</td>\n",
              "      <td>1</td>\n",
              "      <td>2010</td>\n",
              "      <td>67</td>\n",
              "      <td>1</td>\n",
              "      <td>0</td>\n",
              "      <td>0</td>\n",
              "    </tr>\n",
              "    <tr>\n",
              "      <th>154</th>\n",
              "      <td>30.0</td>\n",
              "      <td>193.0</td>\n",
              "      <td>6.9</td>\n",
              "      <td>70.0</td>\n",
              "      <td>9.0</td>\n",
              "      <td>26</td>\n",
              "      <td>2010</td>\n",
              "      <td>70</td>\n",
              "      <td>0</td>\n",
              "      <td>1</td>\n",
              "      <td>0</td>\n",
              "    </tr>\n",
              "    <tr>\n",
              "      <th>155</th>\n",
              "      <td>NaN</td>\n",
              "      <td>145.0</td>\n",
              "      <td>13.2</td>\n",
              "      <td>77.0</td>\n",
              "      <td>9.0</td>\n",
              "      <td>27</td>\n",
              "      <td>2010</td>\n",
              "      <td>77</td>\n",
              "      <td>0</td>\n",
              "      <td>0</td>\n",
              "      <td>1</td>\n",
              "    </tr>\n",
              "    <tr>\n",
              "      <th>156</th>\n",
              "      <td>14.0</td>\n",
              "      <td>191.0</td>\n",
              "      <td>14.3</td>\n",
              "      <td>75.0</td>\n",
              "      <td>9.0</td>\n",
              "      <td>28</td>\n",
              "      <td>2010</td>\n",
              "      <td>75</td>\n",
              "      <td>0</td>\n",
              "      <td>0</td>\n",
              "      <td>1</td>\n",
              "    </tr>\n",
              "    <tr>\n",
              "      <th>157</th>\n",
              "      <td>18.0</td>\n",
              "      <td>131.0</td>\n",
              "      <td>8.0</td>\n",
              "      <td>76.0</td>\n",
              "      <td>9.0</td>\n",
              "      <td>29</td>\n",
              "      <td>2010</td>\n",
              "      <td>76</td>\n",
              "      <td>1</td>\n",
              "      <td>0</td>\n",
              "      <td>0</td>\n",
              "    </tr>\n",
              "  </tbody>\n",
              "</table>\n",
              "<p>158 rows × 11 columns</p>\n",
              "</div>"
            ],
            "text/plain": [
              "     Ozone  Solar.R  Wind  Temp C  ...  Temp  Weather_C  Weather_PS  Weather_S\n",
              "0     41.0    190.0   7.4    67.0  ...    67          0           0          1\n",
              "1     36.0    118.0   8.0    72.0  ...    72          1           0          0\n",
              "2     12.0    149.0  12.6    74.0  ...    74          0           1          0\n",
              "3     18.0    313.0  11.5    62.0  ...    62          0           0          1\n",
              "4      NaN      NaN  14.3    56.0  ...    56          0           0          1\n",
              "..     ...      ...   ...     ...  ...   ...        ...         ...        ...\n",
              "153   41.0    190.0   7.4    67.0  ...    67          1           0          0\n",
              "154   30.0    193.0   6.9    70.0  ...    70          0           1          0\n",
              "155    NaN    145.0  13.2    77.0  ...    77          0           0          1\n",
              "156   14.0    191.0  14.3    75.0  ...    75          0           0          1\n",
              "157   18.0    131.0   8.0    76.0  ...    76          1           0          0\n",
              "\n",
              "[158 rows x 11 columns]"
            ]
          },
          "metadata": {},
          "execution_count": 91
        }
      ]
    },
    {
      "cell_type": "code",
      "metadata": {
        "ExecuteTime": {
          "end_time": "2021-08-29T06:41:50.002534Z",
          "start_time": "2021-08-29T06:41:49.971351Z"
        },
        "id": "LEZE0H4GmWGl"
      },
      "source": [
        "data_cleaned4=data_cleaned4.dropna()\n",
        "\n"
      ],
      "execution_count": 92,
      "outputs": []
    },
    {
      "cell_type": "markdown",
      "metadata": {
        "id": "ON0AJOzKmWGl"
      },
      "source": [
        "#### Normalization of the data"
      ]
    },
    {
      "cell_type": "code",
      "metadata": {
        "ExecuteTime": {
          "end_time": "2021-08-29T06:41:50.663442Z",
          "start_time": "2021-08-29T06:41:50.658786Z"
        },
        "colab": {
          "base_uri": "https://localhost:8080/",
          "height": 35
        },
        "id": "GOHqbma0mWGl",
        "outputId": "c67c02b2-6e2a-4e47-ce3e-ab3c0aa0ea27"
      },
      "source": [
        "import sklearn\n",
        "sklearn.__version__"
      ],
      "execution_count": 93,
      "outputs": [
        {
          "output_type": "execute_result",
          "data": {
            "application/vnd.google.colaboratory.intrinsic+json": {
              "type": "string"
            },
            "text/plain": [
              "'1.0.1'"
            ]
          },
          "metadata": {},
          "execution_count": 93
        }
      ]
    },
    {
      "cell_type": "code",
      "metadata": {
        "ExecuteTime": {
          "end_time": "2021-08-29T06:41:50.989351Z",
          "start_time": "2021-08-29T06:41:50.980701Z"
        },
        "id": "rBjsuM1gmWGl"
      },
      "source": [
        "#Normalization of the data\n",
        "from numpy import set_printoptions\n",
        "from sklearn.preprocessing import MinMaxScaler"
      ],
      "execution_count": 94,
      "outputs": []
    },
    {
      "cell_type": "code",
      "metadata": {
        "ExecuteTime": {
          "end_time": "2021-08-29T06:41:51.320462Z",
          "start_time": "2021-08-29T06:41:51.310760Z"
        },
        "id": "iJRSNa1jmWGl"
      },
      "source": [
        "from sklearn.preprocessing import StandardScaler\n",
        "from sklearn.preprocessing import RobustScaler"
      ],
      "execution_count": 95,
      "outputs": []
    },
    {
      "cell_type": "code",
      "metadata": {
        "ExecuteTime": {
          "end_time": "2021-08-29T06:41:52.131148Z",
          "start_time": "2021-08-29T06:41:52.123962Z"
        },
        "colab": {
          "base_uri": "https://localhost:8080/"
        },
        "id": "4GFGlFAgmWGl",
        "outputId": "3edaded6-1d20-4771-8c00-d9b3cb272d7f"
      },
      "source": [
        "data_cleaned4.values"
      ],
      "execution_count": 96,
      "outputs": [
        {
          "output_type": "execute_result",
          "data": {
            "text/plain": [
              "array([[ 41. , 190. ,   7.4, ...,   0. ,   0. ,   1. ],\n",
              "       [ 36. , 118. ,   8. , ...,   1. ,   0. ,   0. ],\n",
              "       [ 12. , 149. ,  12.6, ...,   0. ,   1. ,   0. ],\n",
              "       ...,\n",
              "       [ 30. , 193. ,   6.9, ...,   0. ,   1. ,   0. ],\n",
              "       [ 14. , 191. ,  14.3, ...,   0. ,   0. ,   1. ],\n",
              "       [ 18. , 131. ,   8. , ...,   1. ,   0. ,   0. ]])"
            ]
          },
          "metadata": {},
          "execution_count": 96
        }
      ]
    },
    {
      "cell_type": "code",
      "metadata": {
        "ExecuteTime": {
          "end_time": "2021-07-12T16:57:32.466799Z",
          "start_time": "2021-07-12T16:57:32.452021Z"
        },
        "colab": {
          "base_uri": "https://localhost:8080/"
        },
        "id": "mwhMzFCpmWGl",
        "outputId": "7ee71cad-f60d-4ca4-92de-fc3e6c400828"
      },
      "source": [
        "array = data_cleaned3.values\n",
        "\n",
        "scaler = MinMaxScaler()\n",
        "rescaledX = scaler.fit_transform(array[:,0:5])\n",
        "\n",
        "#transformed data\n",
        "set_printoptions(precision=2)\n",
        "print(rescaledX[0:5,:])\n"
      ],
      "execution_count": 97,
      "outputs": [
        {
          "output_type": "stream",
          "name": "stdout",
          "text": [
            "[[0.24 0.56 0.3  0.   0.  ]\n",
            " [0.21 0.34 0.33 0.   0.03]\n",
            " [0.07 0.43 0.57 0.   0.07]\n",
            " [0.1  0.94 0.52 0.   0.1 ]\n",
            " [0.24 0.55 0.66 0.   0.13]]\n"
          ]
        }
      ]
    },
    {
      "cell_type": "code",
      "metadata": {
        "ExecuteTime": {
          "end_time": "2021-07-12T16:58:12.962491Z",
          "start_time": "2021-07-12T16:58:12.912723Z"
        },
        "id": "uW6C8uLJmWGl"
      },
      "source": [
        "# Standardize data (0 mean, 1 stdev)\n",
        "from sklearn.preprocessing import StandardScaler"
      ],
      "execution_count": 98,
      "outputs": []
    },
    {
      "cell_type": "code",
      "metadata": {
        "ExecuteTime": {
          "end_time": "2021-07-12T16:58:13.709829Z",
          "start_time": "2021-07-12T16:58:13.689699Z"
        },
        "colab": {
          "base_uri": "https://localhost:8080/"
        },
        "id": "glYp-qfTmWGm",
        "outputId": "42663084-fb6f-4738-cf70-31d3208fcf7a"
      },
      "source": [
        "array = data_cleaned4.values\n",
        "scaler = StandardScaler().fit(array)\n",
        "rescaledX = scaler.transform(array)\n",
        "\n",
        "# summarize transformed data\n",
        "set_printoptions(precision=2)\n",
        "print(rescaledX[0:5,:])"
      ],
      "execution_count": 99,
      "outputs": [
        {
          "output_type": "stream",
          "name": "stdout",
          "text": [
            "[[-0.02  0.05 -0.71 -1.15 -1.53 -1.7   0.   -1.15 -0.64 -0.68  1.28]\n",
            " [-0.17 -0.75 -0.54 -0.62 -1.53 -1.59  0.   -0.62  1.57 -0.68 -0.78]\n",
            " [-0.9  -0.41  0.77 -0.4  -1.53 -1.48  0.   -0.4  -0.64  1.47 -0.78]\n",
            " [-0.72  1.43  0.45 -1.69 -1.53 -1.36  0.   -1.69 -0.64 -0.68  1.28]\n",
            " [-0.57  1.27 -0.37 -1.37 -1.53 -1.02  0.   -1.37 -0.64  1.47 -0.78]]\n"
          ]
        }
      ]
    },
    {
      "cell_type": "markdown",
      "metadata": {
        "id": "PrZv8I96mWGm"
      },
      "source": [
        "# Speed up the EDA process"
      ]
    },
    {
      "cell_type": "code",
      "metadata": {
        "ExecuteTime": {
          "end_time": "2021-08-29T06:49:50.003552Z",
          "start_time": "2021-08-29T06:49:36.972546Z"
        },
        "id": "kEt_Q2uAmWGm"
      },
      "source": [
        "EDA_report= pp.ProfileReport(data)\n",
        "EDA_report.to_file(output_file='report.html')"
      ],
      "execution_count": null,
      "outputs": []
    },
    {
      "cell_type": "code",
      "metadata": {
        "ExecuteTime": {
          "end_time": "2021-08-29T06:49:56.548487Z",
          "start_time": "2021-08-29T06:49:50.005960Z"
        },
        "colab": {
          "referenced_widgets": [
            "13c6c47a4dab488782e8682e3495e083"
          ]
        },
        "id": "asl9w6FgmWGm",
        "outputId": "6b77c91f-183e-459d-862b-44637e7e22b0"
      },
      "source": [
        "sweet_report = sv.analyze(data)\n",
        "sweet_report.show_html('weather_report.html')"
      ],
      "execution_count": null,
      "outputs": [
        {
          "data": {
            "application/vnd.jupyter.widget-view+json": {
              "model_id": "13c6c47a4dab488782e8682e3495e083",
              "version_major": 2,
              "version_minor": 0
            },
            "text/plain": [
              "HBox(children=(HTML(value=''), FloatProgress(value=0.0, layout=Layout(flex='2'), max=10.0), HTML(value='')), l…"
            ]
          },
          "metadata": {},
          "output_type": "display_data"
        },
        {
          "name": "stdout",
          "output_type": "stream",
          "text": [
            "\n",
            "Report weather_report.html was generated! NOTEBOOK/COLAB USERS: the web browser MAY not pop up, regardless, the report IS saved in your notebook/colab files.\n"
          ]
        }
      ]
    },
    {
      "cell_type": "code",
      "metadata": {
        "id": "hdYYMwOWmWGm"
      },
      "source": [
        ""
      ],
      "execution_count": null,
      "outputs": []
    },
    {
      "cell_type": "code",
      "metadata": {
        "id": "-JQwG9DMmWGm"
      },
      "source": [
        ""
      ],
      "execution_count": null,
      "outputs": []
    },
    {
      "cell_type": "code",
      "metadata": {
        "id": "1QGk7q1vmWGm"
      },
      "source": [
        ""
      ],
      "execution_count": null,
      "outputs": []
    }
  ]
}