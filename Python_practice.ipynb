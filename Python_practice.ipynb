{
  "nbformat": 4,
  "nbformat_minor": 0,
  "metadata": {
    "colab": {
      "name": "Python_practice.ipynb",
      "provenance": [],
      "collapsed_sections": [
        "NIbaAkJLb4HA",
        "55G-g8elW6x0",
        "Ba53s_nvkLUf",
        "YqdqFbYKoFed",
        "8AKw5m6op6gM",
        "VPOT9dwDueeq"
      ],
      "authorship_tag": "ABX9TyNK84WZ2vYZ44/6glPvV3J3",
      "include_colab_link": true
    },
    "kernelspec": {
      "name": "python3",
      "display_name": "Python 3"
    },
    "language_info": {
      "name": "python"
    }
  },
  "cells": [
    {
      "cell_type": "markdown",
      "metadata": {
        "id": "view-in-github",
        "colab_type": "text"
      },
      "source": [
        "<a href=\"https://colab.research.google.com/github/swathipraveen/Python_practice/blob/Python/Python_practice.ipynb\" target=\"_parent\"><img src=\"https://colab.research.google.com/assets/colab-badge.svg\" alt=\"Open In Colab\"/></a>"
      ]
    },
    {
      "cell_type": "code",
      "metadata": {
        "colab": {
          "base_uri": "https://localhost:8080/"
        },
        "id": "WBbOgw_9hW46",
        "outputId": "6a1b971b-6994-44c4-cc7c-46f8bcb80350"
      },
      "source": [
        "1+1"
      ],
      "execution_count": null,
      "outputs": [
        {
          "output_type": "execute_result",
          "data": {
            "text/plain": [
              "2"
            ]
          },
          "metadata": {
            "tags": []
          },
          "execution_count": 1
        }
      ]
    },
    {
      "cell_type": "code",
      "metadata": {
        "id": "SNMpa5pfi5lL"
      },
      "source": [
        ""
      ],
      "execution_count": null,
      "outputs": []
    },
    {
      "cell_type": "markdown",
      "metadata": {
        "id": "z8vPcSFsjASb"
      },
      "source": [
        "Test"
      ]
    },
    {
      "cell_type": "code",
      "metadata": {
        "colab": {
          "base_uri": "https://localhost:8080/"
        },
        "id": "lc9bsS-XjDWS",
        "outputId": "7ff08c03-b77f-4085-ec0a-03bbe042d3fe"
      },
      "source": [
        "!pip install pandas"
      ],
      "execution_count": null,
      "outputs": [
        {
          "output_type": "stream",
          "text": [
            "Requirement already satisfied: pandas in /usr/local/lib/python3.7/dist-packages (1.1.5)\n",
            "Requirement already satisfied: numpy>=1.15.4 in /usr/local/lib/python3.7/dist-packages (from pandas) (1.19.5)\n",
            "Requirement already satisfied: pytz>=2017.2 in /usr/local/lib/python3.7/dist-packages (from pandas) (2018.9)\n",
            "Requirement already satisfied: python-dateutil>=2.7.3 in /usr/local/lib/python3.7/dist-packages (from pandas) (2.8.1)\n",
            "Requirement already satisfied: six>=1.5 in /usr/local/lib/python3.7/dist-packages (from python-dateutil>=2.7.3->pandas) (1.15.0)\n"
          ],
          "name": "stdout"
        }
      ]
    },
    {
      "cell_type": "code",
      "metadata": {
        "id": "7t5vRCq9BMiT"
      },
      "source": [
        "import pandas as pd"
      ],
      "execution_count": null,
      "outputs": []
    },
    {
      "cell_type": "code",
      "metadata": {
        "id": "d0iki6s5BUme"
      },
      "source": [
        "#Import Python Libraries\n",
        "import numpy as np\n",
        "import pandas as pd\n",
        "import matplotlib as mpl\n",
        "import seaborn as sns"
      ],
      "execution_count": null,
      "outputs": []
    },
    {
      "cell_type": "code",
      "metadata": {
        "id": "ytyqRPHeCDUr"
      },
      "source": [
        "df = pd.read_csv(\"/content/Salaries.csv\",index_col=0)"
      ],
      "execution_count": null,
      "outputs": []
    },
    {
      "cell_type": "code",
      "metadata": {
        "colab": {
          "base_uri": "https://localhost:8080/",
          "height": 204
        },
        "id": "9pqm-r6uFhzY",
        "outputId": "72b9d074-a5d7-43e3-e701-70007c916199"
      },
      "source": [
        "df.head()"
      ],
      "execution_count": null,
      "outputs": [
        {
          "output_type": "execute_result",
          "data": {
            "text/html": [
              "<div>\n",
              "<style scoped>\n",
              "    .dataframe tbody tr th:only-of-type {\n",
              "        vertical-align: middle;\n",
              "    }\n",
              "\n",
              "    .dataframe tbody tr th {\n",
              "        vertical-align: top;\n",
              "    }\n",
              "\n",
              "    .dataframe thead th {\n",
              "        text-align: right;\n",
              "    }\n",
              "</style>\n",
              "<table border=\"1\" class=\"dataframe\">\n",
              "  <thead>\n",
              "    <tr style=\"text-align: right;\">\n",
              "      <th></th>\n",
              "      <th>rank</th>\n",
              "      <th>discipline</th>\n",
              "      <th>yrs.since.phd</th>\n",
              "      <th>yrs.service</th>\n",
              "      <th>sex</th>\n",
              "      <th>salary</th>\n",
              "    </tr>\n",
              "  </thead>\n",
              "  <tbody>\n",
              "    <tr>\n",
              "      <th>1</th>\n",
              "      <td>Prof</td>\n",
              "      <td>B</td>\n",
              "      <td>19</td>\n",
              "      <td>18</td>\n",
              "      <td>Male</td>\n",
              "      <td>139750</td>\n",
              "    </tr>\n",
              "    <tr>\n",
              "      <th>2</th>\n",
              "      <td>Prof</td>\n",
              "      <td>B</td>\n",
              "      <td>20</td>\n",
              "      <td>16</td>\n",
              "      <td>Male</td>\n",
              "      <td>173200</td>\n",
              "    </tr>\n",
              "    <tr>\n",
              "      <th>3</th>\n",
              "      <td>AsstProf</td>\n",
              "      <td>B</td>\n",
              "      <td>4</td>\n",
              "      <td>3</td>\n",
              "      <td>Male</td>\n",
              "      <td>79750</td>\n",
              "    </tr>\n",
              "    <tr>\n",
              "      <th>4</th>\n",
              "      <td>Prof</td>\n",
              "      <td>B</td>\n",
              "      <td>45</td>\n",
              "      <td>39</td>\n",
              "      <td>Male</td>\n",
              "      <td>115000</td>\n",
              "    </tr>\n",
              "    <tr>\n",
              "      <th>5</th>\n",
              "      <td>Prof</td>\n",
              "      <td>B</td>\n",
              "      <td>40</td>\n",
              "      <td>41</td>\n",
              "      <td>Male</td>\n",
              "      <td>141500</td>\n",
              "    </tr>\n",
              "  </tbody>\n",
              "</table>\n",
              "</div>"
            ],
            "text/plain": [
              "       rank discipline  yrs.since.phd  yrs.service   sex  salary\n",
              "1      Prof          B             19           18  Male  139750\n",
              "2      Prof          B             20           16  Male  173200\n",
              "3  AsstProf          B              4            3  Male   79750\n",
              "4      Prof          B             45           39  Male  115000\n",
              "5      Prof          B             40           41  Male  141500"
            ]
          },
          "metadata": {
            "tags": []
          },
          "execution_count": 11
        }
      ]
    },
    {
      "cell_type": "code",
      "metadata": {
        "colab": {
          "base_uri": "https://localhost:8080/"
        },
        "id": "fb95Zq2UIEFU",
        "outputId": "7248d1f9-d4e5-4090-bd19-ae23d53a0cb0"
      },
      "source": [
        "df.dtypes"
      ],
      "execution_count": null,
      "outputs": [
        {
          "output_type": "execute_result",
          "data": {
            "text/plain": [
              "rank             object\n",
              "discipline       object\n",
              "yrs.since.phd     int64\n",
              "yrs.service       int64\n",
              "sex              object\n",
              "salary            int64\n",
              "dtype: object"
            ]
          },
          "metadata": {
            "tags": []
          },
          "execution_count": 12
        }
      ]
    },
    {
      "cell_type": "markdown",
      "metadata": {
        "id": "YvSxauNdI1JG"
      },
      "source": [
        "Metadata:"
      ]
    },
    {
      "cell_type": "code",
      "metadata": {
        "colab": {
          "base_uri": "https://localhost:8080/"
        },
        "id": "7vmzv96XIzeA",
        "outputId": "12a33673-f546-47e9-bfcf-788c6efaac41"
      },
      "source": [
        "df.columns"
      ],
      "execution_count": null,
      "outputs": [
        {
          "output_type": "execute_result",
          "data": {
            "text/plain": [
              "Index(['rank', 'discipline', 'yrs.since.phd', 'yrs.service', 'sex', 'salary'], dtype='object')"
            ]
          },
          "metadata": {
            "tags": []
          },
          "execution_count": 13
        }
      ]
    },
    {
      "cell_type": "code",
      "metadata": {
        "colab": {
          "base_uri": "https://localhost:8080/"
        },
        "id": "73LhVLz3Klg6",
        "outputId": "b8948265-232f-4938-8c0a-e1d9b6bf3893"
      },
      "source": [
        "df.size"
      ],
      "execution_count": null,
      "outputs": [
        {
          "output_type": "execute_result",
          "data": {
            "text/plain": [
              "2382"
            ]
          },
          "metadata": {
            "tags": []
          },
          "execution_count": 14
        }
      ]
    },
    {
      "cell_type": "code",
      "metadata": {
        "colab": {
          "base_uri": "https://localhost:8080/"
        },
        "id": "b-yNrxvuKoqu",
        "outputId": "22a20457-589b-44eb-de12-7ad6dd9cf673"
      },
      "source": [
        "df.shape"
      ],
      "execution_count": null,
      "outputs": [
        {
          "output_type": "execute_result",
          "data": {
            "text/plain": [
              "(397, 6)"
            ]
          },
          "metadata": {
            "tags": []
          },
          "execution_count": 15
        }
      ]
    },
    {
      "cell_type": "code",
      "metadata": {
        "colab": {
          "base_uri": "https://localhost:8080/"
        },
        "id": "NTs1pWQeKrjB",
        "outputId": "63f48851-7ddc-40ac-ba47-a12167a7da4c"
      },
      "source": [
        "df.ndim"
      ],
      "execution_count": null,
      "outputs": [
        {
          "output_type": "execute_result",
          "data": {
            "text/plain": [
              "2"
            ]
          },
          "metadata": {
            "tags": []
          },
          "execution_count": 16
        }
      ]
    },
    {
      "cell_type": "code",
      "metadata": {
        "colab": {
          "base_uri": "https://localhost:8080/"
        },
        "id": "q7ViUKVkKvaS",
        "outputId": "132d1383-753b-47c8-e06e-7dd68fac9c13"
      },
      "source": [
        "df.values"
      ],
      "execution_count": null,
      "outputs": [
        {
          "output_type": "execute_result",
          "data": {
            "text/plain": [
              "array([['Prof', 'B', 19, 18, 'Male', 139750],\n",
              "       ['Prof', 'B', 20, 16, 'Male', 173200],\n",
              "       ['AsstProf', 'B', 4, 3, 'Male', 79750],\n",
              "       ...,\n",
              "       ['Prof', 'A', 42, 25, 'Male', 101738],\n",
              "       ['Prof', 'A', 25, 15, 'Male', 95329],\n",
              "       ['AsstProf', 'A', 8, 4, 'Male', 81035]], dtype=object)"
            ]
          },
          "metadata": {
            "tags": []
          },
          "execution_count": 17
        }
      ]
    },
    {
      "cell_type": "code",
      "metadata": {
        "colab": {
          "base_uri": "https://localhost:8080/"
        },
        "id": "bc5YLZHNKy6r",
        "outputId": "55b4c3f7-2e58-4082-e460-7daaa294262c"
      },
      "source": [
        "df.axes"
      ],
      "execution_count": null,
      "outputs": [
        {
          "output_type": "execute_result",
          "data": {
            "text/plain": [
              "[Int64Index([  1,   2,   3,   4,   5,   6,   7,   8,   9,  10,\n",
              "             ...\n",
              "             388, 389, 390, 391, 392, 393, 394, 395, 396, 397],\n",
              "            dtype='int64', length=397),\n",
              " Index(['rank', 'discipline', 'yrs.since.phd', 'yrs.service', 'sex', 'salary'], dtype='object')]"
            ]
          },
          "metadata": {
            "tags": []
          },
          "execution_count": 18
        }
      ]
    },
    {
      "cell_type": "code",
      "metadata": {
        "colab": {
          "base_uri": "https://localhost:8080/"
        },
        "id": "BuIoaLcUK2K7",
        "outputId": "6370c073-2f5a-4e3f-bbf8-c82e77741b3d"
      },
      "source": [
        "#how many records this data frame has?\n",
        "len(df)\n",
        "#how many columns are there \n",
        "len(df.columns)\n",
        "#what are column names \n",
        "df.columns\n",
        "#what are the types of columns we have \n",
        "df.dtypes"
      ],
      "execution_count": null,
      "outputs": [
        {
          "output_type": "execute_result",
          "data": {
            "text/plain": [
              "rank             object\n",
              "discipline       object\n",
              "yrs.since.phd     int64\n",
              "yrs.service       int64\n",
              "sex              object\n",
              "salary            int64\n",
              "dtype: object"
            ]
          },
          "metadata": {
            "tags": []
          },
          "execution_count": 27
        }
      ]
    },
    {
      "cell_type": "code",
      "metadata": {
        "colab": {
          "base_uri": "https://localhost:8080/"
        },
        "id": "0vriQStqM8o5",
        "outputId": "15aaeb25-84dc-416e-dea9-7465f0cb17bc"
      },
      "source": [
        "#how many records this data frame has?\n",
        "df.shape[0]\n",
        "#how many columns are there \n",
        "df.shape[1]\n",
        "#what are column names \n",
        "df.columns\n",
        "#what are the types of columns we have \n",
        "df.dtypes"
      ],
      "execution_count": null,
      "outputs": [
        {
          "output_type": "execute_result",
          "data": {
            "text/plain": [
              "rank             object\n",
              "discipline       object\n",
              "yrs.since.phd     int64\n",
              "yrs.service       int64\n",
              "sex              object\n",
              "salary            int64\n",
              "dtype: object"
            ]
          },
          "metadata": {
            "tags": []
          },
          "execution_count": 31
        }
      ]
    },
    {
      "cell_type": "code",
      "metadata": {
        "colab": {
          "base_uri": "https://localhost:8080/"
        },
        "id": "LHo-YL7ANXNm",
        "outputId": "a955711f-518d-4613-b3cd-91ccc909478f"
      },
      "source": [
        "df.shape[0]"
      ],
      "execution_count": null,
      "outputs": [
        {
          "output_type": "execute_result",
          "data": {
            "text/plain": [
              "397"
            ]
          },
          "metadata": {
            "tags": []
          },
          "execution_count": 32
        }
      ]
    },
    {
      "cell_type": "code",
      "metadata": {
        "colab": {
          "base_uri": "https://localhost:8080/"
        },
        "id": "r5SBN-udNaz4",
        "outputId": "e4a82ee2-4d61-4af3-e218-2f57d8c4acd5"
      },
      "source": [
        "df.shape[1]"
      ],
      "execution_count": null,
      "outputs": [
        {
          "output_type": "execute_result",
          "data": {
            "text/plain": [
              "6"
            ]
          },
          "metadata": {
            "tags": []
          },
          "execution_count": 33
        }
      ]
    },
    {
      "cell_type": "markdown",
      "metadata": {
        "id": "e5yNovHeNkqk"
      },
      "source": [
        "data frames methods"
      ]
    },
    {
      "cell_type": "code",
      "metadata": {
        "colab": {
          "base_uri": "https://localhost:8080/",
          "height": 297
        },
        "id": "kbGCMS_FOD7R",
        "outputId": "d5e1d3f2-0a38-4332-acb1-1aacaeda079e"
      },
      "source": [
        "df.describe()"
      ],
      "execution_count": null,
      "outputs": [
        {
          "output_type": "execute_result",
          "data": {
            "text/html": [
              "<div>\n",
              "<style scoped>\n",
              "    .dataframe tbody tr th:only-of-type {\n",
              "        vertical-align: middle;\n",
              "    }\n",
              "\n",
              "    .dataframe tbody tr th {\n",
              "        vertical-align: top;\n",
              "    }\n",
              "\n",
              "    .dataframe thead th {\n",
              "        text-align: right;\n",
              "    }\n",
              "</style>\n",
              "<table border=\"1\" class=\"dataframe\">\n",
              "  <thead>\n",
              "    <tr style=\"text-align: right;\">\n",
              "      <th></th>\n",
              "      <th>yrs.since.phd</th>\n",
              "      <th>yrs.service</th>\n",
              "      <th>salary</th>\n",
              "    </tr>\n",
              "  </thead>\n",
              "  <tbody>\n",
              "    <tr>\n",
              "      <th>count</th>\n",
              "      <td>397.000000</td>\n",
              "      <td>397.000000</td>\n",
              "      <td>397.000000</td>\n",
              "    </tr>\n",
              "    <tr>\n",
              "      <th>mean</th>\n",
              "      <td>22.314861</td>\n",
              "      <td>17.614610</td>\n",
              "      <td>113706.458438</td>\n",
              "    </tr>\n",
              "    <tr>\n",
              "      <th>std</th>\n",
              "      <td>12.887003</td>\n",
              "      <td>13.006024</td>\n",
              "      <td>30289.038695</td>\n",
              "    </tr>\n",
              "    <tr>\n",
              "      <th>min</th>\n",
              "      <td>1.000000</td>\n",
              "      <td>0.000000</td>\n",
              "      <td>57800.000000</td>\n",
              "    </tr>\n",
              "    <tr>\n",
              "      <th>25%</th>\n",
              "      <td>12.000000</td>\n",
              "      <td>7.000000</td>\n",
              "      <td>91000.000000</td>\n",
              "    </tr>\n",
              "    <tr>\n",
              "      <th>50%</th>\n",
              "      <td>21.000000</td>\n",
              "      <td>16.000000</td>\n",
              "      <td>107300.000000</td>\n",
              "    </tr>\n",
              "    <tr>\n",
              "      <th>75%</th>\n",
              "      <td>32.000000</td>\n",
              "      <td>27.000000</td>\n",
              "      <td>134185.000000</td>\n",
              "    </tr>\n",
              "    <tr>\n",
              "      <th>max</th>\n",
              "      <td>56.000000</td>\n",
              "      <td>60.000000</td>\n",
              "      <td>231545.000000</td>\n",
              "    </tr>\n",
              "  </tbody>\n",
              "</table>\n",
              "</div>"
            ],
            "text/plain": [
              "       yrs.since.phd  yrs.service         salary\n",
              "count     397.000000   397.000000     397.000000\n",
              "mean       22.314861    17.614610  113706.458438\n",
              "std        12.887003    13.006024   30289.038695\n",
              "min         1.000000     0.000000   57800.000000\n",
              "25%        12.000000     7.000000   91000.000000\n",
              "50%        21.000000    16.000000  107300.000000\n",
              "75%        32.000000    27.000000  134185.000000\n",
              "max        56.000000    60.000000  231545.000000"
            ]
          },
          "metadata": {
            "tags": []
          },
          "execution_count": 34
        }
      ]
    },
    {
      "cell_type": "code",
      "metadata": {
        "colab": {
          "base_uri": "https://localhost:8080/"
        },
        "id": "tYoA9bmmOYmb",
        "outputId": "d9d14549-a0fe-49ed-8a88-01f70be84822"
      },
      "source": [
        "df.max()"
      ],
      "execution_count": null,
      "outputs": [
        {
          "output_type": "execute_result",
          "data": {
            "text/plain": [
              "rank               Prof\n",
              "discipline            B\n",
              "yrs.since.phd        56\n",
              "yrs.service          60\n",
              "sex                Male\n",
              "salary           231545\n",
              "dtype: object"
            ]
          },
          "metadata": {
            "tags": []
          },
          "execution_count": 36
        }
      ]
    },
    {
      "cell_type": "code",
      "metadata": {
        "colab": {
          "base_uri": "https://localhost:8080/"
        },
        "id": "tic0pT51OeJA",
        "outputId": "23ad5a15-060c-4003-c197-b6887c972025"
      },
      "source": [
        "df.min()"
      ],
      "execution_count": null,
      "outputs": [
        {
          "output_type": "execute_result",
          "data": {
            "text/plain": [
              "rank             AssocProf\n",
              "discipline               A\n",
              "yrs.since.phd            1\n",
              "yrs.service              0\n",
              "sex                 Female\n",
              "salary               57800\n",
              "dtype: object"
            ]
          },
          "metadata": {
            "tags": []
          },
          "execution_count": 37
        }
      ]
    },
    {
      "cell_type": "code",
      "metadata": {
        "colab": {
          "base_uri": "https://localhost:8080/"
        },
        "id": "TnwAzaalOeDd",
        "outputId": "9c0b7698-9dca-4b19-aa94-ac139d059d73"
      },
      "source": [
        "df.mean()"
      ],
      "execution_count": null,
      "outputs": [
        {
          "output_type": "execute_result",
          "data": {
            "text/plain": [
              "yrs.since.phd        22.314861\n",
              "yrs.service          17.614610\n",
              "salary           113706.458438\n",
              "dtype: float64"
            ]
          },
          "metadata": {
            "tags": []
          },
          "execution_count": 38
        }
      ]
    },
    {
      "cell_type": "code",
      "metadata": {
        "colab": {
          "base_uri": "https://localhost:8080/"
        },
        "id": "QbTxKnGgOd7C",
        "outputId": "2a4d3c50-dc9f-4d30-9e1e-a6e8171d390a"
      },
      "source": [
        "df.median()"
      ],
      "execution_count": null,
      "outputs": [
        {
          "output_type": "execute_result",
          "data": {
            "text/plain": [
              "yrs.since.phd        21.0\n",
              "yrs.service          16.0\n",
              "salary           107300.0\n",
              "dtype: float64"
            ]
          },
          "metadata": {
            "tags": []
          },
          "execution_count": 39
        }
      ]
    },
    {
      "cell_type": "markdown",
      "metadata": {
        "id": "G-sPwDoGPEps"
      },
      "source": [
        "head( n), tail( n )\n",
        "describe()\n",
        "max(), min()\n",
        "mean(), median()\n",
        "std()\n",
        "sample(n)\n",
        "dropna()"
      ]
    },
    {
      "cell_type": "code",
      "metadata": {
        "colab": {
          "base_uri": "https://localhost:8080/",
          "height": 297
        },
        "id": "zNY7G3FtPMM_",
        "outputId": "d909fd11-3be0-4447-a441-dd31eadc359d"
      },
      "source": [
        "#give the summary for the numeric columns in the dataset\n",
        "df.describe()"
      ],
      "execution_count": null,
      "outputs": [
        {
          "output_type": "execute_result",
          "data": {
            "text/html": [
              "<div>\n",
              "<style scoped>\n",
              "    .dataframe tbody tr th:only-of-type {\n",
              "        vertical-align: middle;\n",
              "    }\n",
              "\n",
              "    .dataframe tbody tr th {\n",
              "        vertical-align: top;\n",
              "    }\n",
              "\n",
              "    .dataframe thead th {\n",
              "        text-align: right;\n",
              "    }\n",
              "</style>\n",
              "<table border=\"1\" class=\"dataframe\">\n",
              "  <thead>\n",
              "    <tr style=\"text-align: right;\">\n",
              "      <th></th>\n",
              "      <th>yrs.since.phd</th>\n",
              "      <th>yrs.service</th>\n",
              "      <th>salary</th>\n",
              "    </tr>\n",
              "  </thead>\n",
              "  <tbody>\n",
              "    <tr>\n",
              "      <th>count</th>\n",
              "      <td>397.000000</td>\n",
              "      <td>397.000000</td>\n",
              "      <td>397.000000</td>\n",
              "    </tr>\n",
              "    <tr>\n",
              "      <th>mean</th>\n",
              "      <td>22.314861</td>\n",
              "      <td>17.614610</td>\n",
              "      <td>113706.458438</td>\n",
              "    </tr>\n",
              "    <tr>\n",
              "      <th>std</th>\n",
              "      <td>12.887003</td>\n",
              "      <td>13.006024</td>\n",
              "      <td>30289.038695</td>\n",
              "    </tr>\n",
              "    <tr>\n",
              "      <th>min</th>\n",
              "      <td>1.000000</td>\n",
              "      <td>0.000000</td>\n",
              "      <td>57800.000000</td>\n",
              "    </tr>\n",
              "    <tr>\n",
              "      <th>25%</th>\n",
              "      <td>12.000000</td>\n",
              "      <td>7.000000</td>\n",
              "      <td>91000.000000</td>\n",
              "    </tr>\n",
              "    <tr>\n",
              "      <th>50%</th>\n",
              "      <td>21.000000</td>\n",
              "      <td>16.000000</td>\n",
              "      <td>107300.000000</td>\n",
              "    </tr>\n",
              "    <tr>\n",
              "      <th>75%</th>\n",
              "      <td>32.000000</td>\n",
              "      <td>27.000000</td>\n",
              "      <td>134185.000000</td>\n",
              "    </tr>\n",
              "    <tr>\n",
              "      <th>max</th>\n",
              "      <td>56.000000</td>\n",
              "      <td>60.000000</td>\n",
              "      <td>231545.000000</td>\n",
              "    </tr>\n",
              "  </tbody>\n",
              "</table>\n",
              "</div>"
            ],
            "text/plain": [
              "       yrs.since.phd  yrs.service         salary\n",
              "count     397.000000   397.000000     397.000000\n",
              "mean       22.314861    17.614610  113706.458438\n",
              "std        12.887003    13.006024   30289.038695\n",
              "min         1.000000     0.000000   57800.000000\n",
              "25%        12.000000     7.000000   91000.000000\n",
              "50%        21.000000    16.000000  107300.000000\n",
              "75%        32.000000    27.000000  134185.000000\n",
              "max        56.000000    60.000000  231545.000000"
            ]
          },
          "metadata": {
            "tags": []
          },
          "execution_count": 47
        }
      ]
    },
    {
      "cell_type": "code",
      "metadata": {
        "colab": {
          "base_uri": "https://localhost:8080/"
        },
        "id": "7Ej02XqZPaIo",
        "outputId": "e22fd5ea-b238-438a-e60a-fdd1cddd2a7d"
      },
      "source": [
        "#calculate standard devation for all numeric columns\n",
        "df.std()"
      ],
      "execution_count": null,
      "outputs": [
        {
          "output_type": "execute_result",
          "data": {
            "text/plain": [
              "yrs.since.phd       12.887003\n",
              "yrs.service         13.006024\n",
              "salary           30289.038695\n",
              "dtype: float64"
            ]
          },
          "metadata": {
            "tags": []
          },
          "execution_count": 46
        }
      ]
    },
    {
      "cell_type": "code",
      "metadata": {
        "colab": {
          "base_uri": "https://localhost:8080/"
        },
        "id": "DCSlit_zPhUM",
        "outputId": "99670622-74a0-497e-c97c-c91219471a6e"
      },
      "source": [
        "#what are the mean values of the first 50 records in the dataset\n",
        "df_2=df.head(50)\n",
        "df_2.mean()"
      ],
      "execution_count": null,
      "outputs": [
        {
          "output_type": "execute_result",
          "data": {
            "text/plain": [
              "yrs.since.phd        20.92\n",
              "yrs.service          16.22\n",
              "salary           112625.64\n",
              "dtype: float64"
            ]
          },
          "metadata": {
            "tags": []
          },
          "execution_count": 48
        }
      ]
    },
    {
      "cell_type": "code",
      "metadata": {
        "colab": {
          "base_uri": "https://localhost:8080/"
        },
        "id": "NbHj3REOQAyM",
        "outputId": "19f79bbf-1af5-4aa6-b39b-799d22510e6b"
      },
      "source": [
        "df.head(50).mean()\n",
        "#chain method"
      ],
      "execution_count": null,
      "outputs": [
        {
          "output_type": "execute_result",
          "data": {
            "text/plain": [
              "yrs.since.phd        20.92\n",
              "yrs.service          16.22\n",
              "salary           112625.64\n",
              "dtype: float64"
            ]
          },
          "metadata": {
            "tags": []
          },
          "execution_count": 49
        }
      ]
    },
    {
      "cell_type": "code",
      "metadata": {
        "colab": {
          "base_uri": "https://localhost:8080/",
          "height": 204
        },
        "id": "VaINnGUcUUdR",
        "outputId": "aa615c9c-706b-45f9-f726-7e83ffafa994"
      },
      "source": [
        "df.head()"
      ],
      "execution_count": null,
      "outputs": [
        {
          "output_type": "execute_result",
          "data": {
            "text/html": [
              "<div>\n",
              "<style scoped>\n",
              "    .dataframe tbody tr th:only-of-type {\n",
              "        vertical-align: middle;\n",
              "    }\n",
              "\n",
              "    .dataframe tbody tr th {\n",
              "        vertical-align: top;\n",
              "    }\n",
              "\n",
              "    .dataframe thead th {\n",
              "        text-align: right;\n",
              "    }\n",
              "</style>\n",
              "<table border=\"1\" class=\"dataframe\">\n",
              "  <thead>\n",
              "    <tr style=\"text-align: right;\">\n",
              "      <th></th>\n",
              "      <th>rank</th>\n",
              "      <th>discipline</th>\n",
              "      <th>yrs.since.phd</th>\n",
              "      <th>yrs.service</th>\n",
              "      <th>sex</th>\n",
              "      <th>salary</th>\n",
              "    </tr>\n",
              "  </thead>\n",
              "  <tbody>\n",
              "    <tr>\n",
              "      <th>1</th>\n",
              "      <td>Prof</td>\n",
              "      <td>B</td>\n",
              "      <td>19</td>\n",
              "      <td>18</td>\n",
              "      <td>Male</td>\n",
              "      <td>139750</td>\n",
              "    </tr>\n",
              "    <tr>\n",
              "      <th>2</th>\n",
              "      <td>Prof</td>\n",
              "      <td>B</td>\n",
              "      <td>20</td>\n",
              "      <td>16</td>\n",
              "      <td>Male</td>\n",
              "      <td>173200</td>\n",
              "    </tr>\n",
              "    <tr>\n",
              "      <th>3</th>\n",
              "      <td>AsstProf</td>\n",
              "      <td>B</td>\n",
              "      <td>4</td>\n",
              "      <td>3</td>\n",
              "      <td>Male</td>\n",
              "      <td>79750</td>\n",
              "    </tr>\n",
              "    <tr>\n",
              "      <th>4</th>\n",
              "      <td>Prof</td>\n",
              "      <td>B</td>\n",
              "      <td>45</td>\n",
              "      <td>39</td>\n",
              "      <td>Male</td>\n",
              "      <td>115000</td>\n",
              "    </tr>\n",
              "    <tr>\n",
              "      <th>5</th>\n",
              "      <td>Prof</td>\n",
              "      <td>B</td>\n",
              "      <td>40</td>\n",
              "      <td>41</td>\n",
              "      <td>Male</td>\n",
              "      <td>141500</td>\n",
              "    </tr>\n",
              "  </tbody>\n",
              "</table>\n",
              "</div>"
            ],
            "text/plain": [
              "       rank discipline  yrs.since.phd  yrs.service   sex  salary\n",
              "1      Prof          B             19           18  Male  139750\n",
              "2      Prof          B             20           16  Male  173200\n",
              "3  AsstProf          B              4            3  Male   79750\n",
              "4      Prof          B             45           39  Male  115000\n",
              "5      Prof          B             40           41  Male  141500"
            ]
          },
          "metadata": {
            "tags": []
          },
          "execution_count": 50
        }
      ]
    },
    {
      "cell_type": "code",
      "metadata": {
        "colab": {
          "base_uri": "https://localhost:8080/"
        },
        "id": "39Ms6bUAUZmb",
        "outputId": "b16ca258-28d5-4128-f1b1-feaa762eb07c"
      },
      "source": [
        "df.salary"
      ],
      "execution_count": null,
      "outputs": [
        {
          "output_type": "execute_result",
          "data": {
            "text/plain": [
              "1      139750\n",
              "2      173200\n",
              "3       79750\n",
              "4      115000\n",
              "5      141500\n",
              "        ...  \n",
              "393    103106\n",
              "394    150564\n",
              "395    101738\n",
              "396     95329\n",
              "397     81035\n",
              "Name: salary, Length: 397, dtype: int64"
            ]
          },
          "metadata": {
            "tags": []
          },
          "execution_count": 51
        }
      ]
    },
    {
      "cell_type": "code",
      "metadata": {
        "colab": {
          "base_uri": "https://localhost:8080/"
        },
        "id": "NJOTFgFkUcm4",
        "outputId": "1a4aaa01-f36e-4fe9-e162-52783046d984"
      },
      "source": [
        "df['salary']"
      ],
      "execution_count": null,
      "outputs": [
        {
          "output_type": "execute_result",
          "data": {
            "text/plain": [
              "1      139750\n",
              "2      173200\n",
              "3       79750\n",
              "4      115000\n",
              "5      141500\n",
              "        ...  \n",
              "393    103106\n",
              "394    150564\n",
              "395    101738\n",
              "396     95329\n",
              "397     81035\n",
              "Name: salary, Length: 397, dtype: int64"
            ]
          },
          "metadata": {
            "tags": []
          },
          "execution_count": 52
        }
      ]
    },
    {
      "cell_type": "code",
      "metadata": {
        "colab": {
          "base_uri": "https://localhost:8080/",
          "height": 419
        },
        "id": "WVHKZQcCUsGj",
        "outputId": "2da6a46a-23cb-4a28-e97a-b848bf55330a"
      },
      "source": [
        "df[['salary']]"
      ],
      "execution_count": null,
      "outputs": [
        {
          "output_type": "execute_result",
          "data": {
            "text/html": [
              "<div>\n",
              "<style scoped>\n",
              "    .dataframe tbody tr th:only-of-type {\n",
              "        vertical-align: middle;\n",
              "    }\n",
              "\n",
              "    .dataframe tbody tr th {\n",
              "        vertical-align: top;\n",
              "    }\n",
              "\n",
              "    .dataframe thead th {\n",
              "        text-align: right;\n",
              "    }\n",
              "</style>\n",
              "<table border=\"1\" class=\"dataframe\">\n",
              "  <thead>\n",
              "    <tr style=\"text-align: right;\">\n",
              "      <th></th>\n",
              "      <th>salary</th>\n",
              "    </tr>\n",
              "  </thead>\n",
              "  <tbody>\n",
              "    <tr>\n",
              "      <th>1</th>\n",
              "      <td>139750</td>\n",
              "    </tr>\n",
              "    <tr>\n",
              "      <th>2</th>\n",
              "      <td>173200</td>\n",
              "    </tr>\n",
              "    <tr>\n",
              "      <th>3</th>\n",
              "      <td>79750</td>\n",
              "    </tr>\n",
              "    <tr>\n",
              "      <th>4</th>\n",
              "      <td>115000</td>\n",
              "    </tr>\n",
              "    <tr>\n",
              "      <th>5</th>\n",
              "      <td>141500</td>\n",
              "    </tr>\n",
              "    <tr>\n",
              "      <th>...</th>\n",
              "      <td>...</td>\n",
              "    </tr>\n",
              "    <tr>\n",
              "      <th>393</th>\n",
              "      <td>103106</td>\n",
              "    </tr>\n",
              "    <tr>\n",
              "      <th>394</th>\n",
              "      <td>150564</td>\n",
              "    </tr>\n",
              "    <tr>\n",
              "      <th>395</th>\n",
              "      <td>101738</td>\n",
              "    </tr>\n",
              "    <tr>\n",
              "      <th>396</th>\n",
              "      <td>95329</td>\n",
              "    </tr>\n",
              "    <tr>\n",
              "      <th>397</th>\n",
              "      <td>81035</td>\n",
              "    </tr>\n",
              "  </tbody>\n",
              "</table>\n",
              "<p>397 rows × 1 columns</p>\n",
              "</div>"
            ],
            "text/plain": [
              "     salary\n",
              "1    139750\n",
              "2    173200\n",
              "3     79750\n",
              "4    115000\n",
              "5    141500\n",
              "..      ...\n",
              "393  103106\n",
              "394  150564\n",
              "395  101738\n",
              "396   95329\n",
              "397   81035\n",
              "\n",
              "[397 rows x 1 columns]"
            ]
          },
          "metadata": {
            "tags": []
          },
          "execution_count": 53
        }
      ]
    },
    {
      "cell_type": "code",
      "metadata": {
        "colab": {
          "base_uri": "https://localhost:8080/"
        },
        "id": "FNWk_TyWVAoB",
        "outputId": "57b524e6-2aba-48e6-d6fc-01ecc04d1f5a"
      },
      "source": [
        "#calculate the basics statistics for the phd column\n",
        "df_phd=df['yrs.since.phd']\n",
        "df_phd.describe()\n"
      ],
      "execution_count": null,
      "outputs": [
        {
          "output_type": "execute_result",
          "data": {
            "text/plain": [
              "count    397.000000\n",
              "mean      22.314861\n",
              "std       12.887003\n",
              "min        1.000000\n",
              "25%       12.000000\n",
              "50%       21.000000\n",
              "75%       32.000000\n",
              "max       56.000000\n",
              "Name: yrs.since.phd, dtype: float64"
            ]
          },
          "metadata": {
            "tags": []
          },
          "execution_count": 59
        }
      ]
    },
    {
      "cell_type": "code",
      "metadata": {
        "colab": {
          "base_uri": "https://localhost:8080/"
        },
        "id": "EfozQxKuVxzj",
        "outputId": "a21d8d06-77d7-4348-df86-cd1b145138e9"
      },
      "source": [
        "df['yrs.since.phd'].describe()"
      ],
      "execution_count": null,
      "outputs": [
        {
          "output_type": "execute_result",
          "data": {
            "text/plain": [
              "count    397.000000\n",
              "mean      22.314861\n",
              "std       12.887003\n",
              "min        1.000000\n",
              "25%       12.000000\n",
              "50%       21.000000\n",
              "75%       32.000000\n",
              "max       56.000000\n",
              "Name: yrs.since.phd, dtype: float64"
            ]
          },
          "metadata": {
            "tags": []
          },
          "execution_count": 60
        }
      ]
    },
    {
      "cell_type": "code",
      "metadata": {
        "colab": {
          "base_uri": "https://localhost:8080/"
        },
        "id": "Pds_-KcHWEK4",
        "outputId": "9670209d-4d56-493b-cdaa-a8523ec6d61b"
      },
      "source": [
        "df['yrs.since.phd'].mean()"
      ],
      "execution_count": null,
      "outputs": [
        {
          "output_type": "execute_result",
          "data": {
            "text/plain": [
              "22.31486146095718"
            ]
          },
          "metadata": {
            "tags": []
          },
          "execution_count": 61
        }
      ]
    },
    {
      "cell_type": "code",
      "metadata": {
        "colab": {
          "base_uri": "https://localhost:8080/"
        },
        "id": "bnydvIJtWPLt",
        "outputId": "99e0a117-0471-4775-c0d6-fe75548978a8"
      },
      "source": [
        "df['yrs.since.phd'].values"
      ],
      "execution_count": null,
      "outputs": [
        {
          "output_type": "execute_result",
          "data": {
            "text/plain": [
              "array([19, 20,  4, 45, 40,  6, 30, 45, 21, 18, 12,  7,  1,  2, 20, 12, 19,\n",
              "       38, 37, 39, 31, 36, 34, 24, 13, 21, 35,  5, 11, 12, 20,  7, 13,  4,\n",
              "        4,  5, 22,  7, 41,  9, 23, 23, 40, 38, 19, 25, 40, 23, 25,  1, 28,\n",
              "       12, 11, 16, 12, 14, 23,  9, 10,  8,  9,  3, 33, 11,  4,  9, 22, 35,\n",
              "       17, 28, 17, 45, 29, 35, 28,  8, 17, 26,  3,  6, 43, 17, 22,  6, 17,\n",
              "       15, 37,  2, 25,  9, 10, 10, 10, 38, 21,  4, 17, 13, 30, 41, 42, 28,\n",
              "       16, 20, 18, 31, 11, 10, 15, 40, 20, 19,  3, 37, 12, 21, 30, 39,  4,\n",
              "        5, 14, 32, 24, 25, 24, 54, 28,  2, 32,  4, 11, 56, 10,  3, 35, 20,\n",
              "       16, 17, 10, 21, 14, 15, 19,  3, 27, 28,  4, 27, 36,  4, 14,  4, 21,\n",
              "       12,  4, 21, 12,  1,  6, 15,  2, 26, 22,  3,  1, 21, 16, 18,  8, 25,\n",
              "        5, 19, 37, 20, 17, 28, 10, 13, 27,  3, 11, 18,  8, 26, 23, 33, 13,\n",
              "       18, 28, 25, 22, 43, 19, 19, 48,  9,  4,  4, 34, 38,  4, 40, 28, 17,\n",
              "       19, 21, 35, 18,  7, 20,  4, 39, 15, 26, 11, 16, 15, 29, 14, 13, 21,\n",
              "       23, 13, 34, 38, 20,  3,  9, 16, 39, 29, 26, 38, 36,  8, 28, 25,  7,\n",
              "       46, 19,  5, 31, 38, 23, 19, 17, 30, 21, 28, 29, 39, 20, 31,  4, 28,\n",
              "       12, 22, 30,  9, 32, 41, 45, 31, 31, 37, 36, 43, 14, 47, 13, 42, 42,\n",
              "        4,  8,  8, 12, 52, 31, 24, 46, 39, 37, 51, 45,  8, 49, 28,  2, 29,\n",
              "        8, 33, 32, 39, 11, 19, 40, 18, 17, 49, 45, 39, 27, 28, 14, 46, 33,\n",
              "        7, 31,  5, 22, 20, 14, 29, 35, 22,  6, 12, 46, 16, 16, 24,  9, 13,\n",
              "       24, 30,  8, 23, 37, 10, 23, 49, 20, 18, 33, 19, 36, 35, 13, 32, 37,\n",
              "       13, 17, 38, 31, 32, 15, 41, 39,  4, 27, 56, 38, 26, 22,  8, 25, 49,\n",
              "       39, 28, 11, 14, 23, 30, 20, 43, 43, 15, 10, 35, 33, 13, 23, 12, 30,\n",
              "       27, 28,  4,  6, 38, 11,  8, 27,  8, 44, 27, 15, 29, 29, 38, 33, 40,\n",
              "       30, 33, 31, 42, 25,  8])"
            ]
          },
          "metadata": {
            "tags": []
          },
          "execution_count": 63
        }
      ]
    },
    {
      "cell_type": "code",
      "metadata": {
        "colab": {
          "base_uri": "https://localhost:8080/"
        },
        "id": "ZoNUFQEfWeBa",
        "outputId": "32bcc10a-f184-4363-c0f8-48e73e85a6f3"
      },
      "source": [
        "df['yrs.since.phd'].count()"
      ],
      "execution_count": null,
      "outputs": [
        {
          "output_type": "execute_result",
          "data": {
            "text/plain": [
              "397"
            ]
          },
          "metadata": {
            "tags": []
          },
          "execution_count": 64
        }
      ]
    },
    {
      "cell_type": "code",
      "metadata": {
        "colab": {
          "base_uri": "https://localhost:8080/",
          "height": 204
        },
        "id": "I0shyu4XYlrj",
        "outputId": "a88adc49-170b-4b0e-e993-e905c5f288ba"
      },
      "source": [
        "df.head()"
      ],
      "execution_count": null,
      "outputs": [
        {
          "output_type": "execute_result",
          "data": {
            "text/html": [
              "<div>\n",
              "<style scoped>\n",
              "    .dataframe tbody tr th:only-of-type {\n",
              "        vertical-align: middle;\n",
              "    }\n",
              "\n",
              "    .dataframe tbody tr th {\n",
              "        vertical-align: top;\n",
              "    }\n",
              "\n",
              "    .dataframe thead th {\n",
              "        text-align: right;\n",
              "    }\n",
              "</style>\n",
              "<table border=\"1\" class=\"dataframe\">\n",
              "  <thead>\n",
              "    <tr style=\"text-align: right;\">\n",
              "      <th></th>\n",
              "      <th>rank</th>\n",
              "      <th>discipline</th>\n",
              "      <th>yrs.since.phd</th>\n",
              "      <th>yrs.service</th>\n",
              "      <th>sex</th>\n",
              "      <th>salary</th>\n",
              "    </tr>\n",
              "  </thead>\n",
              "  <tbody>\n",
              "    <tr>\n",
              "      <th>1</th>\n",
              "      <td>Prof</td>\n",
              "      <td>B</td>\n",
              "      <td>19</td>\n",
              "      <td>18</td>\n",
              "      <td>Male</td>\n",
              "      <td>139750</td>\n",
              "    </tr>\n",
              "    <tr>\n",
              "      <th>2</th>\n",
              "      <td>Prof</td>\n",
              "      <td>B</td>\n",
              "      <td>20</td>\n",
              "      <td>16</td>\n",
              "      <td>Male</td>\n",
              "      <td>173200</td>\n",
              "    </tr>\n",
              "    <tr>\n",
              "      <th>3</th>\n",
              "      <td>AsstProf</td>\n",
              "      <td>B</td>\n",
              "      <td>4</td>\n",
              "      <td>3</td>\n",
              "      <td>Male</td>\n",
              "      <td>79750</td>\n",
              "    </tr>\n",
              "    <tr>\n",
              "      <th>4</th>\n",
              "      <td>Prof</td>\n",
              "      <td>B</td>\n",
              "      <td>45</td>\n",
              "      <td>39</td>\n",
              "      <td>Male</td>\n",
              "      <td>115000</td>\n",
              "    </tr>\n",
              "    <tr>\n",
              "      <th>5</th>\n",
              "      <td>Prof</td>\n",
              "      <td>B</td>\n",
              "      <td>40</td>\n",
              "      <td>41</td>\n",
              "      <td>Male</td>\n",
              "      <td>141500</td>\n",
              "    </tr>\n",
              "  </tbody>\n",
              "</table>\n",
              "</div>"
            ],
            "text/plain": [
              "       rank discipline  yrs.since.phd  yrs.service   sex  salary\n",
              "1      Prof          B             19           18  Male  139750\n",
              "2      Prof          B             20           16  Male  173200\n",
              "3  AsstProf          B              4            3  Male   79750\n",
              "4      Prof          B             45           39  Male  115000\n",
              "5      Prof          B             40           41  Male  141500"
            ]
          },
          "metadata": {
            "tags": []
          },
          "execution_count": 66
        }
      ]
    },
    {
      "cell_type": "code",
      "metadata": {
        "colab": {
          "base_uri": "https://localhost:8080/",
          "height": 173
        },
        "id": "2zTxkwrKYq2n",
        "outputId": "7f799cd5-6fee-4cb3-fcb0-57d04ba843bf"
      },
      "source": [
        "df.groupby(['rank']).mean()"
      ],
      "execution_count": null,
      "outputs": [
        {
          "output_type": "execute_result",
          "data": {
            "text/html": [
              "<div>\n",
              "<style scoped>\n",
              "    .dataframe tbody tr th:only-of-type {\n",
              "        vertical-align: middle;\n",
              "    }\n",
              "\n",
              "    .dataframe tbody tr th {\n",
              "        vertical-align: top;\n",
              "    }\n",
              "\n",
              "    .dataframe thead th {\n",
              "        text-align: right;\n",
              "    }\n",
              "</style>\n",
              "<table border=\"1\" class=\"dataframe\">\n",
              "  <thead>\n",
              "    <tr style=\"text-align: right;\">\n",
              "      <th></th>\n",
              "      <th>yrs.since.phd</th>\n",
              "      <th>yrs.service</th>\n",
              "      <th>salary</th>\n",
              "    </tr>\n",
              "    <tr>\n",
              "      <th>rank</th>\n",
              "      <th></th>\n",
              "      <th></th>\n",
              "      <th></th>\n",
              "    </tr>\n",
              "  </thead>\n",
              "  <tbody>\n",
              "    <tr>\n",
              "      <th>AssocProf</th>\n",
              "      <td>15.453125</td>\n",
              "      <td>11.953125</td>\n",
              "      <td>93876.437500</td>\n",
              "    </tr>\n",
              "    <tr>\n",
              "      <th>AsstProf</th>\n",
              "      <td>5.104478</td>\n",
              "      <td>2.373134</td>\n",
              "      <td>80775.985075</td>\n",
              "    </tr>\n",
              "    <tr>\n",
              "      <th>Prof</th>\n",
              "      <td>28.300752</td>\n",
              "      <td>22.815789</td>\n",
              "      <td>126772.109023</td>\n",
              "    </tr>\n",
              "  </tbody>\n",
              "</table>\n",
              "</div>"
            ],
            "text/plain": [
              "           yrs.since.phd  yrs.service         salary\n",
              "rank                                                \n",
              "AssocProf      15.453125    11.953125   93876.437500\n",
              "AsstProf        5.104478     2.373134   80775.985075\n",
              "Prof           28.300752    22.815789  126772.109023"
            ]
          },
          "metadata": {
            "tags": []
          },
          "execution_count": 67
        }
      ]
    },
    {
      "cell_type": "code",
      "metadata": {
        "colab": {
          "base_uri": "https://localhost:8080/",
          "height": 173
        },
        "id": "aAMltq3DY11L",
        "outputId": "4ec48c4c-b06d-452f-8eab-177c3dad0783"
      },
      "source": [
        "df.groupby('rank')[['salary','yrs.since.phd']].mean()"
      ],
      "execution_count": null,
      "outputs": [
        {
          "output_type": "execute_result",
          "data": {
            "text/html": [
              "<div>\n",
              "<style scoped>\n",
              "    .dataframe tbody tr th:only-of-type {\n",
              "        vertical-align: middle;\n",
              "    }\n",
              "\n",
              "    .dataframe tbody tr th {\n",
              "        vertical-align: top;\n",
              "    }\n",
              "\n",
              "    .dataframe thead th {\n",
              "        text-align: right;\n",
              "    }\n",
              "</style>\n",
              "<table border=\"1\" class=\"dataframe\">\n",
              "  <thead>\n",
              "    <tr style=\"text-align: right;\">\n",
              "      <th></th>\n",
              "      <th>salary</th>\n",
              "      <th>yrs.since.phd</th>\n",
              "    </tr>\n",
              "    <tr>\n",
              "      <th>rank</th>\n",
              "      <th></th>\n",
              "      <th></th>\n",
              "    </tr>\n",
              "  </thead>\n",
              "  <tbody>\n",
              "    <tr>\n",
              "      <th>AssocProf</th>\n",
              "      <td>93876.437500</td>\n",
              "      <td>15.453125</td>\n",
              "    </tr>\n",
              "    <tr>\n",
              "      <th>AsstProf</th>\n",
              "      <td>80775.985075</td>\n",
              "      <td>5.104478</td>\n",
              "    </tr>\n",
              "    <tr>\n",
              "      <th>Prof</th>\n",
              "      <td>126772.109023</td>\n",
              "      <td>28.300752</td>\n",
              "    </tr>\n",
              "  </tbody>\n",
              "</table>\n",
              "</div>"
            ],
            "text/plain": [
              "                  salary  yrs.since.phd\n",
              "rank                                   \n",
              "AssocProf   93876.437500      15.453125\n",
              "AsstProf    80775.985075       5.104478\n",
              "Prof       126772.109023      28.300752"
            ]
          },
          "metadata": {
            "tags": []
          },
          "execution_count": 69
        }
      ]
    },
    {
      "cell_type": "code",
      "metadata": {
        "colab": {
          "base_uri": "https://localhost:8080/",
          "height": 204
        },
        "id": "jM9FwMAjZ2Pu",
        "outputId": "90e6ebe8-133f-42e8-9a8a-67964a4e67b4"
      },
      "source": [
        "df.head()"
      ],
      "execution_count": null,
      "outputs": [
        {
          "output_type": "execute_result",
          "data": {
            "text/html": [
              "<div>\n",
              "<style scoped>\n",
              "    .dataframe tbody tr th:only-of-type {\n",
              "        vertical-align: middle;\n",
              "    }\n",
              "\n",
              "    .dataframe tbody tr th {\n",
              "        vertical-align: top;\n",
              "    }\n",
              "\n",
              "    .dataframe thead th {\n",
              "        text-align: right;\n",
              "    }\n",
              "</style>\n",
              "<table border=\"1\" class=\"dataframe\">\n",
              "  <thead>\n",
              "    <tr style=\"text-align: right;\">\n",
              "      <th></th>\n",
              "      <th>rank</th>\n",
              "      <th>discipline</th>\n",
              "      <th>yrs.since.phd</th>\n",
              "      <th>yrs.service</th>\n",
              "      <th>sex</th>\n",
              "      <th>salary</th>\n",
              "    </tr>\n",
              "  </thead>\n",
              "  <tbody>\n",
              "    <tr>\n",
              "      <th>1</th>\n",
              "      <td>Prof</td>\n",
              "      <td>B</td>\n",
              "      <td>19</td>\n",
              "      <td>18</td>\n",
              "      <td>Male</td>\n",
              "      <td>139750</td>\n",
              "    </tr>\n",
              "    <tr>\n",
              "      <th>2</th>\n",
              "      <td>Prof</td>\n",
              "      <td>B</td>\n",
              "      <td>20</td>\n",
              "      <td>16</td>\n",
              "      <td>Male</td>\n",
              "      <td>173200</td>\n",
              "    </tr>\n",
              "    <tr>\n",
              "      <th>3</th>\n",
              "      <td>AsstProf</td>\n",
              "      <td>B</td>\n",
              "      <td>4</td>\n",
              "      <td>3</td>\n",
              "      <td>Male</td>\n",
              "      <td>79750</td>\n",
              "    </tr>\n",
              "    <tr>\n",
              "      <th>4</th>\n",
              "      <td>Prof</td>\n",
              "      <td>B</td>\n",
              "      <td>45</td>\n",
              "      <td>39</td>\n",
              "      <td>Male</td>\n",
              "      <td>115000</td>\n",
              "    </tr>\n",
              "    <tr>\n",
              "      <th>5</th>\n",
              "      <td>Prof</td>\n",
              "      <td>B</td>\n",
              "      <td>40</td>\n",
              "      <td>41</td>\n",
              "      <td>Male</td>\n",
              "      <td>141500</td>\n",
              "    </tr>\n",
              "  </tbody>\n",
              "</table>\n",
              "</div>"
            ],
            "text/plain": [
              "       rank discipline  yrs.since.phd  yrs.service   sex  salary\n",
              "1      Prof          B             19           18  Male  139750\n",
              "2      Prof          B             20           16  Male  173200\n",
              "3  AsstProf          B              4            3  Male   79750\n",
              "4      Prof          B             45           39  Male  115000\n",
              "5      Prof          B             40           41  Male  141500"
            ]
          },
          "metadata": {
            "tags": []
          },
          "execution_count": 70
        }
      ]
    },
    {
      "cell_type": "code",
      "metadata": {
        "colab": {
          "base_uri": "https://localhost:8080/"
        },
        "id": "65rssogTZ5uZ",
        "outputId": "a492eb04-11ad-410f-bd11-cde30505efa3"
      },
      "source": [
        "#df.salary>120000\n",
        "df['salary']>120000"
      ],
      "execution_count": null,
      "outputs": [
        {
          "output_type": "execute_result",
          "data": {
            "text/plain": [
              "1       True\n",
              "2       True\n",
              "3      False\n",
              "4      False\n",
              "5       True\n",
              "       ...  \n",
              "393    False\n",
              "394     True\n",
              "395    False\n",
              "396    False\n",
              "397    False\n",
              "Name: salary, Length: 397, dtype: bool"
            ]
          },
          "metadata": {
            "tags": []
          },
          "execution_count": 74
        }
      ]
    },
    {
      "cell_type": "code",
      "metadata": {
        "colab": {
          "base_uri": "https://localhost:8080/",
          "height": 419
        },
        "id": "KufHnF9RaCEo",
        "outputId": "68f75e1d-767f-44ed-a674-a61365070345"
      },
      "source": [
        "df[df['salary']>120000]"
      ],
      "execution_count": null,
      "outputs": [
        {
          "output_type": "execute_result",
          "data": {
            "text/html": [
              "<div>\n",
              "<style scoped>\n",
              "    .dataframe tbody tr th:only-of-type {\n",
              "        vertical-align: middle;\n",
              "    }\n",
              "\n",
              "    .dataframe tbody tr th {\n",
              "        vertical-align: top;\n",
              "    }\n",
              "\n",
              "    .dataframe thead th {\n",
              "        text-align: right;\n",
              "    }\n",
              "</style>\n",
              "<table border=\"1\" class=\"dataframe\">\n",
              "  <thead>\n",
              "    <tr style=\"text-align: right;\">\n",
              "      <th></th>\n",
              "      <th>rank</th>\n",
              "      <th>discipline</th>\n",
              "      <th>yrs.since.phd</th>\n",
              "      <th>yrs.service</th>\n",
              "      <th>sex</th>\n",
              "      <th>salary</th>\n",
              "    </tr>\n",
              "  </thead>\n",
              "  <tbody>\n",
              "    <tr>\n",
              "      <th>1</th>\n",
              "      <td>Prof</td>\n",
              "      <td>B</td>\n",
              "      <td>19</td>\n",
              "      <td>18</td>\n",
              "      <td>Male</td>\n",
              "      <td>139750</td>\n",
              "    </tr>\n",
              "    <tr>\n",
              "      <th>2</th>\n",
              "      <td>Prof</td>\n",
              "      <td>B</td>\n",
              "      <td>20</td>\n",
              "      <td>16</td>\n",
              "      <td>Male</td>\n",
              "      <td>173200</td>\n",
              "    </tr>\n",
              "    <tr>\n",
              "      <th>5</th>\n",
              "      <td>Prof</td>\n",
              "      <td>B</td>\n",
              "      <td>40</td>\n",
              "      <td>41</td>\n",
              "      <td>Male</td>\n",
              "      <td>141500</td>\n",
              "    </tr>\n",
              "    <tr>\n",
              "      <th>7</th>\n",
              "      <td>Prof</td>\n",
              "      <td>B</td>\n",
              "      <td>30</td>\n",
              "      <td>23</td>\n",
              "      <td>Male</td>\n",
              "      <td>175000</td>\n",
              "    </tr>\n",
              "    <tr>\n",
              "      <th>8</th>\n",
              "      <td>Prof</td>\n",
              "      <td>B</td>\n",
              "      <td>45</td>\n",
              "      <td>45</td>\n",
              "      <td>Male</td>\n",
              "      <td>147765</td>\n",
              "    </tr>\n",
              "    <tr>\n",
              "      <th>...</th>\n",
              "      <td>...</td>\n",
              "      <td>...</td>\n",
              "      <td>...</td>\n",
              "      <td>...</td>\n",
              "      <td>...</td>\n",
              "      <td>...</td>\n",
              "    </tr>\n",
              "    <tr>\n",
              "      <th>387</th>\n",
              "      <td>Prof</td>\n",
              "      <td>A</td>\n",
              "      <td>29</td>\n",
              "      <td>27</td>\n",
              "      <td>Male</td>\n",
              "      <td>139219</td>\n",
              "    </tr>\n",
              "    <tr>\n",
              "      <th>390</th>\n",
              "      <td>Prof</td>\n",
              "      <td>A</td>\n",
              "      <td>33</td>\n",
              "      <td>18</td>\n",
              "      <td>Male</td>\n",
              "      <td>186023</td>\n",
              "    </tr>\n",
              "    <tr>\n",
              "      <th>391</th>\n",
              "      <td>Prof</td>\n",
              "      <td>A</td>\n",
              "      <td>40</td>\n",
              "      <td>19</td>\n",
              "      <td>Male</td>\n",
              "      <td>166605</td>\n",
              "    </tr>\n",
              "    <tr>\n",
              "      <th>392</th>\n",
              "      <td>Prof</td>\n",
              "      <td>A</td>\n",
              "      <td>30</td>\n",
              "      <td>19</td>\n",
              "      <td>Male</td>\n",
              "      <td>151292</td>\n",
              "    </tr>\n",
              "    <tr>\n",
              "      <th>394</th>\n",
              "      <td>Prof</td>\n",
              "      <td>A</td>\n",
              "      <td>31</td>\n",
              "      <td>19</td>\n",
              "      <td>Male</td>\n",
              "      <td>150564</td>\n",
              "    </tr>\n",
              "  </tbody>\n",
              "</table>\n",
              "<p>142 rows × 6 columns</p>\n",
              "</div>"
            ],
            "text/plain": [
              "     rank discipline  yrs.since.phd  yrs.service   sex  salary\n",
              "1    Prof          B             19           18  Male  139750\n",
              "2    Prof          B             20           16  Male  173200\n",
              "5    Prof          B             40           41  Male  141500\n",
              "7    Prof          B             30           23  Male  175000\n",
              "8    Prof          B             45           45  Male  147765\n",
              "..    ...        ...            ...          ...   ...     ...\n",
              "387  Prof          A             29           27  Male  139219\n",
              "390  Prof          A             33           18  Male  186023\n",
              "391  Prof          A             40           19  Male  166605\n",
              "392  Prof          A             30           19  Male  151292\n",
              "394  Prof          A             31           19  Male  150564\n",
              "\n",
              "[142 rows x 6 columns]"
            ]
          },
          "metadata": {
            "tags": []
          },
          "execution_count": 75
        }
      ]
    },
    {
      "cell_type": "code",
      "metadata": {
        "colab": {
          "base_uri": "https://localhost:8080/",
          "height": 419
        },
        "id": "kHQPSeqHbDak",
        "outputId": "755068e6-ffbc-455a-c38b-0db0282b8b89"
      },
      "source": [
        "df[(df['discipline']=='B')&(df['yrs.since.phd']>=20)]"
      ],
      "execution_count": null,
      "outputs": [
        {
          "output_type": "execute_result",
          "data": {
            "text/html": [
              "<div>\n",
              "<style scoped>\n",
              "    .dataframe tbody tr th:only-of-type {\n",
              "        vertical-align: middle;\n",
              "    }\n",
              "\n",
              "    .dataframe tbody tr th {\n",
              "        vertical-align: top;\n",
              "    }\n",
              "\n",
              "    .dataframe thead th {\n",
              "        text-align: right;\n",
              "    }\n",
              "</style>\n",
              "<table border=\"1\" class=\"dataframe\">\n",
              "  <thead>\n",
              "    <tr style=\"text-align: right;\">\n",
              "      <th></th>\n",
              "      <th>rank</th>\n",
              "      <th>discipline</th>\n",
              "      <th>yrs.since.phd</th>\n",
              "      <th>yrs.service</th>\n",
              "      <th>sex</th>\n",
              "      <th>salary</th>\n",
              "    </tr>\n",
              "  </thead>\n",
              "  <tbody>\n",
              "    <tr>\n",
              "      <th>2</th>\n",
              "      <td>Prof</td>\n",
              "      <td>B</td>\n",
              "      <td>20</td>\n",
              "      <td>16</td>\n",
              "      <td>Male</td>\n",
              "      <td>173200</td>\n",
              "    </tr>\n",
              "    <tr>\n",
              "      <th>4</th>\n",
              "      <td>Prof</td>\n",
              "      <td>B</td>\n",
              "      <td>45</td>\n",
              "      <td>39</td>\n",
              "      <td>Male</td>\n",
              "      <td>115000</td>\n",
              "    </tr>\n",
              "    <tr>\n",
              "      <th>5</th>\n",
              "      <td>Prof</td>\n",
              "      <td>B</td>\n",
              "      <td>40</td>\n",
              "      <td>41</td>\n",
              "      <td>Male</td>\n",
              "      <td>141500</td>\n",
              "    </tr>\n",
              "    <tr>\n",
              "      <th>7</th>\n",
              "      <td>Prof</td>\n",
              "      <td>B</td>\n",
              "      <td>30</td>\n",
              "      <td>23</td>\n",
              "      <td>Male</td>\n",
              "      <td>175000</td>\n",
              "    </tr>\n",
              "    <tr>\n",
              "      <th>8</th>\n",
              "      <td>Prof</td>\n",
              "      <td>B</td>\n",
              "      <td>45</td>\n",
              "      <td>45</td>\n",
              "      <td>Male</td>\n",
              "      <td>147765</td>\n",
              "    </tr>\n",
              "    <tr>\n",
              "      <th>...</th>\n",
              "      <td>...</td>\n",
              "      <td>...</td>\n",
              "      <td>...</td>\n",
              "      <td>...</td>\n",
              "      <td>...</td>\n",
              "      <td>...</td>\n",
              "    </tr>\n",
              "    <tr>\n",
              "      <th>351</th>\n",
              "      <td>Prof</td>\n",
              "      <td>B</td>\n",
              "      <td>56</td>\n",
              "      <td>49</td>\n",
              "      <td>Male</td>\n",
              "      <td>186960</td>\n",
              "    </tr>\n",
              "    <tr>\n",
              "      <th>352</th>\n",
              "      <td>Prof</td>\n",
              "      <td>B</td>\n",
              "      <td>38</td>\n",
              "      <td>38</td>\n",
              "      <td>Male</td>\n",
              "      <td>93519</td>\n",
              "    </tr>\n",
              "    <tr>\n",
              "      <th>353</th>\n",
              "      <td>Prof</td>\n",
              "      <td>B</td>\n",
              "      <td>26</td>\n",
              "      <td>27</td>\n",
              "      <td>Male</td>\n",
              "      <td>142500</td>\n",
              "    </tr>\n",
              "    <tr>\n",
              "      <th>354</th>\n",
              "      <td>Prof</td>\n",
              "      <td>B</td>\n",
              "      <td>22</td>\n",
              "      <td>20</td>\n",
              "      <td>Male</td>\n",
              "      <td>138000</td>\n",
              "    </tr>\n",
              "    <tr>\n",
              "      <th>356</th>\n",
              "      <td>Prof</td>\n",
              "      <td>B</td>\n",
              "      <td>25</td>\n",
              "      <td>21</td>\n",
              "      <td>Male</td>\n",
              "      <td>145028</td>\n",
              "    </tr>\n",
              "  </tbody>\n",
              "</table>\n",
              "<p>100 rows × 6 columns</p>\n",
              "</div>"
            ],
            "text/plain": [
              "     rank discipline  yrs.since.phd  yrs.service   sex  salary\n",
              "2    Prof          B             20           16  Male  173200\n",
              "4    Prof          B             45           39  Male  115000\n",
              "5    Prof          B             40           41  Male  141500\n",
              "7    Prof          B             30           23  Male  175000\n",
              "8    Prof          B             45           45  Male  147765\n",
              "..    ...        ...            ...          ...   ...     ...\n",
              "351  Prof          B             56           49  Male  186960\n",
              "352  Prof          B             38           38  Male   93519\n",
              "353  Prof          B             26           27  Male  142500\n",
              "354  Prof          B             22           20  Male  138000\n",
              "356  Prof          B             25           21  Male  145028\n",
              "\n",
              "[100 rows x 6 columns]"
            ]
          },
          "metadata": {
            "tags": []
          },
          "execution_count": 84
        }
      ]
    },
    {
      "cell_type": "code",
      "metadata": {
        "id": "p2piBGTdeXqY"
      },
      "source": [
        "df[(df['discipline']=='B')&(df['yrs.since.phd']>=20)]"
      ],
      "execution_count": null,
      "outputs": []
    },
    {
      "cell_type": "code",
      "metadata": {
        "colab": {
          "base_uri": "https://localhost:8080/",
          "height": 204
        },
        "id": "_1eFqdJogcfN",
        "outputId": "3de48038-6c1a-40ea-93eb-3e4c23f5a040"
      },
      "source": [
        "df.head()"
      ],
      "execution_count": null,
      "outputs": [
        {
          "output_type": "execute_result",
          "data": {
            "text/html": [
              "<div>\n",
              "<style scoped>\n",
              "    .dataframe tbody tr th:only-of-type {\n",
              "        vertical-align: middle;\n",
              "    }\n",
              "\n",
              "    .dataframe tbody tr th {\n",
              "        vertical-align: top;\n",
              "    }\n",
              "\n",
              "    .dataframe thead th {\n",
              "        text-align: right;\n",
              "    }\n",
              "</style>\n",
              "<table border=\"1\" class=\"dataframe\">\n",
              "  <thead>\n",
              "    <tr style=\"text-align: right;\">\n",
              "      <th></th>\n",
              "      <th>rank</th>\n",
              "      <th>discipline</th>\n",
              "      <th>yrs.since.phd</th>\n",
              "      <th>yrs.service</th>\n",
              "      <th>sex</th>\n",
              "      <th>salary</th>\n",
              "    </tr>\n",
              "  </thead>\n",
              "  <tbody>\n",
              "    <tr>\n",
              "      <th>1</th>\n",
              "      <td>Prof</td>\n",
              "      <td>B</td>\n",
              "      <td>19</td>\n",
              "      <td>18</td>\n",
              "      <td>Male</td>\n",
              "      <td>139750</td>\n",
              "    </tr>\n",
              "    <tr>\n",
              "      <th>2</th>\n",
              "      <td>Prof</td>\n",
              "      <td>B</td>\n",
              "      <td>20</td>\n",
              "      <td>16</td>\n",
              "      <td>Male</td>\n",
              "      <td>173200</td>\n",
              "    </tr>\n",
              "    <tr>\n",
              "      <th>3</th>\n",
              "      <td>AsstProf</td>\n",
              "      <td>B</td>\n",
              "      <td>4</td>\n",
              "      <td>3</td>\n",
              "      <td>Male</td>\n",
              "      <td>79750</td>\n",
              "    </tr>\n",
              "    <tr>\n",
              "      <th>4</th>\n",
              "      <td>Prof</td>\n",
              "      <td>B</td>\n",
              "      <td>45</td>\n",
              "      <td>39</td>\n",
              "      <td>Male</td>\n",
              "      <td>115000</td>\n",
              "    </tr>\n",
              "    <tr>\n",
              "      <th>5</th>\n",
              "      <td>Prof</td>\n",
              "      <td>B</td>\n",
              "      <td>40</td>\n",
              "      <td>41</td>\n",
              "      <td>Male</td>\n",
              "      <td>141500</td>\n",
              "    </tr>\n",
              "  </tbody>\n",
              "</table>\n",
              "</div>"
            ],
            "text/plain": [
              "       rank discipline  yrs.since.phd  yrs.service   sex  salary\n",
              "1      Prof          B             19           18  Male  139750\n",
              "2      Prof          B             20           16  Male  173200\n",
              "3  AsstProf          B              4            3  Male   79750\n",
              "4      Prof          B             45           39  Male  115000\n",
              "5      Prof          B             40           41  Male  141500"
            ]
          },
          "metadata": {
            "tags": []
          },
          "execution_count": 85
        }
      ]
    },
    {
      "cell_type": "code",
      "metadata": {
        "colab": {
          "base_uri": "https://localhost:8080/",
          "height": 142
        },
        "id": "AWaCUYuPggt5",
        "outputId": "0baf4ab2-e9b9-40e4-8f7a-668cd2348167"
      },
      "source": [
        "df.iloc[1:4, 0:3]"
      ],
      "execution_count": null,
      "outputs": [
        {
          "output_type": "execute_result",
          "data": {
            "text/html": [
              "<div>\n",
              "<style scoped>\n",
              "    .dataframe tbody tr th:only-of-type {\n",
              "        vertical-align: middle;\n",
              "    }\n",
              "\n",
              "    .dataframe tbody tr th {\n",
              "        vertical-align: top;\n",
              "    }\n",
              "\n",
              "    .dataframe thead th {\n",
              "        text-align: right;\n",
              "    }\n",
              "</style>\n",
              "<table border=\"1\" class=\"dataframe\">\n",
              "  <thead>\n",
              "    <tr style=\"text-align: right;\">\n",
              "      <th></th>\n",
              "      <th>rank</th>\n",
              "      <th>discipline</th>\n",
              "      <th>yrs.since.phd</th>\n",
              "    </tr>\n",
              "  </thead>\n",
              "  <tbody>\n",
              "    <tr>\n",
              "      <th>2</th>\n",
              "      <td>Prof</td>\n",
              "      <td>B</td>\n",
              "      <td>20</td>\n",
              "    </tr>\n",
              "    <tr>\n",
              "      <th>3</th>\n",
              "      <td>AsstProf</td>\n",
              "      <td>B</td>\n",
              "      <td>4</td>\n",
              "    </tr>\n",
              "    <tr>\n",
              "      <th>4</th>\n",
              "      <td>Prof</td>\n",
              "      <td>B</td>\n",
              "      <td>45</td>\n",
              "    </tr>\n",
              "  </tbody>\n",
              "</table>\n",
              "</div>"
            ],
            "text/plain": [
              "       rank discipline  yrs.since.phd\n",
              "2      Prof          B             20\n",
              "3  AsstProf          B              4\n",
              "4      Prof          B             45"
            ]
          },
          "metadata": {
            "tags": []
          },
          "execution_count": 88
        }
      ]
    },
    {
      "cell_type": "code",
      "metadata": {
        "colab": {
          "base_uri": "https://localhost:8080/",
          "height": 111
        },
        "id": "0lnfMOGug3pQ",
        "outputId": "fc2fe6ca-71b6-4dec-ebea-49b60ce8ef3b"
      },
      "source": [
        "df.iloc[0:2, -2:]"
      ],
      "execution_count": null,
      "outputs": [
        {
          "output_type": "execute_result",
          "data": {
            "text/html": [
              "<div>\n",
              "<style scoped>\n",
              "    .dataframe tbody tr th:only-of-type {\n",
              "        vertical-align: middle;\n",
              "    }\n",
              "\n",
              "    .dataframe tbody tr th {\n",
              "        vertical-align: top;\n",
              "    }\n",
              "\n",
              "    .dataframe thead th {\n",
              "        text-align: right;\n",
              "    }\n",
              "</style>\n",
              "<table border=\"1\" class=\"dataframe\">\n",
              "  <thead>\n",
              "    <tr style=\"text-align: right;\">\n",
              "      <th></th>\n",
              "      <th>sex</th>\n",
              "      <th>salary</th>\n",
              "    </tr>\n",
              "  </thead>\n",
              "  <tbody>\n",
              "    <tr>\n",
              "      <th>1</th>\n",
              "      <td>Male</td>\n",
              "      <td>139750</td>\n",
              "    </tr>\n",
              "    <tr>\n",
              "      <th>2</th>\n",
              "      <td>Male</td>\n",
              "      <td>173200</td>\n",
              "    </tr>\n",
              "  </tbody>\n",
              "</table>\n",
              "</div>"
            ],
            "text/plain": [
              "    sex  salary\n",
              "1  Male  139750\n",
              "2  Male  173200"
            ]
          },
          "metadata": {
            "tags": []
          },
          "execution_count": 114
        }
      ]
    },
    {
      "cell_type": "code",
      "metadata": {
        "colab": {
          "base_uri": "https://localhost:8080/",
          "height": 111
        },
        "id": "DbHx5PbvhJxw",
        "outputId": "c6015298-b2d6-4cb4-f6c1-86d1af3bd72a"
      },
      "source": [
        "df.iloc[1:3, 2:5]"
      ],
      "execution_count": null,
      "outputs": [
        {
          "output_type": "execute_result",
          "data": {
            "text/html": [
              "<div>\n",
              "<style scoped>\n",
              "    .dataframe tbody tr th:only-of-type {\n",
              "        vertical-align: middle;\n",
              "    }\n",
              "\n",
              "    .dataframe tbody tr th {\n",
              "        vertical-align: top;\n",
              "    }\n",
              "\n",
              "    .dataframe thead th {\n",
              "        text-align: right;\n",
              "    }\n",
              "</style>\n",
              "<table border=\"1\" class=\"dataframe\">\n",
              "  <thead>\n",
              "    <tr style=\"text-align: right;\">\n",
              "      <th></th>\n",
              "      <th>yrs.since.phd</th>\n",
              "      <th>yrs.service</th>\n",
              "      <th>sex</th>\n",
              "    </tr>\n",
              "  </thead>\n",
              "  <tbody>\n",
              "    <tr>\n",
              "      <th>2</th>\n",
              "      <td>20</td>\n",
              "      <td>16</td>\n",
              "      <td>Male</td>\n",
              "    </tr>\n",
              "    <tr>\n",
              "      <th>3</th>\n",
              "      <td>4</td>\n",
              "      <td>3</td>\n",
              "      <td>Male</td>\n",
              "    </tr>\n",
              "  </tbody>\n",
              "</table>\n",
              "</div>"
            ],
            "text/plain": [
              "   yrs.since.phd  yrs.service   sex\n",
              "2             20           16  Male\n",
              "3              4            3  Male"
            ]
          },
          "metadata": {
            "tags": []
          },
          "execution_count": 117
        }
      ]
    },
    {
      "cell_type": "code",
      "metadata": {
        "colab": {
          "base_uri": "https://localhost:8080/",
          "height": 142
        },
        "id": "A-elGBX7iIAn",
        "outputId": "0cae3623-567b-4d98-c841-cda6cba35388"
      },
      "source": [
        "df.iloc[-3:, 0:3]"
      ],
      "execution_count": null,
      "outputs": [
        {
          "output_type": "execute_result",
          "data": {
            "text/html": [
              "<div>\n",
              "<style scoped>\n",
              "    .dataframe tbody tr th:only-of-type {\n",
              "        vertical-align: middle;\n",
              "    }\n",
              "\n",
              "    .dataframe tbody tr th {\n",
              "        vertical-align: top;\n",
              "    }\n",
              "\n",
              "    .dataframe thead th {\n",
              "        text-align: right;\n",
              "    }\n",
              "</style>\n",
              "<table border=\"1\" class=\"dataframe\">\n",
              "  <thead>\n",
              "    <tr style=\"text-align: right;\">\n",
              "      <th></th>\n",
              "      <th>rank</th>\n",
              "      <th>discipline</th>\n",
              "      <th>yrs.since.phd</th>\n",
              "    </tr>\n",
              "  </thead>\n",
              "  <tbody>\n",
              "    <tr>\n",
              "      <th>395</th>\n",
              "      <td>Prof</td>\n",
              "      <td>A</td>\n",
              "      <td>42</td>\n",
              "    </tr>\n",
              "    <tr>\n",
              "      <th>396</th>\n",
              "      <td>Prof</td>\n",
              "      <td>A</td>\n",
              "      <td>25</td>\n",
              "    </tr>\n",
              "    <tr>\n",
              "      <th>397</th>\n",
              "      <td>AsstProf</td>\n",
              "      <td>A</td>\n",
              "      <td>8</td>\n",
              "    </tr>\n",
              "  </tbody>\n",
              "</table>\n",
              "</div>"
            ],
            "text/plain": [
              "         rank discipline  yrs.since.phd\n",
              "395      Prof          A             42\n",
              "396      Prof          A             25\n",
              "397  AsstProf          A              8"
            ]
          },
          "metadata": {
            "tags": []
          },
          "execution_count": 113
        }
      ]
    },
    {
      "cell_type": "code",
      "metadata": {
        "id": "YiqfletLj-By"
      },
      "source": [
        "import matplotlib.pyplot as plt"
      ],
      "execution_count": null,
      "outputs": []
    },
    {
      "cell_type": "code",
      "metadata": {
        "id": "kqmD2y3bo406"
      },
      "source": [
        "x=[-3, 5, 7]"
      ],
      "execution_count": null,
      "outputs": []
    },
    {
      "cell_type": "code",
      "metadata": {
        "id": "G9i8SX0vpByf"
      },
      "source": [
        "y=[10,2,5]"
      ],
      "execution_count": null,
      "outputs": []
    },
    {
      "cell_type": "code",
      "metadata": {
        "colab": {
          "base_uri": "https://localhost:8080/",
          "height": 174
        },
        "id": "3QGTRrPCpFjf",
        "outputId": "bb6048fb-2927-4338-ba87-94d90f35dab3"
      },
      "source": [
        "fig=plt.figure(figsize=(15,3))\n",
        "plt.plot(x,y)"
      ],
      "execution_count": null,
      "outputs": [
        {
          "output_type": "execute_result",
          "data": {
            "text/plain": [
              "[<matplotlib.lines.Line2D at 0x7f0e4038c510>]"
            ]
          },
          "metadata": {
            "tags": []
          },
          "execution_count": 123
        },
        {
          "output_type": "display_data",
          "data": {
            "image/png": "[encoded data removed]",
            "text/plain": [
              "<Figure size 1080x216 with 1 Axes>"
            ]
          },
          "metadata": {
            "tags": [],
            "needs_background": "light"
          }
        }
      ]
    },
    {
      "cell_type": "code",
      "metadata": {
        "id": "A5Kr7b4dPhsY",
        "colab": {
          "base_uri": "https://localhost:8080/"
        },
        "outputId": "63889221-402b-4ce0-b403-1a502cbc3fd3"
      },
      "source": [
        "8/5"
      ],
      "execution_count": null,
      "outputs": [
        {
          "output_type": "execute_result",
          "data": {
            "text/plain": [
              "1.6"
            ]
          },
          "metadata": {},
          "execution_count": 1
        }
      ]
    },
    {
      "cell_type": "code",
      "metadata": {
        "colab": {
          "base_uri": "https://localhost:8080/"
        },
        "id": "M4TfkJL3a21X",
        "outputId": "6d862238-26df-43ef-f518-1662f2a7d1a8"
      },
      "source": [
        "28%5"
      ],
      "execution_count": null,
      "outputs": [
        {
          "output_type": "execute_result",
          "data": {
            "text/plain": [
              "3"
            ]
          },
          "metadata": {},
          "execution_count": 2
        }
      ]
    },
    {
      "cell_type": "code",
      "metadata": {
        "colab": {
          "base_uri": "https://localhost:8080/"
        },
        "id": "WDTaTCGOc0-w",
        "outputId": "e2ca9aef-496c-4d50-fdac-a9ca688ba296"
      },
      "source": [
        "pow(5,2)"
      ],
      "execution_count": null,
      "outputs": [
        {
          "output_type": "execute_result",
          "data": {
            "text/plain": [
              "25"
            ]
          },
          "metadata": {},
          "execution_count": 6
        }
      ]
    },
    {
      "cell_type": "code",
      "metadata": {
        "colab": {
          "base_uri": "https://localhost:8080/"
        },
        "id": "mMWZYR4-c8z3",
        "outputId": "fe82a76b-778e-4387-dd77-52f0692c4cce"
      },
      "source": [
        "5**2"
      ],
      "execution_count": null,
      "outputs": [
        {
          "output_type": "execute_result",
          "data": {
            "text/plain": [
              "25"
            ]
          },
          "metadata": {},
          "execution_count": 7
        }
      ]
    },
    {
      "cell_type": "markdown",
      "metadata": {
        "id": "NIbaAkJLb4HA"
      },
      "source": [
        "### **Variables**"
      ]
    },
    {
      "cell_type": "code",
      "metadata": {
        "id": "zdvN-qWqb68l"
      },
      "source": [
        "a=10"
      ],
      "execution_count": null,
      "outputs": []
    },
    {
      "cell_type": "code",
      "metadata": {
        "colab": {
          "base_uri": "https://localhost:8080/"
        },
        "id": "KAAfVesdcwEk",
        "outputId": "924078ac-0b25-4a38-8d25-60eb31df9fa8"
      },
      "source": [
        "id(a) # where a is stored"
      ],
      "execution_count": null,
      "outputs": [
        {
          "output_type": "execute_result",
          "data": {
            "text/plain": [
              "94531921156896"
            ]
          },
          "metadata": {},
          "execution_count": 11
        }
      ]
    },
    {
      "cell_type": "code",
      "metadata": {
        "id": "soY32xjDdhji"
      },
      "source": [
        "b= 10.9"
      ],
      "execution_count": null,
      "outputs": []
    },
    {
      "cell_type": "code",
      "metadata": {
        "colab": {
          "base_uri": "https://localhost:8080/"
        },
        "id": "myVfqVW_dneV",
        "outputId": "b607ecda-35de-429d-954a-2b7c923fc722"
      },
      "source": [
        "id(b)"
      ],
      "execution_count": null,
      "outputs": [
        {
          "output_type": "execute_result",
          "data": {
            "text/plain": [
              "140431458860912"
            ]
          },
          "metadata": {},
          "execution_count": 14
        }
      ]
    },
    {
      "cell_type": "code",
      "metadata": {
        "colab": {
          "base_uri": "https://localhost:8080/"
        },
        "id": "PQ4lY-vWd4h-",
        "outputId": "54b67395-0ec9-49e1-ec23-92050504980b"
      },
      "source": [
        "type(a)"
      ],
      "execution_count": null,
      "outputs": [
        {
          "output_type": "execute_result",
          "data": {
            "text/plain": [
              "int"
            ]
          },
          "metadata": {},
          "execution_count": 15
        }
      ]
    },
    {
      "cell_type": "code",
      "metadata": {
        "colab": {
          "base_uri": "https://localhost:8080/"
        },
        "id": "VuM08Bx7d56l",
        "outputId": "447f5502-7557-4f37-fba2-ff06c0745dee"
      },
      "source": [
        "type(b)"
      ],
      "execution_count": null,
      "outputs": [
        {
          "output_type": "execute_result",
          "data": {
            "text/plain": [
              "float"
            ]
          },
          "metadata": {},
          "execution_count": 16
        }
      ]
    },
    {
      "cell_type": "code",
      "metadata": {
        "id": "OMOdZfrlfEOS"
      },
      "source": [
        "a,b=10, 20"
      ],
      "execution_count": null,
      "outputs": []
    },
    {
      "cell_type": "code",
      "metadata": {
        "colab": {
          "base_uri": "https://localhost:8080/"
        },
        "id": "UC-0qbstfGzq",
        "outputId": "4984a48c-ccab-46c6-be56-90d0ea67a32e"
      },
      "source": [
        "a,b"
      ],
      "execution_count": null,
      "outputs": [
        {
          "output_type": "execute_result",
          "data": {
            "text/plain": [
              "(10, 20)"
            ]
          },
          "metadata": {},
          "execution_count": 51
        }
      ]
    },
    {
      "cell_type": "code",
      "metadata": {
        "id": "gxuEQy4yf-pE"
      },
      "source": [
        "tem=a\n",
        "a=b\n",
        "b=tem"
      ],
      "execution_count": null,
      "outputs": []
    },
    {
      "cell_type": "code",
      "metadata": {
        "colab": {
          "base_uri": "https://localhost:8080/"
        },
        "id": "0fgYeRBBgEpO",
        "outputId": "dde6a69a-7a17-4785-a9bf-5fcaa37ba284"
      },
      "source": [
        "a,b"
      ],
      "execution_count": null,
      "outputs": [
        {
          "output_type": "execute_result",
          "data": {
            "text/plain": [
              "(10, 20)"
            ]
          },
          "metadata": {},
          "execution_count": 56
        }
      ]
    },
    {
      "cell_type": "code",
      "metadata": {
        "id": "8c90e-d_gGoL"
      },
      "source": [
        "a,b=b,a"
      ],
      "execution_count": null,
      "outputs": []
    },
    {
      "cell_type": "code",
      "metadata": {
        "colab": {
          "base_uri": "https://localhost:8080/"
        },
        "id": "DRhZzT0KgLFR",
        "outputId": "2258caf6-0f8d-4792-8c69-ab5aa4a2739d"
      },
      "source": [
        "a,b"
      ],
      "execution_count": null,
      "outputs": [
        {
          "output_type": "execute_result",
          "data": {
            "text/plain": [
              "(10, 20)"
            ]
          },
          "metadata": {},
          "execution_count": 57
        }
      ]
    },
    {
      "cell_type": "markdown",
      "metadata": {
        "id": "RbQM5JelhYzC"
      },
      "source": [
        "###### **Datatypes**"
      ]
    },
    {
      "cell_type": "code",
      "metadata": {
        "id": "8JbK93luhhFW"
      },
      "source": [
        ""
      ],
      "execution_count": null,
      "outputs": []
    },
    {
      "cell_type": "markdown",
      "metadata": {
        "id": "55G-g8elW6x0"
      },
      "source": [
        "### **For loops / if elseif**"
      ]
    },
    {
      "cell_type": "code",
      "metadata": {
        "colab": {
          "base_uri": "https://localhost:8080/"
        },
        "id": "Z2WDsWZhW-qN",
        "outputId": "f726d53b-926d-421e-8fcf-b37e6986ae21"
      },
      "source": [
        "In [1]: \n",
        "a=[1,5,7,9]\n",
        "b=[]\n",
        "b.append(a[0]+5)\n",
        "b.append(a[1]+5)\n",
        "b.append(a[2]+5)\n",
        "b.append(a[3]+5)\n",
        "b\n",
        "\n"
      ],
      "execution_count": null,
      "outputs": [
        {
          "output_type": "execute_result",
          "data": {
            "text/plain": [
              "[6, 10, 12, 14]"
            ]
          },
          "metadata": {},
          "execution_count": 6
        }
      ]
    },
    {
      "cell_type": "code",
      "metadata": {
        "colab": {
          "base_uri": "https://localhost:8080/"
        },
        "id": "fFZfPH_dXrDq",
        "outputId": "5aa61fac-79ce-4b47-fa40-8ed2125ec238"
      },
      "source": [
        "a=[1,5,7,9]\n",
        "b=[]\n",
        "for number in a:\n",
        "  b.append(number+5)\n",
        "b"
      ],
      "execution_count": null,
      "outputs": [
        {
          "output_type": "execute_result",
          "data": {
            "text/plain": [
              "[6, 10, 12, 14]"
            ]
          },
          "metadata": {},
          "execution_count": 7
        }
      ]
    },
    {
      "cell_type": "code",
      "metadata": {
        "colab": {
          "base_uri": "https://localhost:8080/"
        },
        "id": "xqdtzrkAYjOl",
        "outputId": "7fc480b5-0a23-4b5e-ad3f-567e11fbb87e"
      },
      "source": [
        "a=[1,5,7,9]\n",
        "b=[]\n",
        "for number in a:\n",
        "  b.append(number**2)\n",
        "b"
      ],
      "execution_count": null,
      "outputs": [
        {
          "output_type": "execute_result",
          "data": {
            "text/plain": [
              "[1, 25, 49, 81]"
            ]
          },
          "metadata": {},
          "execution_count": 8
        }
      ]
    },
    {
      "cell_type": "code",
      "metadata": {
        "colab": {
          "base_uri": "https://localhost:8080/"
        },
        "id": "U78HubnWY4JI",
        "outputId": "eb94428e-5af6-41a3-8913-3be56fdb5452"
      },
      "source": [
        "#add list items\n",
        "a=[1,5,7,9]\n",
        "total=0\n",
        "for number in a:\n",
        "  total=total+number\n",
        "total"
      ],
      "execution_count": null,
      "outputs": [
        {
          "output_type": "execute_result",
          "data": {
            "text/plain": [
              "22"
            ]
          },
          "metadata": {},
          "execution_count": 9
        }
      ]
    },
    {
      "cell_type": "code",
      "metadata": {
        "colab": {
          "base_uri": "https://localhost:8080/"
        },
        "id": "Q-M0hDVPagwE",
        "outputId": "8eafd7ec-93f1-4733-8b0e-68faced91e7d"
      },
      "source": [
        "#multiply list items\n",
        "a=[1,5,7,9]\n",
        "mul=1\n",
        "for number in a:\n",
        "  mul=mul*number\n",
        "mul"
      ],
      "execution_count": null,
      "outputs": [
        {
          "output_type": "execute_result",
          "data": {
            "text/plain": [
              "315"
            ]
          },
          "metadata": {},
          "execution_count": 10
        }
      ]
    },
    {
      "cell_type": "code",
      "metadata": {
        "colab": {
          "base_uri": "https://localhost:8080/"
        },
        "id": "B0dQITjFa3gu",
        "outputId": "c1b89ca4-a0e0-481f-dd76-2f4e8ff28247"
      },
      "source": [
        "x=4\n",
        "if x>8:\n",
        "  print(\"the value of x is more than 8\")\n",
        "elif x>5:\n",
        "  print(\"the value of x is more than 5 less than 9\")\n",
        "elif x>3:\n",
        "  print(\"the value of x is more than 3 less than 6\")\n",
        "else:\n",
        "  print(\"x is less than 5\")"
      ],
      "execution_count": null,
      "outputs": [
        {
          "output_type": "stream",
          "name": "stdout",
          "text": [
            "the value of x is more than 3 less than 6\n"
          ]
        }
      ]
    },
    {
      "cell_type": "code",
      "metadata": {
        "colab": {
          "base_uri": "https://localhost:8080/"
        },
        "id": "AbhJ7516byxP",
        "outputId": "498da02d-15a5-4923-f2ca-02e05f6b4798"
      },
      "source": [
        "x=11\n",
        "if x==11:\n",
        "  x=13\n",
        "elif x==13:\n",
        "  x=15\n",
        "elif x==15:\n",
        "  x=17\n",
        "print(x)"
      ],
      "execution_count": null,
      "outputs": [
        {
          "output_type": "stream",
          "name": "stdout",
          "text": [
            "13\n"
          ]
        }
      ]
    },
    {
      "cell_type": "code",
      "metadata": {
        "id": "23FHBAqrbfUz"
      },
      "source": [
        "a=[1,4,10,15,18,23,18]\n",
        "even=[]\n",
        "odd=[]\n",
        "for number in a:\n",
        "  if number%2==0:\n",
        "    even.append(number)\n",
        "  elif number %2==1:\n",
        "    odd.append(number)"
      ],
      "execution_count": null,
      "outputs": []
    },
    {
      "cell_type": "code",
      "metadata": {
        "colab": {
          "base_uri": "https://localhost:8080/"
        },
        "id": "YhW7PsAtf0VD",
        "outputId": "12558457-236d-401d-b3a6-0c9ae0574e6c"
      },
      "source": [
        "even"
      ],
      "execution_count": null,
      "outputs": [
        {
          "output_type": "execute_result",
          "data": {
            "text/plain": [
              "[4, 10, 18, 18]"
            ]
          },
          "metadata": {},
          "execution_count": 28
        }
      ]
    },
    {
      "cell_type": "code",
      "metadata": {
        "colab": {
          "base_uri": "https://localhost:8080/"
        },
        "id": "3Vqq7G2ugbny",
        "outputId": "613e32a6-ca76-4519-8f73-e77c86af8a02"
      },
      "source": [
        "odd"
      ],
      "execution_count": null,
      "outputs": [
        {
          "output_type": "execute_result",
          "data": {
            "text/plain": [
              "[1, 15, 23]"
            ]
          },
          "metadata": {},
          "execution_count": 29
        }
      ]
    },
    {
      "cell_type": "markdown",
      "metadata": {
        "id": "SCClAHbNhwWc"
      },
      "source": [
        "### **Functions**"
      ]
    },
    {
      "cell_type": "code",
      "metadata": {
        "id": "X11JMt1Ehzwq"
      },
      "source": [
        "def prime(number):\n",
        "    if number <=1:\n",
        "        return \"not a prime\"\n",
        "    if number %2==0 and number !=2:\n",
        "        return \"not a prime\"\n",
        "    for i in range(2,(number//2) +1):\n",
        "        if i %2!=0:\n",
        "            #print(\"trying to divide with \",i)\n",
        "            if number%i==0 :\n",
        "                return \"not a prime\"\n",
        "        \n",
        "        \n",
        "    return \"prime\""
      ],
      "execution_count": null,
      "outputs": []
    },
    {
      "cell_type": "markdown",
      "metadata": {
        "id": "Ba53s_nvkLUf"
      },
      "source": [
        "### **List compreshension** "
      ]
    },
    {
      "cell_type": "code",
      "metadata": {
        "colab": {
          "base_uri": "https://localhost:8080/"
        },
        "id": "d0OXtPZshJPc",
        "outputId": "93a5cf1d-e4f5-477c-b77d-baaba93679ed"
      },
      "source": [
        "a=[1,3,4,8]\n",
        "b=[number+4 for number in a]\n",
        "b"
      ],
      "execution_count": 1,
      "outputs": [
        {
          "output_type": "execute_result",
          "data": {
            "text/plain": [
              "[5, 7, 8, 12]"
            ]
          },
          "metadata": {},
          "execution_count": 1
        }
      ]
    },
    {
      "cell_type": "code",
      "metadata": {
        "colab": {
          "base_uri": "https://localhost:8080/"
        },
        "id": "z0m39uQch5Kr",
        "outputId": "2f6a48bf-2e39-4e13-c727-804dd07ee9cb"
      },
      "source": [
        "a=[1,9,10,11,13,14,18]\n",
        "b=[number for number in a if number%2 ==1]\n",
        "b"
      ],
      "execution_count": 3,
      "outputs": [
        {
          "output_type": "execute_result",
          "data": {
            "text/plain": [
              "[1, 9, 11, 13]"
            ]
          },
          "metadata": {},
          "execution_count": 3
        }
      ]
    },
    {
      "cell_type": "code",
      "metadata": {
        "colab": {
          "base_uri": "https://localhost:8080/"
        },
        "id": "3hzLVAjuiREu",
        "outputId": "d64a1683-5106-487f-e158-588c2ff9444c"
      },
      "source": [
        "b=[]\n",
        "for number in a:\n",
        "  if number %2==0:\n",
        "    b.append(number)\n",
        "b"
      ],
      "execution_count": 4,
      "outputs": [
        {
          "output_type": "execute_result",
          "data": {
            "text/plain": [
              "[10, 14, 18]"
            ]
          },
          "metadata": {},
          "execution_count": 4
        }
      ]
    },
    {
      "cell_type": "code",
      "metadata": {
        "colab": {
          "base_uri": "https://localhost:8080/"
        },
        "id": "O5ULA-JMifEf",
        "outputId": "1a876507-3eea-481f-fa8e-d5c69489142c"
      },
      "source": [
        "#find all factors of a number\n",
        "number =50\n",
        "b=[i for i in range(1,number+1)if number%i==0]\n",
        "b\n"
      ],
      "execution_count": 7,
      "outputs": [
        {
          "output_type": "execute_result",
          "data": {
            "text/plain": [
              "[1, 2, 5, 10, 25, 50]"
            ]
          },
          "metadata": {},
          "execution_count": 7
        }
      ]
    },
    {
      "cell_type": "markdown",
      "metadata": {
        "id": "bnNe_ou-jTxl"
      },
      "source": [
        "### **MAP**"
      ]
    },
    {
      "cell_type": "code",
      "metadata": {
        "id": "G-Bt6syRjQVT"
      },
      "source": [
        "def sqrt(x):\n",
        "  return x**0.5"
      ],
      "execution_count": 9,
      "outputs": []
    },
    {
      "cell_type": "code",
      "metadata": {
        "colab": {
          "base_uri": "https://localhost:8080/"
        },
        "id": "zhhun3MfjfYm",
        "outputId": "47b84e7a-6f10-443a-d47e-ece4fc5bd12c"
      },
      "source": [
        "sqrt(25)"
      ],
      "execution_count": 10,
      "outputs": [
        {
          "output_type": "execute_result",
          "data": {
            "text/plain": [
              "5.0"
            ]
          },
          "metadata": {},
          "execution_count": 10
        }
      ]
    },
    {
      "cell_type": "code",
      "metadata": {
        "colab": {
          "base_uri": "https://localhost:8080/"
        },
        "id": "n-7cpxprjkPw",
        "outputId": "25d43ea0-2c62-4cd1-e96b-0621eede07c0"
      },
      "source": [
        "a=[1,10,29,34,45]\n",
        "output=map(sqrt,a)\n",
        "list(output)"
      ],
      "execution_count": 11,
      "outputs": [
        {
          "output_type": "execute_result",
          "data": {
            "text/plain": [
              "[1.0,\n",
              " 3.1622776601683795,\n",
              " 5.385164807134504,\n",
              " 5.830951894845301,\n",
              " 6.708203932499369]"
            ]
          },
          "metadata": {},
          "execution_count": 11
        }
      ]
    },
    {
      "cell_type": "code",
      "metadata": {
        "id": "F8YQ57ypkCFX"
      },
      "source": [
        "def SUM(a,b):\n",
        "  return a+b"
      ],
      "execution_count": 12,
      "outputs": []
    },
    {
      "cell_type": "code",
      "metadata": {
        "colab": {
          "base_uri": "https://localhost:8080/"
        },
        "id": "QoMRNCvflOqw",
        "outputId": "74fa12fb-e729-46bc-d994-ce0f34d289c2"
      },
      "source": [
        "output=map(SUM, [1,3,5],[-1,-3,-5,-6])\n",
        "list(output)"
      ],
      "execution_count": 15,
      "outputs": [
        {
          "output_type": "execute_result",
          "data": {
            "text/plain": [
              "[0, 0, 0]"
            ]
          },
          "metadata": {},
          "execution_count": 15
        }
      ]
    },
    {
      "cell_type": "markdown",
      "metadata": {
        "id": "qPtMuU8Dlxx9"
      },
      "source": [
        "### **Filter** "
      ]
    },
    {
      "cell_type": "code",
      "metadata": {
        "id": "-RM1HW0slg7L"
      },
      "source": [
        "def even_odd(x):\n",
        "  return x%2==0"
      ],
      "execution_count": 16,
      "outputs": []
    },
    {
      "cell_type": "code",
      "metadata": {
        "colab": {
          "base_uri": "https://localhost:8080/"
        },
        "id": "MGG8M736mynx",
        "outputId": "78f4b5ab-7f3d-44a6-eb3e-89939607a148"
      },
      "source": [
        "even_odd(21)"
      ],
      "execution_count": 17,
      "outputs": [
        {
          "output_type": "execute_result",
          "data": {
            "text/plain": [
              "False"
            ]
          },
          "metadata": {},
          "execution_count": 17
        }
      ]
    },
    {
      "cell_type": "code",
      "metadata": {
        "colab": {
          "base_uri": "https://localhost:8080/"
        },
        "id": "e0-FSwHPm1M6",
        "outputId": "9006adb7-992d-472a-d211-75f95a9da4c1"
      },
      "source": [
        "a=[1,10,29,34,45,28]\n",
        "output= filter(even_odd, a)\n",
        "list(output)"
      ],
      "execution_count": 19,
      "outputs": [
        {
          "output_type": "execute_result",
          "data": {
            "text/plain": [
              "[10, 34, 28]"
            ]
          },
          "metadata": {},
          "execution_count": 19
        }
      ]
    },
    {
      "cell_type": "code",
      "metadata": {
        "id": "D9tpsa8dnRzC"
      },
      "source": [
        "def prime(number):\n",
        "  if number <=1:\n",
        "    return False\n",
        "  if number %2==0 and number !=2:\n",
        "    return False\n",
        "  for i in range(2, (number//2) +1):\n",
        "    if i %2!=0:\n",
        "            #print(\"trying to divide with \",i)\n",
        "            if number%i==0 :\n",
        "                return False\n",
        "  return True \n",
        "        "
      ],
      "execution_count": 20,
      "outputs": []
    },
    {
      "cell_type": "code",
      "metadata": {
        "colab": {
          "base_uri": "https://localhost:8080/"
        },
        "id": "KKxbH9bVoBDM",
        "outputId": "4a670c06-5943-4b08-ac5e-1264863c42d1"
      },
      "source": [
        "prime(29)"
      ],
      "execution_count": 21,
      "outputs": [
        {
          "output_type": "execute_result",
          "data": {
            "text/plain": [
              "True"
            ]
          },
          "metadata": {},
          "execution_count": 21
        }
      ]
    },
    {
      "cell_type": "code",
      "metadata": {
        "colab": {
          "base_uri": "https://localhost:8080/"
        },
        "id": "HdgEXgl7ojif",
        "outputId": "9b5357b6-b1dc-4d58-f7d5-19ad10956633"
      },
      "source": [
        "output= filter(prime, range(0,50))\n",
        "list(output)"
      ],
      "execution_count": 32,
      "outputs": [
        {
          "output_type": "execute_result",
          "data": {
            "text/plain": [
              "[2, 3, 5, 7, 11, 13, 17, 19, 23, 29, 31, 37, 41, 43, 47]"
            ]
          },
          "metadata": {},
          "execution_count": 32
        }
      ]
    },
    {
      "cell_type": "markdown",
      "metadata": {
        "id": "YqdqFbYKoFed"
      },
      "source": [
        "### **LAMDA**"
      ]
    },
    {
      "cell_type": "code",
      "metadata": {
        "id": "jdE9mJCXoIen"
      },
      "source": [
        "def sqrt(x):\n",
        "  return x**0.8"
      ],
      "execution_count": 26,
      "outputs": []
    },
    {
      "cell_type": "code",
      "metadata": {
        "id": "eq4vRsK7oOKa"
      },
      "source": [
        "sqrt=lambda x: x**0.5"
      ],
      "execution_count": 28,
      "outputs": []
    },
    {
      "cell_type": "code",
      "metadata": {
        "colab": {
          "base_uri": "https://localhost:8080/"
        },
        "id": "rTKLZjxToX3c",
        "outputId": "b24814ee-26ba-4d4e-d7ed-789a77710fe4"
      },
      "source": [
        "sqrt(25)"
      ],
      "execution_count": 29,
      "outputs": [
        {
          "output_type": "execute_result",
          "data": {
            "text/plain": [
              "5.0"
            ]
          },
          "metadata": {},
          "execution_count": 29
        }
      ]
    },
    {
      "cell_type": "code",
      "metadata": {
        "colab": {
          "base_uri": "https://localhost:8080/",
          "height": 35
        },
        "id": "_7T9iH-8ofh4",
        "outputId": "8151733a-03eb-495a-f24f-4022a01314c0"
      },
      "source": [
        "even_odd = lambda x:\"even\" if x%2==0 else \"odd\"\n",
        "even_odd(24)"
      ],
      "execution_count": 33,
      "outputs": [
        {
          "output_type": "execute_result",
          "data": {
            "application/vnd.google.colaboratory.intrinsic+json": {
              "type": "string"
            },
            "text/plain": [
              "'even'"
            ]
          },
          "metadata": {},
          "execution_count": 33
        }
      ]
    },
    {
      "cell_type": "markdown",
      "metadata": {
        "id": "8AKw5m6op6gM"
      },
      "source": [
        "### **try & exception**"
      ]
    },
    {
      "cell_type": "code",
      "metadata": {
        "id": "YjlM3I_np_ix"
      },
      "source": [
        "def fun(a,b):\n",
        "  return a/b"
      ],
      "execution_count": 38,
      "outputs": []
    },
    {
      "cell_type": "code",
      "metadata": {
        "colab": {
          "base_uri": "https://localhost:8080/"
        },
        "id": "gO49GVe4qJGv",
        "outputId": "d3416859-5748-4b80-a99c-b8a635fe8280"
      },
      "source": [
        "fun (20,5)"
      ],
      "execution_count": 36,
      "outputs": [
        {
          "output_type": "execute_result",
          "data": {
            "text/plain": [
              "4.0"
            ]
          },
          "metadata": {},
          "execution_count": 36
        }
      ]
    },
    {
      "cell_type": "code",
      "metadata": {
        "id": "znNZlepgqzH7"
      },
      "source": [
        "def fun(a,b):\n",
        "  try:\n",
        "    return a/b\n",
        "  except Exception as e:\n",
        "    print(\"we got an errror==>\", e)\n",
        "  finally:\n",
        "    print(\"repeat everytime\")\n"
      ],
      "execution_count": 60,
      "outputs": []
    },
    {
      "cell_type": "code",
      "metadata": {
        "colab": {
          "base_uri": "https://localhost:8080/"
        },
        "id": "kyTBA2EWrBWA",
        "outputId": "483390b6-346d-4aff-e83d-ab7c152219bf"
      },
      "source": [
        "fun(20,10)"
      ],
      "execution_count": 62,
      "outputs": [
        {
          "output_type": "stream",
          "name": "stdout",
          "text": [
            "repeat everytime\n"
          ]
        },
        {
          "output_type": "execute_result",
          "data": {
            "text/plain": [
              "2.0"
            ]
          },
          "metadata": {},
          "execution_count": 62
        }
      ]
    },
    {
      "cell_type": "code",
      "metadata": {
        "colab": {
          "base_uri": "https://localhost:8080/"
        },
        "id": "zQjMwMtmqOB1",
        "outputId": "abeeed8e-7ba9-4826-87f4-011c7c200065"
      },
      "source": [
        "fun(20,0)"
      ],
      "execution_count": 63,
      "outputs": [
        {
          "output_type": "stream",
          "name": "stdout",
          "text": [
            "we got an errror==> division by zero\n",
            "repeat everytime\n"
          ]
        }
      ]
    },
    {
      "cell_type": "markdown",
      "metadata": {
        "id": "VPOT9dwDueeq"
      },
      "source": [
        "### **iter and generator object python**"
      ]
    },
    {
      "cell_type": "code",
      "metadata": {
        "id": "8sh5_DkfuitD"
      },
      "source": [
        "a=[i**2 for i in range(10000000)]"
      ],
      "execution_count": 65,
      "outputs": []
    },
    {
      "cell_type": "code",
      "metadata": {
        "colab": {
          "base_uri": "https://localhost:8080/"
        },
        "id": "0xdT1tg_vmmF",
        "outputId": "2ad1a083-4377-480f-ae89-23b730145354"
      },
      "source": [
        "a"
      ],
      "execution_count": 80,
      "outputs": [
        {
          "output_type": "execute_result",
          "data": {
            "text/plain": [
              "[0,\n",
              " 1,\n",
              " 4,\n",
              " 9,\n",
              " 16,\n",
              " 25,\n",
              " 36,\n",
              " 49,\n",
              " 64,\n",
              " 81,\n",
              " 100,\n",
              " 121,\n",
              " 144,\n",
              " 169,\n",
              " 196,\n",
              " 225,\n",
              " 256,\n",
              " 289,\n",
              " 324,\n",
              " 361,\n",
              " 400,\n",
              " 441,\n",
              " 484,\n",
              " 529,\n",
              " 576,\n",
              " 625,\n",
              " 676,\n",
              " 729,\n",
              " 784,\n",
              " 841,\n",
              " 900,\n",
              " 961,\n",
              " 1024,\n",
              " 1089,\n",
              " 1156,\n",
              " 1225,\n",
              " 1296,\n",
              " 1369,\n",
              " 1444,\n",
              " 1521,\n",
              " 1600,\n",
              " 1681,\n",
              " 1764,\n",
              " 1849,\n",
              " 1936,\n",
              " 2025,\n",
              " 2116,\n",
              " 2209,\n",
              " 2304,\n",
              " 2401,\n",
              " 2500,\n",
              " 2601,\n",
              " 2704,\n",
              " 2809,\n",
              " 2916,\n",
              " 3025,\n",
              " 3136,\n",
              " 3249,\n",
              " 3364,\n",
              " 3481,\n",
              " 3600,\n",
              " 3721,\n",
              " 3844,\n",
              " 3969,\n",
              " 4096,\n",
              " 4225,\n",
              " 4356,\n",
              " 4489,\n",
              " 4624,\n",
              " 4761,\n",
              " 4900,\n",
              " 5041,\n",
              " 5184,\n",
              " 5329,\n",
              " 5476,\n",
              " 5625,\n",
              " 5776,\n",
              " 5929,\n",
              " 6084,\n",
              " 6241,\n",
              " 6400,\n",
              " 6561,\n",
              " 6724,\n",
              " 6889,\n",
              " 7056,\n",
              " 7225,\n",
              " 7396,\n",
              " 7569,\n",
              " 7744,\n",
              " 7921,\n",
              " 8100,\n",
              " 8281,\n",
              " 8464,\n",
              " 8649,\n",
              " 8836,\n",
              " 9025,\n",
              " 9216,\n",
              " 9409,\n",
              " 9604,\n",
              " 9801,\n",
              " 10000,\n",
              " 10201,\n",
              " 10404,\n",
              " 10609,\n",
              " 10816,\n",
              " 11025,\n",
              " 11236,\n",
              " 11449,\n",
              " 11664,\n",
              " 11881,\n",
              " 12100,\n",
              " 12321,\n",
              " 12544,\n",
              " 12769,\n",
              " 12996,\n",
              " 13225,\n",
              " 13456,\n",
              " 13689,\n",
              " 13924,\n",
              " 14161,\n",
              " 14400,\n",
              " 14641,\n",
              " 14884,\n",
              " 15129,\n",
              " 15376,\n",
              " 15625,\n",
              " 15876,\n",
              " 16129,\n",
              " 16384,\n",
              " 16641,\n",
              " 16900,\n",
              " 17161,\n",
              " 17424,\n",
              " 17689,\n",
              " 17956,\n",
              " 18225,\n",
              " 18496,\n",
              " 18769,\n",
              " 19044,\n",
              " 19321,\n",
              " 19600,\n",
              " 19881,\n",
              " 20164,\n",
              " 20449,\n",
              " 20736,\n",
              " 21025,\n",
              " 21316,\n",
              " 21609,\n",
              " 21904,\n",
              " 22201,\n",
              " 22500,\n",
              " 22801,\n",
              " 23104,\n",
              " 23409,\n",
              " 23716,\n",
              " 24025,\n",
              " 24336,\n",
              " 24649,\n",
              " 24964,\n",
              " 25281,\n",
              " 25600,\n",
              " 25921,\n",
              " 26244,\n",
              " 26569,\n",
              " 26896,\n",
              " 27225,\n",
              " 27556,\n",
              " 27889,\n",
              " 28224,\n",
              " 28561,\n",
              " 28900,\n",
              " 29241,\n",
              " 29584,\n",
              " 29929,\n",
              " 30276,\n",
              " 30625,\n",
              " 30976,\n",
              " 31329,\n",
              " 31684,\n",
              " 32041,\n",
              " 32400,\n",
              " 32761,\n",
              " 33124,\n",
              " 33489,\n",
              " 33856,\n",
              " 34225,\n",
              " 34596,\n",
              " 34969,\n",
              " 35344,\n",
              " 35721,\n",
              " 36100,\n",
              " 36481,\n",
              " 36864,\n",
              " 37249,\n",
              " 37636,\n",
              " 38025,\n",
              " 38416,\n",
              " 38809,\n",
              " 39204,\n",
              " 39601,\n",
              " 40000,\n",
              " 40401,\n",
              " 40804,\n",
              " 41209,\n",
              " 41616,\n",
              " 42025,\n",
              " 42436,\n",
              " 42849,\n",
              " 43264,\n",
              " 43681,\n",
              " 44100,\n",
              " 44521,\n",
              " 44944,\n",
              " 45369,\n",
              " 45796,\n",
              " 46225,\n",
              " 46656,\n",
              " 47089,\n",
              " 47524,\n",
              " 47961,\n",
              " 48400,\n",
              " 48841,\n",
              " 49284,\n",
              " 49729,\n",
              " 50176,\n",
              " 50625,\n",
              " 51076,\n",
              " 51529,\n",
              " 51984,\n",
              " 52441,\n",
              " 52900,\n",
              " 53361,\n",
              " 53824,\n",
              " 54289,\n",
              " 54756,\n",
              " 55225,\n",
              " 55696,\n",
              " 56169,\n",
              " 56644,\n",
              " 57121,\n",
              " 57600,\n",
              " 58081,\n",
              " 58564,\n",
              " 59049,\n",
              " 59536,\n",
              " 60025,\n",
              " 60516,\n",
              " 61009,\n",
              " 61504,\n",
              " 62001,\n",
              " 62500,\n",
              " 63001,\n",
              " 63504,\n",
              " 64009,\n",
              " 64516,\n",
              " 65025,\n",
              " 65536,\n",
              " 66049,\n",
              " 66564,\n",
              " 67081,\n",
              " 67600,\n",
              " 68121,\n",
              " 68644,\n",
              " 69169,\n",
              " 69696,\n",
              " 70225,\n",
              " 70756,\n",
              " 71289,\n",
              " 71824,\n",
              " 72361,\n",
              " 72900,\n",
              " 73441,\n",
              " 73984,\n",
              " 74529,\n",
              " 75076,\n",
              " 75625,\n",
              " 76176,\n",
              " 76729,\n",
              " 77284,\n",
              " 77841,\n",
              " 78400,\n",
              " 78961,\n",
              " 79524,\n",
              " 80089,\n",
              " 80656,\n",
              " 81225,\n",
              " 81796,\n",
              " 82369,\n",
              " 82944,\n",
              " 83521,\n",
              " 84100,\n",
              " 84681,\n",
              " 85264,\n",
              " 85849,\n",
              " 86436,\n",
              " 87025,\n",
              " 87616,\n",
              " 88209,\n",
              " 88804,\n",
              " 89401,\n",
              " 90000,\n",
              " 90601,\n",
              " 91204,\n",
              " 91809,\n",
              " 92416,\n",
              " 93025,\n",
              " 93636,\n",
              " 94249,\n",
              " 94864,\n",
              " 95481,\n",
              " 96100,\n",
              " 96721,\n",
              " 97344,\n",
              " 97969,\n",
              " 98596,\n",
              " 99225,\n",
              " 99856,\n",
              " 100489,\n",
              " 101124,\n",
              " 101761,\n",
              " 102400,\n",
              " 103041,\n",
              " 103684,\n",
              " 104329,\n",
              " 104976,\n",
              " 105625,\n",
              " 106276,\n",
              " 106929,\n",
              " 107584,\n",
              " 108241,\n",
              " 108900,\n",
              " 109561,\n",
              " 110224,\n",
              " 110889,\n",
              " 111556,\n",
              " 112225,\n",
              " 112896,\n",
              " 113569,\n",
              " 114244,\n",
              " 114921,\n",
              " 115600,\n",
              " 116281,\n",
              " 116964,\n",
              " 117649,\n",
              " 118336,\n",
              " 119025,\n",
              " 119716,\n",
              " 120409,\n",
              " 121104,\n",
              " 121801,\n",
              " 122500,\n",
              " 123201,\n",
              " 123904,\n",
              " 124609,\n",
              " 125316,\n",
              " 126025,\n",
              " 126736,\n",
              " 127449,\n",
              " 128164,\n",
              " 128881,\n",
              " 129600,\n",
              " 130321,\n",
              " 131044,\n",
              " 131769,\n",
              " 132496,\n",
              " 133225,\n",
              " 133956,\n",
              " 134689,\n",
              " 135424,\n",
              " 136161,\n",
              " 136900,\n",
              " 137641,\n",
              " 138384,\n",
              " 139129,\n",
              " 139876,\n",
              " 140625,\n",
              " 141376,\n",
              " 142129,\n",
              " 142884,\n",
              " 143641,\n",
              " 144400,\n",
              " 145161,\n",
              " 145924,\n",
              " 146689,\n",
              " 147456,\n",
              " 148225,\n",
              " 148996,\n",
              " 149769,\n",
              " 150544,\n",
              " 151321,\n",
              " 152100,\n",
              " 152881,\n",
              " 153664,\n",
              " 154449,\n",
              " 155236,\n",
              " 156025,\n",
              " 156816,\n",
              " 157609,\n",
              " 158404,\n",
              " 159201,\n",
              " 160000,\n",
              " 160801,\n",
              " 161604,\n",
              " 162409,\n",
              " 163216,\n",
              " 164025,\n",
              " 164836,\n",
              " 165649,\n",
              " 166464,\n",
              " 167281,\n",
              " 168100,\n",
              " 168921,\n",
              " 169744,\n",
              " 170569,\n",
              " 171396,\n",
              " 172225,\n",
              " 173056,\n",
              " 173889,\n",
              " 174724,\n",
              " 175561,\n",
              " 176400,\n",
              " 177241,\n",
              " 178084,\n",
              " 178929,\n",
              " 179776,\n",
              " 180625,\n",
              " 181476,\n",
              " 182329,\n",
              " 183184,\n",
              " 184041,\n",
              " 184900,\n",
              " 185761,\n",
              " 186624,\n",
              " 187489,\n",
              " 188356,\n",
              " 189225,\n",
              " 190096,\n",
              " 190969,\n",
              " 191844,\n",
              " 192721,\n",
              " 193600,\n",
              " 194481,\n",
              " 195364,\n",
              " 196249,\n",
              " 197136,\n",
              " 198025,\n",
              " 198916,\n",
              " 199809,\n",
              " 200704,\n",
              " 201601,\n",
              " 202500,\n",
              " 203401,\n",
              " 204304,\n",
              " 205209,\n",
              " 206116,\n",
              " 207025,\n",
              " 207936,\n",
              " 208849,\n",
              " 209764,\n",
              " 210681,\n",
              " 211600,\n",
              " 212521,\n",
              " 213444,\n",
              " 214369,\n",
              " 215296,\n",
              " 216225,\n",
              " 217156,\n",
              " 218089,\n",
              " 219024,\n",
              " 219961,\n",
              " 220900,\n",
              " 221841,\n",
              " 222784,\n",
              " 223729,\n",
              " 224676,\n",
              " 225625,\n",
              " 226576,\n",
              " 227529,\n",
              " 228484,\n",
              " 229441,\n",
              " 230400,\n",
              " 231361,\n",
              " 232324,\n",
              " 233289,\n",
              " 234256,\n",
              " 235225,\n",
              " 236196,\n",
              " 237169,\n",
              " 238144,\n",
              " 239121,\n",
              " 240100,\n",
              " 241081,\n",
              " 242064,\n",
              " 243049,\n",
              " 244036,\n",
              " 245025,\n",
              " 246016,\n",
              " 247009,\n",
              " 248004,\n",
              " 249001,\n",
              " 250000,\n",
              " 251001,\n",
              " 252004,\n",
              " 253009,\n",
              " 254016,\n",
              " 255025,\n",
              " 256036,\n",
              " 257049,\n",
              " 258064,\n",
              " 259081,\n",
              " 260100,\n",
              " 261121,\n",
              " 262144,\n",
              " 263169,\n",
              " 264196,\n",
              " 265225,\n",
              " 266256,\n",
              " 267289,\n",
              " 268324,\n",
              " 269361,\n",
              " 270400,\n",
              " 271441,\n",
              " 272484,\n",
              " 273529,\n",
              " 274576,\n",
              " 275625,\n",
              " 276676,\n",
              " 277729,\n",
              " 278784,\n",
              " 279841,\n",
              " 280900,\n",
              " 281961,\n",
              " 283024,\n",
              " 284089,\n",
              " 285156,\n",
              " 286225,\n",
              " 287296,\n",
              " 288369,\n",
              " 289444,\n",
              " 290521,\n",
              " 291600,\n",
              " 292681,\n",
              " 293764,\n",
              " 294849,\n",
              " 295936,\n",
              " 297025,\n",
              " 298116,\n",
              " 299209,\n",
              " 300304,\n",
              " 301401,\n",
              " 302500,\n",
              " 303601,\n",
              " 304704,\n",
              " 305809,\n",
              " 306916,\n",
              " 308025,\n",
              " 309136,\n",
              " 310249,\n",
              " 311364,\n",
              " 312481,\n",
              " 313600,\n",
              " 314721,\n",
              " 315844,\n",
              " 316969,\n",
              " 318096,\n",
              " 319225,\n",
              " 320356,\n",
              " 321489,\n",
              " 322624,\n",
              " 323761,\n",
              " 324900,\n",
              " 326041,\n",
              " 327184,\n",
              " 328329,\n",
              " 329476,\n",
              " 330625,\n",
              " 331776,\n",
              " 332929,\n",
              " 334084,\n",
              " 335241,\n",
              " 336400,\n",
              " 337561,\n",
              " 338724,\n",
              " 339889,\n",
              " 341056,\n",
              " 342225,\n",
              " 343396,\n",
              " 344569,\n",
              " 345744,\n",
              " 346921,\n",
              " 348100,\n",
              " 349281,\n",
              " 350464,\n",
              " 351649,\n",
              " 352836,\n",
              " 354025,\n",
              " 355216,\n",
              " 356409,\n",
              " 357604,\n",
              " 358801,\n",
              " 360000,\n",
              " 361201,\n",
              " 362404,\n",
              " 363609,\n",
              " 364816,\n",
              " 366025,\n",
              " 367236,\n",
              " 368449,\n",
              " 369664,\n",
              " 370881,\n",
              " 372100,\n",
              " 373321,\n",
              " 374544,\n",
              " 375769,\n",
              " 376996,\n",
              " 378225,\n",
              " 379456,\n",
              " 380689,\n",
              " 381924,\n",
              " 383161,\n",
              " 384400,\n",
              " 385641,\n",
              " 386884,\n",
              " 388129,\n",
              " 389376,\n",
              " 390625,\n",
              " 391876,\n",
              " 393129,\n",
              " 394384,\n",
              " 395641,\n",
              " 396900,\n",
              " 398161,\n",
              " 399424,\n",
              " 400689,\n",
              " 401956,\n",
              " 403225,\n",
              " 404496,\n",
              " 405769,\n",
              " 407044,\n",
              " 408321,\n",
              " 409600,\n",
              " 410881,\n",
              " 412164,\n",
              " 413449,\n",
              " 414736,\n",
              " 416025,\n",
              " 417316,\n",
              " 418609,\n",
              " 419904,\n",
              " 421201,\n",
              " 422500,\n",
              " 423801,\n",
              " 425104,\n",
              " 426409,\n",
              " 427716,\n",
              " 429025,\n",
              " 430336,\n",
              " 431649,\n",
              " 432964,\n",
              " 434281,\n",
              " 435600,\n",
              " 436921,\n",
              " 438244,\n",
              " 439569,\n",
              " 440896,\n",
              " 442225,\n",
              " 443556,\n",
              " 444889,\n",
              " 446224,\n",
              " 447561,\n",
              " 448900,\n",
              " 450241,\n",
              " 451584,\n",
              " 452929,\n",
              " 454276,\n",
              " 455625,\n",
              " 456976,\n",
              " 458329,\n",
              " 459684,\n",
              " 461041,\n",
              " 462400,\n",
              " 463761,\n",
              " 465124,\n",
              " 466489,\n",
              " 467856,\n",
              " 469225,\n",
              " 470596,\n",
              " 471969,\n",
              " 473344,\n",
              " 474721,\n",
              " 476100,\n",
              " 477481,\n",
              " 478864,\n",
              " 480249,\n",
              " 481636,\n",
              " 483025,\n",
              " 484416,\n",
              " 485809,\n",
              " 487204,\n",
              " 488601,\n",
              " 490000,\n",
              " 491401,\n",
              " 492804,\n",
              " 494209,\n",
              " 495616,\n",
              " 497025,\n",
              " 498436,\n",
              " 499849,\n",
              " 501264,\n",
              " 502681,\n",
              " 504100,\n",
              " 505521,\n",
              " 506944,\n",
              " 508369,\n",
              " 509796,\n",
              " 511225,\n",
              " 512656,\n",
              " 514089,\n",
              " 515524,\n",
              " 516961,\n",
              " 518400,\n",
              " 519841,\n",
              " 521284,\n",
              " 522729,\n",
              " 524176,\n",
              " 525625,\n",
              " 527076,\n",
              " 528529,\n",
              " 529984,\n",
              " 531441,\n",
              " 532900,\n",
              " 534361,\n",
              " 535824,\n",
              " 537289,\n",
              " 538756,\n",
              " 540225,\n",
              " 541696,\n",
              " 543169,\n",
              " 544644,\n",
              " 546121,\n",
              " 547600,\n",
              " 549081,\n",
              " 550564,\n",
              " 552049,\n",
              " 553536,\n",
              " 555025,\n",
              " 556516,\n",
              " 558009,\n",
              " 559504,\n",
              " 561001,\n",
              " 562500,\n",
              " 564001,\n",
              " 565504,\n",
              " 567009,\n",
              " 568516,\n",
              " 570025,\n",
              " 571536,\n",
              " 573049,\n",
              " 574564,\n",
              " 576081,\n",
              " 577600,\n",
              " 579121,\n",
              " 580644,\n",
              " 582169,\n",
              " 583696,\n",
              " 585225,\n",
              " 586756,\n",
              " 588289,\n",
              " 589824,\n",
              " 591361,\n",
              " 592900,\n",
              " 594441,\n",
              " 595984,\n",
              " 597529,\n",
              " 599076,\n",
              " 600625,\n",
              " 602176,\n",
              " 603729,\n",
              " 605284,\n",
              " 606841,\n",
              " 608400,\n",
              " 609961,\n",
              " 611524,\n",
              " 613089,\n",
              " 614656,\n",
              " 616225,\n",
              " 617796,\n",
              " 619369,\n",
              " 620944,\n",
              " 622521,\n",
              " 624100,\n",
              " 625681,\n",
              " 627264,\n",
              " 628849,\n",
              " 630436,\n",
              " 632025,\n",
              " 633616,\n",
              " 635209,\n",
              " 636804,\n",
              " 638401,\n",
              " 640000,\n",
              " 641601,\n",
              " 643204,\n",
              " 644809,\n",
              " 646416,\n",
              " 648025,\n",
              " 649636,\n",
              " 651249,\n",
              " 652864,\n",
              " 654481,\n",
              " 656100,\n",
              " 657721,\n",
              " 659344,\n",
              " 660969,\n",
              " 662596,\n",
              " 664225,\n",
              " 665856,\n",
              " 667489,\n",
              " 669124,\n",
              " 670761,\n",
              " 672400,\n",
              " 674041,\n",
              " 675684,\n",
              " 677329,\n",
              " 678976,\n",
              " 680625,\n",
              " 682276,\n",
              " 683929,\n",
              " 685584,\n",
              " 687241,\n",
              " 688900,\n",
              " 690561,\n",
              " 692224,\n",
              " 693889,\n",
              " 695556,\n",
              " 697225,\n",
              " 698896,\n",
              " 700569,\n",
              " 702244,\n",
              " 703921,\n",
              " 705600,\n",
              " 707281,\n",
              " 708964,\n",
              " 710649,\n",
              " 712336,\n",
              " 714025,\n",
              " 715716,\n",
              " 717409,\n",
              " 719104,\n",
              " 720801,\n",
              " 722500,\n",
              " 724201,\n",
              " 725904,\n",
              " 727609,\n",
              " 729316,\n",
              " 731025,\n",
              " 732736,\n",
              " 734449,\n",
              " 736164,\n",
              " 737881,\n",
              " 739600,\n",
              " 741321,\n",
              " 743044,\n",
              " 744769,\n",
              " 746496,\n",
              " 748225,\n",
              " 749956,\n",
              " 751689,\n",
              " 753424,\n",
              " 755161,\n",
              " 756900,\n",
              " 758641,\n",
              " 760384,\n",
              " 762129,\n",
              " 763876,\n",
              " 765625,\n",
              " 767376,\n",
              " 769129,\n",
              " 770884,\n",
              " 772641,\n",
              " 774400,\n",
              " 776161,\n",
              " 777924,\n",
              " 779689,\n",
              " 781456,\n",
              " 783225,\n",
              " 784996,\n",
              " 786769,\n",
              " 788544,\n",
              " 790321,\n",
              " 792100,\n",
              " 793881,\n",
              " 795664,\n",
              " 797449,\n",
              " 799236,\n",
              " 801025,\n",
              " 802816,\n",
              " 804609,\n",
              " 806404,\n",
              " 808201,\n",
              " 810000,\n",
              " 811801,\n",
              " 813604,\n",
              " 815409,\n",
              " 817216,\n",
              " 819025,\n",
              " 820836,\n",
              " 822649,\n",
              " 824464,\n",
              " 826281,\n",
              " 828100,\n",
              " 829921,\n",
              " 831744,\n",
              " 833569,\n",
              " 835396,\n",
              " 837225,\n",
              " 839056,\n",
              " 840889,\n",
              " 842724,\n",
              " 844561,\n",
              " 846400,\n",
              " 848241,\n",
              " 850084,\n",
              " 851929,\n",
              " 853776,\n",
              " 855625,\n",
              " 857476,\n",
              " 859329,\n",
              " 861184,\n",
              " 863041,\n",
              " 864900,\n",
              " 866761,\n",
              " 868624,\n",
              " 870489,\n",
              " 872356,\n",
              " 874225,\n",
              " 876096,\n",
              " 877969,\n",
              " 879844,\n",
              " 881721,\n",
              " 883600,\n",
              " 885481,\n",
              " 887364,\n",
              " 889249,\n",
              " 891136,\n",
              " 893025,\n",
              " 894916,\n",
              " 896809,\n",
              " 898704,\n",
              " 900601,\n",
              " 902500,\n",
              " 904401,\n",
              " 906304,\n",
              " 908209,\n",
              " 910116,\n",
              " 912025,\n",
              " 913936,\n",
              " 915849,\n",
              " 917764,\n",
              " 919681,\n",
              " 921600,\n",
              " 923521,\n",
              " 925444,\n",
              " 927369,\n",
              " 929296,\n",
              " 931225,\n",
              " 933156,\n",
              " 935089,\n",
              " 937024,\n",
              " 938961,\n",
              " 940900,\n",
              " 942841,\n",
              " 944784,\n",
              " 946729,\n",
              " 948676,\n",
              " 950625,\n",
              " 952576,\n",
              " 954529,\n",
              " 956484,\n",
              " 958441,\n",
              " 960400,\n",
              " 962361,\n",
              " 964324,\n",
              " 966289,\n",
              " 968256,\n",
              " 970225,\n",
              " 972196,\n",
              " 974169,\n",
              " 976144,\n",
              " 978121,\n",
              " 980100,\n",
              " 982081,\n",
              " 984064,\n",
              " 986049,\n",
              " 988036,\n",
              " 990025,\n",
              " 992016,\n",
              " 994009,\n",
              " 996004,\n",
              " 998001,\n",
              " ...]"
            ]
          },
          "metadata": {},
          "execution_count": 80
        }
      ]
    },
    {
      "cell_type": "code",
      "metadata": {
        "id": "XnHEF2JUupDd"
      },
      "source": [
        "b=(i**2 for i in range (10000000))"
      ],
      "execution_count": 69,
      "outputs": []
    },
    {
      "cell_type": "code",
      "metadata": {
        "colab": {
          "base_uri": "https://localhost:8080/"
        },
        "id": "Y_et2HYlvYL4",
        "outputId": "507c29cc-20c4-4661-b604-3b778daac1a2"
      },
      "source": [
        "b"
      ],
      "execution_count": 67,
      "outputs": [
        {
          "output_type": "execute_result",
          "data": {
            "text/plain": [
              "<generator object <genexpr> at 0x7fd32aaac650>"
            ]
          },
          "metadata": {},
          "execution_count": 67
        }
      ]
    },
    {
      "cell_type": "code",
      "metadata": {
        "colab": {
          "base_uri": "https://localhost:8080/"
        },
        "id": "rafXJqvRvhPf",
        "outputId": "0c3e6248-53ff-4864-dc45-829b2c6bf232"
      },
      "source": [
        "next(b)"
      ],
      "execution_count": 79,
      "outputs": [
        {
          "output_type": "execute_result",
          "data": {
            "text/plain": [
              "81"
            ]
          },
          "metadata": {},
          "execution_count": 79
        }
      ]
    },
    {
      "cell_type": "code",
      "metadata": {
        "id": "UcNIP4r2vqpt"
      },
      "source": [
        "list(b)"
      ],
      "execution_count": null,
      "outputs": []
    },
    {
      "cell_type": "code",
      "metadata": {
        "id": "CqD5iWiEvvJy"
      },
      "source": [
        "output=map(SUM, [1,3,5],[-1,-3,-5,-6])"
      ],
      "execution_count": 99,
      "outputs": []
    },
    {
      "cell_type": "code",
      "metadata": {
        "colab": {
          "base_uri": "https://localhost:8080/"
        },
        "id": "S4-gnNS1v_9H",
        "outputId": "b46d16b0-f7b3-4515-f664-012a26dc3404"
      },
      "source": [
        "output"
      ],
      "execution_count": 90,
      "outputs": [
        {
          "output_type": "execute_result",
          "data": {
            "text/plain": [
              "<map at 0x7fd32aab37d0>"
            ]
          },
          "metadata": {},
          "execution_count": 90
        }
      ]
    },
    {
      "cell_type": "code",
      "metadata": {
        "colab": {
          "base_uri": "https://localhost:8080/"
        },
        "id": "eifGqz3FwBn5",
        "outputId": "6c61624a-1c72-4bd8-cbff-8c242bfcbd02"
      },
      "source": [
        "next(output)"
      ],
      "execution_count": 100,
      "outputs": [
        {
          "output_type": "execute_result",
          "data": {
            "text/plain": [
              "0"
            ]
          },
          "metadata": {},
          "execution_count": 100
        }
      ]
    },
    {
      "cell_type": "code",
      "metadata": {
        "colab": {
          "base_uri": "https://localhost:8080/"
        },
        "id": "Wnk2-gOGwK2a",
        "outputId": "c31ad0e6-6c0e-45b8-faef-8bb0957503b8"
      },
      "source": [
        "list(output)"
      ],
      "execution_count": 96,
      "outputs": [
        {
          "output_type": "execute_result",
          "data": {
            "text/plain": [
              "[0, 0, 0]"
            ]
          },
          "metadata": {},
          "execution_count": 96
        }
      ]
    }
  ]
}